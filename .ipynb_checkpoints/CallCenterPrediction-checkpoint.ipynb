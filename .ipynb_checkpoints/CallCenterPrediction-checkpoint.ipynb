{
 "cells": [
  {
   "cell_type": "markdown",
   "metadata": {
    "collapsed": true
   },
   "source": [
    "# In this example, we take the Sanfrancisco 311 Call center data for last 10 years available at :https://data.world/sanfrancisco/mwjb-biik and use this to predict the Call volume for the next 3 months. We establish relation between Call Volume, Average Time to Answer in sec, Tranferred Calls percentage, and Service level achieved percentage (Call duration within 60 secs). Predicting these key parameters can improve Call Center operations, and help utilize resources efficiently."
   ]
  },
  {
   "cell_type": "code",
   "execution_count": 1,
   "metadata": {},
   "outputs": [
    {
     "name": "stderr",
     "output_type": "stream",
     "text": [
      "Using TensorFlow backend.\n"
     ]
    }
   ],
   "source": [
    "import pandas\n",
    "import matplotlib.pyplot as plt\n",
    "import numpy\n",
    "import pandas as pd\n",
    "import math\n",
    "from sklearn.preprocessing import StandardScaler\n",
    "from sklearn.preprocessing import MinMaxScaler\n",
    "from sklearn.preprocessing import PolynomialFeatures\n",
    "from pandas.plotting import scatter_matrix\n",
    "\n",
    "from sklearn.linear_model import LinearRegression\n",
    "from sklearn.metrics import mean_squared_error\n",
    "from sklearn.linear_model import SGDRegressor\n",
    "from keras.models import Sequential\n",
    "from keras.layers import Dense   \n",
    "from keras import optimizers\n",
    "\n",
    "from sklearn.tree import DecisionTreeRegressor\n",
    "from sklearn.ensemble import RandomForestRegressor\n",
    "from sklearn.model_selection import cross_val_score\n",
    "from sklearn.ensemble import GradientBoostingRegressor\n",
    "from xgboost import XGBRegressor\n",
    "from sklearn.linear_model import Lasso\n",
    "from sklearn.linear_model import Ridge\n",
    "from sklearn.linear_model import ElasticNet\n",
    "from sklearn.model_selection import GridSearchCV\n",
    "from keras.models import Sequential\n",
    "from keras.layers import Dense\n",
    "from keras.layers import LSTM\n",
    "from sklearn.preprocessing import MinMaxScaler\n",
    "from sklearn.metrics import mean_squared_error\n",
    "import numpy as np\n",
    "from pandas import DataFrame\n",
    "from pandas import concat\n",
    "from keras.models import load_model\n",
    "from keras import optimizers\n",
    "from matplotlib import pyplot\n",
    "from math import sqrt\n",
    "from keras import optimizers"
   ]
  },
  {
   "cell_type": "code",
   "execution_count": 2,
   "metadata": {
    "collapsed": true
   },
   "outputs": [],
   "source": [
    "numpy.random.seed(7)\n",
    "\n",
    "# load the dataset\n",
    "dataframe = pandas.read_csv('C:/users/hackuser1/Hackathon18/311_call_metrics.csv', header=0, engine='python', skipfooter=3)\n",
    "dataframe['month'] = pd.to_datetime(dataframe.month)\n",
    "dataframe=dataframe.sort_values(by='month',ascending=True)\n",
    "regr_dataset = dataframe.copy()"
   ]
  },
  {
   "cell_type": "code",
   "execution_count": 3,
   "metadata": {},
   "outputs": [
    {
     "data": {
      "text/html": [
       "<div>\n",
       "<style scoped>\n",
       "    .dataframe tbody tr th:only-of-type {\n",
       "        vertical-align: middle;\n",
       "    }\n",
       "\n",
       "    .dataframe tbody tr th {\n",
       "        vertical-align: top;\n",
       "    }\n",
       "\n",
       "    .dataframe thead th {\n",
       "        text-align: right;\n",
       "    }\n",
       "</style>\n",
       "<table border=\"1\" class=\"dataframe\">\n",
       "  <thead>\n",
       "    <tr style=\"text-align: right;\">\n",
       "      <th></th>\n",
       "      <th>month</th>\n",
       "      <th>calls_answered</th>\n",
       "      <th>svc_level_answered_w_i_60_sec</th>\n",
       "      <th>avg_speed_answer_sec</th>\n",
       "      <th>transferred_calls</th>\n",
       "    </tr>\n",
       "  </thead>\n",
       "  <tbody>\n",
       "    <tr>\n",
       "      <th>125</th>\n",
       "      <td>2007-04-01</td>\n",
       "      <td>91892</td>\n",
       "      <td>0.688</td>\n",
       "      <td>NaN</td>\n",
       "      <td>NaN</td>\n",
       "    </tr>\n",
       "    <tr>\n",
       "      <th>97</th>\n",
       "      <td>2007-05-01</td>\n",
       "      <td>111137</td>\n",
       "      <td>0.753</td>\n",
       "      <td>NaN</td>\n",
       "      <td>NaN</td>\n",
       "    </tr>\n",
       "    <tr>\n",
       "      <th>116</th>\n",
       "      <td>2007-06-01</td>\n",
       "      <td>141639</td>\n",
       "      <td>0.861</td>\n",
       "      <td>NaN</td>\n",
       "      <td>NaN</td>\n",
       "    </tr>\n",
       "    <tr>\n",
       "      <th>96</th>\n",
       "      <td>2007-08-01</td>\n",
       "      <td>173047</td>\n",
       "      <td>0.907</td>\n",
       "      <td>14.0</td>\n",
       "      <td>NaN</td>\n",
       "    </tr>\n",
       "    <tr>\n",
       "      <th>95</th>\n",
       "      <td>2007-09-01</td>\n",
       "      <td>175737</td>\n",
       "      <td>0.796</td>\n",
       "      <td>18.0</td>\n",
       "      <td>NaN</td>\n",
       "    </tr>\n",
       "  </tbody>\n",
       "</table>\n",
       "</div>"
      ],
      "text/plain": [
       "         month  calls_answered  svc_level_answered_w_i_60_sec  \\\n",
       "125 2007-04-01           91892                          0.688   \n",
       "97  2007-05-01          111137                          0.753   \n",
       "116 2007-06-01          141639                          0.861   \n",
       "96  2007-08-01          173047                          0.907   \n",
       "95  2007-09-01          175737                          0.796   \n",
       "\n",
       "     avg_speed_answer_sec  transferred_calls  \n",
       "125                   NaN                NaN  \n",
       "97                    NaN                NaN  \n",
       "116                   NaN                NaN  \n",
       "96                   14.0                NaN  \n",
       "95                   18.0                NaN  "
      ]
     },
     "execution_count": 3,
     "metadata": {},
     "output_type": "execute_result"
    }
   ],
   "source": [
    "dataframe.head()"
   ]
  },
  {
   "cell_type": "markdown",
   "metadata": {
    "collapsed": true
   },
   "source": []
  },
  {
   "cell_type": "markdown",
   "metadata": {
    "collapsed": true
   },
   "source": [
    "Next we sort the data based on the month and plot the data, to observe the trends. Since we are now going to \n",
    "predict the Call Volume of next 3 months based on historical data of Call Volume, we take the month and \n",
    "Call volume in our dataset"
   ]
  },
  {
   "cell_type": "code",
   "execution_count": 4,
   "metadata": {},
   "outputs": [
    {
     "data": {
      "image/png": "[encoded data removed]",
      "text/plain": [
       "<matplotlib.figure.Figure at 0x1c7c00fcba8>"
      ]
     },
     "metadata": {},
     "output_type": "display_data"
    }
   ],
   "source": [
    "dataframe = dataframe.iloc[:,0:2]\n",
    "dataset = dataframe.values[:,1:2]\n",
    "dataset = dataset.astype('float32')\n",
    "\n",
    "plt.plot(dataset)\n",
    "plt.show()"
   ]
  },
  {
   "cell_type": "markdown",
   "metadata": {
    "collapsed": true
   },
   "source": [
    "Next we Scale the dataset using MinMaxScaler in a range of 0 to 1"
   ]
  },
  {
   "cell_type": "code",
   "execution_count": 5,
   "metadata": {
    "collapsed": true
   },
   "outputs": [],
   "source": [
    "scaler = MinMaxScaler(feature_range=(0, 1))\n",
    "dataset = scaler.fit_transform(dataset)"
   ]
  },
  {
   "cell_type": "markdown",
   "metadata": {
    "collapsed": true
   },
   "source": [
    "We split the train and test data. We have 120 values, worth of 10 years of data, on a monthly basis. We take\n",
    "20 values as test data, and remaining as train data. Since this is time series data, we take the first 106 values\n",
    "as train data and next 20 values as test data"
   ]
  },
  {
   "cell_type": "code",
   "execution_count": 6,
   "metadata": {},
   "outputs": [
    {
     "name": "stdout",
     "output_type": "stream",
     "text": [
      "106 20\n"
     ]
    }
   ],
   "source": [
    "train_size = int(len(dataset)) - 20\n",
    "test_size = 20\n",
    "train, test = dataset[0:train_size,:], dataset[train_size:len(dataset),:]\n",
    "print(len(train), len(test))"
   ]
  },
  {
   "cell_type": "markdown",
   "metadata": {},
   "source": [
    "# Approach 1: We use lookback period of 10, and create Supervised Training Data for applying Deep Learning "
   ]
  },
  {
   "cell_type": "markdown",
   "metadata": {
    "collapsed": true
   },
   "source": [
    "The next part is the most important step in creating the train data for a Supervised Learning problem.\n",
    "We shift the data with a lookback of 10 time steps and use this data to predict the value of the Call volume \n",
    "at the next time step."
   ]
  },
  {
   "cell_type": "code",
   "execution_count": 7,
   "metadata": {
    "collapsed": true
   },
   "outputs": [],
   "source": [
    "#create dataframe series for t+1,t+2,t+3, to be used as y values, during Supervised Learning\n",
    "#lookback = 10, means 10 values of TimeSeries (x) are used to predict the value at time t+1,t+2,t+3 (y)\n",
    "def createSupervisedTrainingSet(dataset,lookback):\n",
    "\n",
    "    df = DataFrame()\n",
    "    x = dataset\n",
    "    \n",
    "    len_series = x.shape[0]\n",
    "\n",
    "    df['t'] = [x[i] for i in range(x.shape[0])]\n",
    "    #create x values at time t\n",
    "    x=df['t'].values\n",
    "    \n",
    "    cols=list()\n",
    "  \n",
    "    df['t+1'] = df['t'].shift(-lookback)\n",
    "    cols.append(df['t+1'])\n",
    "    df['t+2'] = df['t'].shift(-(lookback+1))\n",
    "    cols.append(df['t+2'])\n",
    "    df['t+3'] = df['t'].shift(-(lookback+2))\n",
    "    cols.append(df['t+3'])\n",
    "    agg = concat(cols,axis=1)\n",
    "    y=agg.values\n",
    "\n",
    "    x = x.reshape(x.shape[0],1)\n",
    "\n",
    "    len_X = len_series-lookback-2\n",
    "    X=np.zeros((len_X,lookback,1))\n",
    "    Y=np.zeros((len_X,3))\n",
    " \n",
    "    for i in range(len_X):\n",
    "        X[i] = x[i:i+10]\n",
    "        Y[i] = y[i]\n",
    "\n",
    "    return X,Y\n",
    "\n",
    "look_back = 10\n",
    "trainX, trainY = createSupervisedTrainingSet(train, look_back)\n",
    "testX,testY = createSupervisedTrainingSet(test, look_back)"
   ]
  },
  {
   "cell_type": "code",
   "execution_count": 8,
   "metadata": {},
   "outputs": [
    {
     "name": "stdout",
     "output_type": "stream",
     "text": [
      "(94, 10, 1)\n",
      "(94, 3)\n",
      "(8, 10, 1)\n",
      "(8, 3)\n"
     ]
    }
   ],
   "source": [
    "testY=testY.reshape(testY.shape[0],testY.shape[1])\n",
    "trainY=trainY.reshape(trainY.shape[0],trainY.shape[1])\n",
    "print(trainX.shape)\n",
    "print(trainY.shape)\n",
    "print(testX.shape)\n",
    "print(testY.shape)\n"
   ]
  },
  {
   "cell_type": "code",
   "execution_count": 9,
   "metadata": {},
   "outputs": [
    {
     "name": "stdout",
     "output_type": "stream",
     "text": [
      "Train X at index 93\n",
      "[[ 89074.]\n",
      " [ 84685.]\n",
      " [ 80836.]\n",
      " [ 75324.]\n",
      " [ 74064.]\n",
      " [ 77644.]\n",
      " [ 73027.]\n",
      " [ 74445.]\n",
      " [ 73047.]\n",
      " [ 70038.]]\n",
      "Train Y at index 93\n",
      "[[ 71042.  78059.  68355.]]\n",
      "Actual Data\n",
      "[[ 89074.]\n",
      " [ 84685.]\n",
      " [ 80836.]\n",
      " [ 75324.]\n",
      " [ 74064.]\n",
      " [ 77644.]\n",
      " [ 73027.]\n",
      " [ 74445.]\n",
      " [ 73047.]\n",
      " [ 70038.]\n",
      " [ 71042.]\n",
      " [ 78059.]\n",
      " [ 68355.]]\n"
     ]
    }
   ],
   "source": [
    "#Check the sample train X and train Y, and match with original time series data\n",
    "print1 = trainY[93,:].reshape(1,-1)\n",
    "print(\"Train X at index 93\")\n",
    "print(np.around(scaler.inverse_transform(trainX[93,:,:])))\n",
    "print(\"Train Y at index 93\")\n",
    "print(np.around(scaler.inverse_transform(print1)))\n",
    "print(\"Actual Data\")\n",
    "print(np.around(scaler.inverse_transform(dataset[93:106])))        \n",
    "#We used a lookback value of 10\n",
    "#We inspect the X,Y values at a random index: 93\n",
    "#As can be seen the 10 values of Time Series (Call Volume) from index 93 are being used as X to \n",
    "#predict the 3 values coming next (t+1,t+2,t+3)"
   ]
  },
  {
   "cell_type": "markdown",
   "metadata": {
    "collapsed": true
   },
   "source": [
    "Use a Deep Learning technique with one hidden layer of 20 LSTM cells, outputting into 3 values, ie the predictions\n",
    "at time t+1,t+2,t+3. Input layer being 10 by 1 in size, for the 10 prior values of time series."
   ]
  },
  {
   "cell_type": "code",
   "execution_count": 14,
   "metadata": {},
   "outputs": [
    {
     "name": "stderr",
     "output_type": "stream",
     "text": [
      "C:\\Anaconda\\lib\\site-packages\\cntk\\core.py:361: UserWarning: your data is of type \"float64\", but your input variable (uid \"Input5604\") expects \"<class 'numpy.float32'>\". Please convert your data beforehand to speed up training.\n",
      "  (sample.dtype, var.uid, str(var.dtype)))\n",
      "C:\\Anaconda\\lib\\site-packages\\cntk\\core.py:361: UserWarning: your data is of type \"float64\", but your input variable (uid \"Input6063\") expects \"<class 'numpy.float32'>\". Please convert your data beforehand to speed up training.\n",
      "  (sample.dtype, var.uid, str(var.dtype)))\n"
     ]
    }
   ],
   "source": [
    "model = Sequential()\n",
    "model.add(LSTM(20, input_shape=(look_back, 1)))\n",
    "model.add(Dense(3))\n",
    "myOptimizer = optimizers.Adam(lr=0.01, beta_1=0.9, beta_2=0.999, epsilon=0.01, decay=0.0)\n",
    "model.compile(loss='mean_squared_error', optimizer=myOptimizer)\n",
    "history = model.fit(trainX, trainY, epochs=200,  validation_data=(testX,testY), batch_size=5, verbose=0)"
   ]
  },
  {
   "cell_type": "code",
   "execution_count": 15,
   "metadata": {},
   "outputs": [
    {
     "data": {
      "image/png": "[encoded data removed]",
      "text/plain": [
       "<matplotlib.figure.Figure at 0x1c7c08e4898>"
      ]
     },
     "metadata": {},
     "output_type": "display_data"
    }
   ],
   "source": [
    "plt.plot(history.history['loss'])\n",
    "plt.plot(history.history['val_loss'], color=  'red')\n",
    "plt.title('model loss')\n",
    "plt.ylabel('loss')\n",
    "plt.xlabel('epoch')\n",
    "plt.legend(['train', 'test'], loc='upper left')\n",
    "plt.show()"
   ]
  },
  {
   "cell_type": "markdown",
   "metadata": {
    "collapsed": true
   },
   "source": [
    "Once the model is trained, use it to make a prediction on the test data"
   ]
  },
  {
   "cell_type": "code",
   "execution_count": 18,
   "metadata": {},
   "outputs": [
    {
     "name": "stdout",
     "output_type": "stream",
     "text": [
      "Actual values of Call Volume\n",
      "[ 79410.  73427.  76847.  75870.  76892.  75949.  68468.  72996.]\n",
      "Predicted values of Call Volume\n",
      "[ 72128.  80400.  73545.  74552.  70861.  71638.  71482.  72189.]\n"
     ]
    },
    {
     "name": "stderr",
     "output_type": "stream",
     "text": [
      "C:\\Anaconda\\lib\\site-packages\\cntk\\core.py:361: UserWarning: your data is of type \"float64\", but your input variable (uid \"Input5604\") expects \"<class 'numpy.float32'>\". Please convert your data beforehand to speed up training.\n",
      "  (sample.dtype, var.uid, str(var.dtype)))\n"
     ]
    }
   ],
   "source": [
    "testPredict = model.predict(testX)\n",
    "predictUnscaled = np.around(scaler.inverse_transform(testPredict))\n",
    "testYUnscaled = np.around(scaler.inverse_transform(testY))\n",
    "#print the actual and predicted values at t+3\n",
    "print(\"Actual values of Call Volume\")\n",
    "print(testYUnscaled[:,2])\n",
    "print(\"Predicted values of Call Volume\")\n",
    "print(predictUnscaled[:,2])"
   ]
  },
  {
   "cell_type": "markdown",
   "metadata": {
    "collapsed": true
   },
   "source": [
    "# Plot the predicted and actual values at time t+1,t+2,t+3"
   ]
  },
  {
   "cell_type": "code",
   "execution_count": 19,
   "metadata": {},
   "outputs": [
    {
     "data": {
      "image/png": "[encoded data removed]",
      "text/plain": [
       "<matplotlib.figure.Figure at 0x1c7c196d128>"
      ]
     },
     "metadata": {},
     "output_type": "display_data"
    },
    {
     "data": {
      "image/png": "[encoded data removed]",
      "text/plain": [
       "<matplotlib.figure.Figure at 0x1c7c19c7f98>"
      ]
     },
     "metadata": {},
     "output_type": "display_data"
    },
    {
     "data": {
      "image/png": "[encoded data removed]",
      "text/plain": [
       "<matplotlib.figure.Figure at 0x1c7c1a3cda0>"
      ]
     },
     "metadata": {},
     "output_type": "display_data"
    }
   ],
   "source": [
    "pyplot.plot(testPredict[:,0])\n",
    "pyplot.plot(testY[:,0],color='red')\n",
    "pyplot.legend(['Actual','Predicted'])\n",
    "pyplot.title('Actual vs Predicted at time t+1')\n",
    "pyplot.show()\n",
    "\n",
    "pyplot.plot(testPredict[:,1])\n",
    "pyplot.plot(testY[:,1],color='red')\n",
    "pyplot.legend(['Actual','Predicted'])\n",
    "pyplot.title('Actual vs Predicted at time t+2')\n",
    "pyplot.show()\n",
    "\n",
    "pyplot.plot(testPredict[:,2])\n",
    "pyplot.plot(testY[:,2],color='red')\n",
    "pyplot.legend(['Actual','Predicted'])\n",
    "pyplot.title('Actual vs Predicted at time t+3')\n",
    "pyplot.show()"
   ]
  },
  {
   "cell_type": "markdown",
   "metadata": {
    "collapsed": true
   },
   "source": [
    "Evaluate the RMSE values at t+1,t+2,t+3 to compare with other approaches, and select the best approach"
   ]
  },
  {
   "cell_type": "code",
   "execution_count": 20,
   "metadata": {},
   "outputs": [
    {
     "name": "stdout",
     "output_type": "stream",
     "text": [
      "t+1 RMSE: 6034.937986\n",
      "t+2 RMSE: 3113.070691\n",
      "t+3 RMSE: 4730.006712\n"
     ]
    }
   ],
   "source": [
    "def evaluate_forecasts(actuals, forecasts, n_seq):\n",
    "    \tfor i in range(n_seq):\n",
    "            actual = actuals[:,i]\n",
    "            predicted = forecasts[:,i]\n",
    "            rmse = sqrt(mean_squared_error(actual, predicted))\n",
    "            print('t+%d RMSE: %f' % ((i+1), rmse))\n",
    "        \n",
    "evaluate_forecasts(testYUnscaled, predictUnscaled,3)"
   ]
  },
  {
   "cell_type": "markdown",
   "metadata": {
    "collapsed": true
   },
   "source": [
    "It can be clearly seen, the RMSE values are much better than traditional ARMA models, and hence Deep Learning \n",
    "is useful in this scenario to predict the Call Volume at time t+1,t+2 and t+3"
   ]
  },
  {
   "cell_type": "markdown",
   "metadata": {
    "collapsed": true
   },
   "source": [
    "# Grid Search of parameters (Please do not run this on test mode, this takes time).\n",
    "We try to improve the DeepLearning approach further by using Grid Search of Neural Network parameters\n",
    "using sklearn wrapper for Keras, KerasRegressor, and GridSearchCV.\n",
    "First, we tune best batch size and number of epochs"
   ]
  },
  {
   "cell_type": "code",
   "execution_count": 15,
   "metadata": {
    "collapsed": true
   },
   "outputs": [],
   "source": [
    "from sklearn.model_selection import GridSearchCV\n",
    "from keras.wrappers.scikit_learn import KerasRegressor\n",
    "# Function to create model, required for KerasRegressor\n",
    "def create_model():\n",
    "    model = Sequential()\n",
    "    model.add(LSTM(20, input_shape=(look_back, 1)))\n",
    "    model.add(Dense(3))\n",
    "    myOptimizer = optimizers.Adam(lr=0.01, beta_1=0.9, beta_2=0.999, epsilon=0.01, decay=0.0)\n",
    "    model.compile(loss='mean_squared_error', optimizer=myOptimizer,metrics=['mse'])\n",
    "    return model\n"
   ]
  },
  {
   "cell_type": "code",
   "execution_count": null,
   "metadata": {
    "collapsed": true
   },
   "outputs": [],
   "source": [
    "# create model\n",
    "model = KerasRegressor(build_fn=create_model, verbose=0)\n",
    "# define the grid search parameters\n",
    "batch_size = [5,10,20]\n",
    "epochs = [50, 100 , 200]\n",
    "param_grid = dict(batch_size=batch_size, epochs=epochs)\n",
    "grid = GridSearchCV(estimator=model, param_grid=param_grid, n_jobs=-1)\n",
    "grid_result = grid.fit(trainX, trainY)\n",
    "# summarize results\n",
    "print(\"Best: %f using %s\" % (grid_result.best_score_, grid_result.best_params_))"
   ]
  },
  {
   "cell_type": "markdown",
   "metadata": {
    "collapsed": true
   },
   "source": [
    "We find batch size : 5 and epochs : 200 gives best results\n",
    "Next, we tune the parameters of the optimization algorithm\n",
    "Please do not run this on test mode, this takes time"
   ]
  },
  {
   "cell_type": "code",
   "execution_count": null,
   "metadata": {
    "collapsed": true
   },
   "outputs": [],
   "source": [
    "from sklearn.model_selection import GridSearchCV\n",
    "from keras.wrappers.scikit_learn import KerasRegressor\n",
    "def create_model(learn_rate=0.01, beta1=0.9, beta2=0.999):\n",
    "    model = Sequential()\n",
    "    model.add(LSTM(20, input_shape=(look_back, 1)))\n",
    "    model.add(Dense(3))\n",
    "    myOptimizer = optimizers.Adam(lr=learn_rate, beta_1=beta1, beta_2=beta2, epsilon=0.01, decay=0.0)\n",
    "    model.compile(loss='mean_squared_error', optimizer=myOptimizer,metrics=['mse'])\n",
    "    return model\n",
    "# create model\n",
    "model = KerasRegressor(build_fn=create_model, epochs=200, batch_size=5, verbose=0)\n",
    "# define the grid search parameters\n",
    "learn_rate = [0.001, 0.01, 0.1]\n",
    "beta1 = [0.85, 0.9, 0.95]\n",
    "beta2 = [0.990,0.995,0.999]\n",
    "param_grid = dict(learn_rate=learn_rate, beta1=beta1, beta2=beta2)\n",
    "grid = GridSearchCV(estimator=model, param_grid=param_grid, n_jobs=-1)\n",
    "grid_result = grid.fit(trainX, trainY)\n",
    "# summarize results\n",
    "print(\"Best: %f using %s\" % (grid_result.best_score_, grid_result.best_params_))"
   ]
  },
  {
   "cell_type": "markdown",
   "metadata": {
    "collapsed": true
   },
   "source": [
    "We find the values beta1:0.9, beta2:0.999 and learn_rate:0.1 as optimum\n",
    "Next we attempt to fine-tune number of neurons in the model."
   ]
  },
  {
   "cell_type": "code",
   "execution_count": 10,
   "metadata": {},
   "outputs": [
    {
     "name": "stderr",
     "output_type": "stream",
     "text": [
      "C:\\Anaconda\\lib\\site-packages\\cntk\\core.py:361: UserWarning: your data is of type \"float64\", but your input variable (uid \"Input4\") expects \"<class 'numpy.float32'>\". Please convert your data beforehand to speed up training.\n",
      "  (sample.dtype, var.uid, str(var.dtype)))\n",
      "C:\\Anaconda\\lib\\site-packages\\cntk\\core.py:361: UserWarning: your data is of type \"float64\", but your input variable (uid \"Input463\") expects \"<class 'numpy.float32'>\". Please convert your data beforehand to speed up training.\n",
      "  (sample.dtype, var.uid, str(var.dtype)))\n"
     ]
    }
   ],
   "source": [
    "model = Sequential()\n",
    "model.add(LSTM(30, input_shape=(look_back, 1),stateful=False))\n",
    "model.add(Dense(3))\n",
    "myOptimizer = optimizers.Adam(lr=0.1, beta_1=0.9, beta_2=0.999, epsilon=0.01, decay=0.0)\n",
    "model.compile(loss='mean_squared_error', optimizer=myOptimizer,metrics=['mse'])\n",
    "history = model.fit(trainX, trainY, epochs=200,  validation_data=(testX,testY), batch_size=5, verbose=0)\n",
    "#mse = 0.0061 with 30 neurons\n",
    "#mse = 0.0042 with 20 neurons"
   ]
  },
  {
   "cell_type": "code",
   "execution_count": 13,
   "metadata": {},
   "outputs": [
    {
     "name": "stdout",
     "output_type": "stream",
     "text": [
      "t+1 RMSE: 10246.879513\n",
      "t+2 RMSE: 3776.765630\n",
      "t+3 RMSE: 9905.483633\n"
     ]
    },
    {
     "name": "stderr",
     "output_type": "stream",
     "text": [
      "C:\\Anaconda\\lib\\site-packages\\cntk\\core.py:361: UserWarning: your data is of type \"float64\", but your input variable (uid \"Input4\") expects \"<class 'numpy.float32'>\". Please convert your data beforehand to speed up training.\n",
      "  (sample.dtype, var.uid, str(var.dtype)))\n"
     ]
    }
   ],
   "source": [
    "testPredict = model.predict(testX)\n",
    "predictUnscaled = np.around(scaler.inverse_transform(testPredict))\n",
    "testYUnscaled = np.around(scaler.inverse_transform(testY))\n",
    "evaluate_forecasts(testYUnscaled, predictUnscaled,3)"
   ]
  },
  {
   "cell_type": "markdown",
   "metadata": {
    "collapsed": true
   },
   "source": [
    "We conclude Neural network with 20 neurons is the best configuration."
   ]
  },
  {
   "cell_type": "markdown",
   "metadata": {},
   "source": [
    "# Regression analysis between Calls answered, transferred calls percentage, Average Speed of answer in secs, Service Level answered within 60 sec"
   ]
  },
  {
   "cell_type": "code",
   "execution_count": 4,
   "metadata": {},
   "outputs": [
    {
     "data": {
      "text/html": [
       "<div>\n",
       "<style scoped>\n",
       "    .dataframe tbody tr th:only-of-type {\n",
       "        vertical-align: middle;\n",
       "    }\n",
       "\n",
       "    .dataframe tbody tr th {\n",
       "        vertical-align: top;\n",
       "    }\n",
       "\n",
       "    .dataframe thead th {\n",
       "        text-align: right;\n",
       "    }\n",
       "</style>\n",
       "<table border=\"1\" class=\"dataframe\">\n",
       "  <thead>\n",
       "    <tr style=\"text-align: right;\">\n",
       "      <th></th>\n",
       "      <th>month</th>\n",
       "      <th>calls_answered</th>\n",
       "      <th>svc_level_answered_w_i_60_sec</th>\n",
       "      <th>avg_speed_answer_sec</th>\n",
       "      <th>transferred_calls</th>\n",
       "    </tr>\n",
       "  </thead>\n",
       "  <tbody>\n",
       "    <tr>\n",
       "      <th>125</th>\n",
       "      <td>2007-04-01</td>\n",
       "      <td>91892</td>\n",
       "      <td>0.688</td>\n",
       "      <td>NaN</td>\n",
       "      <td>NaN</td>\n",
       "    </tr>\n",
       "    <tr>\n",
       "      <th>97</th>\n",
       "      <td>2007-05-01</td>\n",
       "      <td>111137</td>\n",
       "      <td>0.753</td>\n",
       "      <td>NaN</td>\n",
       "      <td>NaN</td>\n",
       "    </tr>\n",
       "    <tr>\n",
       "      <th>116</th>\n",
       "      <td>2007-06-01</td>\n",
       "      <td>141639</td>\n",
       "      <td>0.861</td>\n",
       "      <td>NaN</td>\n",
       "      <td>NaN</td>\n",
       "    </tr>\n",
       "    <tr>\n",
       "      <th>96</th>\n",
       "      <td>2007-08-01</td>\n",
       "      <td>173047</td>\n",
       "      <td>0.907</td>\n",
       "      <td>14.0</td>\n",
       "      <td>NaN</td>\n",
       "    </tr>\n",
       "    <tr>\n",
       "      <th>95</th>\n",
       "      <td>2007-09-01</td>\n",
       "      <td>175737</td>\n",
       "      <td>0.796</td>\n",
       "      <td>18.0</td>\n",
       "      <td>NaN</td>\n",
       "    </tr>\n",
       "  </tbody>\n",
       "</table>\n",
       "</div>"
      ],
      "text/plain": [
       "         month  calls_answered  svc_level_answered_w_i_60_sec  \\\n",
       "125 2007-04-01           91892                          0.688   \n",
       "97  2007-05-01          111137                          0.753   \n",
       "116 2007-06-01          141639                          0.861   \n",
       "96  2007-08-01          173047                          0.907   \n",
       "95  2007-09-01          175737                          0.796   \n",
       "\n",
       "     avg_speed_answer_sec  transferred_calls  \n",
       "125                   NaN                NaN  \n",
       "97                    NaN                NaN  \n",
       "116                   NaN                NaN  \n",
       "96                   14.0                NaN  \n",
       "95                   18.0                NaN  "
      ]
     },
     "execution_count": 4,
     "metadata": {},
     "output_type": "execute_result"
    }
   ],
   "source": [
    "regr_dataset.head()"
   ]
  },
  {
   "cell_type": "code",
   "execution_count": 5,
   "metadata": {
    "collapsed": true
   },
   "outputs": [],
   "source": [
    "regr_dataset = regr_dataset.fillna(regr_dataset.mean())"
   ]
  },
  {
   "cell_type": "code",
   "execution_count": 6,
   "metadata": {},
   "outputs": [
    {
     "data": {
      "image/png": "[encoded data removed]",
      "text/plain": [
       "<matplotlib.figure.Figure at 0x14244831eb8>"
      ]
     },
     "metadata": {},
     "output_type": "display_data"
    }
   ],
   "source": [
    "regr_dataset.hist(bins=50,figsize=(20,15))\n",
    "plt.show()"
   ]
  },
  {
   "cell_type": "code",
   "execution_count": 7,
   "metadata": {},
   "outputs": [
    {
     "data": {
      "image/png": "[encoded data removed]",
      "text/plain": [
       "<matplotlib.figure.Figure at 0x14244e027f0>"
      ]
     },
     "metadata": {},
     "output_type": "display_data"
    }
   ],
   "source": [
    "attributes = [\"calls_answered\",\"transferred_calls\",\"svc_level_answered_w_i_60_sec\",\"avg_speed_answer_sec\"]\n",
    "scatter_matrix(regr_dataset[attributes],figsize=(12,8))\n",
    "plt.show()"
   ]
  },
  {
   "cell_type": "markdown",
   "metadata": {},
   "source": [
    "The scatter matrix clearly shows relationship between avg_speed_answer_sec and calls_answered, ie as calls answered increases, the avg speed of answer reduces, and this is supported by correlation matrix"
   ]
  },
  {
   "cell_type": "markdown",
   "metadata": {},
   "source": [
    "# Correlation analysis"
   ]
  },
  {
   "cell_type": "code",
   "execution_count": 21,
   "metadata": {},
   "outputs": [
    {
     "data": {
      "text/plain": [
       "calls_answered                   1.000000\n",
       "svc_level_answered_w_i_60_sec    0.455217\n",
       "avg_speed_answer_sec            -0.602322\n",
       "transferred_calls               -0.786188\n",
       "Name: calls_answered, dtype: float64"
      ]
     },
     "execution_count": 21,
     "metadata": {},
     "output_type": "execute_result"
    }
   ],
   "source": [
    "corr_matrix = regr_dataset.corr()\n",
    "corr_matrix[\"calls_answered\"].sort_values(ascending=False)"
   ]
  },
  {
   "cell_type": "code",
   "execution_count": null,
   "metadata": {
    "collapsed": true
   },
   "outputs": [],
   "source": [
    "The correlation matrix shows high negative correlation between the calls_answered and transferred_calls, as well \n",
    "In order to minimize transferred calls, it is important to predict the call volume accurately.\n",
    "We decide to explore the correlation between Avg Speed of Answer in secs and Transferred Calls"
   ]
  },
  {
   "cell_type": "code",
   "execution_count": 23,
   "metadata": {},
   "outputs": [
    {
     "name": "stdout",
     "output_type": "stream",
     "text": [
      "Pearson correlation between Avg Speed of answer in secs and Transferred Calls: 0.651\n",
      "Pearson correlation between Avg Speed of answer in secs and square of Transferred Calls: 0.562\n",
      "Pearson correlation between Svc level and Avg speed of answer in secs: -0.810\n"
     ]
    }
   ],
   "source": [
    "from scipy.stats import spearmanr\n",
    "from scipy.stats import pearsonr\n",
    "regr_dataset['avg_speed_answer_sec'] =regr_dataset['avg_speed_answer_sec'].apply(lambda x: x if not pd.isnull(x) else regr_dataset['avg_speed_answer_sec'].mean())\n",
    "regr_dataset['transferred_calls'] =regr_dataset['transferred_calls'].apply(lambda x: x if not pd.isnull(x) else regr_dataset['transferred_calls'].mean())\n",
    "regr_dataset['svc_level_answered_w_i_60_sec'] =regr_dataset['svc_level_answered_w_i_60_sec'].apply(lambda x: x if not pd.isnull(x) else regr_dataset['svc_level_answered_w_i_60_sec'].mean())\n",
    "corr_p, _ = pearsonr(regr_dataset['avg_speed_answer_sec'], regr_dataset['transferred_calls'])\n",
    "print('Pearson correlation between Avg Speed of answer in secs and Transferred Calls: %.3f' % corr_p)\n",
    "\n",
    "corr_p, _ = pearsonr(regr_dataset['avg_speed_answer_sec'], np.square(regr_dataset['transferred_calls']))\n",
    "print('Pearson correlation between Avg Speed of answer in secs and square of Transferred Calls: %.3f' % corr_p)\n",
    "\n",
    "corr_p, _ = pearsonr(regr_dataset['svc_level_answered_w_i_60_sec'], np.square(regr_dataset['avg_speed_answer_sec']))\n",
    "print('Pearson correlation between Svc level and Avg speed of answer in secs: %.3f' % corr_p)\n"
   ]
  },
  {
   "cell_type": "markdown",
   "metadata": {},
   "source": [
    "We note there is high correlation between Avg speed of answer in secs and Transferred Calls.\n",
    "We develop Regression relation between Calls_Answered and transferred_calls, and use the output of this to predict Average speed of answer in secs for next 3 months. We also find high negative correlation between Svc level and Avg speed of answer in secs. As the Average Speed of Answer in secs increases, the Service level of answer within 60 secs decreases. We use this finding to predict these key parameters based on Calls Answered Volume for the next 3 months."
   ]
  },
  {
   "cell_type": "code",
   "execution_count": 24,
   "metadata": {},
   "outputs": [
    {
     "name": "stdout",
     "output_type": "stream",
     "text": [
      "101 train + 25 test\n"
     ]
    }
   ],
   "source": [
    "def split_train_test(data, test_ratio):\n",
    "    shuffled_indices = np.random.permutation(len(data))\n",
    "    test_set_size = int(len(data) * test_ratio)\n",
    "    test_indices = shuffled_indices[:test_set_size]\n",
    "    train_indices = shuffled_indices[test_set_size:]\n",
    "    return data.iloc[train_indices], data.iloc[test_indices]\n",
    "\n",
    "train_set, test_set = split_train_test(regr_dataset, 0.2)\n",
    "print(len(train_set), \"train +\", len(test_set), \"test\")"
   ]
  },
  {
   "cell_type": "code",
   "execution_count": 25,
   "metadata": {
    "collapsed": true
   },
   "outputs": [],
   "source": [
    "train_X = train_set.iloc[:,1] #take Calls answered as X variable\n",
    "train_Y = train_set.iloc[:,4] #take Calls transferred as Y variable\n",
    "test_X = test_set.iloc[:,1]\n",
    "test_Y = test_set.iloc[:,4]"
   ]
  },
  {
   "cell_type": "code",
   "execution_count": 26,
   "metadata": {},
   "outputs": [
    {
     "name": "stdout",
     "output_type": "stream",
     "text": [
      "[]\n",
      "[]\n"
     ]
    }
   ],
   "source": [
    "m=train_X.isnull().any()\n",
    "print(m[m])\n",
    "m=test_X.isnull().any()\n",
    "print(m[m])\n"
   ]
  },
  {
   "cell_type": "code",
   "execution_count": 27,
   "metadata": {},
   "outputs": [
    {
     "name": "stderr",
     "output_type": "stream",
     "text": [
      "C:\\Anaconda\\lib\\site-packages\\sklearn\\utils\\validation.py:475: DataConversionWarning: Data with input dtype int64 was converted to float64 by MinMaxScaler.\n",
      "  warnings.warn(msg, DataConversionWarning)\n"
     ]
    }
   ],
   "source": [
    "scaler1 = MinMaxScaler()\n",
    "train_X = train_X.values.reshape(train_X.shape[0],1)\n",
    "test_X = test_X.values.reshape(test_X.shape[0],1)\n",
    "train_X = scaler1.fit_transform(train_X)\n",
    "test_X = scaler1.transform(test_X)"
   ]
  },
  {
   "cell_type": "code",
   "execution_count": 28,
   "metadata": {},
   "outputs": [
    {
     "data": {
      "text/plain": [
       "LinearRegression(copy_X=True, fit_intercept=True, n_jobs=1, normalize=False)"
      ]
     },
     "execution_count": 28,
     "metadata": {},
     "output_type": "execute_result"
    }
   ],
   "source": [
    "lin_reg = LinearRegression()\n",
    "lin_reg.fit(train_X, train_Y)"
   ]
  },
  {
   "cell_type": "code",
   "execution_count": 29,
   "metadata": {},
   "outputs": [
    {
     "name": "stdout",
     "output_type": "stream",
     "text": [
      "Calls transfered percentage RMSE with Lin Reg:0.017342750855\n"
     ]
    }
   ],
   "source": [
    "callTransfer_predictions = lin_reg.predict(test_X)\n",
    "lin_mse = mean_squared_error(test_Y, callTransfer_predictions)\n",
    "lin_rmse = np.sqrt(lin_mse)\n",
    "print(\"Calls transfered percentage RMSE with Lin Reg:\"+str(lin_rmse))"
   ]
  },
  {
   "cell_type": "code",
   "execution_count": 30,
   "metadata": {},
   "outputs": [
    {
     "data": {
      "text/plain": [
       "SGDRegressor(alpha=0.0001, average=False, epsilon=0.1, eta0=0.1,\n",
       "       fit_intercept=True, l1_ratio=0.15, learning_rate='invscaling',\n",
       "       loss='squared_loss', max_iter=500, n_iter=None, penalty=None,\n",
       "       power_t=0.25, random_state=None, shuffle=True, tol=None, verbose=0,\n",
       "       warm_start=False)"
      ]
     },
     "execution_count": 30,
     "metadata": {},
     "output_type": "execute_result"
    }
   ],
   "source": [
    "sgd_reg = SGDRegressor(max_iter=500,penalty=None,eta0=0.1)\n",
    "sgd_reg.fit(train_X, train_Y.values.ravel())"
   ]
  },
  {
   "cell_type": "code",
   "execution_count": 31,
   "metadata": {},
   "outputs": [
    {
     "name": "stdout",
     "output_type": "stream",
     "text": [
      "Calls transfered percentage RMSE with SGD Reg:0.0173337389804\n"
     ]
    }
   ],
   "source": [
    "callTransfer_predictions = sgd_reg.predict(test_X)\n",
    "sgd_mse = mean_squared_error(test_Y, callTransfer_predictions)\n",
    "sgd_rmse = np.sqrt(sgd_mse)\n",
    "print(\"Calls transfered percentage RMSE with SGD Reg:\"+str(sgd_rmse))"
   ]
  },
  {
   "cell_type": "markdown",
   "metadata": {},
   "source": [
    "We decide to go with Linear Regression.\n"
   ]
  },
  {
   "cell_type": "code",
   "execution_count": 32,
   "metadata": {},
   "outputs": [
    {
     "name": "stdout",
     "output_type": "stream",
     "text": [
      "(8, 10, 1)\n",
      "(1, 10, 1)\n",
      "prediction of Call Volume at time t+1:[ 65883.]\n",
      "prediction of Call Volume at time t+2:[ 67805.]\n",
      "prediction of Call Volume at time t+3:[ 61490.]\n"
     ]
    }
   ],
   "source": [
    "print(testX.shape)\n",
    "currData = testX[7,:,:] #take the last set of 10 values to predict Calls Answered for next 3 months\n",
    "currData = currData.reshape(1,currData.shape[0],currData.shape[1])\n",
    "print(currData.shape)\n",
    "currPredict = model.predict(currData)\n",
    "currPredUnscaled = np.around(scaler.inverse_transform(currPredict))\n",
    "print(\"prediction of Call Volume at time t+1:\"+str(currPredUnscaled[:,0]))\n",
    "print(\"prediction of Call Volume at time t+2:\"+str(currPredUnscaled[:,1]))\n",
    "print(\"prediction of Call Volume at time t+3:\"+str(currPredUnscaled[:,2]))"
   ]
  },
  {
   "cell_type": "code",
   "execution_count": 33,
   "metadata": {},
   "outputs": [
    {
     "name": "stdout",
     "output_type": "stream",
     "text": [
      "[[-0.01018104 -0.00226307 -0.02827293]]\n",
      "(3, 1)\n",
      "Predicted Calls transferred percentage\n",
      "[ 0.08958914  0.08886919  0.09123415]\n"
     ]
    }
   ],
   "source": [
    "CallVol_X = currPredict\n",
    "print(CallVol_X)\n",
    "CallVol_X = np.transpose(CallVol_X)\n",
    "print(CallVol_X.shape)\n",
    "callTransf_pred = lin_reg.predict(CallVol_X)\n",
    "print(\"Predicted Calls transferred percentage\")\n",
    "print(callTransf_pred)"
   ]
  },
  {
   "cell_type": "code",
   "execution_count": null,
   "metadata": {
    "collapsed": true
   },
   "outputs": [],
   "source": [
    "We now fit Linear Regression between Transferred Calls and Average speed of Answer in secs"
   ]
  },
  {
   "cell_type": "code",
   "execution_count": 34,
   "metadata": {},
   "outputs": [
    {
     "name": "stderr",
     "output_type": "stream",
     "text": [
      "C:\\Anaconda\\lib\\site-packages\\ipykernel\\__main__.py:7: FutureWarning: reshape is deprecated and will raise in a subsequent release. Please use .values.reshape(...) instead\n",
      "C:\\Anaconda\\lib\\site-packages\\ipykernel\\__main__.py:8: FutureWarning: reshape is deprecated and will raise in a subsequent release. Please use .values.reshape(...) instead\n"
     ]
    }
   ],
   "source": [
    "train_Y = train_set.iloc[:,3] # take Avg speed of answer in secs as Y variable\n",
    "test_Y = test_set.iloc[:,3]\n",
    "train_X = train_set.iloc[:,4] # take Calls transferred as X variable\n",
    "test_X = test_set.iloc[:,4]\n",
    "train_Y = train_Y.ravel().reshape(train_Y.shape[0],1)\n",
    "test_Y = test_Y.ravel().reshape(test_Y.shape[0],1)\n",
    "train_X = train_X.reshape(train_X.shape[0],1)\n",
    "test_X = test_X.reshape(test_X.shape[0],1)\n"
   ]
  },
  {
   "cell_type": "code",
   "execution_count": 35,
   "metadata": {},
   "outputs": [
    {
     "data": {
      "text/plain": [
       "LinearRegression(copy_X=True, fit_intercept=True, n_jobs=1, normalize=False)"
      ]
     },
     "execution_count": 35,
     "metadata": {},
     "output_type": "execute_result"
    }
   ],
   "source": [
    "lin_reg1 = LinearRegression()\n",
    "lin_reg1.fit(train_X, train_Y)"
   ]
  },
  {
   "cell_type": "code",
   "execution_count": 37,
   "metadata": {},
   "outputs": [
    {
     "name": "stdout",
     "output_type": "stream",
     "text": [
      "[[ 0.08958914]\n",
      " [ 0.08886919]\n",
      " [ 0.09123415]]\n",
      "Avg speed of answer in secs predictions:\n",
      "[[ 90.90011897]\n",
      " [ 90.1860684 ]\n",
      " [ 92.53166363]]\n"
     ]
    }
   ],
   "source": [
    "callTransf_pred = callTransf_pred.reshape(callTransf_pred.shape[0],1)\n",
    "#scaler1.fit_transform(callTransf_pred)\n",
    "print(callTransf_pred)\n",
    "callAnsTime_predictions = lin_reg1.predict(callTransf_pred)\n",
    "print(\"Avg speed of answer in secs predictions:\")\n",
    "print(callAnsTime_predictions)\n"
   ]
  },
  {
   "cell_type": "code",
   "execution_count": 38,
   "metadata": {},
   "outputs": [
    {
     "name": "stderr",
     "output_type": "stream",
     "text": [
      "C:\\Anaconda\\lib\\site-packages\\ipykernel\\__main__.py:7: FutureWarning: reshape is deprecated and will raise in a subsequent release. Please use .values.reshape(...) instead\n",
      "C:\\Anaconda\\lib\\site-packages\\ipykernel\\__main__.py:8: FutureWarning: reshape is deprecated and will raise in a subsequent release. Please use .values.reshape(...) instead\n"
     ]
    }
   ],
   "source": [
    "train_Y = train_set.iloc[:,2] # take Svc level as Y variable\n",
    "test_Y = test_set.iloc[:,2]\n",
    "train_X = train_set.iloc[:,3] # take Avg speed of answer in secs as X variable\n",
    "test_X = test_set.iloc[:,3]\n",
    "train_Y = train_Y.ravel().reshape(train_Y.shape[0],1)\n",
    "test_Y = test_Y.ravel().reshape(test_Y.shape[0],1)\n",
    "train_X = train_X.reshape(train_X.shape[0],1)\n",
    "test_X = test_X.reshape(test_X.shape[0],1)"
   ]
  },
  {
   "cell_type": "code",
   "execution_count": 39,
   "metadata": {},
   "outputs": [
    {
     "data": {
      "text/plain": [
       "LinearRegression(copy_X=True, fit_intercept=True, n_jobs=1, normalize=False)"
      ]
     },
     "execution_count": 39,
     "metadata": {},
     "output_type": "execute_result"
    }
   ],
   "source": [
    "lin_reg2 = LinearRegression()\n",
    "lin_reg2.fit(train_X, train_Y)"
   ]
  },
  {
   "cell_type": "code",
   "execution_count": 41,
   "metadata": {},
   "outputs": [
    {
     "name": "stdout",
     "output_type": "stream",
     "text": [
      "[[ 90.90011897]\n",
      " [ 90.1860684 ]\n",
      " [ 92.53166363]]\n",
      "Svc level predictions:\n",
      "[[ 0.60223919]\n",
      " [ 0.60388671]\n",
      " [ 0.59847475]]\n"
     ]
    }
   ],
   "source": [
    "callAnsTime_predictions =callAnsTime_predictions.reshape(callAnsTime_predictions.shape[0],1)\n",
    "#scaler1.fit_transform(callTransf_pred)\n",
    "print(callAnsTime_predictions)\n",
    "SvcLevel_predictions = lin_reg2.predict(callAnsTime_predictions)\n",
    "print(\"Svc level predictions:\")\n",
    "print(SvcLevel_predictions)\n"
   ]
  },
  {
   "cell_type": "markdown",
   "metadata": {},
   "source": [
    "# Final predictions"
   ]
  },
  {
   "cell_type": "code",
   "execution_count": 75,
   "metadata": {},
   "outputs": [
    {
     "name": "stdout",
     "output_type": "stream",
     "text": [
      "prediction of Call Volume at time t+1:[ 65883.]\n",
      "prediction of Call Volume at time t+2:[ 67806.]\n",
      "prediction of Call Volume at time t+3:[ 61490.]\n"
     ]
    }
   ],
   "source": [
    "print(\"prediction of Call Volume at time t+1:\"+str(currPredUnscaled[:,0]))\n",
    "print(\"prediction of Call Volume at time t+2:\"+str(currPredUnscaled[:,1]))\n",
    "print(\"prediction of Call Volume at time t+3:\"+str(currPredUnscaled[:,2]))"
   ]
  },
  {
   "cell_type": "code",
   "execution_count": 79,
   "metadata": {},
   "outputs": [
    {
     "name": "stdout",
     "output_type": "stream",
     "text": [
      "Predicted Calls transferred percentage, for next 3 months\n",
      "[[ 0.08958905]\n",
      " [ 0.08886913]\n",
      " [ 0.09123406]]\n"
     ]
    }
   ],
   "source": [
    "print(\"Predicted Calls transferred percentage, for next 3 months\")\n",
    "print(callTransf_pred)"
   ]
  },
  {
   "cell_type": "code",
   "execution_count": 80,
   "metadata": {},
   "outputs": [
    {
     "name": "stdout",
     "output_type": "stream",
     "text": [
      "Avg Call Ans Time predictions in secs, for next 3 months:\n",
      "[[ 90.90003162]\n",
      " [ 90.18601062]\n",
      " [ 92.53157225]]\n"
     ]
    }
   ],
   "source": [
    "print(\"Avg Call Ans Time predictions in secs, for next 3 months:\")\n",
    "print(callAnsTime_predictions)"
   ]
  },
  {
   "cell_type": "code",
   "execution_count": 42,
   "metadata": {},
   "outputs": [
    {
     "name": "stdout",
     "output_type": "stream",
     "text": [
      "Svc level of responding within 60 secs predictions for next 3 months:\n",
      "[[ 0.60223919]\n",
      " [ 0.60388671]\n",
      " [ 0.59847475]]\n"
     ]
    }
   ],
   "source": [
    "print(\"Svc level of responding within 60 secs predictions for next 3 months:\")\n",
    "print(SvcLevel_predictions)"
   ]
  },
  {
   "cell_type": "markdown",
   "metadata": {},
   "source": [
    "# Approach 2: We use stationary difference values as input to Deep Learning Sequence model"
   ]
  },
  {
   "cell_type": "code",
   "execution_count": 40,
   "metadata": {},
   "outputs": [
    {
     "name": "stdout",
     "output_type": "stream",
     "text": [
      "126\n"
     ]
    }
   ],
   "source": [
    "from pandas import Series\n",
    "n_lag = 1\n",
    "n_seq = 3\n",
    "n_test = 11\n",
    "\n",
    "#use the Call volume column to create Series in pandas\n",
    "series_call_volume=Series(data=dataframe.values[:,1])\n",
    "print(len(series_call_volume))\n",
    "\n",
    "# prepare data for normalization\n",
    "values = series_call_volume.values\n",
    "values = values.reshape((len(values), 1))\n"
   ]
  },
  {
   "cell_type": "code",
   "execution_count": 41,
   "metadata": {},
   "outputs": [
    {
     "name": "stdout",
     "output_type": "stream",
     "text": [
      " Min: 68355.000000, Max: 311183.000000 \n"
     ]
    },
    {
     "name": "stderr",
     "output_type": "stream",
     "text": [
      "C:\\Anaconda\\lib\\site-packages\\sklearn\\utils\\validation.py:475: DataConversionWarning: Data with input dtype object was converted to float64 by MinMaxScaler.\n",
      "  warnings.warn(msg, DataConversionWarning)\n"
     ]
    }
   ],
   "source": [
    "# normalize the values in a scale of 0 to 1\n",
    "scaler = MinMaxScaler(feature_range=(0, 1))\n",
    "scaler = scaler.fit(values)\n",
    "print( ' Min: %f, Max: %f ' % (scaler.data_min_, scaler.data_max_))\n",
    "# normalize the dataset and print\n",
    "normalized = scaler.transform(values)\n"
   ]
  },
  {
   "cell_type": "code",
   "execution_count": 42,
   "metadata": {
    "collapsed": true
   },
   "outputs": [],
   "source": [
    "#extract values from Time Series\n",
    "values_call_volume = series_call_volume.values\n",
    "\t\n",
    "# create Time Series from the difference of x(t) and x(t-1)\n",
    "diff = list()\n",
    "for i in range(1, len(values_call_volume)):\n",
    "\tvalue = values_call_volume[i] - values_call_volume[i - 1]\n",
    "\tdiff.append(value)\n",
    "\t\n",
    "diff_series = Series(diff)"
   ]
  },
  {
   "cell_type": "code",
   "execution_count": 43,
   "metadata": {},
   "outputs": [
    {
     "name": "stderr",
     "output_type": "stream",
     "text": [
      "C:\\Anaconda\\lib\\site-packages\\sklearn\\utils\\validation.py:475: DataConversionWarning: Data with input dtype int64 was converted to float64 by MinMaxScaler.\n",
      "  warnings.warn(msg, DataConversionWarning)\n"
     ]
    }
   ],
   "source": [
    "#prepare values for Normalization\n",
    "diff_values = diff_series.values\n",
    "diff_values = diff_values.reshape(len(diff_values), 1)\n",
    "\n",
    "# Normalize values in range -1, 1 using Sklearn MinMaxScaler\n",
    "scaler = MinMaxScaler(feature_range=(-1, 1))\n",
    "scaled_values = scaler.fit_transform(diff_values)\n",
    "scaled_values = scaled_values.reshape(len(scaled_values), 1)"
   ]
  },
  {
   "cell_type": "code",
   "execution_count": 44,
   "metadata": {
    "collapsed": true
   },
   "outputs": [],
   "source": [
    "df = DataFrame(scaled_values)\n",
    "cols = list()\n",
    "\n",
    "#shift x values by 1 to create input sequence t-1\n",
    "cols.append(df.shift(1))\n",
    "    \n",
    "#shift y values by 1,2,3 and create forecast sequence (t, t+1, t+2) at next 3 timesteps as y\n",
    "for i in range(0, n_seq):\n",
    "    cols.append(df.shift(-i))"
   ]
  },
  {
   "cell_type": "code",
   "execution_count": 45,
   "metadata": {
    "collapsed": true
   },
   "outputs": [],
   "source": [
    "#concat the values to create training dataset\n",
    "agg = concat(cols, axis=1)\n",
    "# drop rows with NaN values\n",
    "agg.dropna(inplace=True)\n"
   ]
  },
  {
   "cell_type": "code",
   "execution_count": 46,
   "metadata": {},
   "outputs": [
    {
     "name": "stdout",
     "output_type": "stream",
     "text": [
      "(122, 4)\n",
      "Prepared Time series values from differences\n",
      "[[ 19245.]]\n",
      "[[ 30502.]]\n",
      "[[ 31408.]]\n",
      "[[ 2690.]]\n",
      "Actual call volume\n",
      "[[91892]\n",
      " [111137]\n",
      " [141639]\n",
      " [173047]\n",
      " [175737]]\n"
     ]
    }
   ],
   "source": [
    "#supervised training dataset with first column as x and next three columns as y\n",
    "supervised_values = agg.values\n",
    "print(supervised_values.shape)\n",
    "supervised_values = supervised_values.reshape(len(supervised_values),4)\n",
    "\n",
    "#Check the values against original data, and make sure these are indeed the difference values for the first four values in the series\n",
    "print(\"Prepared Time series values from differences\")\n",
    "print(scaler.inverse_transform(supervised_values[0,0]))\n",
    "print(scaler.inverse_transform(supervised_values[0,1]))\n",
    "print(scaler.inverse_transform(supervised_values[0,2]))\n",
    "print(scaler.inverse_transform(supervised_values[0,3]))\n",
    "#print(scaler.inverse_transform(supervised_values[121,0:3]))\n",
    "print(\"Actual call volume\")\n",
    "print(values[0:5,:])"
   ]
  },
  {
   "cell_type": "code",
   "execution_count": 47,
   "metadata": {},
   "outputs": [
    {
     "name": "stdout",
     "output_type": "stream",
     "text": [
      "(111, 4)\n",
      "(11, 4)\n"
     ]
    }
   ],
   "source": [
    "\n",
    "#use the 11 monthly values from 2017 as test data and all prev yrs as training data\n",
    "train, test = supervised_values[0:-11], supervised_values[-11:]\n",
    "\n",
    "print(train.shape)\n",
    "print(test.shape)"
   ]
  },
  {
   "cell_type": "code",
   "execution_count": 48,
   "metadata": {},
   "outputs": [
    {
     "name": "stdout",
     "output_type": "stream",
     "text": [
      "(111, 1, 1)\n",
      "(111, 3)\n",
      "(11, 1, 1)\n",
      "(11, 3)\n"
     ]
    }
   ],
   "source": [
    "# reshape training into [samples, timesteps, features]\n",
    "X, y = train[:, 0:1], train[:, 1:] #Treat the first value as X, and the next 3 values as Y\n",
    "X = X.reshape(X.shape[0], 1, X.shape[1])\n",
    "print(X.shape)\n",
    "print(y.shape)\n",
    "X_test, y_test = test[:, 0:1], test[:, 1:]\n",
    "X_test = X_test.reshape(X_test.shape[0], 1, X_test.shape[1])\n",
    "print(X_test.shape)\n",
    "print(y_test.shape)"
   ]
  },
  {
   "cell_type": "code",
   "execution_count": 49,
   "metadata": {
    "collapsed": true
   },
   "outputs": [],
   "source": [
    "# design network\n",
    "def fit_model_stateful(n_cells):\n",
    "    # define model\n",
    "    model = Sequential()\n",
    "    model.add(LSTM(n_cells, batch_input_shape=(1,X.shape[1],X.shape[2]),stateful=True))\n",
    "    model.add(Dense(3))\n",
    "    # compile model\n",
    "    myOptimizer = optimizers.Adam(lr=0.01, beta_1=0.9, beta_2=0.999, epsilon=0.01, decay=0.0)\n",
    "    model.compile(loss='mean_squared_error', optimizer=myOptimizer)\n",
    "    model.fit(X, y, epochs=1500, shuffle=False, verbose=0,batch_size=1)\n",
    "    model.reset_states()\n",
    "    # evaluate model\n",
    "    loss = model.evaluate(X_test, y_test, verbose=0, batch_size=1)\n",
    "    return loss"
   ]
  },
  {
   "cell_type": "code",
   "execution_count": null,
   "metadata": {
    "collapsed": true
   },
   "outputs": [],
   "source": [
    "\n",
    "def fit_model_stateless(n_cells):\n",
    "    # define model\n",
    "    model = Sequential()\n",
    "    model.add(LSTM(n_cells, batch_input_shape=(1,X.shape[1],X.shape[2]),stateful=False))\n",
    "    model.add(Dense(3))\n",
    "    # compile model\n",
    "    myOptimizer = optimizers.Adam(lr=0.01, beta_1=0.9, beta_2=0.999, epsilon=0.01, decay=0.0)\n",
    "    model.compile(loss='mean_squared_error', optimizer=myOptimizer)\n",
    "    model.fit(X, y, epochs=1500, shuffle=False, verbose=0,batch_size=1)\n",
    "    # evaluate model\n",
    "    loss = model.evaluate(X_test, y_test, verbose=0, batch_size=1)\n",
    "    return loss\n"
   ]
  },
  {
   "cell_type": "code",
   "execution_count": null,
   "metadata": {
    "collapsed": true
   },
   "outputs": [],
   "source": [
    "\n",
    "# define scope of search\n",
    "params = [1, 5, 10]\n",
    "n_repeats = 5\n",
    "# grid search parameter values\n",
    "scores = DataFrame()\n",
    "for value in params:\n",
    "# repeat each experiment multiple times\n",
    "    loss_values_stateful = list()\n",
    "    for i in range(n_repeats):\n",
    "        loss = fit_model_stateful(value)\n",
    "        loss_values_stateful.append(loss)\n",
    "        print( ' >%d/%d param=%f, loss=%f ' % (i+1, n_repeats, value, loss))\n",
    "# store results for this parameter\n",
    "    scores[str(value)] = loss_values_stateful\n",
    "# summary statistics of results\n",
    "print(scores.describe())\n",
    "# box and whisker plot of results\n",
    "scores.boxplot()\n",
    "plt.show()"
   ]
  },
  {
   "cell_type": "markdown",
   "metadata": {},
   "source": [
    "We find 10 neurons in hidden layer gives best performance "
   ]
  },
  {
   "cell_type": "code",
   "execution_count": 50,
   "metadata": {},
   "outputs": [
    {
     "data": {
      "image/png": "[encoded data removed]",
      "text/plain": [
       "<matplotlib.figure.Figure at 0x2b6ca533748>"
      ]
     },
     "metadata": {},
     "output_type": "display_data"
    }
   ],
   "source": [
    "#Based on error plot, choose 10 neurons in intermediate layer\n",
    "model = Sequential()\n",
    "model.add(LSTM(10, batch_input_shape=(1, 1, 1), stateful=False))\n",
    "model.add(Dense(3))\n",
    "myOptimizer = optimizers.Adam(lr=0.01, beta_1=0.9, beta_2=0.999, epsilon=0.01, decay=0.0)\n",
    "model.compile(loss='mean_squared_error', optimizer=myOptimizer)\n",
    "history = model.fit(X, y, epochs=200, validation_data=(X_test,y_test), batch_size=1, verbose=0, shuffle=False)\n",
    "loss = model.evaluate(X_test,y_test,batch_size=1,verbose=0)\n",
    "\n",
    "plt.plot(history.history['loss'])\n",
    "plt.plot(history.history['val_loss'])\n",
    "plt.title('model loss')\n",
    "plt.ylabel('loss')\n",
    "plt.xlabel('epoch')\n",
    "plt.legend(['train', 'test'], loc='upper left')\n",
    "plt.show()"
   ]
  },
  {
   "cell_type": "code",
   "execution_count": null,
   "metadata": {
    "collapsed": true
   },
   "outputs": [],
   "source": [
    "#Save the model\n",
    "model.save('C:/users/hackuser1/lstm_time_series_stless.h5')\n",
    "\n",
    "#Load model\n",
    "#model = load_model('C:/users/hackuser1/lstm_time_series_stless.h5')"
   ]
  },
  {
   "cell_type": "code",
   "execution_count": 51,
   "metadata": {
    "collapsed": true
   },
   "outputs": [],
   "source": [
    "# make forecast\n",
    "forecasts = list()\n",
    "\t\n",
    "for i in range(len(test)):\n",
    "    X_test_inp = X_test[i,0,0]\n",
    "    X_test_inp = X_test_inp.reshape(1,1,1)\n",
    "    forecast = model.predict(X_test_inp, batch_size=1)\n",
    "    forecasts.append(forecast)\n"
   ]
  },
  {
   "cell_type": "code",
   "execution_count": 52,
   "metadata": {},
   "outputs": [
    {
     "name": "stdout",
     "output_type": "stream",
     "text": [
      "[[ 81707.  80096.  76567.]\n",
      " [ 79022.  77375.  76289.]\n",
      " [ 74361.  72732.  68726.]\n",
      " [ 73411.  71896.  72159.]\n",
      " [ 85442.  85891.  87129.]\n",
      " [ 74502.  72056.  67858.]\n",
      " [ 76020.  74992.  76112.]\n",
      " [ 73487.  71874.  68198.]\n",
      " [ 73749.  72351.  72980.]\n",
      " [ 74022.  72375.  71221.]\n",
      " [ 74364.  72769.  72565.]]\n"
     ]
    }
   ],
   "source": [
    "# invert difference values to have absolute value\n",
    "def inverse_difference(last_ob, unscaled_diff):\n",
    "\tinverted = list()\n",
    "\tinverted.append(last_ob+unscaled_diff[0])\n",
    "\tfor i in range(1, len(unscaled_diff)):\n",
    "\t\tinverted.append(inverted[i-1]+unscaled_diff[i])\n",
    "\treturn inverted\n",
    "\n",
    "inverted = list()\n",
    "for i in range(len(forecasts)):\n",
    "\t# create array from forecast\n",
    "\tforecast = np.array(forecasts[i])\n",
    "    #the 3 step values of call volume into the future\n",
    "\tforecast = forecast.reshape(1, 3)\n",
    "\t# invert scaling\n",
    "\tinv_scale = scaler.inverse_transform(forecast)\n",
    "\tinv_scale = inv_scale[0, :]\n",
    "\n",
    "\tindex = len(series_call_volume) - (n_test+2) + i - 1\n",
    "\tlast_ob = series_call_volume.values[index]\n",
    "    \n",
    "    #get actual value of call volume based on forecast difference, and actual\n",
    "\tinv_diff = inverse_difference(last_ob, inv_scale)\n",
    "\tinverted.append(inv_diff)\n",
    "\n",
    "inverted = np.around(inverted, decimals=0)\n",
    "\n",
    "forecasts_inv = inverted\n",
    "print(forecasts_inv)"
   ]
  },
  {
   "cell_type": "code",
   "execution_count": 53,
   "metadata": {
    "collapsed": true
   },
   "outputs": [],
   "source": [
    "#get actual values of Call volume for the 3 time steps, by taking from index=n_lag onwards\n",
    "actuals = [row[n_lag:] for row in test]\n"
   ]
  },
  {
   "cell_type": "code",
   "execution_count": 54,
   "metadata": {},
   "outputs": [
    {
     "name": "stdout",
     "output_type": "stream",
     "text": [
      "[[ 80919.  74029.  76264.]\n",
      " [ 74029.  76264.  88607.]\n",
      " [ 76264.  88607.  73473.]\n",
      " [ 88607.  73473.  79410.]\n",
      " [ 73473.  79410.  73427.]\n",
      " [ 79410.  73427.  76847.]\n",
      " [ 73427.  76847.  75870.]\n",
      " [ 76847.  75870.  76892.]\n",
      " [ 75870.  76892.  75949.]\n",
      " [ 76892.  75949.  68468.]\n",
      " [ 75949.  68468.  72996.]]\n"
     ]
    }
   ],
   "source": [
    "# invert scaling of actual values and get actual call volume from difference\n",
    "inverted = list()\n",
    "for i in range(len(actuals)):\n",
    "\tactual = np.array(actuals[i])\n",
    "\tactual = actual.reshape(1, 3)\n",
    "\n",
    "\tinv_scale = scaler.inverse_transform(actual)\n",
    "\tinv_scale = inv_scale[0, :]\n",
    "\n",
    "\tindex = len(series_call_volume) - (n_test+2) + i - 1\n",
    "\tlast_ob = series_call_volume.values[index]\n",
    "\tinv_diff = inverse_difference(last_ob, inv_scale)\n",
    "\n",
    "\tinverted.append(inv_diff)\n",
    "\n",
    "inverted = np.around(inverted, decimals=0)\n",
    "\n",
    "actuals_inv = inverted\n",
    "print(actuals_inv)"
   ]
  },
  {
   "cell_type": "code",
   "execution_count": 56,
   "metadata": {
    "collapsed": true
   },
   "outputs": [],
   "source": [
    "# evaluate the RMSE for each forecast time step\n",
    "def evaluate_forecasts(actuals, forecasts, n_lag, n_seq):\n",
    "\tfor i in range(n_seq):\n",
    "\t\tactual = [row[i] for row in actuals]\n",
    "\t\tpredicted = [forecast[i] for forecast in forecasts]\n",
    "\t\trmse = sqrt(mean_squared_error(actual, predicted))\n",
    "\t\tprint('t+%d RMSE: %f' % ((i+1), rmse))"
   ]
  },
  {
   "cell_type": "code",
   "execution_count": 57,
   "metadata": {},
   "outputs": [
    {
     "name": "stdout",
     "output_type": "stream",
     "text": [
      "11\n",
      "t+1 RMSE: 6471.597091\n",
      "t+2 RMSE: 6088.216376\n",
      "t+3 RMSE: 7309.438475\n"
     ]
    }
   ],
   "source": [
    "# evaluate forecasts\n",
    "print(len(actuals_inv))\n",
    "evaluate_forecasts(actuals_inv, forecasts_inv, n_lag, n_seq)"
   ]
  },
  {
   "cell_type": "code",
   "execution_count": 58,
   "metadata": {},
   "outputs": [
    {
     "name": "stdout",
     "output_type": "stream",
     "text": [
      "(11, 3)\n"
     ]
    },
    {
     "data": {
      "image/png": "[encoded data removed]",
      "text/plain": [
       "<matplotlib.figure.Figure at 0x2b6cbcb52e8>"
      ]
     },
     "metadata": {},
     "output_type": "display_data"
    },
    {
     "data": {
      "image/png": "[encoded data removed]",
      "text/plain": [
       "<matplotlib.figure.Figure at 0x2b6caa17518>"
      ]
     },
     "metadata": {},
     "output_type": "display_data"
    },
    {
     "data": {
      "image/png": "[encoded data removed]",
      "text/plain": [
       "<matplotlib.figure.Figure at 0x2b6cd86def0>"
      ]
     },
     "metadata": {},
     "output_type": "display_data"
    }
   ],
   "source": [
    "# plot forecastss\n",
    "print(actuals_inv.shape)\n",
    "plt.plot(actuals_inv[:,0])\n",
    "plt.plot(forecasts_inv[:,0],color='red')\n",
    "pyplot.legend(['Actual','Predicted'])\n",
    "pyplot.title('Actual vs Predicted at time t+1')\n",
    "plt.show()\n",
    "\n",
    "plt.plot(actuals_inv[:,1])\n",
    "plt.plot(forecasts_inv[:,1],color='red')\n",
    "pyplot.legend(['Actual','Predicted'])\n",
    "pyplot.title('Actual vs Predicted at time t+2')\n",
    "plt.show()\n",
    "\n",
    "plt.plot(actuals_inv[:,2])\n",
    "plt.plot(forecasts_inv[:,2],color='red')\n",
    "pyplot.legend(['Actual','Predicted'])\n",
    "pyplot.title('Actual vs Predicted at time t+3')\n",
    "plt.show()\n"
   ]
  },
  {
   "cell_type": "markdown",
   "metadata": {
    "collapsed": true
   },
   "source": [
    "We find both approaches of Time Series forecasting using Lookback values and stationary difference values using LSTM cells in a Deep Learning model, give comparable results, the former approach being slightly better. Hence we decide to use the simpler model with lookback values."
   ]
  }
 ],
 "metadata": {
  "anaconda-cloud": {},
  "kernelspec": {
   "display_name": "Python [conda env:Anaconda]",
   "language": "python",
   "name": "conda-env-Anaconda-py"
  },
  "language_info": {
   "codemirror_mode": {
    "name": "ipython",
    "version": 3
   },
   "file_extension": ".py",
   "mimetype": "text/x-python",
   "name": "python",
   "nbconvert_exporter": "python",
   "pygments_lexer": "ipython3",
   "version": "3.6.3"
  }
 },
 "nbformat": 4,
 "nbformat_minor": 2
}
