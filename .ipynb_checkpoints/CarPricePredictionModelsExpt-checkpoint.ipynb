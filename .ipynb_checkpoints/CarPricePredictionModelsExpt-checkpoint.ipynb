{
 "cells": [
  {
   "cell_type": "markdown",
   "metadata": {
    "collapsed": true
   },
   "source": [
    "This notebook is to explore various prediction models from the Used Car Price data \n",
    "at : https://www.kaggle.com/CooperUnion/cardataset\n",
    "Various Regression techniques are explored, with K-fold cross validation, grid search of parameters, including \n",
    "Deep Learning techniques and the best approach is selected based on Accuracy"
   ]
  },
  {
   "cell_type": "code",
   "execution_count": 1,
   "metadata": {},
   "outputs": [
    {
     "name": "stderr",
     "output_type": "stream",
     "text": [
      "Using TensorFlow backend.\n"
     ]
    }
   ],
   "source": [
    "#Import all necessary libraries\n",
    "import pickle\n",
    "import pandas as pd\n",
    "import pandas as pd\n",
    "import matplotlib.pyplot as plt\n",
    "from sklearn.model_selection import train_test_split\n",
    "import numpy as np\n",
    "from sklearn.model_selection import StratifiedShuffleSplit\n",
    "from sklearn.preprocessing import Imputer\n",
    "from sklearn.preprocessing import LabelEncoder\n",
    "from sklearn.preprocessing import OneHotEncoder\n",
    "from sklearn.preprocessing import LabelBinarizer\n",
    "from sklearn.base import BaseEstimator, TransformerMixin\n",
    "from sklearn.pipeline import Pipeline\n",
    "from sklearn.preprocessing import StandardScaler\n",
    "from sklearn.preprocessing import MinMaxScaler\n",
    "from sklearn.preprocessing import PolynomialFeatures\n",
    "from pandas.plotting import scatter_matrix\n",
    "\n",
    "from sklearn.linear_model import LinearRegression\n",
    "from sklearn.metrics import mean_squared_error\n",
    "from sklearn.linear_model import SGDRegressor\n",
    "from keras.models import Sequential\n",
    "from keras.layers import Dense   \n",
    "from keras import optimizers\n",
    "\n",
    "from sklearn.tree import DecisionTreeRegressor\n",
    "from sklearn.ensemble import RandomForestRegressor\n",
    "from sklearn.model_selection import cross_val_score\n",
    "from sklearn.ensemble import GradientBoostingRegressor\n",
    "from xgboost import XGBRegressor\n",
    "from sklearn.linear_model import Lasso\n",
    "from sklearn.linear_model import Ridge\n",
    "from sklearn.linear_model import ElasticNet\n",
    "from sklearn.model_selection import GridSearchCV\n",
    "from sklearn.model_selection import StratifiedKFold"
   ]
  },
  {
   "cell_type": "markdown",
   "metadata": {
    "collapsed": true
   },
   "source": [
    "Read the pre-processed pkl files"
   ]
  },
  {
   "cell_type": "code",
   "execution_count": 2,
   "metadata": {},
   "outputs": [
    {
     "name": "stdout",
     "output_type": "stream",
     "text": [
      "(5556, 47)\n",
      "(5556, 65)\n"
     ]
    }
   ],
   "source": [
    "train_X=pd.read_pickle('C:/users/hackuser1/Hackathon18/train_X_ord.pkl')\n",
    "test_X=pd.read_pickle('C:/users/hackuser1/Hackathon18/test_X_ord.pkl')\n",
    "train_Y=pd.read_pickle('C:/users/hackuser1/Hackathon18/train_Y_ord.pkl') # train Y with log(MSRP)\n",
    "test_Y=pd.read_pickle('C:/users/hackuser1/Hackathon18/test_Y_ord.pkl')\n",
    "train_Y_orig=pd.read_pickle('C:/users/hackuser1/Hackathon18/train_Y_ord_orig.pkl') # train Y with MSRP unmodified\n",
    "test_Y_orig=pd.read_pickle('C:/users/hackuser1/Hackathon18/test_Y_ord_orig.pkl')\n",
    "\n",
    "train_X_make=pd.read_pickle('C:/users/hackuser1/Hackathon18/train_X_ord_make.pkl')\n",
    "test_X_make=pd.read_pickle('C:/users/hackuser1/Hackathon18/test_X_ord_make.pkl')\n",
    "\n",
    "print(train_X.shape)\n",
    "print(train_X_make.shape)"
   ]
  },
  {
   "cell_type": "markdown",
   "metadata": {},
   "source": [
    "We fit Sklearn LinearRegression and use this to make predictions on the test data and check the RMSE\n",
    "Use train X data with make and without make, and Test Y as MSRP as well as Log MSRP and compare the RMSE values on test data"
   ]
  },
  {
   "cell_type": "code",
   "execution_count": 23,
   "metadata": {},
   "outputs": [
    {
     "data": {
      "text/plain": [
       "LinearRegression(copy_X=True, fit_intercept=True, n_jobs=1, normalize=False)"
      ]
     },
     "execution_count": 23,
     "metadata": {},
     "output_type": "execute_result"
    }
   ],
   "source": [
    "#fit train data without make info, and log MSRP\n",
    "lin_reg = LinearRegression()\n",
    "lin_reg.fit(train_X, train_Y)\n",
    "\n",
    "#fit train data without make and MSRP, as it\n",
    "lin_reg_1 = LinearRegression()\n",
    "lin_reg_1.fit(train_X, train_Y_orig)\n",
    "\n",
    "#fit train data with make and log MSRP\n",
    "lin_reg_make = LinearRegression()\n",
    "lin_reg_make.fit(train_X_make, train_Y)\n",
    "\n",
    "#fit train data with make and MSRP, as it\n",
    "lin_reg_make1 = LinearRegression()\n",
    "lin_reg_make1.fit(train_X_make, train_Y_orig)"
   ]
  },
  {
   "cell_type": "code",
   "execution_count": 39,
   "metadata": {},
   "outputs": [
    {
     "name": "stdout",
     "output_type": "stream",
     "text": [
      "rmse without make, log MSRP:8663.24767682\n",
      "rmse without make, MSRP, as is:28097.4411188\n",
      "rmse with make, log MSRP:8298.81451967\n",
      "rmse with make, MSRP, as is:28055.9651761\n"
     ]
    }
   ],
   "source": [
    "carSales_predictions = lin_reg.predict(test_X)\n",
    "lin_mse = mean_squared_error(np.exp(test_Y), np.exp(carSales_predictions))\n",
    "lin_rmse = np.sqrt(lin_mse)\n",
    "print(\"rmse without make, log MSRP:\"+str(lin_rmse))\n",
    "\n",
    "carSales_predictions = lin_reg_1.predict(test_X)\n",
    "lin_mse = mean_squared_error(test_Y, carSales_predictions)\n",
    "lin_rmse = np.sqrt(lin_mse)\n",
    "print(\"rmse without make, MSRP, as is:\"+str(lin_rmse))\n",
    "\n",
    "carSales_predictions = lin_reg_make.predict(test_X_make)\n",
    "lin_mse = mean_squared_error(np.exp(test_Y), np.exp(carSales_predictions))\n",
    "lin_rmse = np.sqrt(lin_mse)\n",
    "print(\"rmse with make, log MSRP:\"+str(lin_rmse))\n",
    "\n",
    "carSales_predictions = lin_reg_make1.predict(test_X_make)\n",
    "lin_mse = mean_squared_error(test_Y, carSales_predictions)\n",
    "lin_rmse = np.sqrt(lin_mse)\n",
    "print(\"rmse with make, MSRP, as is:\"+str(lin_rmse))"
   ]
  },
  {
   "cell_type": "markdown",
   "metadata": {
    "collapsed": true
   },
   "source": [
    "We observe the data with make and log MSRP gives best results. We use this data to fit subsequent algorithms.\n",
    "Next we use SGDRegressor from scikit learn and compare the RMSE"
   ]
  },
  {
   "cell_type": "code",
   "execution_count": 34,
   "metadata": {},
   "outputs": [
    {
     "data": {
      "text/plain": [
       "SGDRegressor(alpha=0.0001, average=False, epsilon=0.1, eta0=0.01,\n",
       "       fit_intercept=True, l1_ratio=0.15, learning_rate='invscaling',\n",
       "       loss='squared_loss', max_iter=500, n_iter=None, penalty=None,\n",
       "       power_t=0.25, random_state=None, shuffle=True, tol=None, verbose=0,\n",
       "       warm_start=False)"
      ]
     },
     "execution_count": 34,
     "metadata": {},
     "output_type": "execute_result"
    }
   ],
   "source": [
    "sgd_reg_make = SGDRegressor(max_iter=500,penalty=None,eta0=0.01)\n",
    "sgd_reg_make.fit(train_X_make, train_Y.values.ravel())"
   ]
  },
  {
   "cell_type": "code",
   "execution_count": 40,
   "metadata": {},
   "outputs": [
    {
     "name": "stdout",
     "output_type": "stream",
     "text": [
      "SGD RMSE:8471.19867171\n",
      "predicted prices\n",
      "[ 10436.35938607  23874.66237829  12297.32990036   4129.98480997\n",
      "  26121.45349847]\n",
      "actual prices\n",
      "         0\n",
      "0  23086.0\n",
      "1  25581.0\n",
      "2  19396.0\n",
      "3   2001.0\n",
      "4  24786.0\n"
     ]
    }
   ],
   "source": [
    "carSales_predictions_make = sgd_reg_make.predict(test_X_make)\n",
    "sgd_mse = mean_squared_error(np.exp(test_Y), np.exp(carSales_predictions_make))\n",
    "sgd_rmse = np.sqrt(sgd_mse)\n",
    "print(\"SGD RMSE:\"+str(sgd_rmse))\n",
    "print(\"predicted prices\")\n",
    "print(np.exp(carSales_predictions_make[0:5]))\n",
    "print(\"actual prices\")\n",
    "print(np.exp(test_Y[0:5]))"
   ]
  },
  {
   "cell_type": "code",
   "execution_count": 41,
   "metadata": {},
   "outputs": [
    {
     "data": {
      "text/plain": [
       "DecisionTreeRegressor(criterion='mse', max_depth=None, max_features=None,\n",
       "           max_leaf_nodes=None, min_impurity_decrease=0.0,\n",
       "           min_impurity_split=None, min_samples_leaf=1,\n",
       "           min_samples_split=2, min_weight_fraction_leaf=0.0,\n",
       "           presort=False, random_state=None, splitter='best')"
      ]
     },
     "execution_count": 41,
     "metadata": {},
     "output_type": "execute_result"
    }
   ],
   "source": [
    "tree_reg = DecisionTreeRegressor()\n",
    "tree_reg.fit(train_X,train_Y)\n",
    "\n",
    "tree_reg_make = DecisionTreeRegressor()\n",
    "tree_reg_make.fit(train_X_make,train_Y)"
   ]
  },
  {
   "cell_type": "code",
   "execution_count": 43,
   "metadata": {},
   "outputs": [
    {
     "name": "stdout",
     "output_type": "stream",
     "text": [
      "Decision Tree RMSE, without make:3195.07325153\n"
     ]
    }
   ],
   "source": [
    "carSales_predictions = tree_reg.predict(test_X)\n",
    "tree_mse = mean_squared_error(np.exp(test_Y), np.exp(carSales_predictions))\n",
    "tree_rmse = np.sqrt(tree_mse)\n",
    "print(\"Decision Tree RMSE, without make:\"+str(tree_rmse))"
   ]
  },
  {
   "cell_type": "code",
   "execution_count": 45,
   "metadata": {},
   "outputs": [
    {
     "name": "stdout",
     "output_type": "stream",
     "text": [
      "Decision Tree RMSE, with make:3110.74905826\n",
      "predicted prices\n",
      "[ 21986.  22206.  21696.   2001.  27786.]\n",
      "actual prices\n",
      "         0\n",
      "0  23086.0\n",
      "1  25581.0\n",
      "2  19396.0\n",
      "3   2001.0\n",
      "4  24786.0\n"
     ]
    }
   ],
   "source": [
    "carSales_predictions_make = tree_reg_make.predict(test_X_make)\n",
    "tree_mse = mean_squared_error(np.exp(test_Y), np.exp(carSales_predictions_make))\n",
    "tree_rmse = np.sqrt(tree_mse)\n",
    "print(\"Decision Tree RMSE, with make:\"+str(tree_rmse))\n",
    "print(\"predicted prices\")\n",
    "print(np.exp(carSales_predictions_make[0:5]))\n",
    "print(\"actual prices\")\n",
    "print(np.exp(test_Y[0:5]))"
   ]
  },
  {
   "cell_type": "markdown",
   "metadata": {},
   "source": [
    "We find Decision tree with make data included reduces the RMSE and is the best so far. We \n",
    "validate this using K-fold Cross validation with k set to 10"
   ]
  },
  {
   "cell_type": "code",
   "execution_count": 46,
   "metadata": {},
   "outputs": [
    {
     "name": "stdout",
     "output_type": "stream",
     "text": [
      "scores: [ 0.11743598  0.11099468  0.10167762  0.11095131  0.10396001  0.10785319\n",
      "  0.10309168  0.1107515   0.10710575  0.10429869]\n",
      "mean: 0.107812039723\n",
      "std dev: 0.00456990247701\n"
     ]
    }
   ],
   "source": [
    "scores = cross_val_score(tree_reg_make,train_X_make,train_Y,scoring=\"neg_mean_squared_error\",cv=10)\n",
    "tree_rmse_scores = np.sqrt(-scores)\n",
    "\n",
    "print(\"scores:\",tree_rmse_scores)\n",
    "print(\"mean:\",tree_rmse_scores.mean())\n",
    "print(\"std dev:\",tree_rmse_scores.std())"
   ]
  },
  {
   "cell_type": "markdown",
   "metadata": {},
   "source": [
    "This shows there is a good fit, and there is very less variation between the folds and the data is dependable.\n",
    "We now try RandomForestRegressor, with default parameters"
   ]
  },
  {
   "cell_type": "code",
   "execution_count": 47,
   "metadata": {},
   "outputs": [
    {
     "data": {
      "text/plain": [
       "RandomForestRegressor(bootstrap=True, criterion='mse', max_depth=None,\n",
       "           max_features='auto', max_leaf_nodes=None,\n",
       "           min_impurity_decrease=0.0, min_impurity_split=None,\n",
       "           min_samples_leaf=1, min_samples_split=2,\n",
       "           min_weight_fraction_leaf=0.0, n_estimators=10, n_jobs=1,\n",
       "           oob_score=False, random_state=None, verbose=0, warm_start=False)"
      ]
     },
     "execution_count": 47,
     "metadata": {},
     "output_type": "execute_result"
    }
   ],
   "source": [
    "forest_reg_make = RandomForestRegressor()\n",
    "forest_reg_make.fit(train_X_make,train_Y.values.ravel())"
   ]
  },
  {
   "cell_type": "code",
   "execution_count": 48,
   "metadata": {},
   "outputs": [
    {
     "name": "stdout",
     "output_type": "stream",
     "text": [
      "Random Forest Regressor RMSE, with make:3006.58980928\n",
      "predicted prices\n",
      "[ 21986.  22206.  21696.   2001.  27786.]\n",
      "actual prices\n",
      "         0\n",
      "0  23086.0\n",
      "1  25581.0\n",
      "2  19396.0\n",
      "3   2001.0\n",
      "4  24786.0\n"
     ]
    }
   ],
   "source": [
    "carSales_predictions = forest_reg_make.predict(test_X_make)\n",
    "forest_mse = mean_squared_error(np.exp(test_Y), np.exp(carSales_predictions))\n",
    "forest_rmse = np.sqrt(forest_mse)\n",
    "print(\"Random Forest Regressor RMSE, with make:\"+str(forest_rmse))\n",
    "print(\"predicted prices\")\n",
    "print(np.exp(carSales_predictions_make[0:5]))\n",
    "print(\"actual prices\")\n",
    "print(np.exp(test_Y[0:5]))"
   ]
  },
  {
   "cell_type": "markdown",
   "metadata": {},
   "source": [
    "This is clearly a better fit compared to DecisionTree, and we validate this with k-fold CV"
   ]
  },
  {
   "cell_type": "code",
   "execution_count": 49,
   "metadata": {},
   "outputs": [
    {
     "name": "stdout",
     "output_type": "stream",
     "text": [
      "scores: [ 0.10193718  0.10150114  0.09442559  0.10182752  0.09229687  0.09830095\n",
      "  0.10000251  0.10201605  0.09789777  0.09280072]\n",
      "mean: 0.0983006293765\n",
      "std dev: 0.00366169231293\n"
     ]
    }
   ],
   "source": [
    "forest_scores = cross_val_score(forest_reg_make,train_X_make,train_Y.values.ravel(),scoring=\"neg_mean_squared_error\",cv=10)\n",
    "forest_rmse_scores = np.sqrt(-forest_scores)\n",
    "\n",
    "print(\"scores:\",forest_rmse_scores)\n",
    "print(\"mean:\",forest_rmse_scores.mean())\n",
    "print(\"std dev:\",forest_rmse_scores.std())"
   ]
  },
  {
   "cell_type": "markdown",
   "metadata": {},
   "source": [
    "We now use GridSearch to find the optimum parameters for RandomForestRegression"
   ]
  },
  {
   "cell_type": "code",
   "execution_count": 50,
   "metadata": {},
   "outputs": [
    {
     "name": "stdout",
     "output_type": "stream",
     "text": [
      "BEST PARAMETERS FOR RANDOM FOREST REGRESSOR IS:\n"
     ]
    },
    {
     "data": {
      "text/plain": [
       "{'max_features': 8, 'n_estimators': 30}"
      ]
     },
     "execution_count": 50,
     "metadata": {},
     "output_type": "execute_result"
    }
   ],
   "source": [
    "param_grid = [\n",
    "    # try 12 (3×4) combinations of hyperparameters\n",
    "    {'n_estimators': [3, 10, 30], 'max_features': [2, 4, 6, 8]},\n",
    "    # then try 6 (2×3) combinations with bootstrap set as False\n",
    "    {'bootstrap': [False], 'n_estimators': [3, 10], 'max_features': [2, 3, 4]},\n",
    "  ]\n",
    "\n",
    "forest_reg = RandomForestRegressor(random_state=42)\n",
    "# train across 5 folds, that's a total of (12+6)*5=90 rounds of training \n",
    "grid_search = GridSearchCV(forest_reg, param_grid, cv=5,\n",
    "                           scoring='neg_mean_squared_error', return_train_score=True)\n",
    "grid_search.fit(train_X_make, train_Y.values.ravel())\n",
    "print(\"BEST PARAMETERS FOR RANDOM FOREST REGRESSOR IS:\")\n",
    "grid_search.best_params_"
   ]
  },
  {
   "cell_type": "code",
   "execution_count": 51,
   "metadata": {},
   "outputs": [
    {
     "data": {
      "text/plain": [
       "RandomForestRegressor(bootstrap=True, criterion='mse', max_depth=None,\n",
       "           max_features=8, max_leaf_nodes=None, min_impurity_decrease=0.0,\n",
       "           min_impurity_split=None, min_samples_leaf=1,\n",
       "           min_samples_split=2, min_weight_fraction_leaf=0.0,\n",
       "           n_estimators=30, n_jobs=1, oob_score=False, random_state=None,\n",
       "           verbose=0, warm_start=False)"
      ]
     },
     "execution_count": 51,
     "metadata": {},
     "output_type": "execute_result"
    }
   ],
   "source": [
    "#Fit using best parameters and check\n",
    "forest_reg_make = RandomForestRegressor(max_features=8,n_estimators=30)\n",
    "forest_reg_make.fit(train_X_make,train_Y.values.ravel())"
   ]
  },
  {
   "cell_type": "code",
   "execution_count": 52,
   "metadata": {},
   "outputs": [
    {
     "name": "stdout",
     "output_type": "stream",
     "text": [
      "Random Forest Regressor RMSE, with make:3060.57084897\n",
      "predicted prices\n",
      "[ 21986.  22206.  21696.   2001.  27786.]\n",
      "actual prices\n",
      "         0\n",
      "0  23086.0\n",
      "1  25581.0\n",
      "2  19396.0\n",
      "3   2001.0\n",
      "4  24786.0\n"
     ]
    }
   ],
   "source": [
    "carSales_predictions = forest_reg_make.predict(test_X_make)\n",
    "forest_mse = mean_squared_error(np.exp(test_Y), np.exp(carSales_predictions))\n",
    "forest_rmse = np.sqrt(forest_mse)\n",
    "print(\"Random Forest Regressor RMSE, with make:\"+str(forest_rmse))\n",
    "print(\"predicted prices\")\n",
    "print(np.exp(carSales_predictions_make[0:5]))\n",
    "print(\"actual prices\")\n",
    "print(np.exp(test_Y[0:5]))"
   ]
  },
  {
   "cell_type": "markdown",
   "metadata": {},
   "source": [
    "The observation is : Default parameters gives better results.\n",
    "We now find the feature importances from the GridSearch."
   ]
  },
  {
   "cell_type": "code",
   "execution_count": 55,
   "metadata": {},
   "outputs": [
    {
     "name": "stdout",
     "output_type": "stream",
     "text": [
      "[(0.51222971167234455, 'City MPG'), (0.14792201802189073, 'Engine HP'), (0.040567461767208476, 'AUTOMATIC'), (0.032248768541910007, 'Age'), (0.030703906424741613, 'regular unleaded'), (0.02564030029001552, 'MANUAL'), (0.019372873771421838, 'premium unleaded (recommended)'), (0.015558711475096552, 'Large'), (0.015126838516752013, 'Oldsmobile'), (0.010921668085859251, 'Regular Cab Pickup'), (0.010570801867184867, '8.'), (0.0094306698937316261, 'Plymouth'), (0.0084518531088829275, '4dr SUV'), (0.0074293416542418229, 'Compact'), (0.0064167390653077352, 'Midsize'), (0.0060953032209234278, 'front wheel drive'), (0.0060922616387048423, 'Dodge'), (0.0059768123568712085, '6.'), (0.005647578826506937, 'premium unleaded (required)'), (0.0050926855022228445, '2dr SUV'), (0.0050496014540356727, 'four wheel drive'), (0.0045749585336413113, 'rear wheel drive'), (0.0044071707266135681, 'Crew Cab Pickup'), (0.0042983794471047132, '4.'), (0.0042692483329895255, 'Extended Cab Pickup'), (0.0038999598721438256, '2dr Hatchback'), (0.0034013727902103526, 'Volkswagen'), (0.003357296842133181, 'Cargo Van'), (0.0032482803975619886, 'all wheel drive'), (0.0031001863614168804, 'Nissan'), (0.0030561128925689898, '4dr Hatchback'), (0.0029217412247848113, 'Passenger Minivan'), (0.002819490735166397, 'Chevrolet'), (0.0027893897584574784, 'Ford'), (0.0025557700363205583, 'Convertible'), (0.0023558042700243592, 'flex-fuel (unleaded/E85)'), (0.0022351025174372286, 'Coupe'), (0.0020097766940541249, 'Sedan'), (0.0016242781025624996, 'Suzuki'), (0.001623566697819178, 'Mazda'), (0.0015425449711954631, 'diesel'), (0.0014157265601677446, '10.'), (0.0013142339059312061, 'Subaru'), (0.0012732776919034182, 'Pontiac'), (0.00097825050326376959, 'Mitsubishi'), (0.00096346489454685004, 'Hyundai'), (0.00091392330178694599, 'Wagon'), (0.00088788096350143442, 'AUTOMATED_MANUAL'), (0.00074808456393650371, '0.'), (0.00074726315433327876, 'Passenger Van'), (0.00067519475473970915, 'Chrysler'), (0.00063998177163859392, 'Honda'), (0.00059970628655754915, 'UNKNOWN'), (0.00042264828587880649, 'FIAT'), (0.00037880260592084981, 'Cargo Minivan'), (0.00030664831829765594, '5.'), (0.00030506724491894267, ' 3.'), (0.0002990499200805492, 'Kia'), (0.00013546977922986674, 'electric'), (9.5532517800993617e-05, '12.'), (9.5523563514710928e-05, 'DIRECT_DRIVE'), (8.9937447692454238e-05, 'Scion'), (5.8898898820218819e-05, 'Convertible SUV'), (1.5465375615319527e-05, 'flex-fuel (unleaded/natural gas)'), (3.6293298617563961e-06, 'natural gas')]\n"
     ]
    }
   ],
   "source": [
    "feature_importances = grid_search.best_estimator_.feature_importances_\n",
    "num_attribs = [\"Engine HP\",\"City MPG\",\"Age\"]\n",
    "categorical_attribs = [  '0.' , ' 3.',   '4.' ,  '5.' ,  '6.',   '8.' , '10.', '12.'] + ['diesel', 'electric' ,'flex-fuel (unleaded/E85)',\n",
    " 'flex-fuel (unleaded/natural gas)' ,'natural gas', 'premium unleaded (recommended)', 'premium unleaded (required)',\n",
    " 'regular unleaded'] + ['AUTOMATED_MANUAL' ,'AUTOMATIC' ,'DIRECT_DRIVE' ,'MANUAL', 'UNKNOWN'] + ['all wheel drive','four wheel drive', 'front wheel drive', 'rear wheel drive'] + ['Compact' ,'Large', 'Midsize']+['2dr Hatchback', '2dr SUV' ,'4dr Hatchback', '4dr SUV', 'Cargo Minivan',\n",
    " 'Cargo Van', 'Convertible', 'Convertible SUV' ,'Coupe', 'Crew Cab Pickup','Extended Cab Pickup' ,'Passenger Minivan' ,'Passenger Van','Regular Cab Pickup', 'Sedan' ,'Wagon']+['Chevrolet', 'Chrysler', 'Dodge', 'FIAT' ,'Ford', 'Honda', 'Hyundai', 'Kia', 'Mazda' ,'Mitsubishi' ,'Nissan', 'Oldsmobile', 'Plymouth', 'Pontiac' ,'Scion', 'Subaru','Suzuki', 'Volkswagen']\n",
    "attributes = num_attribs+categorical_attribs\n",
    "print(sorted(zip(feature_importances, attributes), reverse=True))"
   ]
  },
  {
   "cell_type": "markdown",
   "metadata": {},
   "source": [
    "This shows the best predictors are City Mile per gallon, Engine HP, Transmission, Age of car, Fuel Type, Size, MAke, Style. We do retain all parameters in the prediction."
   ]
  },
  {
   "cell_type": "code",
   "execution_count": 57,
   "metadata": {},
   "outputs": [
    {
     "name": "stdout",
     "output_type": "stream",
     "text": [
      "Random Forest Regressor Final RMSE:3040.3607784\n",
      "predicted prices\n",
      "[ 21986.  22206.  21696.   2001.  27786.]\n",
      "actual prices\n",
      "         0\n",
      "0  23086.0\n",
      "1  25581.0\n",
      "2  19396.0\n",
      "3   2001.0\n",
      "4  24786.0\n",
      "scores: [ 0.11199449  0.10856914  0.11540133  0.11024884  0.10283988  0.12166811\n",
      "  0.11216988  0.12351604  0.10642059  0.12219071]\n",
      "mean: 0.113501900189\n",
      "std dev: 0.00669968418204\n",
      "scores: [ 0.16044081  0.1181285   0.1467781   0.16295343  0.15222958  0.16306924\n",
      "  0.16020828  0.12874094  0.19367385  0.15581878]\n",
      "mean: 0.154204150659\n",
      "std dev: 0.019492107897\n"
     ]
    }
   ],
   "source": [
    "final_model = grid_search.best_estimator_\n",
    "final_predictions = final_model.predict(test_X_make)\n",
    "final_mse = mean_squared_error(np.exp(test_Y), np.exp(final_predictions))\n",
    "final_rmse = np.sqrt(final_mse)\n",
    "print(\"Random Forest Regressor Final RMSE:\"+str(final_rmse))\n",
    "print(\"predicted prices\")\n",
    "print(np.exp(carSales_predictions_make[0:5]))\n",
    "print(\"actual prices\")\n",
    "print(np.exp(test_Y[0:5]))\n",
    "\n",
    "final_model_scores = cross_val_score(final_model,train_X_make,train_Y.values.ravel(),scoring=\"neg_mean_squared_error\",cv=10)\n",
    "final_model_scores = np.sqrt(-final_model_scores)\n",
    "\n",
    "print(\"scores:\",final_model_scores)\n",
    "print(\"mean:\",final_model_scores.mean())\n",
    "print(\"std dev:\",final_model_scores.std())\n",
    "\n",
    "final_model_scores = cross_val_score(final_model,test_X_make,test_Y.values.ravel(),scoring=\"neg_mean_squared_error\",cv=10)\n",
    "final_model_scores = np.sqrt(-final_model_scores)\n",
    "\n",
    "print(\"scores:\",final_model_scores)\n",
    "print(\"mean:\",final_model_scores.mean())\n",
    "print(\"std dev:\",final_model_scores.std())"
   ]
  },
  {
   "cell_type": "markdown",
   "metadata": {},
   "source": [
    "We find the model is fitting quite well, with similar RMSE values in train and test data set. We plot the learning curves for the best model and see the learning curve, by plotting the rmse vs size of training set"
   ]
  },
  {
   "cell_type": "code",
   "execution_count": 30,
   "metadata": {},
   "outputs": [
    {
     "data": {
      "image/png": "[encoded data removed]",
      "text/plain": [
       "<matplotlib.figure.Figure at 0x1f988d7a898>"
      ]
     },
     "metadata": {},
     "output_type": "display_data"
    }
   ],
   "source": [
    "def plot_learning_curves(model, X, y):\n",
    "    \n",
    "    train_errors, val_errors = [], []\n",
    "    for m in range(1, len(X)):\n",
    "        model.fit(X[:m], y[:m].values.ravel())\n",
    "        y_train_predict = model.predict(X[:m])\n",
    "        y_val_predict = model.predict(test_X_make)\n",
    "        train_errors.append(mean_squared_error(y[:m], y_train_predict))\n",
    "        val_errors.append(mean_squared_error(test_Y, y_val_predict))\n",
    "\n",
    "    plt.plot(np.sqrt(train_errors), \"r-+\", linewidth=2, label=\"train\")\n",
    "    plt.plot(np.sqrt(val_errors), \"b-\", linewidth=3, label=\"val\")\n",
    "    plt.legend(loc=\"upper right\", fontsize=14)   \n",
    "    plt.xlabel(\"Training set size\", fontsize=14) \n",
    "    plt.ylabel(\"RMSE\", fontsize=14)   \n",
    "\n",
    "plot_learning_curves(final_model, train_X_make, train_Y)\n",
    "plt.show()"
   ]
  },
  {
   "cell_type": "code",
   "execution_count": 58,
   "metadata": {},
   "outputs": [
    {
     "name": "stdout",
     "output_type": "stream",
     "text": [
      "Elastic Net RMSE:8777.11146489\n"
     ]
    }
   ],
   "source": [
    "#We try ElasticNet\n",
    "from sklearn.linear_model import ElasticNet\n",
    "elastic_net = ElasticNet(alpha=0.1, l1_ratio=0.5, random_state=42)\n",
    "elastic_net.fit(train_X_make, train_Y)\n",
    "carSales_predictions = elastic_net.predict(test_X_make)\n",
    "elastic_mse = mean_squared_error(np.exp(test_Y), np.exp(carSales_predictions))\n",
    "elastic_rmse = np.sqrt(elastic_mse)\n",
    "print(\"Elastic Net RMSE:\"+str(elastic_rmse))"
   ]
  },
  {
   "cell_type": "code",
   "execution_count": 59,
   "metadata": {},
   "outputs": [
    {
     "name": "stdout",
     "output_type": "stream",
     "text": [
      "Ridge RMSE:8268.07759323\n"
     ]
    }
   ],
   "source": [
    "#We try Ridge Regression\n",
    "from sklearn.linear_model import Ridge\n",
    "ridge_reg = Ridge(alpha=1, solver=\"cholesky\", random_state=42)\n",
    "ridge_reg.fit(train_X_make, train_Y)\n",
    "carSales_predictions = ridge_reg.predict(test_X_make)\n",
    "ridge_mse = mean_squared_error(np.exp(test_Y), np.exp(carSales_predictions))\n",
    "ridge_rmse = np.sqrt(ridge_mse)\n",
    "print(\"Ridge RMSE:\"+str(ridge_rmse))"
   ]
  },
  {
   "cell_type": "code",
   "execution_count": 63,
   "metadata": {},
   "outputs": [
    {
     "name": "stdout",
     "output_type": "stream",
     "text": [
      "Lasso RMSE:8697.20098706\n"
     ]
    }
   ],
   "source": [
    "#We try Lasso Regression\n",
    "from sklearn.linear_model import Lasso\n",
    "lasso_reg = Lasso(alpha=0.1)\n",
    "lasso_reg.fit(train_X_make, train_Y)\n",
    "carSales_predictions = lasso_reg.predict(test_X_make)\n",
    "lasso_mse = mean_squared_error(np.exp(test_Y), np.exp(carSales_predictions))\n",
    "lasso_rmse = np.sqrt(lasso_mse)\n",
    "print(\"Lasso RMSE:\"+str(lasso_rmse))"
   ]
  },
  {
   "cell_type": "markdown",
   "metadata": {},
   "source": [
    "We find these give worse results. \n",
    "We use GradientBoostingRegressor from sklearn finally"
   ]
  },
  {
   "cell_type": "code",
   "execution_count": 64,
   "metadata": {},
   "outputs": [
    {
     "name": "stdout",
     "output_type": "stream",
     "text": [
      "Gradient Boosting Regressor RMSE:3293.94301909\n"
     ]
    }
   ],
   "source": [
    "gbrt = GradientBoostingRegressor(max_depth=8, n_estimators=3, learning_rate=1.0, random_state=42)\n",
    "gbrt.fit(train_X_make, train_Y.values.ravel())\n",
    "carSales_predictions = gbrt.predict(test_X_make)\n",
    "gbrt_mse = mean_squared_error(np.exp(test_Y), np.exp(carSales_predictions))\n",
    "gbrt_rmse = np.sqrt(gbrt_mse)\n",
    "print(\"Gradient Boosting Regressor RMSE:\"+str(gbrt_rmse))"
   ]
  },
  {
   "cell_type": "code",
   "execution_count": 65,
   "metadata": {},
   "outputs": [
    {
     "name": "stdout",
     "output_type": "stream",
     "text": [
      "Gradient Boosting Regressor SLOW RMSE:3111.99605211\n"
     ]
    }
   ],
   "source": [
    "gbrt_slow = GradientBoostingRegressor(max_depth=30, n_estimators=200, learning_rate=0.1, random_state=42)\n",
    "gbrt_slow.fit(train_X_make, train_Y.values.ravel())\n",
    "carSales_predictions = gbrt_slow.predict(test_X_make)\n",
    "gbrt_slow_mse = mean_squared_error(np.exp(test_Y), np.exp(carSales_predictions))\n",
    "gbrt_slow_rmse = np.sqrt(gbrt_slow_mse)\n",
    "print(\"Gradient Boosting Regressor SLOW RMSE:\"+str(gbrt_slow_rmse))"
   ]
  },
  {
   "cell_type": "code",
   "execution_count": null,
   "metadata": {},
   "outputs": [],
   "source": [
    "param_grid = [\n",
    "    # try 12 (3×4) combinations of hyperparameters\n",
    "    {'n_estimators': [100, 200, 300], 'max_depth': [20, 30, 40]},\n",
    "    # then try 6 (2×3) combinations with bootstrap set as False\n",
    "    #{'bootstrap': [False], 'n_estimators': [100,200], 'max_depth': [20, 30, 40]},\n",
    "  ]\n",
    "\n",
    "gbrt_reg = GradientBoostingRegressor(random_state=42, learning_rate=0.1)\n",
    "# train across 5 folds, that's a total of (12+6)*5=90 rounds of training \n",
    "grid_search_gbrt = GridSearchCV(gbrt_reg, param_grid, cv=5,\n",
    "                           scoring='neg_mean_squared_error', return_train_score=True)\n",
    "grid_search_gbrt.fit(train_X_make, train_Y.values.ravel())\n",
    "print(\"BEST PARAMETERS FOR GRADIENT BOOSTING REGRESSOR IS:\")\n",
    "grid_search_gbrt.best_params_"
   ]
  },
  {
   "cell_type": "markdown",
   "metadata": {},
   "source": [
    "This shows the best fit is given by RandomForestRegressor."
   ]
  },
  {
   "cell_type": "markdown",
   "metadata": {},
   "source": [
    "We now try Deep Learning technique and compare the RMSE. We use keras with tensorflow backend and then repeat the same expt with cntk backend."
   ]
  },
  {
   "cell_type": "code",
   "execution_count": 3,
   "metadata": {},
   "outputs": [
    {
     "name": "stdout",
     "output_type": "stream",
     "text": [
      "_________________________________________________________________\n",
      "Layer (type)                 Output Shape              Param #   \n",
      "=================================================================\n",
      "dense_1 (Dense)              (None, 50)                3300      \n",
      "_________________________________________________________________\n",
      "dense_2 (Dense)              (None, 30)                1530      \n",
      "_________________________________________________________________\n",
      "dense_3 (Dense)              (None, 1)                 31        \n",
      "=================================================================\n",
      "Total params: 4,861\n",
      "Trainable params: 4,861\n",
      "Non-trainable params: 0\n",
      "_________________________________________________________________\n"
     ]
    }
   ],
   "source": [
    "model = Sequential()\n",
    "\n",
    "#We use two hidden layers with 50 and 30 units with Relu activation, and no activation in the output layer, since \n",
    "#we want to predict the car price.\n",
    "model.add(Dense(50,input_dim=(train_X_make.shape[1]),activation='relu'))\n",
    "model.add(Dense(30,activation='relu'))\n",
    "model.add(Dense(1))\n",
    "model.summary()"
   ]
  },
  {
   "cell_type": "code",
   "execution_count": 4,
   "metadata": {
    "collapsed": true
   },
   "outputs": [],
   "source": [
    "myOptimizer = optimizers.Adam(lr=0.01, beta_1=0.9, beta_2=0.999, epsilon=0.01, decay=0.0)\n",
    "model.compile(loss='mean_squared_error', optimizer=myOptimizer, metrics=['mse'])\n",
    "history = model.fit(train_X_make, train_Y, epochs=200,  validation_data=(test_X_make,test_Y), batch_size=5, verbose=0)"
   ]
  },
  {
   "cell_type": "code",
   "execution_count": 5,
   "metadata": {},
   "outputs": [
    {
     "data": {
      "image/png": "[encoded data removed]",
      "text/plain": [
       "<matplotlib.figure.Figure at 0x259e5b65400>"
      ]
     },
     "metadata": {},
     "output_type": "display_data"
    }
   ],
   "source": [
    "plt.plot(history.history['loss'], color = 'blue')\n",
    "plt.plot(history.history['val_loss'], color=  'red')\n",
    "plt.title('model loss')\n",
    "plt.ylabel('loss')\n",
    "plt.xlabel('epoch')\n",
    "plt.legend(['train', 'test'], loc='upper left')\n",
    "plt.show()"
   ]
  },
  {
   "cell_type": "code",
   "execution_count": 6,
   "metadata": {},
   "outputs": [
    {
     "name": "stdout",
     "output_type": "stream",
     "text": [
      "Deep Learing RMSE with two hidden layers:3490.4683134\n"
     ]
    }
   ],
   "source": [
    "carSales_predictions = model.predict(test_X_make)\n",
    "dl_mse = mean_squared_error(np.exp(test_Y), np.exp(carSales_predictions))\n",
    "dl_rmse = np.sqrt(dl_mse)\n",
    "print(\"Deep Learing RMSE with two hidden layers:\"+str(dl_rmse))"
   ]
  },
  {
   "cell_type": "markdown",
   "metadata": {},
   "source": [
    "We try the same with backend as cntk, we change backend=\"cntk\" in keras.json and rerun the expt"
   ]
  },
  {
   "cell_type": "code",
   "execution_count": 6,
   "metadata": {},
   "outputs": [
    {
     "name": "stdout",
     "output_type": "stream",
     "text": [
      "4624.50567544\n"
     ]
    },
    {
     "name": "stderr",
     "output_type": "stream",
     "text": [
      "C:\\Anaconda\\lib\\site-packages\\cntk\\core.py:361: UserWarning: your data is of type \"float64\", but your input variable (uid \"Input4\") expects \"<class 'numpy.float32'>\". Please convert your data beforehand to speed up training.\n",
      "  (sample.dtype, var.uid, str(var.dtype)))\n"
     ]
    }
   ],
   "source": [
    "carSales_predictions = model.predict(test_X_make)\n",
    "dl_mse = mean_squared_error(np.exp(test_Y), np.exp(carSales_predictions))\n",
    "dl_rmse = np.sqrt(dl_mse)\n",
    "print(dl_rmse)"
   ]
  },
  {
   "cell_type": "markdown",
   "metadata": {},
   "source": [
    "We try different parameters of Deep Learning to fit the problem better"
   ]
  },
  {
   "cell_type": "code",
   "execution_count": 7,
   "metadata": {},
   "outputs": [
    {
     "name": "stdout",
     "output_type": "stream",
     "text": [
      "_________________________________________________________________\n",
      "Layer (type)                 Output Shape              Param #   \n",
      "=================================================================\n",
      "dense_4 (Dense)              (None, 50)                3300      \n",
      "_________________________________________________________________\n",
      "dense_5 (Dense)              (None, 20)                1020      \n",
      "_________________________________________________________________\n",
      "dense_6 (Dense)              (None, 10)                210       \n",
      "_________________________________________________________________\n",
      "dense_7 (Dense)              (None, 1)                 11        \n",
      "=================================================================\n",
      "Total params: 4,541\n",
      "Trainable params: 4,541\n",
      "Non-trainable params: 0\n",
      "_________________________________________________________________\n"
     ]
    }
   ],
   "source": [
    "model = Sequential()\n",
    "model.add(Dense(50,input_dim=(train_X_make.shape[1]),activation='relu'))\n",
    "model.add(Dense(20,activation='relu'))\n",
    "model.add(Dense(10,activation='relu'))\n",
    "model.add(Dense(1))\n",
    "model.summary()"
   ]
  },
  {
   "cell_type": "code",
   "execution_count": 8,
   "metadata": {
    "collapsed": true
   },
   "outputs": [],
   "source": [
    "myOptimizer = optimizers.Adam(lr=0.01, beta_1=0.9, beta_2=0.999, epsilon=0.01, decay=0.0)\n",
    "model.compile(loss='mean_squared_error', optimizer=myOptimizer, metrics=['mse'])\n",
    "history = model.fit(train_X_make, train_Y, epochs=300,  validation_data=(test_X_make,test_Y), batch_size=10, verbose=0)"
   ]
  },
  {
   "cell_type": "code",
   "execution_count": 9,
   "metadata": {},
   "outputs": [
    {
     "name": "stdout",
     "output_type": "stream",
     "text": [
      "Deep Learing RMSE with three hidden layers:2748.39994063\n"
     ]
    }
   ],
   "source": [
    "carSales_predictions = model.predict(test_X_make)\n",
    "dl_mse = mean_squared_error(np.exp(test_Y), np.exp(carSales_predictions))\n",
    "dl_rmse = np.sqrt(dl_mse)\n",
    "print(\"Deep Learing RMSE with three hidden layers:\"+str(dl_rmse))"
   ]
  },
  {
   "cell_type": "code",
   "execution_count": 10,
   "metadata": {},
   "outputs": [
    {
     "name": "stdout",
     "output_type": "stream",
     "text": [
      "_________________________________________________________________\n",
      "Layer (type)                 Output Shape              Param #   \n",
      "=================================================================\n",
      "dense_8 (Dense)              (None, 20)                1320      \n",
      "_________________________________________________________________\n",
      "dense_9 (Dense)              (None, 1)                 21        \n",
      "=================================================================\n",
      "Total params: 1,341\n",
      "Trainable params: 1,341\n",
      "Non-trainable params: 0\n",
      "_________________________________________________________________\n"
     ]
    }
   ],
   "source": [
    "model = Sequential()\n",
    "model.add(Dense(20,input_dim=(train_X_make.shape[1]),activation='relu'))\n",
    "model.add(Dense(1))\n",
    "model.summary()"
   ]
  },
  {
   "cell_type": "code",
   "execution_count": 11,
   "metadata": {
    "collapsed": true
   },
   "outputs": [],
   "source": [
    "myOptimizer = optimizers.Adam(lr=0.01, beta_1=0.9, beta_2=0.999, epsilon=0.01, decay=0.0)\n",
    "model.compile(loss='mean_squared_error', optimizer=myOptimizer, metrics=['mse'])\n",
    "history = model.fit(train_X_make, train_Y, epochs=200,  validation_data=(test_X_make,test_Y), batch_size=10, verbose=0)"
   ]
  },
  {
   "cell_type": "code",
   "execution_count": 12,
   "metadata": {},
   "outputs": [
    {
     "name": "stdout",
     "output_type": "stream",
     "text": [
      "Deep Learing RMSE with one hidden layer:3934.8550403\n"
     ]
    }
   ],
   "source": [
    "carSales_predictions = model.predict(test_X_make)\n",
    "dl_mse = mean_squared_error(np.exp(test_Y), np.exp(carSales_predictions))\n",
    "dl_rmse = np.sqrt(dl_mse)\n",
    "print(\"Deep Learing RMSE with one hidden layer:\"+str(dl_rmse))"
   ]
  },
  {
   "cell_type": "markdown",
   "metadata": {},
   "source": [
    "We conclude three hidden layers configuration is the best so far."
   ]
  },
  {
   "cell_type": "markdown",
   "metadata": {},
   "source": [
    "We now try XGBRegressor, a latest technique. We start by default setting and then use best parameter for n_estimator by trying number of values"
   ]
  },
  {
   "cell_type": "code",
   "execution_count": 13,
   "metadata": {},
   "outputs": [
    {
     "data": {
      "text/plain": [
       "XGBRegressor(base_score=0.5, booster='gbtree', colsample_bylevel=1,\n",
       "       colsample_bytree=1, gamma=0, learning_rate=0.1, max_delta_step=0,\n",
       "       max_depth=3, min_child_weight=1, missing=None, n_estimators=100,\n",
       "       n_jobs=1, nthread=None, objective='reg:linear', random_state=0,\n",
       "       reg_alpha=0, reg_lambda=1, scale_pos_weight=1, seed=None,\n",
       "       silent=True, subsample=1)"
      ]
     },
     "execution_count": 13,
     "metadata": {},
     "output_type": "execute_result"
    }
   ],
   "source": [
    "xgb_model = XGBRegressor() \n",
    "xgb_model.fit(train_X_make, train_Y)\n"
   ]
  },
  {
   "cell_type": "code",
   "execution_count": 14,
   "metadata": {},
   "outputs": [
    {
     "name": "stdout",
     "output_type": "stream",
     "text": [
      "XGB RMSE:3393.44100697\n"
     ]
    }
   ],
   "source": [
    "carSales_predictions = xgb_model.predict(test_X_make)\n",
    "xgb_mse = mean_squared_error(np.exp(test_Y), np.exp(carSales_predictions))\n",
    "xgb_rmse = np.sqrt(xgb_mse)\n",
    "print(\"XGB RMSE:\"+str(xgb_rmse))"
   ]
  },
  {
   "cell_type": "code",
   "execution_count": 16,
   "metadata": {},
   "outputs": [
    {
     "data": {
      "text/plain": [
       "XGBRegressor(base_score=0.5, booster='gbtree', colsample_bylevel=1,\n",
       "       colsample_bytree=1, gamma=0, learning_rate=0.1, max_delta_step=0,\n",
       "       max_depth=3, min_child_weight=1, missing=None, n_estimators=350,\n",
       "       n_jobs=1, nthread=None, objective='reg:linear', random_state=0,\n",
       "       reg_alpha=0, reg_lambda=1, scale_pos_weight=1, seed=None,\n",
       "       silent=True, subsample=1)"
      ]
     },
     "execution_count": 16,
     "metadata": {},
     "output_type": "execute_result"
    }
   ],
   "source": [
    "xgb_model = XGBRegressor(n_estimators=350) \n",
    "xgb_model.fit(train_X_make, train_Y)"
   ]
  },
  {
   "cell_type": "code",
   "execution_count": 17,
   "metadata": {},
   "outputs": [
    {
     "name": "stdout",
     "output_type": "stream",
     "text": [
      "XGB RMSE, with n_estmators=350:2833.7119292\n"
     ]
    }
   ],
   "source": [
    "carSales_predictions = xgb_model.predict(test_X_make)\n",
    "xgb_mse = mean_squared_error(np.exp(test_Y), np.exp(carSales_predictions))\n",
    "xgb_rmse = np.sqrt(xgb_mse)\n",
    "print(\"XGB RMSE, with n_estmators=350:\"+str(xgb_rmse))"
   ]
  },
  {
   "cell_type": "code",
   "execution_count": 19,
   "metadata": {},
   "outputs": [
    {
     "data": {
      "text/plain": [
       "XGBRegressor(base_score=0.5, booster='gbtree', colsample_bylevel=1,\n",
       "       colsample_bytree=1, gamma=0, learning_rate=0.1, max_delta_step=0,\n",
       "       max_depth=5, min_child_weight=1, missing=None, n_estimators=350,\n",
       "       n_jobs=1, nthread=None, objective='reg:linear', random_state=0,\n",
       "       reg_alpha=0, reg_lambda=1, scale_pos_weight=1, seed=None,\n",
       "       silent=True, subsample=1)"
      ]
     },
     "execution_count": 19,
     "metadata": {},
     "output_type": "execute_result"
    }
   ],
   "source": [
    "xgb_model = XGBRegressor(n_estimators=350, max_depth=5) \n",
    "xgb_model.fit(train_X_make, train_Y)"
   ]
  },
  {
   "cell_type": "code",
   "execution_count": 20,
   "metadata": {},
   "outputs": [
    {
     "name": "stdout",
     "output_type": "stream",
     "text": [
      "XGB RMSE, with n_estmators=350,max_depth=5:2667.5184859\n"
     ]
    }
   ],
   "source": [
    "carSales_predictions = xgb_model.predict(test_X_make)\n",
    "xgb_mse = mean_squared_error(np.exp(test_Y), np.exp(carSales_predictions))\n",
    "xgb_rmse = np.sqrt(xgb_mse)\n",
    "print(\"XGB RMSE, with n_estmators=350,max_depth=5:\"+str(xgb_rmse))"
   ]
  },
  {
   "cell_type": "code",
   "execution_count": 21,
   "metadata": {},
   "outputs": [
    {
     "data": {
      "text/plain": [
       "XGBRegressor(base_score=0.5, booster='gbtree', colsample_bylevel=1,\n",
       "       colsample_bytree=1, gamma=0, learning_rate=0.1, max_delta_step=0,\n",
       "       max_depth=10, min_child_weight=1, missing=None, n_estimators=350,\n",
       "       n_jobs=1, nthread=None, objective='reg:linear', random_state=0,\n",
       "       reg_alpha=0, reg_lambda=1, scale_pos_weight=1, seed=None,\n",
       "       silent=True, subsample=1)"
      ]
     },
     "execution_count": 21,
     "metadata": {},
     "output_type": "execute_result"
    }
   ],
   "source": [
    "xgb_model = XGBRegressor(n_estimators=350, max_depth=10) \n",
    "xgb_model.fit(train_X_make, train_Y)"
   ]
  },
  {
   "cell_type": "code",
   "execution_count": 22,
   "metadata": {},
   "outputs": [
    {
     "name": "stdout",
     "output_type": "stream",
     "text": [
      "XGB RMSE, with n_estmators=350,max_depth=10:2991.35951284\n"
     ]
    }
   ],
   "source": [
    "carSales_predictions = xgb_model.predict(test_X_make)\n",
    "xgb_mse = mean_squared_error(np.exp(test_Y), np.exp(carSales_predictions))\n",
    "xgb_rmse = np.sqrt(xgb_mse)\n",
    "print(\"XGB RMSE, with n_estmators=350,max_depth=10:\"+str(xgb_rmse))"
   ]
  },
  {
   "cell_type": "markdown",
   "metadata": {},
   "source": [
    "We conclude the setting of n_estimators=350 and max_depth=5 works best in this case, and this model is the best amongst all the models compared."
   ]
  },
  {
   "cell_type": "markdown",
   "metadata": {},
   "source": [
    "We now calculate and display feature importances from the XGBoost model "
   ]
  },
  {
   "cell_type": "code",
   "execution_count": 23,
   "metadata": {},
   "outputs": [
    {
     "name": "stdout",
     "output_type": "stream",
     "text": [
      "[  2.43807226e-01   2.83265948e-01   1.46350861e-01   1.27794407e-03\n",
      "   1.75060832e-05   3.43119237e-03   8.75304162e-04   3.99138685e-03\n",
      "   1.13789539e-03   4.02639911e-04   3.50121663e-05   9.97846713e-04\n",
      "   0.00000000e+00   5.74199529e-03   6.82737271e-04   1.01535278e-03\n",
      "   4.90170345e-03   2.92351586e-03   3.88635043e-03   5.26933093e-03\n",
      "   3.17560360e-02   5.25182513e-05   6.96742116e-03   1.75060835e-04\n",
      "   1.40573848e-02   1.71209499e-02   5.37436781e-03   6.51226286e-03\n",
      "   1.41624212e-02   7.42257945e-03   5.14678843e-03   8.59548710e-03\n",
      "   1.59305357e-03   1.15365088e-02   1.07662417e-02   2.66092457e-03\n",
      "   1.08537718e-03   8.10531620e-03   1.45300489e-03   8.66551138e-03\n",
      "   6.47725072e-03   8.14032834e-03   3.43119237e-03   1.17290753e-03\n",
      "   3.23862536e-03   1.48801710e-02   4.91920952e-03   1.11163631e-02\n",
      "   3.95637471e-03   5.63695887e-03   1.03285897e-03   9.31323599e-03\n",
      "   2.52087601e-03   6.56478107e-03   5.88204386e-03   6.21465966e-03\n",
      "   6.37221429e-03   6.21465966e-03   2.66092457e-03   1.59305357e-03\n",
      "   6.10962324e-03   1.80312654e-03   1.57554750e-03   2.95852800e-03\n",
      "   2.99354014e-03]\n"
     ]
    },
    {
     "data": {
      "image/png": "[encoded data removed]",
      "text/plain": [
       "<matplotlib.figure.Figure at 0x259e7cbc4a8>"
      ]
     },
     "metadata": {},
     "output_type": "display_data"
    }
   ],
   "source": [
    "print(xgb_model.feature_importances_)\n",
    "# plot\n",
    "plt.bar(range(len(xgb_model.feature_importances_)), xgb_model.feature_importances_)\n",
    "plt.show()"
   ]
  },
  {
   "cell_type": "markdown",
   "metadata": {},
   "source": [
    "We see that the numerical features, Engine HP, Age, City MPG has the highest importances, followed by categorical features. Among the categorical\n",
    "features we find the Transmission type, and Size, and Make have high importances. We drop the Engine Cylinder from Train and Test data and fit our model again."
   ]
  },
  {
   "cell_type": "code",
   "execution_count": 24,
   "metadata": {},
   "outputs": [
    {
     "name": "stdout",
     "output_type": "stream",
     "text": [
      "65\n",
      "57\n"
     ]
    }
   ],
   "source": [
    "print(train_X_make.shape[1])\n",
    "train_X_make_upd = np.delete(train_X_make,[4,5,6,7,8,9,10,11],1) # we drop the 8 columns after the first 3 numeric ones\n",
    "print(train_X_make_upd.shape[1])"
   ]
  },
  {
   "cell_type": "code",
   "execution_count": 25,
   "metadata": {
    "collapsed": true
   },
   "outputs": [],
   "source": [
    "test_X_make_upd = np.delete(test_X_make,[4,5,6,7,8,9,10,11],1)"
   ]
  },
  {
   "cell_type": "code",
   "execution_count": 27,
   "metadata": {},
   "outputs": [
    {
     "data": {
      "text/plain": [
       "XGBRegressor(base_score=0.5, booster='gbtree', colsample_bylevel=1,\n",
       "       colsample_bytree=1, gamma=0, learning_rate=0.1, max_delta_step=0,\n",
       "       max_depth=5, min_child_weight=1, missing=None, n_estimators=350,\n",
       "       n_jobs=1, nthread=None, objective='reg:linear', random_state=0,\n",
       "       reg_alpha=0, reg_lambda=1, scale_pos_weight=1, seed=None,\n",
       "       silent=True, subsample=1)"
      ]
     },
     "execution_count": 27,
     "metadata": {},
     "output_type": "execute_result"
    }
   ],
   "source": [
    "xgb_model = XGBRegressor(n_estimators=350, max_depth=5) \n",
    "xgb_model.fit(train_X_make_upd, train_Y)"
   ]
  },
  {
   "cell_type": "code",
   "execution_count": 28,
   "metadata": {},
   "outputs": [
    {
     "name": "stdout",
     "output_type": "stream",
     "text": [
      "XGB RMSE, with n_estmators=350,max_depth=5:2683.96022928\n"
     ]
    }
   ],
   "source": [
    "carSales_predictions = xgb_model.predict(test_X_make_upd)\n",
    "xgb_mse = mean_squared_error(np.exp(test_Y), np.exp(carSales_predictions))\n",
    "xgb_rmse = np.sqrt(xgb_mse)\n",
    "print(\"XGB RMSE, with n_estmators=350,max_depth=5:\"+str(xgb_rmse))"
   ]
  },
  {
   "cell_type": "markdown",
   "metadata": {},
   "source": [
    "We find removing the Engine cylinder categorical variable, does not have any effect on the model. We now try removing the Engine fuel type categorical variable"
   ]
  },
  {
   "cell_type": "code",
   "execution_count": 29,
   "metadata": {},
   "outputs": [
    {
     "name": "stdout",
     "output_type": "stream",
     "text": [
      "65\n",
      "49\n"
     ]
    }
   ],
   "source": [
    "print(train_X_make.shape[1])\n",
    "train_X_make_upd1 = np.delete(train_X_make,[4,5,6,7,8,9,10,11,12,13,14,15,16,17,18,19],1) # we drop the 8 columns after the first 3 numeric ones\n",
    "print(train_X_make_upd1.shape[1])"
   ]
  },
  {
   "cell_type": "code",
   "execution_count": 30,
   "metadata": {
    "collapsed": true
   },
   "outputs": [],
   "source": [
    "test_X_make_upd1 = np.delete(test_X_make,[4,5,6,7,8,9,10,11,12,13,14,15,16,17,18,19],1)"
   ]
  },
  {
   "cell_type": "code",
   "execution_count": 31,
   "metadata": {},
   "outputs": [
    {
     "data": {
      "text/plain": [
       "XGBRegressor(base_score=0.5, booster='gbtree', colsample_bylevel=1,\n",
       "       colsample_bytree=1, gamma=0, learning_rate=0.1, max_delta_step=0,\n",
       "       max_depth=5, min_child_weight=1, missing=None, n_estimators=350,\n",
       "       n_jobs=1, nthread=None, objective='reg:linear', random_state=0,\n",
       "       reg_alpha=0, reg_lambda=1, scale_pos_weight=1, seed=None,\n",
       "       silent=True, subsample=1)"
      ]
     },
     "execution_count": 31,
     "metadata": {},
     "output_type": "execute_result"
    }
   ],
   "source": [
    "xgb_model = XGBRegressor(n_estimators=350, max_depth=5) \n",
    "xgb_model.fit(train_X_make_upd1, train_Y)"
   ]
  },
  {
   "cell_type": "code",
   "execution_count": 35,
   "metadata": {},
   "outputs": [
    {
     "name": "stdout",
     "output_type": "stream",
     "text": [
      "XGB RMSE, with n_estmators=350,max_depth=5:2682.05169176\n",
      "predicted prices\n",
      "[ 21703.92773438  23602.3671875   20006.84179688   1944.84020996\n",
      "  26475.63085938]\n",
      "actual prices\n",
      "         0\n",
      "0  23086.0\n",
      "1  25581.0\n",
      "2  19396.0\n",
      "3   2001.0\n",
      "4  24786.0\n"
     ]
    }
   ],
   "source": [
    "carSales_predictions = xgb_model.predict(test_X_make_upd1)\n",
    "xgb_mse = mean_squared_error(np.exp(test_Y), np.exp(carSales_predictions))\n",
    "xgb_rmse = np.sqrt(xgb_mse)\n",
    "print(\"XGB RMSE, with n_estmators=350,max_depth=5:\"+str(xgb_rmse))\n",
    "print(\"predicted prices\")\n",
    "print(np.exp(carSales_predictions[0:5]))\n",
    "print(\"actual prices\")\n",
    "print(np.exp(test_Y[0:5]))"
   ]
  },
  {
   "cell_type": "code",
   "execution_count": null,
   "metadata": {
    "collapsed": true
   },
   "outputs": [],
   "source": [
    "We find removing the Engine cylinder and Fuel type categorical variables, does not have any effect on the model. \n",
    "We decide to drop the Engine Cylinder and Engine Fuel Type based on this analysis from our original set of parameters.\n",
    "So our final model has the numerical parameters : Engine HP, Age of Car, log City MPG\n",
    "and the categorical parameters : Transmission Type, Driven Wheels, Vehicle Size, Vehicle Style and Make"
   ]
  },
  {
   "cell_type": "code",
   "execution_count": 34,
   "metadata": {},
   "outputs": [],
   "source": [
    "# save model to file\n",
    "pickle.dump(xgb_model, open(\"C:/users/hackuser1/carsales_xgb.pickle.dat\", \"wb\"))\n",
    "\n",
    "\n",
    "# load model from file\n",
    "#loaded_model = pickle.load(open(\"C:/users/hackuser1/carsales_xgb.pickle.dat\", \"rb\"))\n"
   ]
  },
  {
   "cell_type": "code",
   "execution_count": null,
   "metadata": {
    "collapsed": true
   },
   "outputs": [],
   "source": []
  }
 ],
 "metadata": {
  "kernelspec": {
   "display_name": "Python [conda env:Anaconda]",
   "language": "python",
   "name": "conda-env-Anaconda-py"
  },
  "language_info": {
   "codemirror_mode": {
    "name": "ipython",
    "version": 3
   },
   "file_extension": ".py",
   "mimetype": "text/x-python",
   "name": "python",
   "nbconvert_exporter": "python",
   "pygments_lexer": "ipython3",
   "version": "3.6.3"
  }
 },
 "nbformat": 4,
 "nbformat_minor": 2
}
