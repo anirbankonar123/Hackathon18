{
 "cells": [
  {
   "cell_type": "markdown",
   "metadata": {
    "collapsed": true
   },
   "source": [
    "This  notebook is to explore various prediction models from the Used Car Price data \n",
    "at : https://www.kaggle.com/jpayne/852k-used-car-listings/data\n",
    "Various Regression techniques are explored, including \n",
    "Deep Learning techniques and the best approach is selected based on Accuracy"
   ]
  },
  {
   "cell_type": "code",
   "execution_count": 1,
   "metadata": {},
   "outputs": [
    {
     "name": "stderr",
     "output_type": "stream",
     "text": [
      "Using TensorFlow backend.\n"
     ]
    }
   ],
   "source": [
    "#Import all necessary libraries\n",
    "import pickle\n",
    "import pandas as pd\n",
    "import pandas as pd\n",
    "import matplotlib.pyplot as plt\n",
    "from sklearn.model_selection import train_test_split\n",
    "import numpy as np\n",
    "from sklearn.model_selection import StratifiedShuffleSplit\n",
    "from sklearn.preprocessing import Imputer\n",
    "from sklearn.preprocessing import LabelEncoder\n",
    "from sklearn.preprocessing import OneHotEncoder\n",
    "from sklearn.preprocessing import LabelBinarizer\n",
    "from sklearn.base import BaseEstimator, TransformerMixin\n",
    "from sklearn.pipeline import Pipeline\n",
    "from sklearn.preprocessing import StandardScaler\n",
    "from sklearn.preprocessing import MinMaxScaler\n",
    "from sklearn.preprocessing import PolynomialFeatures\n",
    "from pandas.plotting import scatter_matrix\n",
    "\n",
    "from sklearn.linear_model import LinearRegression\n",
    "from sklearn.metrics import mean_squared_error\n",
    "from sklearn.linear_model import SGDRegressor\n",
    "from keras.models import Sequential\n",
    "from keras.layers import Dense   \n",
    "from keras import optimizers\n",
    "\n",
    "from sklearn.tree import DecisionTreeRegressor\n",
    "from sklearn.ensemble import RandomForestRegressor\n",
    "from sklearn.model_selection import cross_val_score\n",
    "from sklearn.ensemble import GradientBoostingRegressor\n",
    "from xgboost import XGBRegressor\n",
    "from sklearn.linear_model import Lasso\n",
    "from sklearn.linear_model import Ridge\n",
    "from sklearn.linear_model import ElasticNet\n",
    "from sklearn.model_selection import GridSearchCV\n",
    "from sklearn.model_selection import StratifiedKFold"
   ]
  },
  {
   "cell_type": "markdown",
   "metadata": {
    "collapsed": true
   },
   "source": [
    "Read the pre-processed pkl files"
   ]
  },
  {
   "cell_type": "code",
   "execution_count": 3,
   "metadata": {},
   "outputs": [
    {
     "name": "stdout",
     "output_type": "stream",
     "text": [
      "(10610, 2)\n",
      "(2653, 2)\n"
     ]
    }
   ],
   "source": [
    "train_X=pd.read_pickle('C:/users/hackuser1/train_X_mileage1.pkl')\n",
    "test_X=pd.read_pickle('C:/users/hackuser1/test_X_mileage1.pkl')\n",
    "train_Y=pd.read_pickle('C:/users/hackuser1/train_Y_mileage1.pkl') \n",
    "test_Y=pd.read_pickle('C:/users/hackuser1/test_Y_mileage1.pkl')\n",
    "#train_Y_log=pd.read_pickle('C:/users/hackuser1/train_Y_mileage_log.pkl') # train Y with log(MSRP)\n",
    "#test_Y_log=pd.read_pickle('C:/users/hackuser1/test_Y_mileage_log.pkl')# testY with log(MSRP)\n",
    "\n",
    "print(train_X.shape)\n",
    "print(test_X.shape)"
   ]
  },
  {
   "cell_type": "markdown",
   "metadata": {},
   "source": [
    "We fit Sklearn LinearRegression and use this to make predictions on the test data and check the RMSE\n",
    "Use train X data with make and without make, and Test Y as MSRP as well as Log MSRP and compare the RMSE values on test data"
   ]
  },
  {
   "cell_type": "code",
   "execution_count": 4,
   "metadata": {},
   "outputs": [
    {
     "data": {
      "text/plain": [
       "LinearRegression(copy_X=True, fit_intercept=True, n_jobs=1, normalize=False)"
      ]
     },
     "execution_count": 4,
     "metadata": {},
     "output_type": "execute_result"
    }
   ],
   "source": [
    "#fit train data with Price, as is\n",
    "lin_reg = LinearRegression()\n",
    "lin_reg.fit(train_X, train_Y)\n"
   ]
  },
  {
   "cell_type": "code",
   "execution_count": 5,
   "metadata": {},
   "outputs": [
    {
     "name": "stdout",
     "output_type": "stream",
     "text": [
      "rmse with Price, as is:5888.76373029\n"
     ]
    }
   ],
   "source": [
    "carSales_predictions = lin_reg.predict(test_X)\n",
    "lin_mse = mean_squared_error(test_Y, carSales_predictions)\n",
    "lin_rmse = np.sqrt(lin_mse)\n",
    "print(\"rmse with Price, as is:\"+str(lin_rmse))\n"
   ]
  },
  {
   "cell_type": "markdown",
   "metadata": {
    "collapsed": true
   },
   "source": [
    "We observe the data with log Price gives similar results. We use Price, as is and use this data to fit subsequent algorithms."
   ]
  },
  {
   "cell_type": "code",
   "execution_count": 6,
   "metadata": {},
   "outputs": [
    {
     "name": "stdout",
     "output_type": "stream",
     "text": [
      "predicted prices\n",
      "[[ 32391.48137159]\n",
      " [ 34875.34232655]\n",
      " [ 37358.23387611]\n",
      " [ 34875.34232655]\n",
      " [ 32391.48137159]]\n",
      "actual prices\n",
      "       0\n",
      "0  27695\n",
      "1  37009\n",
      "2  30250\n",
      "3  32995\n",
      "4  26328\n"
     ]
    }
   ],
   "source": [
    "print(\"predicted prices\")\n",
    "print(carSales_predictions[0:5])\n",
    "print(\"actual prices\")\n",
    "print(test_Y[0:5])"
   ]
  },
  {
   "cell_type": "code",
   "execution_count": 7,
   "metadata": {},
   "outputs": [
    {
     "data": {
      "text/plain": [
       "DecisionTreeRegressor(criterion='mse', max_depth=None, max_features=None,\n",
       "           max_leaf_nodes=None, min_impurity_decrease=0.0,\n",
       "           min_impurity_split=None, min_samples_leaf=1,\n",
       "           min_samples_split=2, min_weight_fraction_leaf=0.0,\n",
       "           presort=False, random_state=None, splitter='best')"
      ]
     },
     "execution_count": 7,
     "metadata": {},
     "output_type": "execute_result"
    }
   ],
   "source": [
    "tree_reg = DecisionTreeRegressor()\n",
    "tree_reg.fit(train_X,train_Y)"
   ]
  },
  {
   "cell_type": "code",
   "execution_count": 8,
   "metadata": {},
   "outputs": [
    {
     "name": "stdout",
     "output_type": "stream",
     "text": [
      "Decision Tree RMSE:5625.18190169\n"
     ]
    }
   ],
   "source": [
    "carSales_predictions = tree_reg.predict(test_X)\n",
    "tree_mse = mean_squared_error(test_Y, carSales_predictions)\n",
    "tree_rmse = np.sqrt(tree_mse)\n",
    "print(\"Decision Tree RMSE:\"+str(tree_rmse))"
   ]
  },
  {
   "cell_type": "code",
   "execution_count": 9,
   "metadata": {},
   "outputs": [
    {
     "data": {
      "text/plain": [
       "RandomForestRegressor(bootstrap=True, criterion='mse', max_depth=None,\n",
       "           max_features='auto', max_leaf_nodes=None,\n",
       "           min_impurity_decrease=0.0, min_impurity_split=None,\n",
       "           min_samples_leaf=1, min_samples_split=2,\n",
       "           min_weight_fraction_leaf=0.0, n_estimators=10, n_jobs=1,\n",
       "           oob_score=False, random_state=None, verbose=0, warm_start=False)"
      ]
     },
     "execution_count": 9,
     "metadata": {},
     "output_type": "execute_result"
    }
   ],
   "source": [
    "forest_reg_make = RandomForestRegressor()\n",
    "forest_reg_make.fit(train_X,train_Y.values.ravel())"
   ]
  },
  {
   "cell_type": "code",
   "execution_count": 10,
   "metadata": {},
   "outputs": [
    {
     "name": "stdout",
     "output_type": "stream",
     "text": [
      "Random Forest Regressor RMSE:5626.0913359\n",
      "predicted prices\n",
      "[ 31428.60267462  36511.22743951  38861.93389933  36511.22743951\n",
      "  31428.60267462]\n",
      "actual prices\n",
      "       0\n",
      "0  27695\n",
      "1  37009\n",
      "2  30250\n",
      "3  32995\n",
      "4  26328\n"
     ]
    }
   ],
   "source": [
    "carSales_predictions = forest_reg_make.predict(test_X)\n",
    "forest_mse = mean_squared_error(test_Y, carSales_predictions)\n",
    "forest_rmse = np.sqrt(forest_mse)\n",
    "print(\"Random Forest Regressor RMSE:\"+str(forest_rmse))\n",
    "print(\"predicted prices\")\n",
    "print(carSales_predictions[0:5])\n",
    "print(\"actual prices\")\n",
    "print(test_Y[0:5])"
   ]
  },
  {
   "cell_type": "code",
   "execution_count": 11,
   "metadata": {},
   "outputs": [
    {
     "name": "stdout",
     "output_type": "stream",
     "text": [
      "Gradient Boosting Regressor RMSE:5625.18190169\n"
     ]
    }
   ],
   "source": [
    "gbrt = GradientBoostingRegressor(max_depth=8, n_estimators=3, learning_rate=1.0, random_state=42)\n",
    "gbrt.fit(train_X, train_Y.values.ravel())\n",
    "carSales_predictions = gbrt.predict(test_X)\n",
    "gbrt_mse = mean_squared_error(test_Y, carSales_predictions)\n",
    "gbrt_rmse = np.sqrt(gbrt_mse)\n",
    "print(\"Gradient Boosting Regressor RMSE:\"+str(gbrt_rmse))"
   ]
  },
  {
   "cell_type": "code",
   "execution_count": 12,
   "metadata": {},
   "outputs": [
    {
     "name": "stdout",
     "output_type": "stream",
     "text": [
      "Gradient Boosting Regressor Slow RMSE:5625.18190155\n"
     ]
    }
   ],
   "source": [
    "gbrt_slow = GradientBoostingRegressor(max_depth=30, n_estimators=200, learning_rate=0.1, random_state=42)\n",
    "gbrt_slow.fit(train_X, train_Y.values.ravel())\n",
    "carSales_predictions = gbrt_slow.predict(test_X)\n",
    "gbrt_mse = mean_squared_error(test_Y, carSales_predictions)\n",
    "gbrt_rmse = np.sqrt(gbrt_mse)\n",
    "print(\"Gradient Boosting Regressor Slow RMSE:\"+str(gbrt_rmse))"
   ]
  },
  {
   "cell_type": "markdown",
   "metadata": {},
   "source": [
    "We now try Deep Learning technique and compare the RMSE. We use keras with tensorflow backend and then repeat the same expt with cntk backend."
   ]
  },
  {
   "cell_type": "code",
   "execution_count": 13,
   "metadata": {},
   "outputs": [
    {
     "name": "stdout",
     "output_type": "stream",
     "text": [
      "_________________________________________________________________\n",
      "Layer (type)                 Output Shape              Param #   \n",
      "=================================================================\n",
      "dense_1 (Dense)              (None, 20)                60        \n",
      "_________________________________________________________________\n",
      "dense_2 (Dense)              (None, 10)                210       \n",
      "_________________________________________________________________\n",
      "dense_3 (Dense)              (None, 1)                 11        \n",
      "=================================================================\n",
      "Total params: 281\n",
      "Trainable params: 281\n",
      "Non-trainable params: 0\n",
      "_________________________________________________________________\n"
     ]
    }
   ],
   "source": [
    "model = Sequential()\n",
    "\n",
    "#We use two hidden layers with 50 and 30 units with Relu activation, and no activation in the output layer, since \n",
    "#we want to predict the car price.\n",
    "model.add(Dense(20,input_dim=(train_X.shape[1]),activation='relu'))\n",
    "model.add(Dense(10,activation='relu'))\n",
    "model.add(Dense(1))\n",
    "model.summary()"
   ]
  },
  {
   "cell_type": "code",
   "execution_count": 14,
   "metadata": {},
   "outputs": [
    {
     "name": "stdout",
     "output_type": "stream",
     "text": [
      "Epoch 1/150\n",
      " - 1s - loss: 119965046.6315 - mean_squared_error: 119965046.6315\n",
      "Epoch 2/150\n",
      " - 1s - loss: 34866522.3440 - mean_squared_error: 34866522.3440\n",
      "Epoch 3/150\n",
      " - 1s - loss: 34863451.4571 - mean_squared_error: 34863451.4571\n",
      "Epoch 4/150\n",
      " - 1s - loss: 34621240.3336 - mean_squared_error: 34621240.3336\n",
      "Epoch 5/150\n",
      " - 1s - loss: 34721794.9199 - mean_squared_error: 34721794.9199\n",
      "Epoch 6/150\n",
      " - 1s - loss: 34686824.9472 - mean_squared_error: 34686824.9472\n",
      "Epoch 7/150\n",
      " - 1s - loss: 34668757.8077 - mean_squared_error: 34668757.8077\n",
      "Epoch 8/150\n",
      " - 1s - loss: 34488791.9887 - mean_squared_error: 34488791.9887\n",
      "Epoch 9/150\n",
      " - 1s - loss: 34560526.1942 - mean_squared_error: 34560526.1942\n",
      "Epoch 10/150\n",
      " - 1s - loss: 34517696.7465 - mean_squared_error: 34517696.7465\n",
      "Epoch 11/150\n",
      " - 1s - loss: 34527739.9736 - mean_squared_error: 34527739.9736\n",
      "Epoch 12/150\n",
      " - 1s - loss: 34858032.9208 - mean_squared_error: 34858032.9208\n",
      "Epoch 13/150\n",
      " - 1s - loss: 34558535.9868 - mean_squared_error: 34558535.9868\n",
      "Epoch 14/150\n",
      " - 1s - loss: 34466172.5938 - mean_squared_error: 34466172.5938\n",
      "Epoch 15/150\n",
      " - 1s - loss: 34630035.7276 - mean_squared_error: 34630035.7276\n",
      "Epoch 16/150\n",
      " - 1s - loss: 34606229.6993 - mean_squared_error: 34606229.6993\n",
      "Epoch 17/150\n",
      " - 1s - loss: 34698755.0047 - mean_squared_error: 34698755.0047\n",
      "Epoch 18/150\n",
      " - 1s - loss: 34337133.2564 - mean_squared_error: 34337133.2564\n",
      "Epoch 19/150\n",
      " - 1s - loss: 34468337.9943 - mean_squared_error: 34468337.9943\n",
      "Epoch 20/150\n",
      " - 1s - loss: 34727597.7276 - mean_squared_error: 34727597.7276\n",
      "Epoch 21/150\n",
      " - 1s - loss: 34307873.5834 - mean_squared_error: 34307873.5834\n",
      "Epoch 22/150\n",
      " - 1s - loss: 34483905.9604 - mean_squared_error: 34483905.9604\n",
      "Epoch 23/150\n",
      " - 1s - loss: 34733056.3563 - mean_squared_error: 34733056.3563\n",
      "Epoch 24/150\n",
      " - 1s - loss: 34422258.6051 - mean_squared_error: 34422258.6051\n",
      "Epoch 25/150\n",
      " - 1s - loss: 34335310.9991 - mean_squared_error: 34335310.9991\n",
      "Epoch 26/150\n",
      " - 1s - loss: 35157549.2771 - mean_squared_error: 35157549.2771\n",
      "Epoch 27/150\n",
      " - 1s - loss: 34483273.6051 - mean_squared_error: 34483273.6051\n",
      "Epoch 28/150\n",
      " - 1s - loss: 34334142.2224 - mean_squared_error: 34334142.2224\n",
      "Epoch 29/150\n",
      " - 1s - loss: 34299443.1857 - mean_squared_error: 34299443.1857\n",
      "Epoch 30/150\n",
      " - 1s - loss: 34309001.1970 - mean_squared_error: 34309001.1970\n",
      "Epoch 31/150\n",
      " - 1s - loss: 34396613.9378 - mean_squared_error: 34396613.9378\n",
      "Epoch 32/150\n",
      " - 1s - loss: 34360283.4025 - mean_squared_error: 34360283.4025\n",
      "Epoch 33/150\n",
      " - 1s - loss: 34369323.5646 - mean_squared_error: 34369323.5646\n",
      "Epoch 34/150\n",
      " - 1s - loss: 34438805.9340 - mean_squared_error: 34438805.9340\n",
      "Epoch 35/150\n",
      " - 1s - loss: 34336574.6221 - mean_squared_error: 34336574.6221\n",
      "Epoch 36/150\n",
      " - 1s - loss: 34340200.5071 - mean_squared_error: 34340200.5071\n",
      "Epoch 37/150\n",
      " - 1s - loss: 34660901.4477 - mean_squared_error: 34660901.4477\n",
      "Epoch 38/150\n",
      " - 1s - loss: 34439134.9048 - mean_squared_error: 34439134.9048\n",
      "Epoch 39/150\n",
      " - 1s - loss: 34695524.7474 - mean_squared_error: 34695524.7474\n",
      "Epoch 40/150\n",
      " - 1s - loss: 34389338.9293 - mean_squared_error: 34389338.9293\n",
      "Epoch 41/150\n",
      " - 1s - loss: 34492055.6173 - mean_squared_error: 34492055.6173\n",
      "Epoch 42/150\n",
      " - 1s - loss: 34631991.8982 - mean_squared_error: 34631991.8982\n",
      "Epoch 43/150\n",
      " - 1s - loss: 34442331.0085 - mean_squared_error: 34442331.0085\n",
      "Epoch 44/150\n",
      " - 1s - loss: 34579235.5174 - mean_squared_error: 34579235.5174\n",
      "Epoch 45/150\n",
      " - 1s - loss: 34377911.2856 - mean_squared_error: 34377911.2856\n",
      "Epoch 46/150\n",
      " - 1s - loss: 34426409.3223 - mean_squared_error: 34426409.3223\n",
      "Epoch 47/150\n",
      " - 1s - loss: 34385272.9708 - mean_squared_error: 34385272.9708\n",
      "Epoch 48/150\n",
      " - 1s - loss: 34477909.5457 - mean_squared_error: 34477909.5457\n",
      "Epoch 49/150\n",
      " - 1s - loss: 34340394.2337 - mean_squared_error: 34340394.2337\n",
      "Epoch 50/150\n",
      " - 1s - loss: 34417684.4420 - mean_squared_error: 34417684.4420\n",
      "Epoch 51/150\n",
      " - 1s - loss: 34464523.3233 - mean_squared_error: 34464523.3233\n",
      "Epoch 52/150\n",
      " - 1s - loss: 34329437.0726 - mean_squared_error: 34329437.0726\n",
      "Epoch 53/150\n",
      " - 1s - loss: 34322323.6532 - mean_squared_error: 34322323.6532\n",
      "Epoch 54/150\n",
      " - 1s - loss: 34370723.1574 - mean_squared_error: 34370723.1574\n",
      "Epoch 55/150\n",
      " - 1s - loss: 34381371.2620 - mean_squared_error: 34381371.2620\n",
      "Epoch 56/150\n",
      " - 1s - loss: 34234610.2290 - mean_squared_error: 34234610.2290\n",
      "Epoch 57/150\n",
      " - 0s - loss: 34244032.6352 - mean_squared_error: 34244032.6352\n",
      "Epoch 58/150\n",
      " - 1s - loss: 34347781.4326 - mean_squared_error: 34347781.4326\n",
      "Epoch 59/150\n",
      " - 1s - loss: 34434103.2903 - mean_squared_error: 34434103.2903\n",
      "Epoch 60/150\n",
      " - 1s - loss: 34480770.0283 - mean_squared_error: 34480770.0283\n",
      "Epoch 61/150\n",
      " - 1s - loss: 34199748.4637 - mean_squared_error: 34199748.4637\n",
      "Epoch 62/150\n",
      " - 1s - loss: 34411928.9369 - mean_squared_error: 34411928.9369\n",
      "Epoch 63/150\n",
      " - 1s - loss: 34415592.9614 - mean_squared_error: 34415592.9614\n",
      "Epoch 64/150\n",
      " - 1s - loss: 34225404.0905 - mean_squared_error: 34225404.0905\n",
      "Epoch 65/150\n",
      " - 1s - loss: 34286318.5316 - mean_squared_error: 34286318.5316\n",
      "Epoch 66/150\n",
      " - 1s - loss: 34368474.7917 - mean_squared_error: 34368474.7917\n",
      "Epoch 67/150\n",
      " - 1s - loss: 34356309.4081 - mean_squared_error: 34356309.4081\n",
      "Epoch 68/150\n",
      " - 0s - loss: 34269979.0405 - mean_squared_error: 34269979.0405\n",
      "Epoch 69/150\n",
      " - 0s - loss: 34331279.8096 - mean_squared_error: 34331279.8096\n",
      "Epoch 70/150\n",
      " - 1s - loss: 34622550.2535 - mean_squared_error: 34622550.2535\n",
      "Epoch 71/150\n",
      " - 0s - loss: 34224191.1461 - mean_squared_error: 34224191.1461\n",
      "Epoch 72/150\n",
      " - 1s - loss: 34424825.0735 - mean_squared_error: 34424825.0735\n",
      "Epoch 73/150\n",
      " - 0s - loss: 34277163.9076 - mean_squared_error: 34277163.9076\n",
      "Epoch 74/150\n",
      " - 0s - loss: 34198514.7540 - mean_squared_error: 34198514.7540\n",
      "Epoch 75/150\n",
      " - 1s - loss: 34347814.2714 - mean_squared_error: 34347814.2714\n",
      "Epoch 76/150\n",
      " - 1s - loss: 34230721.8662 - mean_squared_error: 34230721.8662\n",
      "Epoch 77/150\n",
      " - 0s - loss: 34125592.1678 - mean_squared_error: 34125592.1678\n",
      "Epoch 78/150\n",
      " - 1s - loss: 34403051.7719 - mean_squared_error: 34403051.7719\n",
      "Epoch 79/150\n",
      " - 0s - loss: 34198475.9764 - mean_squared_error: 34198475.9764\n",
      "Epoch 80/150\n",
      " - 0s - loss: 34302831.8530 - mean_squared_error: 34302831.8530\n",
      "Epoch 81/150\n",
      " - 0s - loss: 34385164.4326 - mean_squared_error: 34385164.4326\n",
      "Epoch 82/150\n",
      " - 0s - loss: 34224942.1461 - mean_squared_error: 34224942.1461\n",
      "Epoch 83/150\n",
      " - 0s - loss: 34282983.3214 - mean_squared_error: 34282983.3214\n",
      "Epoch 84/150\n",
      " - 0s - loss: 34417471.9722 - mean_squared_error: 34417471.9722\n",
      "Epoch 85/150\n",
      " - 1s - loss: 34168670.5269 - mean_squared_error: 34168670.5269\n",
      "Epoch 86/150\n",
      " - 0s - loss: 34198796.8822 - mean_squared_error: 34198796.8822\n",
      "Epoch 87/150\n",
      " - 1s - loss: 34281037.9604 - mean_squared_error: 34281037.9604\n",
      "Epoch 88/150\n",
      " - 1s - loss: 34093597.0650 - mean_squared_error: 34093597.0650\n",
      "Epoch 89/150\n",
      " - 1s - loss: 34281732.4241 - mean_squared_error: 34281732.4241\n",
      "Epoch 90/150\n",
      " - 1s - loss: 34247480.8417 - mean_squared_error: 34247480.8417\n",
      "Epoch 91/150\n",
      " - 0s - loss: 34246884.6371 - mean_squared_error: 34246884.6371\n",
      "Epoch 92/150\n",
      " - 1s - loss: 34305886.6164 - mean_squared_error: 34305886.6164\n",
      "Epoch 93/150\n",
      " - 1s - loss: 34247922.4128 - mean_squared_error: 34247922.4128\n",
      "Epoch 94/150\n",
      " - 1s - loss: 34321818.5693 - mean_squared_error: 34321818.5693\n",
      "Epoch 95/150\n",
      " - 1s - loss: 34107754.8049 - mean_squared_error: 34107754.8049\n",
      "Epoch 96/150\n",
      " - 1s - loss: 34120215.9698 - mean_squared_error: 34120215.9698\n",
      "Epoch 97/150\n",
      " - 1s - loss: 34026592.2319 - mean_squared_error: 34026592.2319\n",
      "Epoch 98/150\n",
      " - 1s - loss: 34347986.2375 - mean_squared_error: 34347986.2375\n",
      "Epoch 99/150\n",
      " - 0s - loss: 34363739.2667 - mean_squared_error: 34363739.2667\n",
      "Epoch 100/150\n",
      " - 0s - loss: 34430264.8501 - mean_squared_error: 34430264.8501\n",
      "Epoch 101/150\n",
      " - 0s - loss: 34218955.6013 - mean_squared_error: 34218955.6013\n",
      "Epoch 102/150\n",
      " - 1s - loss: 34176857.9566 - mean_squared_error: 34176857.9566\n",
      "Epoch 103/150\n",
      " - 0s - loss: 34191035.4910 - mean_squared_error: 34191035.4910\n",
      "Epoch 104/150\n",
      " - 1s - loss: 34030026.2300 - mean_squared_error: 34030026.2300\n",
      "Epoch 105/150\n",
      " - 1s - loss: 34448379.9425 - mean_squared_error: 34448379.9425\n",
      "Epoch 106/150\n",
      " - 1s - loss: 34370118.1338 - mean_squared_error: 34370118.1338\n",
      "Epoch 107/150\n",
      " - 1s - loss: 34102522.3883 - mean_squared_error: 34102522.3883\n"
     ]
    },
    {
     "name": "stdout",
     "output_type": "stream",
     "text": [
      "Epoch 108/150\n",
      " - 1s - loss: 34225235.8869 - mean_squared_error: 34225235.8869\n",
      "Epoch 109/150\n",
      " - 1s - loss: 34212527.8398 - mean_squared_error: 34212527.8398\n",
      "Epoch 110/150\n",
      " - 0s - loss: 34213199.7163 - mean_squared_error: 34213199.7163\n",
      "Epoch 111/150\n",
      " - 0s - loss: 34193513.0170 - mean_squared_error: 34193513.0170\n",
      "Epoch 112/150\n",
      " - 0s - loss: 34092774.4769 - mean_squared_error: 34092774.4769\n",
      "Epoch 113/150\n",
      " - 0s - loss: 34310360.3497 - mean_squared_error: 34310360.3497\n",
      "Epoch 114/150\n",
      " - 0s - loss: 34510843.9434 - mean_squared_error: 34510843.9434\n",
      "Epoch 115/150\n",
      " - 0s - loss: 34175251.5165 - mean_squared_error: 34175251.5165\n",
      "Epoch 116/150\n",
      " - 0s - loss: 34084221.4948 - mean_squared_error: 34084221.4948\n",
      "Epoch 117/150\n",
      " - 0s - loss: 34177138.6027 - mean_squared_error: 34177138.6027\n",
      "Epoch 118/150\n",
      " - 1s - loss: 34150718.8765 - mean_squared_error: 34150718.8765\n",
      "Epoch 119/150\n",
      " - 1s - loss: 34196144.5061 - mean_squared_error: 34196144.5061\n",
      "Epoch 120/150\n",
      " - 0s - loss: 34172517.3252 - mean_squared_error: 34172517.3252\n",
      "Epoch 121/150\n",
      " - 1s - loss: 34254887.6494 - mean_squared_error: 34254887.6494\n",
      "Epoch 122/150\n",
      " - 0s - loss: 34155066.4590 - mean_squared_error: 34155066.4590\n",
      "Epoch 123/150\n",
      " - 0s - loss: 34259659.3685 - mean_squared_error: 34259659.3685\n",
      "Epoch 124/150\n",
      " - 1s - loss: 34028997.9274 - mean_squared_error: 34028997.9274\n",
      "Epoch 125/150\n",
      " - 1s - loss: 34047348.5042 - mean_squared_error: 34047348.5042\n",
      "Epoch 126/150\n",
      " - 1s - loss: 34182383.2705 - mean_squared_error: 34182383.2705\n",
      "Epoch 127/150\n",
      " - 1s - loss: 34247680.8483 - mean_squared_error: 34247680.8483\n",
      "Epoch 128/150\n",
      " - 0s - loss: 34220826.2903 - mean_squared_error: 34220826.2903\n",
      "Epoch 129/150\n",
      " - 0s - loss: 34177296.6032 - mean_squared_error: 34177296.6032\n",
      "Epoch 130/150\n",
      " - 0s - loss: 34224918.4863 - mean_squared_error: 34224918.4863\n",
      "Epoch 131/150\n",
      " - 0s - loss: 34112855.8492 - mean_squared_error: 34112855.8492\n",
      "Epoch 132/150\n",
      " - 1s - loss: 34148422.0363 - mean_squared_error: 34148422.0363\n",
      "Epoch 133/150\n",
      " - 0s - loss: 34288954.2394 - mean_squared_error: 34288954.2394\n",
      "Epoch 134/150\n",
      " - 0s - loss: 34368468.1112 - mean_squared_error: 34368468.1112\n",
      "Epoch 135/150\n",
      " - 0s - loss: 34218516.6334 - mean_squared_error: 34218516.6334\n",
      "Epoch 136/150\n",
      " - 0s - loss: 34244289.7606 - mean_squared_error: 34244289.7606\n",
      "Epoch 137/150\n",
      " - 1s - loss: 34366632.6965 - mean_squared_error: 34366632.6965\n",
      "Epoch 138/150\n",
      " - 0s - loss: 34245264.7795 - mean_squared_error: 34245264.7795\n",
      "Epoch 139/150\n",
      " - 0s - loss: 34389667.4364 - mean_squared_error: 34389667.4364\n",
      "Epoch 140/150\n",
      " - 0s - loss: 34075873.5570 - mean_squared_error: 34075873.5570\n",
      "Epoch 141/150\n",
      " - 0s - loss: 34130582.8558 - mean_squared_error: 34130582.8558\n",
      "Epoch 142/150\n",
      " - 0s - loss: 34211773.5269 - mean_squared_error: 34211773.5269\n",
      "Epoch 143/150\n",
      " - 0s - loss: 34165411.2752 - mean_squared_error: 34165411.2752\n",
      "Epoch 144/150\n",
      " - 0s - loss: 34197061.1536 - mean_squared_error: 34197061.1536\n",
      "Epoch 145/150\n",
      " - 0s - loss: 34111788.7663 - mean_squared_error: 34111788.7663\n",
      "Epoch 146/150\n",
      " - 0s - loss: 34199391.5132 - mean_squared_error: 34199391.5132\n",
      "Epoch 147/150\n",
      " - 0s - loss: 34301955.7144 - mean_squared_error: 34301955.7144\n",
      "Epoch 148/150\n",
      " - 0s - loss: 34257943.6418 - mean_squared_error: 34257943.6418\n",
      "Epoch 149/150\n",
      " - 1s - loss: 34337108.8068 - mean_squared_error: 34337108.8068\n",
      "Epoch 150/150\n",
      " - 1s - loss: 34173600.1225 - mean_squared_error: 34173600.1225\n"
     ]
    }
   ],
   "source": [
    "myOptimizer = optimizers.Adam(lr=0.1, beta_1=0.9, beta_2=0.999, epsilon=0.01, decay=0.0)\n",
    "model.compile(loss='mean_squared_error', optimizer=myOptimizer, metrics=['mse'])\n",
    "history = model.fit(train_X, train_Y, epochs=150,  batch_size=20, verbose=2)"
   ]
  },
  {
   "cell_type": "code",
   "execution_count": 15,
   "metadata": {},
   "outputs": [
    {
     "data": {
      "image/png": "[encoded data removed]",
      "text/plain": [
       "<matplotlib.figure.Figure at 0x273c1369630>"
      ]
     },
     "metadata": {},
     "output_type": "display_data"
    }
   ],
   "source": [
    "plt.plot(history.history['loss'], color = 'blue')\n",
    "#plt.plot(history.history['val_loss'], color=  'red')\n",
    "plt.title('model loss')\n",
    "plt.ylabel('loss')\n",
    "plt.xlabel('epoch')\n",
    "plt.legend(['train'], loc='upper left')\n",
    "plt.show()"
   ]
  },
  {
   "cell_type": "code",
   "execution_count": 16,
   "metadata": {},
   "outputs": [
    {
     "name": "stdout",
     "output_type": "stream",
     "text": [
      "Deep Learing RMSE with two hidden layers:5675.83218894\n"
     ]
    }
   ],
   "source": [
    "carSales_predictions = model.predict(test_X)\n",
    "dl_mse = mean_squared_error(test_Y, carSales_predictions)\n",
    "dl_rmse = np.sqrt(dl_mse)\n",
    "print(\"Deep Learing RMSE with two hidden layers:\"+str(dl_rmse))"
   ]
  },
  {
   "cell_type": "markdown",
   "metadata": {},
   "source": [
    "We try different parameters of Deep Learning to fit the problem better"
   ]
  },
  {
   "cell_type": "markdown",
   "metadata": {},
   "source": [
    "We find Deep Learning does not improve the model, compared to Linear Regression in this case, appreciably"
   ]
  },
  {
   "cell_type": "markdown",
   "metadata": {},
   "source": [
    "We now try XGBRegressor, a latest technique. We start by default setting and then use best parameter for n_estimator by trying number of values"
   ]
  },
  {
   "cell_type": "code",
   "execution_count": 17,
   "metadata": {},
   "outputs": [
    {
     "data": {
      "text/plain": [
       "XGBRegressor(base_score=0.5, booster='gbtree', colsample_bylevel=1,\n",
       "       colsample_bytree=1, gamma=0, learning_rate=0.1, max_delta_step=0,\n",
       "       max_depth=3, min_child_weight=1, missing=None, n_estimators=100,\n",
       "       n_jobs=1, nthread=None, objective='reg:linear', random_state=0,\n",
       "       reg_alpha=0, reg_lambda=1, scale_pos_weight=1, seed=None,\n",
       "       silent=True, subsample=1)"
      ]
     },
     "execution_count": 17,
     "metadata": {},
     "output_type": "execute_result"
    }
   ],
   "source": [
    "xgb_model = XGBRegressor() \n",
    "xgb_model.fit(train_X, train_Y)"
   ]
  },
  {
   "cell_type": "code",
   "execution_count": 18,
   "metadata": {},
   "outputs": [
    {
     "name": "stdout",
     "output_type": "stream",
     "text": [
      "XGB RMSE:5624.63251562\n"
     ]
    }
   ],
   "source": [
    "carSales_predictions = xgb_model.predict(test_X)\n",
    "xgb_mse = mean_squared_error(test_Y, carSales_predictions)\n",
    "xgb_rmse = np.sqrt(xgb_mse)\n",
    "print(\"XGB RMSE:\"+str(xgb_rmse))"
   ]
  },
  {
   "cell_type": "code",
   "execution_count": null,
   "metadata": {
    "collapsed": true
   },
   "outputs": [],
   "source": [
    "We find RMSE is quite high even with Specific Make, and Model (Ford and 'F-1504WD'). So we now go for Specific Make, Model and State"
   ]
  }
 ],
 "metadata": {
  "kernelspec": {
   "display_name": "Python [conda env:Anaconda]",
   "language": "python",
   "name": "conda-env-Anaconda-py"
  },
  "language_info": {
   "codemirror_mode": {
    "name": "ipython",
    "version": 3
   },
   "file_extension": ".py",
   "mimetype": "text/x-python",
   "name": "python",
   "nbconvert_exporter": "python",
   "pygments_lexer": "ipython3",
   "version": "3.6.3"
  }
 },
 "nbformat": 4,
 "nbformat_minor": 2
}
