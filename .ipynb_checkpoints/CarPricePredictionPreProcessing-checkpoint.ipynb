{
 "cells": [
  {
   "cell_type": "markdown",
   "metadata": {
    "collapsed": true
   },
   "source": [
    "# This notebook is to prepare and pre-process data for various prediction models from the Used Car Price data \n",
    "at : https://www.kaggle.com/CooperUnion/cardataset, after the initial Data exploration, as given in CarPricePredictionAnalysis.ipynb.  \n",
    "The numerical variables are scaled with StandardScaler, imputation strategy is used to replace 0 values with mean\n",
    "StratifiedRandomShuffleSplit is done based on Age of car (Curr Year - Year of Car), by creating Age category (Age / 5), and same distribution of Age-category is maintained in Train and Test data.\n",
    "The categorical variables (Engine Cylinders, Engine Fuel type, Transmission type, Vehicle Size, Vehichle Style, Drive wheels, Make) are one-hot encoded and added to the feature vector. The numerical variables considered are : Age, City mpg, Engine HP, with powers of 2,3,4 (based on initial Data Analysis). Two sets of X features are \n",
    "produced, with Make and without Make and results compared."
   ]
  },
  {
   "cell_type": "code",
   "execution_count": 29,
   "metadata": {
    "collapsed": true
   },
   "outputs": [],
   "source": [
    "#Import all necessary libraries\n",
    "import pickle\n",
    "import pandas as pd\n",
    "import matplotlib.pyplot as plt\n",
    "from sklearn.model_selection import train_test_split\n",
    "import numpy as np\n",
    "from sklearn.model_selection import StratifiedShuffleSplit\n",
    "from sklearn.preprocessing import Imputer\n",
    "from sklearn.preprocessing import LabelEncoder\n",
    "from sklearn.preprocessing import OneHotEncoder\n",
    "from sklearn.preprocessing import LabelBinarizer\n",
    "from sklearn.base import BaseEstimator, TransformerMixin\n",
    "from sklearn.preprocessing import StandardScaler\n",
    "from sklearn.preprocessing import MinMaxScaler\n",
    "from sklearn.preprocessing import PolynomialFeatures"
   ]
  },
  {
   "cell_type": "markdown",
   "metadata": {
    "collapsed": true
   },
   "source": [
    "Read the pickle files prepared by stratifying the Car Sales Data based on Make and Price. This is necessary since\n",
    "cars belong to different price segments, and including all make and models is not a viable solution, as the range of price\n",
    "is different for the same features for different makes. The stratification details can be found in the \n",
    "Data exploration notebook, which precedes this and outputs the data into .pkl files, based on car segment/price category"
   ]
  },
  {
   "cell_type": "code",
   "execution_count": 30,
   "metadata": {
    "collapsed": true
   },
   "outputs": [],
   "source": [
    "df_ordinary=pd.read_pickle('C:/users/hackuser1/Hackathon18/ordinarydfUSJap.pkl')"
   ]
  },
  {
   "cell_type": "code",
   "execution_count": 31,
   "metadata": {},
   "outputs": [
    {
     "data": {
      "text/html": [
       "<div>\n",
       "<style scoped>\n",
       "    .dataframe tbody tr th:only-of-type {\n",
       "        vertical-align: middle;\n",
       "    }\n",
       "\n",
       "    .dataframe tbody tr th {\n",
       "        vertical-align: top;\n",
       "    }\n",
       "\n",
       "    .dataframe thead th {\n",
       "        text-align: right;\n",
       "    }\n",
       "</style>\n",
       "<table border=\"1\" class=\"dataframe\">\n",
       "  <thead>\n",
       "    <tr style=\"text-align: right;\">\n",
       "      <th></th>\n",
       "      <th>Make</th>\n",
       "      <th>Model</th>\n",
       "      <th>Engine Fuel Type</th>\n",
       "      <th>Engine HP</th>\n",
       "      <th>Engine Cylinders</th>\n",
       "      <th>Transmission Type</th>\n",
       "      <th>Driven_Wheels</th>\n",
       "      <th>Number of Doors</th>\n",
       "      <th>Vehicle Size</th>\n",
       "      <th>Vehicle Style</th>\n",
       "      <th>MSRP</th>\n",
       "      <th>Age</th>\n",
       "      <th>log_MSRP</th>\n",
       "      <th>log_city mpg</th>\n",
       "      <th>log_Engine HP</th>\n",
       "    </tr>\n",
       "  </thead>\n",
       "  <tbody>\n",
       "    <tr>\n",
       "      <th>3</th>\n",
       "      <td>Chrysler</td>\n",
       "      <td>200</td>\n",
       "      <td>flex-fuel (unleaded/E85)</td>\n",
       "      <td>184.0</td>\n",
       "      <td>4.0</td>\n",
       "      <td>AUTOMATIC</td>\n",
       "      <td>front wheel drive</td>\n",
       "      <td>4.0</td>\n",
       "      <td>Midsize</td>\n",
       "      <td>Sedan</td>\n",
       "      <td>25170</td>\n",
       "      <td>2</td>\n",
       "      <td>10.133448</td>\n",
       "      <td>3.178054</td>\n",
       "      <td>5.220356</td>\n",
       "    </tr>\n",
       "    <tr>\n",
       "      <th>4</th>\n",
       "      <td>Chrysler</td>\n",
       "      <td>200</td>\n",
       "      <td>flex-fuel (unleaded/E85)</td>\n",
       "      <td>184.0</td>\n",
       "      <td>4.0</td>\n",
       "      <td>AUTOMATIC</td>\n",
       "      <td>front wheel drive</td>\n",
       "      <td>4.0</td>\n",
       "      <td>Midsize</td>\n",
       "      <td>Sedan</td>\n",
       "      <td>23950</td>\n",
       "      <td>2</td>\n",
       "      <td>10.083765</td>\n",
       "      <td>3.178054</td>\n",
       "      <td>5.220356</td>\n",
       "    </tr>\n",
       "    <tr>\n",
       "      <th>5</th>\n",
       "      <td>Chrysler</td>\n",
       "      <td>200</td>\n",
       "      <td>flex-fuel (unleaded/E85)</td>\n",
       "      <td>295.0</td>\n",
       "      <td>6.0</td>\n",
       "      <td>AUTOMATIC</td>\n",
       "      <td>all wheel drive</td>\n",
       "      <td>4.0</td>\n",
       "      <td>Midsize</td>\n",
       "      <td>Sedan</td>\n",
       "      <td>29370</td>\n",
       "      <td>2</td>\n",
       "      <td>10.287763</td>\n",
       "      <td>2.944439</td>\n",
       "      <td>5.690359</td>\n",
       "    </tr>\n",
       "    <tr>\n",
       "      <th>6</th>\n",
       "      <td>Chrysler</td>\n",
       "      <td>200</td>\n",
       "      <td>flex-fuel (unleaded/E85)</td>\n",
       "      <td>184.0</td>\n",
       "      <td>4.0</td>\n",
       "      <td>AUTOMATIC</td>\n",
       "      <td>front wheel drive</td>\n",
       "      <td>4.0</td>\n",
       "      <td>Midsize</td>\n",
       "      <td>Sedan</td>\n",
       "      <td>21995</td>\n",
       "      <td>2</td>\n",
       "      <td>9.998616</td>\n",
       "      <td>3.178054</td>\n",
       "      <td>5.220356</td>\n",
       "    </tr>\n",
       "    <tr>\n",
       "      <th>7</th>\n",
       "      <td>Chrysler</td>\n",
       "      <td>200</td>\n",
       "      <td>flex-fuel (unleaded/E85)</td>\n",
       "      <td>184.0</td>\n",
       "      <td>4.0</td>\n",
       "      <td>AUTOMATIC</td>\n",
       "      <td>front wheel drive</td>\n",
       "      <td>4.0</td>\n",
       "      <td>Midsize</td>\n",
       "      <td>Sedan</td>\n",
       "      <td>26625</td>\n",
       "      <td>2</td>\n",
       "      <td>10.189643</td>\n",
       "      <td>3.178054</td>\n",
       "      <td>5.220356</td>\n",
       "    </tr>\n",
       "  </tbody>\n",
       "</table>\n",
       "</div>"
      ],
      "text/plain": [
       "       Make Model          Engine Fuel Type  Engine HP  Engine Cylinders  \\\n",
       "3  Chrysler   200  flex-fuel (unleaded/E85)      184.0               4.0   \n",
       "4  Chrysler   200  flex-fuel (unleaded/E85)      184.0               4.0   \n",
       "5  Chrysler   200  flex-fuel (unleaded/E85)      295.0               6.0   \n",
       "6  Chrysler   200  flex-fuel (unleaded/E85)      184.0               4.0   \n",
       "7  Chrysler   200  flex-fuel (unleaded/E85)      184.0               4.0   \n",
       "\n",
       "  Transmission Type      Driven_Wheels  Number of Doors Vehicle Size  \\\n",
       "3         AUTOMATIC  front wheel drive              4.0      Midsize   \n",
       "4         AUTOMATIC  front wheel drive              4.0      Midsize   \n",
       "5         AUTOMATIC    all wheel drive              4.0      Midsize   \n",
       "6         AUTOMATIC  front wheel drive              4.0      Midsize   \n",
       "7         AUTOMATIC  front wheel drive              4.0      Midsize   \n",
       "\n",
       "  Vehicle Style   MSRP  Age   log_MSRP  log_city mpg  log_Engine HP  \n",
       "3         Sedan  25170    2  10.133448      3.178054       5.220356  \n",
       "4         Sedan  23950    2  10.083765      3.178054       5.220356  \n",
       "5         Sedan  29370    2  10.287763      2.944439       5.690359  \n",
       "6         Sedan  21995    2   9.998616      3.178054       5.220356  \n",
       "7         Sedan  26625    2  10.189643      3.178054       5.220356  "
      ]
     },
     "execution_count": 31,
     "metadata": {},
     "output_type": "execute_result"
    }
   ],
   "source": [
    "df_ordinary.head()"
   ]
  },
  {
   "cell_type": "code",
   "execution_count": 32,
   "metadata": {},
   "outputs": [
    {
     "data": {
      "text/plain": [
       "Chevrolet    1123\n",
       "Ford          879\n",
       "Nissan        556\n",
       "Honda         449\n",
       "Mazda         423\n",
       "Suzuki        351\n",
       "Hyundai       303\n",
       "Subaru        256\n",
       "Chrysler      187\n",
       "Pontiac       186\n",
       "Name: Make, dtype: int64"
      ]
     },
     "execution_count": 32,
     "metadata": {},
     "output_type": "execute_result"
    }
   ],
   "source": [
    "df_ordinary[\"Make\"].value_counts()"
   ]
  },
  {
   "cell_type": "code",
   "execution_count": 33,
   "metadata": {},
   "outputs": [
    {
     "name": "stdout",
     "output_type": "stream",
     "text": [
      "4713\n"
     ]
    }
   ],
   "source": [
    "print(len(df_ordinary))"
   ]
  },
  {
   "cell_type": "markdown",
   "metadata": {
    "collapsed": true
   },
   "source": [
    "We will take the ordinary segment as it has the most data, and fit our model. Once done the same model will be applied\n",
    "to other segments.(For MVP, in actuality the modeling exercise needs to be repeated for each segment, as the relationships \n",
    "may be different)"
   ]
  },
  {
   "cell_type": "code",
   "execution_count": 34,
   "metadata": {
    "collapsed": true
   },
   "outputs": [],
   "source": [
    "df_ordinary[\"Number of Doors\"] = df_ordinary[\"Number of Doors\"].replace(\"?\",0)\n",
    "df_ordinary[\"Number of Doors\"] = df_ordinary[\"Number of Doors\"].astype('float32')\n",
    "df_ordinary[\"MSRP\"] = df_ordinary[\"MSRP\"].replace(\"?\",0)\n",
    "df_ordinary[\"MSRP\"] = df_ordinary[\"MSRP\"].astype(\"float32\")\n",
    "df_ordinary[\"log_Engine HP\"] = df_ordinary[\"log_Engine HP\"].astype(\"float32\")"
   ]
  },
  {
   "cell_type": "markdown",
   "metadata": {
    "collapsed": true
   },
   "source": [
    "We check the distribution of Car Sales on the basis of Age of Car, and create Age-cat and check the distribution of the Car data based on Age-cat (Age / 5). We plan to use StratifiedSampling to make sure both Test and Train data represents same distribution of cars based on Age of Car"
   ]
  },
  {
   "cell_type": "code",
   "execution_count": 35,
   "metadata": {},
   "outputs": [
    {
     "data": {
      "text/plain": [
       "1.0    0.424570\n",
       "2.0    0.154891\n",
       "0.0    0.144494\n",
       "3.0    0.119669\n",
       "4.0    0.081052\n",
       "5.0    0.075324\n",
       "Name: Age-cat, dtype: float64"
      ]
     },
     "execution_count": 35,
     "metadata": {},
     "output_type": "execute_result"
    }
   ],
   "source": [
    "df_ordinary[\"Age\"].value_counts()\n",
    "#create a field Age-cat to divide the data into 5 Age categories, based on the Age of the car\n",
    "df_ordinary[\"Age-cat\"] = np.ceil(df_ordinary[\"Age\"] / 5)\n",
    "df_ordinary[\"Age-cat\"].where(df_ordinary[\"Age-cat\"] < 5, 5.0, inplace=True)\n",
    "#check distribution of Age Cat in the original data\n",
    "df_ordinary[\"Age-cat\"].value_counts() / len(df_ordinary)"
   ]
  },
  {
   "cell_type": "code",
   "execution_count": null,
   "metadata": {
    "collapsed": true
   },
   "outputs": [],
   "source": [
    "We treat Engine Cylinders, Engine Fuel Type, Transmission Type, Driven_wheels, Vehicle Size, Make and style as \n",
    "Categorical variables based on our Data exploration. We use the LabelBinarizer to fit the variables on the entire \n",
    "set. The actual encoding will be done using the encoded values on the Train and test samples"
   ]
  },
  {
   "cell_type": "code",
   "execution_count": 36,
   "metadata": {},
   "outputs": [
    {
     "name": "stdout",
     "output_type": "stream",
     "text": [
      "[ 0.  3.  4.  5.  6.  8.]\n",
      "['diesel' 'electric' 'flex-fuel (unleaded/E85)'\n",
      " 'flex-fuel (unleaded/natural gas)' 'natural gas'\n",
      " 'premium unleaded (recommended)' 'premium unleaded (required)'\n",
      " 'regular unleaded']\n",
      "['AUTOMATED_MANUAL' 'AUTOMATIC' 'DIRECT_DRIVE' 'MANUAL' 'UNKNOWN']\n",
      "['all wheel drive' 'four wheel drive' 'front wheel drive'\n",
      " 'rear wheel drive']\n",
      "['Compact' 'Large' 'Midsize']\n",
      "['Chevrolet' 'Chrysler' 'Ford' 'Honda' 'Hyundai' 'Mazda' 'Nissan' 'Pontiac'\n",
      " 'Subaru' 'Suzuki']\n",
      "['2dr Hatchback' '2dr SUV' '4dr Hatchback' '4dr SUV' 'Cargo Minivan'\n",
      " 'Cargo Van' 'Convertible' 'Convertible SUV' 'Coupe' 'Crew Cab Pickup'\n",
      " 'Extended Cab Pickup' 'Passenger Minivan' 'Passenger Van'\n",
      " 'Regular Cab Pickup' 'Sedan' 'Wagon']\n"
     ]
    }
   ],
   "source": [
    "car_eng_cyl = df_ordinary[\"Engine Cylinders\"]\n",
    "encoder_cyl = LabelBinarizer()\n",
    "encoder_cyl.fit(car_eng_cyl)\n",
    "print(encoder_cyl.classes_)\n",
    "\n",
    "car_eng_fuel_type = df_ordinary[\"Engine Fuel Type\"]\n",
    "encoder_fuel = LabelBinarizer()\n",
    "encoder_fuel.fit(car_eng_fuel_type)\n",
    "print(encoder_fuel.classes_)\n",
    "\n",
    "car_trans_type = df_ordinary[\"Transmission Type\"]\n",
    "encoder_trans = LabelBinarizer()\n",
    "encoder_trans.fit(car_trans_type)\n",
    "print(encoder_trans.classes_)\n",
    "\n",
    "car_driven_wheels = df_ordinary[\"Driven_Wheels\"]\n",
    "encoder_wheels = LabelBinarizer()\n",
    "encoder_wheels.fit(car_driven_wheels)\n",
    "print(encoder_wheels.classes_)\n",
    "\n",
    "car_vehicle_size = df_ordinary[\"Vehicle Size\"]\n",
    "encoder_size = LabelBinarizer()\n",
    "encoder_size.fit(car_vehicle_size)\n",
    "print(encoder_size.classes_)\n",
    "\n",
    "car_make =df_ordinary[\"Make\"]\n",
    "encoder_make = LabelBinarizer()\n",
    "encoder_make.fit(car_make)\n",
    "print(encoder_make.classes_)\n",
    "\n",
    "\n",
    "car_style =df_ordinary[\"Vehicle Style\"]\n",
    "encoder_style = LabelBinarizer()\n",
    "encoder_style.fit(car_style)\n",
    "print(encoder_style.classes_)"
   ]
  },
  {
   "cell_type": "code",
   "execution_count": 9,
   "metadata": {
    "collapsed": true
   },
   "outputs": [],
   "source": [
    "# save encoders to file\n",
    "pickle.dump(encoder_cyl, open(\"C:/users/hackuser1/encoder_cyl.pickle.dat\", \"wb\"))\n",
    "pickle.dump(encoder_fuel, open(\"C:/users/hackuser1/encoder_fuel.pickle.dat\", \"wb\"))\n",
    "pickle.dump(encoder_trans, open(\"C:/users/hackuser1/encoder_trans.pickle.dat\", \"wb\"))\n",
    "pickle.dump(encoder_wheels, open(\"C:/users/hackuser1/encoder_wheels.pickle.dat\", \"wb\"))\n",
    "pickle.dump(encoder_size, open(\"C:/users/hackuser1/encoder_size.pickle.dat\", \"wb\"))\n",
    "pickle.dump(encoder_make, open(\"C:/users/hackuser1/encoder_make.pickle.dat\", \"wb\"))\n",
    "pickle.dump(encoder_style, open(\"C:/users/hackuser1/encoder_style.pickle.dat\", \"wb\"))"
   ]
  },
  {
   "cell_type": "code",
   "execution_count": 37,
   "metadata": {
    "collapsed": true
   },
   "outputs": [],
   "source": [
    "split = StratifiedShuffleSplit(n_splits=1,test_size=0.2,random_state=42)\n",
    "\n",
    "for train_index, test_index in split.split(df_ordinary,df_ordinary[\"Age-cat\"]):\n",
    "    strat_train_set = df_ordinary.iloc[train_index]\n",
    "    strat_test_set = df_ordinary.iloc[test_index]"
   ]
  },
  {
   "cell_type": "code",
   "execution_count": 38,
   "metadata": {},
   "outputs": [
    {
     "data": {
      "text/plain": [
       "1.0    0.424668\n",
       "2.0    0.154907\n",
       "0.0    0.144562\n",
       "3.0    0.119629\n",
       "4.0    0.080902\n",
       "5.0    0.075332\n",
       "Name: Age-cat, dtype: float64"
      ]
     },
     "execution_count": 38,
     "metadata": {},
     "output_type": "execute_result"
    }
   ],
   "source": [
    "#check distribution of Age Cat in the train data\n",
    "strat_train_set[\"Age-cat\"].value_counts() / len(strat_train_set)"
   ]
  },
  {
   "cell_type": "code",
   "execution_count": 39,
   "metadata": {},
   "outputs": [
    {
     "data": {
      "text/plain": [
       "1.0    0.424178\n",
       "2.0    0.154825\n",
       "0.0    0.144221\n",
       "3.0    0.119830\n",
       "4.0    0.081654\n",
       "5.0    0.075292\n",
       "Name: Age-cat, dtype: float64"
      ]
     },
     "execution_count": 39,
     "metadata": {},
     "output_type": "execute_result"
    }
   ],
   "source": [
    "#check distribution of Age Cat in the test data\n",
    "strat_test_set[\"Age-cat\"].value_counts() / len(strat_test_set)"
   ]
  },
  {
   "cell_type": "markdown",
   "metadata": {
    "collapsed": true
   },
   "source": [
    "Create the X and Y variables from the Feature analysis done in Exploration notebook. Repeat the same operations \n",
    "for Train and Test data."
   ]
  },
  {
   "cell_type": "code",
   "execution_count": 40,
   "metadata": {
    "collapsed": true
   },
   "outputs": [],
   "source": [
    "carSales_X = strat_train_set.copy()\n",
    "carSales_X = strat_train_set.drop(\"MSRP\", axis=1) # drop labels for training set\n",
    "carSales_X = strat_train_set.drop(\"log_MSRP\", axis=1) # drop labels for training set\n",
    "carSales_Y = strat_train_set[\"log_MSRP\"].copy() # use log MSRP as labels for training set, based on data Exploration\n",
    "carSales_Y_orig = strat_train_set[\"MSRP\"].copy() # use MSRP as labels also for training set, to compare fit based on Log and original Price\n",
    "\n",
    "carSales_test_X = strat_test_set.copy()\n",
    "carSales_test_X = strat_test_set.drop(\"MSRP\", axis=1) # drop labels for test set\n",
    "carSales_test_X = strat_test_set.drop(\"log_MSRP\", axis=1) # drop labels for test set\n",
    "carSales_test_Y = strat_test_set[\"log_MSRP\"].copy()# use log MSRP as labels for test set, based on data Exploration\n",
    "carSales_test_Y_orig = strat_test_set[\"MSRP\"].copy()"
   ]
  },
  {
   "cell_type": "code",
   "execution_count": 41,
   "metadata": {},
   "outputs": [
    {
     "name": "stdout",
     "output_type": "stream",
     "text": [
      "(3770, 15)\n",
      "(3770, 1)\n",
      "(3770, 1)\n",
      "(943, 15)\n",
      "(943, 1)\n",
      "(943, 1)\n"
     ]
    }
   ],
   "source": [
    "carSales_Y = carSales_Y.values.reshape(carSales_Y.shape[0],1)\n",
    "carSales_test_Y = carSales_test_Y.values.reshape(carSales_test_Y.shape[0],1)\n",
    "carSales_Y_orig = carSales_Y_orig.values.reshape(carSales_Y_orig.shape[0],1)\n",
    "carSales_test_Y_orig = carSales_test_Y_orig.values.reshape(carSales_test_Y.shape[0],1)\n",
    "print(carSales_X.shape)\n",
    "print(carSales_Y.shape)\n",
    "print(carSales_Y_orig.shape)\n",
    "print(carSales_test_X.shape)\n",
    "print(carSales_test_Y.shape)\n",
    "print(carSales_test_Y_orig.shape)"
   ]
  },
  {
   "cell_type": "markdown",
   "metadata": {
    "collapsed": true
   },
   "source": [
    "Now we need to remove unnecessary columns based on\n",
    "Correlation analysis done in ExplorationNotebook, and do Encoding of Categorical variables. Also \n",
    "we need to do StandardNormalization before applying Regression models."
   ]
  },
  {
   "cell_type": "code",
   "execution_count": 42,
   "metadata": {},
   "outputs": [
    {
     "data": {
      "text/html": [
       "<div>\n",
       "<style scoped>\n",
       "    .dataframe tbody tr th:only-of-type {\n",
       "        vertical-align: middle;\n",
       "    }\n",
       "\n",
       "    .dataframe tbody tr th {\n",
       "        vertical-align: top;\n",
       "    }\n",
       "\n",
       "    .dataframe thead th {\n",
       "        text-align: right;\n",
       "    }\n",
       "</style>\n",
       "<table border=\"1\" class=\"dataframe\">\n",
       "  <thead>\n",
       "    <tr style=\"text-align: right;\">\n",
       "      <th></th>\n",
       "      <th>Make</th>\n",
       "      <th>Model</th>\n",
       "      <th>Engine Fuel Type</th>\n",
       "      <th>Engine HP</th>\n",
       "      <th>Engine Cylinders</th>\n",
       "      <th>Transmission Type</th>\n",
       "      <th>Driven_Wheels</th>\n",
       "      <th>Number of Doors</th>\n",
       "      <th>Vehicle Size</th>\n",
       "      <th>Vehicle Style</th>\n",
       "      <th>MSRP</th>\n",
       "      <th>Age</th>\n",
       "      <th>log_city mpg</th>\n",
       "      <th>log_Engine HP</th>\n",
       "      <th>Age-cat</th>\n",
       "    </tr>\n",
       "  </thead>\n",
       "  <tbody>\n",
       "    <tr>\n",
       "      <th>4464</th>\n",
       "      <td>Subaru</td>\n",
       "      <td>Outback</td>\n",
       "      <td>regular unleaded</td>\n",
       "      <td>175.0</td>\n",
       "      <td>4.0</td>\n",
       "      <td>AUTOMATIC</td>\n",
       "      <td>all wheel drive</td>\n",
       "      <td>4.0</td>\n",
       "      <td>Midsize</td>\n",
       "      <td>4dr SUV</td>\n",
       "      <td>27395.0</td>\n",
       "      <td>1</td>\n",
       "      <td>3.258097</td>\n",
       "      <td>5.170484</td>\n",
       "      <td>1.0</td>\n",
       "    </tr>\n",
       "    <tr>\n",
       "      <th>2379</th>\n",
       "      <td>Suzuki</td>\n",
       "      <td>Esteem</td>\n",
       "      <td>regular unleaded</td>\n",
       "      <td>122.0</td>\n",
       "      <td>4.0</td>\n",
       "      <td>AUTOMATIC</td>\n",
       "      <td>front wheel drive</td>\n",
       "      <td>4.0</td>\n",
       "      <td>Compact</td>\n",
       "      <td>Sedan</td>\n",
       "      <td>14299.0</td>\n",
       "      <td>15</td>\n",
       "      <td>3.178054</td>\n",
       "      <td>4.812184</td>\n",
       "      <td>3.0</td>\n",
       "    </tr>\n",
       "    <tr>\n",
       "      <th>3336</th>\n",
       "      <td>Suzuki</td>\n",
       "      <td>Grand Vitara</td>\n",
       "      <td>regular unleaded</td>\n",
       "      <td>166.0</td>\n",
       "      <td>4.0</td>\n",
       "      <td>AUTOMATIC</td>\n",
       "      <td>four wheel drive</td>\n",
       "      <td>4.0</td>\n",
       "      <td>Compact</td>\n",
       "      <td>4dr SUV</td>\n",
       "      <td>24949.0</td>\n",
       "      <td>6</td>\n",
       "      <td>2.995732</td>\n",
       "      <td>5.117994</td>\n",
       "      <td>2.0</td>\n",
       "    </tr>\n",
       "    <tr>\n",
       "      <th>1342</th>\n",
       "      <td>Honda</td>\n",
       "      <td>Civic</td>\n",
       "      <td>regular unleaded</td>\n",
       "      <td>158.0</td>\n",
       "      <td>4.0</td>\n",
       "      <td>MANUAL</td>\n",
       "      <td>front wheel drive</td>\n",
       "      <td>4.0</td>\n",
       "      <td>Midsize</td>\n",
       "      <td>Sedan</td>\n",
       "      <td>18640.0</td>\n",
       "      <td>1</td>\n",
       "      <td>3.332205</td>\n",
       "      <td>5.068904</td>\n",
       "      <td>1.0</td>\n",
       "    </tr>\n",
       "    <tr>\n",
       "      <th>1593</th>\n",
       "      <td>Chevrolet</td>\n",
       "      <td>Corvette</td>\n",
       "      <td>premium unleaded (required)</td>\n",
       "      <td>650.0</td>\n",
       "      <td>8.0</td>\n",
       "      <td>MANUAL</td>\n",
       "      <td>rear wheel drive</td>\n",
       "      <td>2.0</td>\n",
       "      <td>Compact</td>\n",
       "      <td>Coupe</td>\n",
       "      <td>82270.0</td>\n",
       "      <td>2</td>\n",
       "      <td>2.772589</td>\n",
       "      <td>6.478509</td>\n",
       "      <td>1.0</td>\n",
       "    </tr>\n",
       "  </tbody>\n",
       "</table>\n",
       "</div>"
      ],
      "text/plain": [
       "           Make         Model             Engine Fuel Type  Engine HP  \\\n",
       "4464     Subaru       Outback             regular unleaded      175.0   \n",
       "2379     Suzuki        Esteem             regular unleaded      122.0   \n",
       "3336     Suzuki  Grand Vitara             regular unleaded      166.0   \n",
       "1342      Honda         Civic             regular unleaded      158.0   \n",
       "1593  Chevrolet      Corvette  premium unleaded (required)      650.0   \n",
       "\n",
       "      Engine Cylinders Transmission Type      Driven_Wheels  Number of Doors  \\\n",
       "4464               4.0         AUTOMATIC    all wheel drive              4.0   \n",
       "2379               4.0         AUTOMATIC  front wheel drive              4.0   \n",
       "3336               4.0         AUTOMATIC   four wheel drive              4.0   \n",
       "1342               4.0            MANUAL  front wheel drive              4.0   \n",
       "1593               8.0            MANUAL   rear wheel drive              2.0   \n",
       "\n",
       "     Vehicle Size Vehicle Style     MSRP  Age  log_city mpg  log_Engine HP  \\\n",
       "4464      Midsize       4dr SUV  27395.0    1      3.258097       5.170484   \n",
       "2379      Compact         Sedan  14299.0   15      3.178054       4.812184   \n",
       "3336      Compact       4dr SUV  24949.0    6      2.995732       5.117994   \n",
       "1342      Midsize         Sedan  18640.0    1      3.332205       5.068904   \n",
       "1593      Compact         Coupe  82270.0    2      2.772589       6.478509   \n",
       "\n",
       "      Age-cat  \n",
       "4464      1.0  \n",
       "2379      3.0  \n",
       "3336      2.0  \n",
       "1342      1.0  \n",
       "1593      1.0  "
      ]
     },
     "execution_count": 42,
     "metadata": {},
     "output_type": "execute_result"
    }
   ],
   "source": [
    "carSales_X.head()"
   ]
  },
  {
   "cell_type": "markdown",
   "metadata": {
    "collapsed": true
   },
   "source": [
    "We drop all categorical columns after making a copy, and retain only the numerical features of significance"
   ]
  },
  {
   "cell_type": "code",
   "execution_count": 43,
   "metadata": {
    "collapsed": true
   },
   "outputs": [],
   "source": [
    "carSales_X_num = carSales_X\n",
    "carSales_X_num  = carSales_X_num.drop(\"Make\",axis=1) # to be treated as categorical var\n",
    "carSales_X_num  = carSales_X_num.drop(\"Model\",axis=1)\n",
    "carSales_X_num  = carSales_X_num.drop(\"Engine Cylinders\",axis=1) # to be treated as categorical var\n",
    "carSales_X_num  = carSales_X_num.drop(\"Engine Fuel Type\",axis=1) # to be treated as categorical var\n",
    "carSales_X_num  = carSales_X_num.drop(\"Transmission Type\",axis=1) # to be treated as categorical var \n",
    "carSales_X_num  = carSales_X_num.drop(\"Driven_Wheels\",axis=1) # to be treated as categorical var\n",
    "carSales_X_num = carSales_X_num.drop(\"Number of Doors\",axis=1) # to be treated as categorical var\n",
    "carSales_X_num  = carSales_X_num.drop(\"Vehicle Style\",axis=1)\n",
    "carSales_X_num  = carSales_X_num.drop(\"Engine HP\",axis=1)\n",
    "carSales_X_num = carSales_X_num.drop(\"Vehicle Size\",axis=1) # to be treated as categorical var\n",
    "carSales_X_num = carSales_X_num.drop(\"Age-cat\",axis=1)\n",
    "carSales_X_num = carSales_X_num.drop(\"MSRP\",axis=1)\n"
   ]
  },
  {
   "cell_type": "code",
   "execution_count": 44,
   "metadata": {},
   "outputs": [
    {
     "data": {
      "text/html": [
       "<div>\n",
       "<style scoped>\n",
       "    .dataframe tbody tr th:only-of-type {\n",
       "        vertical-align: middle;\n",
       "    }\n",
       "\n",
       "    .dataframe tbody tr th {\n",
       "        vertical-align: top;\n",
       "    }\n",
       "\n",
       "    .dataframe thead th {\n",
       "        text-align: right;\n",
       "    }\n",
       "</style>\n",
       "<table border=\"1\" class=\"dataframe\">\n",
       "  <thead>\n",
       "    <tr style=\"text-align: right;\">\n",
       "      <th></th>\n",
       "      <th>Age</th>\n",
       "      <th>log_city mpg</th>\n",
       "      <th>log_Engine HP</th>\n",
       "    </tr>\n",
       "  </thead>\n",
       "  <tbody>\n",
       "    <tr>\n",
       "      <th>4464</th>\n",
       "      <td>1</td>\n",
       "      <td>3.258097</td>\n",
       "      <td>5.170484</td>\n",
       "    </tr>\n",
       "    <tr>\n",
       "      <th>2379</th>\n",
       "      <td>15</td>\n",
       "      <td>3.178054</td>\n",
       "      <td>4.812184</td>\n",
       "    </tr>\n",
       "    <tr>\n",
       "      <th>3336</th>\n",
       "      <td>6</td>\n",
       "      <td>2.995732</td>\n",
       "      <td>5.117994</td>\n",
       "    </tr>\n",
       "    <tr>\n",
       "      <th>1342</th>\n",
       "      <td>1</td>\n",
       "      <td>3.332205</td>\n",
       "      <td>5.068904</td>\n",
       "    </tr>\n",
       "    <tr>\n",
       "      <th>1593</th>\n",
       "      <td>2</td>\n",
       "      <td>2.772589</td>\n",
       "      <td>6.478509</td>\n",
       "    </tr>\n",
       "  </tbody>\n",
       "</table>\n",
       "</div>"
      ],
      "text/plain": [
       "      Age  log_city mpg  log_Engine HP\n",
       "4464    1      3.258097       5.170484\n",
       "2379   15      3.178054       4.812184\n",
       "3336    6      2.995732       5.117994\n",
       "1342    1      3.332205       5.068904\n",
       "1593    2      2.772589       6.478509"
      ]
     },
     "execution_count": 44,
     "metadata": {},
     "output_type": "execute_result"
    }
   ],
   "source": [
    "carSales_X_num.head()"
   ]
  },
  {
   "cell_type": "code",
   "execution_count": 45,
   "metadata": {
    "collapsed": true
   },
   "outputs": [],
   "source": [
    "#Apply the same transformation on Test data\n",
    "carSales_test_X_num = carSales_test_X\n",
    "carSales_test_X_num  = carSales_test_X_num.drop(\"Make\",axis=1)\n",
    "carSales_test_X_num  = carSales_test_X_num.drop(\"Model\",axis=1)\n",
    "carSales_test_X_num  = carSales_test_X_num.drop(\"Engine Cylinders\",axis=1)\n",
    "carSales_test_X_num  = carSales_test_X_num.drop(\"Engine Fuel Type\",axis=1)\n",
    "carSales_test_X_num  = carSales_test_X_num.drop(\"Transmission Type\",axis=1)\n",
    "carSales_test_X_num  = carSales_test_X_num.drop(\"Driven_Wheels\",axis=1)\n",
    "carSales_test_X_num = carSales_test_X_num.drop(\"Number of Doors\",axis=1)\n",
    "carSales_test_X_num  = carSales_test_X_num.drop(\"Vehicle Style\",axis=1)\n",
    "carSales_test_X_num = carSales_test_X_num.drop(\"Vehicle Size\",axis=1)\n",
    "carSales_test_X_num  = carSales_test_X_num.drop(\"Engine HP\",axis=1)\n",
    "carSales_test_X_num = carSales_test_X_num.drop(\"Age-cat\",axis=1)\n",
    "carSales_test_X_num = carSales_test_X_num.drop(\"MSRP\",axis=1)\n"
   ]
  },
  {
   "cell_type": "code",
   "execution_count": 46,
   "metadata": {},
   "outputs": [
    {
     "data": {
      "text/html": [
       "<div>\n",
       "<style scoped>\n",
       "    .dataframe tbody tr th:only-of-type {\n",
       "        vertical-align: middle;\n",
       "    }\n",
       "\n",
       "    .dataframe tbody tr th {\n",
       "        vertical-align: top;\n",
       "    }\n",
       "\n",
       "    .dataframe thead th {\n",
       "        text-align: right;\n",
       "    }\n",
       "</style>\n",
       "<table border=\"1\" class=\"dataframe\">\n",
       "  <thead>\n",
       "    <tr style=\"text-align: right;\">\n",
       "      <th></th>\n",
       "      <th>Age</th>\n",
       "      <th>log_city mpg</th>\n",
       "      <th>log_Engine HP</th>\n",
       "    </tr>\n",
       "  </thead>\n",
       "  <tbody>\n",
       "    <tr>\n",
       "      <th>6013</th>\n",
       "      <td>6</td>\n",
       "      <td>3.044522</td>\n",
       "      <td>5.808143</td>\n",
       "    </tr>\n",
       "    <tr>\n",
       "      <th>4715</th>\n",
       "      <td>16</td>\n",
       "      <td>3.135494</td>\n",
       "      <td>4.948760</td>\n",
       "    </tr>\n",
       "    <tr>\n",
       "      <th>2385</th>\n",
       "      <td>15</td>\n",
       "      <td>3.178054</td>\n",
       "      <td>4.812184</td>\n",
       "    </tr>\n",
       "    <tr>\n",
       "      <th>2320</th>\n",
       "      <td>8</td>\n",
       "      <td>3.401197</td>\n",
       "      <td>5.181784</td>\n",
       "    </tr>\n",
       "    <tr>\n",
       "      <th>2216</th>\n",
       "      <td>0</td>\n",
       "      <td>3.367296</td>\n",
       "      <td>4.997212</td>\n",
       "    </tr>\n",
       "  </tbody>\n",
       "</table>\n",
       "</div>"
      ],
      "text/plain": [
       "      Age  log_city mpg  log_Engine HP\n",
       "6013    6      3.044522       5.808143\n",
       "4715   16      3.135494       4.948760\n",
       "2385   15      3.178054       4.812184\n",
       "2320    8      3.401197       5.181784\n",
       "2216    0      3.367296       4.997212"
      ]
     },
     "execution_count": 46,
     "metadata": {},
     "output_type": "execute_result"
    }
   ],
   "source": [
    "carSales_test_X_num.head()"
   ]
  },
  {
   "cell_type": "code",
   "execution_count": 47,
   "metadata": {
    "collapsed": true
   },
   "outputs": [],
   "source": [
    "carSales_X_num[\"log_Engine HP\"] = carSales_X_num[\"log_Engine HP\"].astype(\"float32\")\n",
    "carSales_X_num[\"Age\"] = carSales_X_num[\"Age\"].astype(\"float32\")\n",
    "carSales_X_num.replace('null',np.NaN,inplace=True)\n",
    "carSales_X_num = pd.DataFrame(carSales_X_num)\n",
    "carSales_X_num = carSales_X_num.replace('?',0)\n",
    "carSales_X_num = carSales_X_num.replace('NaN',0)\n",
    "carSales_X_num = carSales_X_num.replace(np.NaN,0)\n",
    "\n",
    "carSales_test_X_num[\"log_Engine HP\"] = carSales_test_X_num[\"log_Engine HP\"].astype(\"float32\")\n",
    "carSales_test_X_num[\"Age\"] = carSales_test_X_num[\"Age\"].astype(\"float32\")\n",
    "carSales_test_X_num.replace('null',np.NaN,inplace=True)\n",
    "carSales_test_X_num = pd.DataFrame(carSales_test_X_num)\n",
    "carSales_test_X_num = carSales_test_X_num.replace('?',0)\n",
    "carSales_test_X_num = carSales_test_X_num.replace('NaN',0)\n",
    "carSales_test_X_num = carSales_test_X_num.replace(np.NaN,0)"
   ]
  },
  {
   "cell_type": "code",
   "execution_count": 48,
   "metadata": {},
   "outputs": [
    {
     "name": "stdout",
     "output_type": "stream",
     "text": [
      "Series([], dtype: bool)\n",
      "Age              True\n",
      "log_city mpg     True\n",
      "log_Engine HP    True\n",
      "dtype: bool\n",
      "Series([], dtype: bool)\n",
      "Age              True\n",
      "log_city mpg     True\n",
      "log_Engine HP    True\n",
      "dtype: bool\n"
     ]
    }
   ],
   "source": [
    "m=carSales_X_num.isnull().any()\n",
    "print(m[m])\n",
    "m=np.isfinite(carSales_X_num.select_dtypes(include=['float64'])).any()\n",
    "print(m[m])\n",
    "m=carSales_test_X_num.isnull().any()\n",
    "print(m[m])\n",
    "m=np.isfinite(carSales_test_X_num.select_dtypes(include=['float64'])).any()\n",
    "print(m[m])"
   ]
  },
  {
   "cell_type": "markdown",
   "metadata": {
    "collapsed": true
   },
   "source": [
    "Wherever there are 0 values, we replace by the mean "
   ]
  },
  {
   "cell_type": "code",
   "execution_count": 49,
   "metadata": {},
   "outputs": [
    {
     "data": {
      "text/plain": [
       "Imputer(axis=0, copy=True, missing_values=0, strategy='mean', verbose=0)"
      ]
     },
     "execution_count": 49,
     "metadata": {},
     "output_type": "execute_result"
    }
   ],
   "source": [
    "imputer = Imputer(missing_values=0,strategy=\"mean\")\n",
    "imputer.fit(carSales_X_num)\n",
    "imputer.fit(carSales_test_X_num)"
   ]
  },
  {
   "cell_type": "code",
   "execution_count": 50,
   "metadata": {},
   "outputs": [
    {
     "name": "stdout",
     "output_type": "stream",
     "text": [
      "(3770, 3)\n"
     ]
    }
   ],
   "source": [
    "#Standardize the data using sklearn StandardScaler\n",
    "scaler = StandardScaler()\n",
    "train_X = scaler.fit_transform(carSales_X_num)\n",
    "test_X = scaler.transform(carSales_test_X_num)\n",
    "print(train_X.shape)"
   ]
  },
  {
   "cell_type": "code",
   "execution_count": 22,
   "metadata": {
    "collapsed": true
   },
   "outputs": [],
   "source": [
    "pickle.dump(scaler, open(\"C:/users/hackuser1/scaler.pickle.dat\", \"wb\"))"
   ]
  },
  {
   "cell_type": "markdown",
   "metadata": {
    "collapsed": true
   },
   "source": [
    "Now add the Categorical variables using one-hot represenation, using the encoder already fit on the entire sample"
   ]
  },
  {
   "cell_type": "code",
   "execution_count": 51,
   "metadata": {},
   "outputs": [
    {
     "name": "stdout",
     "output_type": "stream",
     "text": [
      "(3770, 6)\n",
      "(3770, 8)\n",
      "(3770, 5)\n",
      "(3770, 4)\n",
      "(3770, 3)\n",
      "(3770, 16)\n",
      "(3770, 10)\n",
      "(3770, 45)\n",
      "(3770, 55)\n"
     ]
    }
   ],
   "source": [
    "car_eng_cyl = carSales_X[\"Engine Cylinders\"]\n",
    "car_eng_1hot = encoder_cyl.transform(car_eng_cyl)\n",
    "print(car_eng_1hot.shape)\n",
    "\n",
    "train_X = np.concatenate((train_X,car_eng_1hot),axis=1)\n",
    "\n",
    "car_eng_fuel_type = carSales_X[\"Engine Fuel Type\"]\n",
    "car_fuel_1hot = encoder_fuel.transform(car_eng_fuel_type)\n",
    "print(car_fuel_1hot.shape)\n",
    "\n",
    "train_X = np.concatenate((train_X,car_fuel_1hot),axis=1)\n",
    "\n",
    "car_trans_type = carSales_X[\"Transmission Type\"]\n",
    "car_trans_1hot = encoder_trans.transform(car_trans_type)\n",
    "print(car_trans_1hot.shape)\n",
    "\n",
    "train_X = np.concatenate((train_X,car_trans_1hot),axis=1)\n",
    "\n",
    "car_driven_wheels = carSales_X[\"Driven_Wheels\"]\n",
    "car_drive_1hot = encoder_wheels.transform(car_driven_wheels)\n",
    "print(car_drive_1hot.shape)\n",
    "\n",
    "train_X = np.concatenate((train_X,car_drive_1hot),axis=1)\n",
    "\n",
    "car_vehicle_size = carSales_X[\"Vehicle Size\"]\n",
    "car_size_1hot = encoder_size.transform(car_vehicle_size)\n",
    "print(car_size_1hot.shape)\n",
    "\n",
    "train_X = np.concatenate((train_X,car_size_1hot),axis=1)\n",
    "\n",
    "car_vehicle_style = carSales_X[\"Vehicle Style\"]\n",
    "car_style_1hot = encoder_style.transform(car_vehicle_style)\n",
    "print(car_style_1hot.shape)\n",
    "\n",
    "train_X = np.concatenate((train_X,car_style_1hot),axis=1)\n",
    "\n",
    "car_make = carSales_X[\"Make\"]\n",
    "car_make_1hot = encoder_make.transform(car_make)\n",
    "print(car_make_1hot.shape)\n",
    "\n",
    "train_X_make = np.concatenate((train_X,car_make_1hot),axis=1)\n",
    "\n",
    "#We prepare two sets of train X features, with Make and without Make and compare the performance of both\n",
    "print(train_X.shape)\n",
    "print(train_X_make.shape)\n"
   ]
  },
  {
   "cell_type": "code",
   "execution_count": 52,
   "metadata": {},
   "outputs": [
    {
     "name": "stdout",
     "output_type": "stream",
     "text": [
      "(943, 6)\n",
      "(943, 8)\n",
      "(943, 5)\n",
      "(943, 4)\n",
      "(943, 3)\n",
      "(943, 16)\n",
      "(943, 10)\n",
      "(943, 45)\n",
      "(943, 55)\n"
     ]
    }
   ],
   "source": [
    "car_eng_cyl = carSales_test_X[\"Engine Cylinders\"]\n",
    "car_eng_1hot = encoder_cyl.transform(car_eng_cyl)\n",
    "print(car_eng_1hot.shape)\n",
    "\n",
    "test_X = np.concatenate((test_X,car_eng_1hot),axis=1)\n",
    "\n",
    "car_eng_fuel_type = carSales_test_X[\"Engine Fuel Type\"]\n",
    "car_fuel_1hot = encoder_fuel.transform(car_eng_fuel_type)\n",
    "print(car_fuel_1hot.shape)\n",
    "\n",
    "test_X = np.concatenate((test_X,car_fuel_1hot),axis=1)\n",
    "\n",
    "car_trans_type_test = carSales_test_X[\"Transmission Type\"]\n",
    "car_trans_1hot_test = encoder_trans.transform(car_trans_type_test)\n",
    "print(car_trans_1hot_test.shape)\n",
    "\n",
    "test_X = np.concatenate((test_X,car_trans_1hot_test),axis=1)\n",
    "\n",
    "car_driven_wheels_test = carSales_test_X[\"Driven_Wheels\"]\n",
    "car_drive_1hot_test = encoder_wheels.transform(car_driven_wheels_test)\n",
    "print(car_drive_1hot_test.shape)\n",
    "\n",
    "test_X = np.concatenate((test_X,car_drive_1hot_test),axis=1)\n",
    "\n",
    "car_vehicle_size_test = carSales_test_X[\"Vehicle Size\"]\n",
    "car_size_1hot_test = encoder_size.transform(car_vehicle_size_test)\n",
    "print(car_size_1hot_test.shape)\n",
    "\n",
    "test_X = np.concatenate((test_X,car_size_1hot_test),axis=1)\n",
    "\n",
    "car_vehicle_style_test = carSales_test_X[\"Vehicle Style\"]\n",
    "car_style_1hot_test = encoder_style.transform(car_vehicle_style_test)\n",
    "print(car_style_1hot_test.shape)\n",
    "\n",
    "test_X = np.concatenate((test_X,car_style_1hot_test),axis=1)\n",
    "\n",
    "car_make_test = carSales_test_X[\"Make\"]\n",
    "car_make_1hot_test = encoder_make.transform(car_make_test)\n",
    "print(car_make_1hot_test.shape)\n",
    "\n",
    "test_X_make = np.concatenate((test_X,car_make_1hot_test),axis=1)\n",
    "\n",
    "print(test_X.shape)\n",
    "print(test_X_make.shape)"
   ]
  },
  {
   "cell_type": "code",
   "execution_count": 53,
   "metadata": {},
   "outputs": [
    {
     "name": "stdout",
     "output_type": "stream",
     "text": [
      "Series([], dtype: bool)\n",
      "0    True\n",
      "dtype: bool\n",
      "Series([], dtype: bool)\n",
      "Series([], dtype: bool)\n",
      "Series([], dtype: bool)\n",
      "0    True\n",
      "dtype: bool\n",
      "Series([], dtype: bool)\n",
      "Series([], dtype: bool)\n"
     ]
    }
   ],
   "source": [
    "train_Y = pd.DataFrame(carSales_Y)\n",
    "m=train_Y.isnull().any()\n",
    "print(m[m])\n",
    "m=np.isfinite(train_Y.select_dtypes(include=['float64'])).any()\n",
    "print(m[m])\n",
    "\n",
    "train_Y_orig = pd.DataFrame(carSales_Y_orig)\n",
    "m=train_Y_orig.isnull().any()\n",
    "print(m[m])\n",
    "m=np.isfinite(train_Y_orig.select_dtypes(include=['float64'])).any()\n",
    "print(m[m])\n",
    "\n",
    "test_Y = pd.DataFrame(carSales_test_Y)\n",
    "m=test_Y.isnull().any()\n",
    "print(m[m])\n",
    "m=np.isfinite(test_Y.select_dtypes(include=['float64'])).any()\n",
    "print(m[m])\n",
    "\n",
    "test_Y_orig = pd.DataFrame(carSales_test_Y_orig)\n",
    "m=test_Y_orig.isnull().any()\n",
    "print(m[m])\n",
    "m=np.isfinite(test_Y_orig.select_dtypes(include=['float64'])).any()\n",
    "print(m[m])"
   ]
  },
  {
   "cell_type": "markdown",
   "metadata": {
    "collapsed": true
   },
   "source": [
    "We now take backup of the pre-processed data, so the modeling can be done instantaneously on the pre-processed data\n",
    "at any later point of time"
   ]
  },
  {
   "cell_type": "code",
   "execution_count": 54,
   "metadata": {
    "collapsed": true
   },
   "outputs": [],
   "source": [
    "train_X_ordinary='C:/users/hackuser1/train_X_ordUSJap.pkl'\n",
    "test_X_ordinary='C:/users/hackuser1/test_X_ordUSJap.pkl'\n",
    "train_Y_ordinary='C:/users/hackuser1/train_Y_ordUSJap.pkl'\n",
    "test_Y_ordinary='C:/users/hackuser1/test_Y_ordUSJap.pkl'\n",
    "train_Y_ordinary_orig='C:/users/hackuser1/train_Y_ord_origUSJap.pkl'\n",
    "test_Y_ordinary_orig='C:/users/hackuser1/test_Y_ord_origUSJap.pkl'\n",
    "\n",
    "with open(train_X_ordinary, \"wb\") as f:\n",
    "    w = pickle.dump(train_X,f)\n",
    "with open(test_X_ordinary, \"wb\") as f:\n",
    "    w = pickle.dump(test_X,f)\n",
    "with open(train_Y_ordinary, \"wb\") as f:\n",
    "    w = pickle.dump(train_Y,f)\n",
    "with open(test_Y_ordinary, \"wb\") as f:\n",
    "    w = pickle.dump(test_Y,f)\n",
    "with open(train_Y_ordinary_orig, \"wb\") as f:\n",
    "    w = pickle.dump(train_Y_orig,f)\n",
    "with open(test_Y_ordinary_orig, \"wb\") as f:\n",
    "    w = pickle.dump(test_Y_orig,f)\n",
    "    \n",
    "train_X_ord_make='C:/users/hackuser1/train_X_ord_makeUSJap.pkl'\n",
    "test_X_ord_make='C:/users/hackuser1/test_X_ord_makeUSJap.pkl'\n",
    "\n",
    "with open(train_X_ord_make, \"wb\") as f:\n",
    "    w = pickle.dump(train_X_make,f)\n",
    "with open(test_X_ord_make, \"wb\") as f:\n",
    "    w = pickle.dump(test_X_make,f)\n"
   ]
  },
  {
   "cell_type": "code",
   "execution_count": null,
   "metadata": {
    "collapsed": true
   },
   "outputs": [],
   "source": []
  }
 ],
 "metadata": {
  "kernelspec": {
   "display_name": "Python [default]",
   "language": "python",
   "name": "python3"
  },
  "language_info": {
   "codemirror_mode": {
    "name": "ipython",
    "version": 3
   },
   "file_extension": ".py",
   "mimetype": "text/x-python",
   "name": "python",
   "nbconvert_exporter": "python",
   "pygments_lexer": "ipython3",
   "version": "3.6.3"
  }
 },
 "nbformat": 4,
 "nbformat_minor": 2
}
