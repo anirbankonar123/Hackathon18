{
 "cells": [
  {
   "cell_type": "code",
   "execution_count": 18,
   "metadata": {},
   "outputs": [
    {
     "name": "stdout",
     "output_type": "stream",
     "text": [
      "<class 'pandas.core.frame.DataFrame'>\n",
      "Int64Index: 753128 entries, 905 to 1210809\n",
      "Data columns (total 80 columns):\n",
      "Price         753128 non-null int64\n",
      "Mileage       753128 non-null int64\n",
      "Age           753128 non-null int64\n",
      "Chevrolet     753128 non-null uint8\n",
      "Chrysler      753128 non-null uint8\n",
      "Dodge         753128 non-null uint8\n",
      "FIAT          753128 non-null uint8\n",
      "Ford          753128 non-null uint8\n",
      "Honda         753128 non-null uint8\n",
      "Hyundai       753128 non-null uint8\n",
      "Kia           753128 non-null uint8\n",
      "Mazda         753128 non-null uint8\n",
      "Mitsubishi    753128 non-null uint8\n",
      "Nissan        753128 non-null uint8\n",
      "Oldsmobile    753128 non-null uint8\n",
      "Plymouth      753128 non-null uint8\n",
      "Pontiac       753128 non-null uint8\n",
      "Scion         753128 non-null uint8\n",
      "Subaru        753128 non-null uint8\n",
      "Suzuki        753128 non-null uint8\n",
      "Volkswagen    753128 non-null uint8\n",
      " AK           753128 non-null uint8\n",
      " AL           753128 non-null uint8\n",
      " AR           753128 non-null uint8\n",
      " AZ           753128 non-null uint8\n",
      " Az           753128 non-null uint8\n",
      " CA           753128 non-null uint8\n",
      " CO           753128 non-null uint8\n",
      " CT           753128 non-null uint8\n",
      " Ca           753128 non-null uint8\n",
      " DC           753128 non-null uint8\n",
      " DE           753128 non-null uint8\n",
      " FL           753128 non-null uint8\n",
      " Fl           753128 non-null uint8\n",
      " GA           753128 non-null uint8\n",
      " Ga           753128 non-null uint8\n",
      " HI           753128 non-null uint8\n",
      " IA           753128 non-null uint8\n",
      " ID           753128 non-null uint8\n",
      " IL           753128 non-null uint8\n",
      " IN           753128 non-null uint8\n",
      " KS           753128 non-null uint8\n",
      " KY           753128 non-null uint8\n",
      " LA           753128 non-null uint8\n",
      " MA           753128 non-null uint8\n",
      " MD           753128 non-null uint8\n",
      " ME           753128 non-null uint8\n",
      " MI           753128 non-null uint8\n",
      " MN           753128 non-null uint8\n",
      " MO           753128 non-null uint8\n",
      " MS           753128 non-null uint8\n",
      " MT           753128 non-null uint8\n",
      " Md           753128 non-null uint8\n",
      " NC           753128 non-null uint8\n",
      " ND           753128 non-null uint8\n",
      " NE           753128 non-null uint8\n",
      " NH           753128 non-null uint8\n",
      " NJ           753128 non-null uint8\n",
      " NM           753128 non-null uint8\n",
      " NV           753128 non-null uint8\n",
      " NY           753128 non-null uint8\n",
      " OH           753128 non-null uint8\n",
      " OK           753128 non-null uint8\n",
      " OR           753128 non-null uint8\n",
      " Oh           753128 non-null uint8\n",
      " PA           753128 non-null uint8\n",
      " RI           753128 non-null uint8\n",
      " SC           753128 non-null uint8\n",
      " SD           753128 non-null uint8\n",
      " TN           753128 non-null uint8\n",
      " TX           753128 non-null uint8\n",
      " UT           753128 non-null uint8\n",
      " VA           753128 non-null uint8\n",
      " VT           753128 non-null uint8\n",
      " Va           753128 non-null uint8\n",
      " WA           753128 non-null uint8\n",
      " WI           753128 non-null uint8\n",
      " WV           753128 non-null uint8\n",
      " WY           753128 non-null uint8\n",
      " ga           753128 non-null uint8\n",
      "dtypes: int64(3), uint8(77)\n",
      "memory usage: 78.3 MB\n"
     ]
    }
   ],
   "source": [
    "import numpy as np\n",
    "import pickle\n",
    "import pandas as pd\n",
    "carSales=pd.read_pickle('carSales.pkl')\n",
    "carSales.info()"
   ]
  },
  {
   "cell_type": "code",
   "execution_count": 19,
   "metadata": {
    "collapsed": true
   },
   "outputs": [],
   "source": [
    "from sklearn.model_selection import train_test_split\n",
    "train_set,test_set = train_test_split(carSales,test_size=0.2,random_state=42)\n",
    "train_X = train_set.copy()\n",
    "train_Y = train_set[\"Price\"].copy()\n",
    "train_X = train_X.drop(\"Price\", axis=1) # drop labels for training set"
   ]
  },
  {
   "cell_type": "code",
   "execution_count": 20,
   "metadata": {
    "collapsed": true
   },
   "outputs": [],
   "source": [
    "test_X = test_set.copy()\n",
    "test_Y = test_set[\"Price\"].copy()\n",
    "test_X = test_X.drop(\"Price\", axis=1) # drop labels for test set"
   ]
  },
  {
   "cell_type": "code",
   "execution_count": 21,
   "metadata": {},
   "outputs": [
    {
     "data": {
      "text/plain": [
       "LinearRegression(copy_X=True, fit_intercept=True, n_jobs=1, normalize=False)"
      ]
     },
     "execution_count": 21,
     "metadata": {},
     "output_type": "execute_result"
    }
   ],
   "source": [
    "from sklearn.linear_model import LinearRegression\n",
    "lin_reg = LinearRegression()\n",
    "lin_reg.fit(train_X, train_Y)"
   ]
  },
  {
   "cell_type": "code",
   "execution_count": 22,
   "metadata": {},
   "outputs": [
    {
     "data": {
      "text/plain": [
       "7699.1330344781463"
      ]
     },
     "execution_count": 22,
     "metadata": {},
     "output_type": "execute_result"
    }
   ],
   "source": [
    "from sklearn.linear_model import LinearRegression\n",
    "from sklearn.metrics import mean_squared_error\n",
    "lin_reg = LinearRegression()\n",
    "lin_reg.fit(train_X, train_Y)\n",
    "carSales_predictions = lin_reg.predict(test_X)\n",
    "lin_mse = mean_squared_error(test_Y, carSales_predictions)\n",
    "lin_mse = np.sqrt(lin_mse)\n",
    "lin_mse #8399.55"
   ]
  },
  {
   "cell_type": "code",
   "execution_count": null,
   "metadata": {
    "collapsed": true
   },
   "outputs": [],
   "source": [
    "import pickle\n",
    "filename = 'model.pkl'\n",
    "with open(\"model.pkl\", \"wb\") as f:\n",
    "    w = pickle.dump(tree_reg,f)"
   ]
  },
  {
   "cell_type": "code",
   "execution_count": 1,
   "metadata": {},
   "outputs": [
    {
     "ename": "ValueError",
     "evalue": "unsupported pickle protocol: 3",
     "output_type": "error",
     "traceback": [
      "\u001b[1;31m---------------------------------------------------------------------------\u001b[0m",
      "\u001b[1;31mValueError\u001b[0m                                Traceback (most recent call last)",
      "\u001b[1;32m<ipython-input-1-7067f9cf7397>\u001b[0m in \u001b[0;36m<module>\u001b[1;34m()\u001b[0m\n\u001b[0;32m      1\u001b[0m \u001b[1;32mimport\u001b[0m \u001b[0mpickle\u001b[0m\u001b[1;33m\u001b[0m\u001b[0m\n\u001b[0;32m      2\u001b[0m \u001b[0mf\u001b[0m\u001b[1;33m=\u001b[0m\u001b[0mopen\u001b[0m\u001b[1;33m(\u001b[0m\u001b[1;34m\"model.pkl\"\u001b[0m\u001b[1;33m,\u001b[0m \u001b[1;34m\"rb\"\u001b[0m\u001b[1;33m)\u001b[0m\u001b[1;33m\u001b[0m\u001b[0m\n\u001b[1;32m----> 3\u001b[1;33m \u001b[0mmodel\u001b[0m\u001b[1;33m=\u001b[0m \u001b[0mpickle\u001b[0m\u001b[1;33m.\u001b[0m\u001b[0mload\u001b[0m\u001b[1;33m(\u001b[0m\u001b[0mf\u001b[0m\u001b[1;33m)\u001b[0m\u001b[1;33m\u001b[0m\u001b[0m\n\u001b[0m",
      "\u001b[1;32mC:\\Anaconda\\envs\\python2\\lib\\pickle.pyc\u001b[0m in \u001b[0;36mload\u001b[1;34m(file)\u001b[0m\n\u001b[0;32m   1382\u001b[0m \u001b[1;33m\u001b[0m\u001b[0m\n\u001b[0;32m   1383\u001b[0m \u001b[1;32mdef\u001b[0m \u001b[0mload\u001b[0m\u001b[1;33m(\u001b[0m\u001b[0mfile\u001b[0m\u001b[1;33m)\u001b[0m\u001b[1;33m:\u001b[0m\u001b[1;33m\u001b[0m\u001b[0m\n\u001b[1;32m-> 1384\u001b[1;33m     \u001b[1;32mreturn\u001b[0m \u001b[0mUnpickler\u001b[0m\u001b[1;33m(\u001b[0m\u001b[0mfile\u001b[0m\u001b[1;33m)\u001b[0m\u001b[1;33m.\u001b[0m\u001b[0mload\u001b[0m\u001b[1;33m(\u001b[0m\u001b[1;33m)\u001b[0m\u001b[1;33m\u001b[0m\u001b[0m\n\u001b[0m\u001b[0;32m   1385\u001b[0m \u001b[1;33m\u001b[0m\u001b[0m\n\u001b[0;32m   1386\u001b[0m \u001b[1;32mdef\u001b[0m \u001b[0mloads\u001b[0m\u001b[1;33m(\u001b[0m\u001b[0mstr\u001b[0m\u001b[1;33m)\u001b[0m\u001b[1;33m:\u001b[0m\u001b[1;33m\u001b[0m\u001b[0m\n",
      "\u001b[1;32mC:\\Anaconda\\envs\\python2\\lib\\pickle.pyc\u001b[0m in \u001b[0;36mload\u001b[1;34m(self)\u001b[0m\n\u001b[0;32m    862\u001b[0m             \u001b[1;32mwhile\u001b[0m \u001b[1;36m1\u001b[0m\u001b[1;33m:\u001b[0m\u001b[1;33m\u001b[0m\u001b[0m\n\u001b[0;32m    863\u001b[0m                 \u001b[0mkey\u001b[0m \u001b[1;33m=\u001b[0m \u001b[0mread\u001b[0m\u001b[1;33m(\u001b[0m\u001b[1;36m1\u001b[0m\u001b[1;33m)\u001b[0m\u001b[1;33m\u001b[0m\u001b[0m\n\u001b[1;32m--> 864\u001b[1;33m                 \u001b[0mdispatch\u001b[0m\u001b[1;33m[\u001b[0m\u001b[0mkey\u001b[0m\u001b[1;33m]\u001b[0m\u001b[1;33m(\u001b[0m\u001b[0mself\u001b[0m\u001b[1;33m)\u001b[0m\u001b[1;33m\u001b[0m\u001b[0m\n\u001b[0m\u001b[0;32m    865\u001b[0m         \u001b[1;32mexcept\u001b[0m \u001b[0m_Stop\u001b[0m\u001b[1;33m,\u001b[0m \u001b[0mstopinst\u001b[0m\u001b[1;33m:\u001b[0m\u001b[1;33m\u001b[0m\u001b[0m\n\u001b[0;32m    866\u001b[0m             \u001b[1;32mreturn\u001b[0m \u001b[0mstopinst\u001b[0m\u001b[1;33m.\u001b[0m\u001b[0mvalue\u001b[0m\u001b[1;33m\u001b[0m\u001b[0m\n",
      "\u001b[1;32mC:\\Anaconda\\envs\\python2\\lib\\pickle.pyc\u001b[0m in \u001b[0;36mload_proto\u001b[1;34m(self)\u001b[0m\n\u001b[0;32m    890\u001b[0m         \u001b[0mproto\u001b[0m \u001b[1;33m=\u001b[0m \u001b[0mord\u001b[0m\u001b[1;33m(\u001b[0m\u001b[0mself\u001b[0m\u001b[1;33m.\u001b[0m\u001b[0mread\u001b[0m\u001b[1;33m(\u001b[0m\u001b[1;36m1\u001b[0m\u001b[1;33m)\u001b[0m\u001b[1;33m)\u001b[0m\u001b[1;33m\u001b[0m\u001b[0m\n\u001b[0;32m    891\u001b[0m         \u001b[1;32mif\u001b[0m \u001b[1;32mnot\u001b[0m \u001b[1;36m0\u001b[0m \u001b[1;33m<=\u001b[0m \u001b[0mproto\u001b[0m \u001b[1;33m<=\u001b[0m \u001b[1;36m2\u001b[0m\u001b[1;33m:\u001b[0m\u001b[1;33m\u001b[0m\u001b[0m\n\u001b[1;32m--> 892\u001b[1;33m             \u001b[1;32mraise\u001b[0m \u001b[0mValueError\u001b[0m\u001b[1;33m,\u001b[0m \u001b[1;34m\"unsupported pickle protocol: %d\"\u001b[0m \u001b[1;33m%\u001b[0m \u001b[0mproto\u001b[0m\u001b[1;33m\u001b[0m\u001b[0m\n\u001b[0m\u001b[0;32m    893\u001b[0m     \u001b[0mdispatch\u001b[0m\u001b[1;33m[\u001b[0m\u001b[0mPROTO\u001b[0m\u001b[1;33m]\u001b[0m \u001b[1;33m=\u001b[0m \u001b[0mload_proto\u001b[0m\u001b[1;33m\u001b[0m\u001b[0m\n\u001b[0;32m    894\u001b[0m \u001b[1;33m\u001b[0m\u001b[0m\n",
      "\u001b[1;31mValueError\u001b[0m: unsupported pickle protocol: 3"
     ]
    }
   ],
   "source": [
    "import pickle\n",
    "f=open(\"model.pkl\", \"rb\")\n",
    "model= pickle.load(f)"
   ]
  },
  {
   "cell_type": "code",
   "execution_count": 23,
   "metadata": {
    "collapsed": true
   },
   "outputs": [],
   "source": [
    "columns=[\n",
    "'Mileage',\n",
    "'Age',\n",
    "'Chevrolet',\n",
    "'Chrysler',\n",
    "'Dodge',\n",
    "'FIAT',\n",
    "'Ford',\n",
    "'Honda',\n",
    "'Hyundai',\n",
    "'Kia',\n",
    "'Mazda',\n",
    "'Mitsubishi',\n",
    "'Nissan',\n",
    "'Oldsmobile',\n",
    "'Plymouth',\n",
    "'Pontiac',\n",
    "'Scion',\n",
    "'Subaru',\n",
    "'Suzuki',\n",
    "'Volkswagen',\n",
    "'AK',\n",
    "'AL',\n",
    "'AR',\n",
    "'AZ',\n",
    "'Az',\n",
    "'CA',\n",
    "'CO',\n",
    "'CT',\n",
    "'Ca',\n",
    "'DC',\n",
    "'DE',\n",
    "'FL',\n",
    "'Fl',\n",
    "'GA',\n",
    "'Ga',\n",
    "'HI',\n",
    "'IA',\n",
    "'ID',\n",
    "'IL',\n",
    "'IN',\n",
    "'KS',\n",
    "'KY',\n",
    "'LA',\n",
    "'MA',\n",
    "'MD',\n",
    "'ME',\n",
    "'MI',\n",
    "'MN',\n",
    "'MO',\n",
    "'MS',\n",
    "'MT',\n",
    "'Md',\n",
    "'NC',\n",
    "'ND',\n",
    "'NE',\n",
    "'NH',\n",
    "'NJ',\n",
    "'NM',\n",
    "'NV',\n",
    "'NY',\n",
    "'OH',\n",
    "'OK',\n",
    "'OR',\n",
    "'Oh',\n",
    "'PA',\n",
    "'RI',\n",
    "'SC',\n",
    "'SD',\n",
    "'TN',\n",
    "'TX',\n",
    "'UT',\n",
    "'VA',\n",
    "'VT',\n",
    "'Va',\n",
    "'WA',\n",
    "'WI',\n",
    "'WV',\n",
    "'WY',\n",
    "'ga'\n",
    "]\n"
   ]
  },
  {
   "cell_type": "code",
   "execution_count": 5,
   "metadata": {},
   "outputs": [
    {
     "name": "stderr",
     "output_type": "stream",
     "text": [
      "'C:\\Program' is not recognized as an internal or external command,\n",
      "operable program or batch file.\n"
     ]
    }
   ],
   "source": [
    "import sys\n",
    "!{sys.executable} -m pip install azureml"
   ]
  },
  {
   "cell_type": "code",
   "execution_count": 2,
   "metadata": {},
   "outputs": [],
   "source": [
    "from azureml import services"
   ]
  },
  {
   "cell_type": "code",
   "execution_count": 24,
   "metadata": {},
   "outputs": [],
   "source": [
    "from azureml import services\n",
    "#Use your own workspace information below!\n",
    "@services.publish('94546929892949dd840978c86ae17901', '2b44d7a453314c34b82fd8eae816c34f')\n",
    "@services.types(Make=unicode,State=unicode,Mileage=float,Age=float)\n",
    "@services.returns(float)\n",
    "def PredictPriceFirst(Make,State,Mileage,Age):\n",
    "    Input={\n",
    "              'Mileage':Mileage,\n",
    "              'Age':Age,\n",
    "              'Chevrolet':0,\n",
    "              'Chrysler':0,\n",
    "              'Dodge':0,\n",
    "              'FIAT':0,\n",
    "              'Ford':0,\n",
    "              'Honda':0,\n",
    "              'Hyundai':0,\n",
    "              'Kia':0,\n",
    "              'Mazda':0,\n",
    "              'Mitsubishi':0,\n",
    "              'Nissan':0,\n",
    "              'Oldsmobile':0,\n",
    "              'Plymouth':0,\n",
    "              'Pontiac':0,\n",
    "              'Scion':0,\n",
    "              'Subaru':0,\n",
    "              'Suzuki':0,\n",
    "              'Volkswagen':0,\n",
    "              'AK':0,\n",
    "              'AL':0,\n",
    "              'AR':0,\n",
    "              'AZ':0,\n",
    "              'Az':0,\n",
    "              'CA':0,\n",
    "              'CO':0,\n",
    "              'CT':0,\n",
    "              'Ca':0,\n",
    "              'DC':0,\n",
    "              'DE':0,\n",
    "              'FL':0,\n",
    "              'Fl':0,\n",
    "              'GA':0,\n",
    "              'Ga':0,\n",
    "              'HI':0,\n",
    "              'IA':0,\n",
    "              'ID':0,\n",
    "              'IL':0,\n",
    "              'IN':0,\n",
    "              'KS':0,\n",
    "              'KY':0,\n",
    "              'LA':0,\n",
    "              'MA':0,\n",
    "              'MD':0,\n",
    "              'ME':0,\n",
    "              'MI':0,\n",
    "              'MN':0,\n",
    "              'MO':0,\n",
    "              'MS':0,\n",
    "              'MT':0,\n",
    "              'Md':0,\n",
    "              'NC':0,\n",
    "              'ND':0,\n",
    "              'NE':0,\n",
    "              'NH':0,\n",
    "              'NJ':0,\n",
    "              'NM':0,\n",
    "              'NV':0,\n",
    "              'NY':0,\n",
    "              'OH':0,\n",
    "              'OK':0,\n",
    "              'OR':0,\n",
    "              'Oh':0,\n",
    "              'PA':0,\n",
    "              'RI':0,\n",
    "              'SC':0,\n",
    "              'SD':0,\n",
    "              'TN':0,\n",
    "              'TX':0,\n",
    "              'UT':0,\n",
    "              'VA':0,\n",
    "              'VT':0,\n",
    "              'Va':0,\n",
    "              'WA':0,\n",
    "              'WI':0,\n",
    "              'WV':0,\n",
    "              'WY':0,\n",
    "              'ga':0\n",
    "            \n",
    "\n",
    "         }\n",
    "    Input[Make]=1      \n",
    "    Input[State]=1  \n",
    "    df=pd.DataFrame(data=Input,index=[0])\n",
    "    df=df[columns]\n",
    "    price=lin_reg.predict(df)\n",
    "    return (price[0])\n",
    "    \n",
    "#PredictPrice('BMW','premium unleaded (required)',335.0,'MANUAL','rear wheel drive',2,'Compact','Coupe',19,2)"
   ]
  }
 ],
 "metadata": {
  "kernelspec": {
   "display_name": "Python 3",
   "language": "python",
   "name": "python3"
  },
  "language_info": {
   "codemirror_mode": {
    "name": "ipython",
    "version": 3
   },
   "file_extension": ".py",
   "mimetype": "text/x-python",
   "name": "python",
   "nbconvert_exporter": "python",
   "pygments_lexer": "ipython3",
   "version": "3.6.4"
  }
 },
 "nbformat": 4,
 "nbformat_minor": 2
}
