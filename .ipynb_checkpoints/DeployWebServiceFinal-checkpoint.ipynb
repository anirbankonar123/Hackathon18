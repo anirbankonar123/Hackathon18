{
 "cells": [
  {
   "cell_type": "code",
   "execution_count": 9,
   "metadata": {},
   "outputs": [],
   "source": [
    "from sklearn.metrics import mean_squared_error\n",
    "from sklearn.linear_model import LinearRegression\n",
    "import numpy as np"
   ]
  },
  {
   "cell_type": "code",
   "execution_count": 2,
   "metadata": {},
   "outputs": [
    {
     "name": "stdout",
     "output_type": "stream",
     "text": [
      "(3770, 39)\n",
      "(3770, 49)\n"
     ]
    }
   ],
   "source": [
    "import pickle\n",
    "import pandas as pd\n",
    "train_X=pd.read_pickle('train_X_ordUSJap.pkl')\n",
    "test_X=pd.read_pickle('test_X_ordUSJap.pkl')\n",
    "train_Y=pd.read_pickle('train_Y_ordUSJap.pkl') # train Y with log(MSRP)\n",
    "test_Y=pd.read_pickle('test_Y_ordUSJap.pkl')\n",
    "train_Y_orig=pd.read_pickle('train_Y_ord_origUSJap.pkl') # train Y with MSRP unmodified\n",
    "test_Y_orig=pd.read_pickle('test_Y_ord_origUSJap.pkl')\n",
    "\n",
    "train_X_make=pd.read_pickle('train_X_ord_makeUSJap.pkl')\n",
    "test_X_make=pd.read_pickle('test_X_ord_makeUSJap.pkl')\n",
    "\n",
    "print(train_X.shape)\n",
    "print(train_X_make.shape)"
   ]
  },
  {
   "cell_type": "code",
   "execution_count": 3,
   "metadata": {},
   "outputs": [],
   "source": [
    "#Loading Encoders\n",
    "encoder_cyl=pickle.load(open(\"encoder_cyl.pkl\", \"rb\"))\n",
    "encoder_fuel=pickle.load(open(\"encoder_fuel.pkl\", \"rb\"))\n",
    "encoder_trans=pickle.load(open(\"encoder_trans.pkl\", \"rb\"))\n",
    "encoder_wheels=pickle.load(open(\"encoder_wheels.pkl\", \"rb\"))\n",
    "encoder_size=pickle.load(open(\"encoder_size.pkl\", \"rb\"))\n",
    "encoder_make=pickle.load(open(\"encoder_make.pkl\", \"rb\"))\n",
    "encoder_style=pickle.load(open(\"encoder_style.pkl\", \"rb\"))\n",
    "#Loading scaler\n",
    "#scaler=pickle.load(open(\"scaler.pkl\", \"rb\"))\n"
   ]
  },
  {
   "cell_type": "code",
   "execution_count": 22,
   "metadata": {},
   "outputs": [
    {
     "data": {
      "text/plain": [
       "LinearRegression(copy_X=True, fit_intercept=True, n_jobs=1, normalize=False)"
      ]
     },
     "execution_count": 22,
     "metadata": {},
     "output_type": "execute_result"
    }
   ],
   "source": [
    "#fit train data with make and log MSRP\n",
    "lin_reg_make = LinearRegression()\n",
    "lin_reg_make.fit(train_X_make, train_Y)\n"
   ]
  },
  {
   "cell_type": "code",
   "execution_count": 23,
   "metadata": {},
   "outputs": [
    {
     "name": "stdout",
     "output_type": "stream",
     "text": [
      "rmse with make, log MSRP:7991.856265660178\n"
     ]
    }
   ],
   "source": [
    "carSales_predictions = lin_reg_make.predict(test_X_make)\n",
    "lin_mse = mean_squared_error(np.exp(test_Y), np.exp(carSales_predictions))\n",
    "lin_rmse = np.sqrt(lin_mse)\n",
    "print(\"rmse with make, log MSRP:\"+str(lin_rmse))"
   ]
  },
  {
   "cell_type": "code",
   "execution_count": 48,
   "metadata": {},
   "outputs": [
    {
     "data": {
      "text/plain": [
       "array([[ 6.        ,  3.04452244,  5.80814266],\n",
       "       [16.        ,  3.13549422,  4.94876003],\n",
       "       [15.        ,  3.17805383,  4.81218433],\n",
       "       ...,\n",
       "       [ 5.        ,  3.04452244,  5.80814266],\n",
       "       [ 0.        ,  3.25809654,  5.14166355],\n",
       "       [ 2.        ,  2.77258872,  5.56834459]])"
      ]
     },
     "execution_count": 48,
     "metadata": {},
     "output_type": "execute_result"
    }
   ],
   "source": [
    "test_X_make[:,0:3]"
   ]
  },
  {
   "cell_type": "code",
   "execution_count": 52,
   "metadata": {},
   "outputs": [],
   "source": [
    "def PredictPriceFinal(Engine_HP,Year,city_mpg,car_trans_type,car_driven_wheels,car_vehicle_size,car_vehicle_style,car_make,car_fuel_type):\n",
    "    Age=2017-Year\n",
    "    numeric_columns_list=['Age','log_city mpg','log_Engine HP']\n",
    "    df = pd.DataFrame([[Age,np.log(city_mpg),np.log(Engine_HP)]], columns=numeric_columns_list)\n",
    "    #df_scaled=scaler.transform(df)\n",
    "    df_scaled=df.values\n",
    "    car_fuel_1hot = encoder_fuel.transform([car_fuel_type])\n",
    "    df_scaled = np.concatenate((df_scaled,car_fuel_1hot),axis=1)\n",
    "    car_trans_1hot = encoder_trans.transform([car_trans_type])\n",
    "    df_scaled = np.concatenate((df_scaled,car_trans_1hot),axis=1)\n",
    "    car_drive_1hot = encoder_wheels.transform([car_driven_wheels])\n",
    "    df_scaled = np.concatenate((df_scaled,car_drive_1hot),axis=1)\n",
    "    car_size_1hot = encoder_size.transform([car_vehicle_size])\n",
    "    df_scaled = np.concatenate((df_scaled,car_size_1hot),axis=1)\n",
    "    car_style_1hot = encoder_style.transform([car_vehicle_style])\n",
    "    df_scaled = np.concatenate((df_scaled,car_style_1hot),axis=1)\n",
    "    car_make_1hot = encoder_make.transform([car_make])\n",
    "    df_scaled = np.concatenate((df_scaled,car_make_1hot),axis=1)\n",
    "    carSales_predictions = lin_reg_make.predict(df_scaled)\n",
    "    return int(np.exp(carSales_predictions[0]))"
   ]
  },
  {
   "cell_type": "code",
   "execution_count": 53,
   "metadata": {},
   "outputs": [
    {
     "data": {
      "text/plain": [
       "11561"
      ]
     },
     "execution_count": 53,
     "metadata": {},
     "output_type": "execute_result"
    }
   ],
   "source": [
    "PredictPriceFinal(250,2003,15,'AUTOMATIC','rear wheel drive','Large','Cargo Minivan','Chevrolet','regular unleaded')"
   ]
  },
  {
   "cell_type": "code",
   "execution_count": 54,
   "metadata": {},
   "outputs": [
    {
     "data": {
      "text/plain": [
       "30985"
      ]
     },
     "execution_count": 54,
     "metadata": {},
     "output_type": "execute_result"
    }
   ],
   "source": [
    "PredictPriceFinal(260,2016,19,'AUTOMATIC','front wheel drive','Large','4dr SUV','Nissan','regular unleaded')"
   ]
  },
  {
   "cell_type": "code",
   "execution_count": 55,
   "metadata": {},
   "outputs": [],
   "source": [
    "from azureml import services\n",
    "#Use your own workspace information below!\n",
    "@services.publish('fdc3d1eadeaa40069f8f5b4f9237fb4e', 'rob4fhmCohecN5GJ5/SPU6/0vkiRIvj6qV+f+SQoIsSEA8UvjfeQvVZsU5j3v0OBNPbgBQp6oVOjGHvXgDs2dA==')\n",
    "@services.types(Engine_HP=float,Year=float,city_mpg=float,car_trans_type=unicode,car_driven_wheels=unicode,car_vehicle_size=unicode,car_vehicle_style=unicode,car_make=unicode,car_fuel_type=unicode)\n",
    "@services.returns(float)\n",
    "def PredictPriceFinal(Engine_HP,Year,city_mpg,car_trans_type,car_driven_wheels,car_vehicle_size,car_vehicle_style,car_make,car_fuel_type):\n",
    "    Age=2017-Year\n",
    "    numeric_columns_list=['Age','log_city mpg','log_Engine HP']\n",
    "    df = pd.DataFrame([[Age,np.log(city_mpg),np.log(Engine_HP)]], columns=numeric_columns_list)\n",
    "    #df_scaled=scaler.transform(df)\n",
    "    df_scaled=df.values\n",
    "\n",
    "    car_fuel_1hot = encoder_fuel.transform([car_fuel_type])\n",
    "    df_scaled = np.concatenate((df_scaled,car_fuel_1hot),axis=1)\n",
    "    car_trans_1hot = encoder_trans.transform([car_trans_type])\n",
    "    df_scaled = np.concatenate((df_scaled,car_trans_1hot),axis=1)\n",
    "    car_drive_1hot = encoder_wheels.transform([car_driven_wheels])\n",
    "    df_scaled = np.concatenate((df_scaled,car_drive_1hot),axis=1)\n",
    "    car_size_1hot = encoder_size.transform([car_vehicle_size])\n",
    "    df_scaled = np.concatenate((df_scaled,car_size_1hot),axis=1)\n",
    "    car_style_1hot = encoder_style.transform([car_vehicle_style])\n",
    "    df_scaled = np.concatenate((df_scaled,car_style_1hot),axis=1)\n",
    "    car_make_1hot = encoder_make.transform([car_make])\n",
    "    df_scaled = np.concatenate((df_scaled,car_make_1hot),axis=1)\n",
    "    carSales_predictions = lin_reg_make.predict(df_scaled)\n",
    "    return int(np.exp(carSales_predictions[0]))"
   ]
  },
  {
   "cell_type": "code",
   "execution_count": 56,
   "metadata": {},
   "outputs": [
    {
     "name": "stdout",
     "output_type": "stream",
     "text": [
      "{\"Results\":{\"output1\":[{\"0\":\"10099\"}],\"output2\":[{\"Standard Output\":\"data:text/plain,Execution OK\\r\\n\",\"Graphics\":null}]}}\n"
     ]
    }
   ],
   "source": [
    "import urllib2\n",
    "import json\n",
    "\n",
    "data = {\n",
    "        \"Inputs\": {\n",
    "                \"input1\":\n",
    "                [\n",
    "                    {\n",
    "                            'car_vehicle_style': \"Cargo Minivan\",   \n",
    "                            'car_fuel_type': \"regular unleaded\",   \n",
    "                            'car_vehicle_size': \"Large\",   \n",
    "                            'car_make': \"Chevrolet\",   \n",
    "                            'Engine_HP': \"190\",   \n",
    "                            'car_trans_type': \"AUTOMATIC\",   \n",
    "                            'Year': \"2003\",   \n",
    "                            'city_mpg': \"15\",   \n",
    "                            'car_driven_wheels': \"rear wheel drive\",   \n",
    "                    }\n",
    "                ],\n",
    "        },\n",
    "    \"GlobalParameters\":  {\n",
    "    }\n",
    "}\n",
    "\n",
    "body = str.encode(json.dumps(data))\n",
    "url = 'https://ussouthcentral.services.azureml.net/workspaces/fdc3d1eadeaa40069f8f5b4f9237fb4e/services/e8bb3ce25f174344b5753223af380fc4/execute?api-version=2.0&format=swagger'\n",
    "\n",
    "api_key = 'iDN4GcekS1FuMCCik12CZ941Y7Ey5ddNtcHWfXslib5nM9qJPzVoBKbQ8rIEYKqY9Tb2qCwZXxRgXcMCt7RChQ==' # Replace this with the API key for the web service\n",
    "\n",
    "headers = {'Content-Type':'application/json', 'Authorization':('Bearer '+ api_key)}\n",
    "\n",
    "req = urllib2.Request(url, body, headers)\n",
    "\n",
    "try:\n",
    "    response = urllib2.urlopen(req)\n",
    "\n",
    "    result = response.read()\n",
    "    print(result)\n",
    "except urllib2.HTTPError, error:\n",
    "    print(\"The request failed with status code: \" + str(error.code))\n",
    "\n",
    "    # Print the headers - they include the requert ID and the timestamp, which are useful for debugging the failure\n",
    "    print(error.info())\n",
    "    print(json.loads(error.read())) \n"
   ]
  }
 ],
 "metadata": {
  "kernelspec": {
   "display_name": "Python 3",
   "language": "python",
   "name": "python3"
  },
  "language_info": {
   "codemirror_mode": {
    "name": "ipython",
    "version": 3
   },
   "file_extension": ".py",
   "mimetype": "text/x-python",
   "name": "python",
   "nbconvert_exporter": "python",
   "pygments_lexer": "ipython3",
   "version": "3.6.4"
  }
 },
 "nbformat": 4,
 "nbformat_minor": 2
}
