{
 "cells": [
  {
   "cell_type": "code",
   "execution_count": 1,
   "metadata": {
    "collapsed": true
   },
   "outputs": [],
   "source": [
    "import numpy as np\n",
    "import pandas as pd"
   ]
  },
  {
   "cell_type": "code",
   "execution_count": 2,
   "metadata": {
    "collapsed": true
   },
   "outputs": [],
   "source": [
    "import pickle\n",
    "#Loading Model\n",
    "xgb_model=pickle.load(open(\"C:/users/hackuser1/carsales_xgb.pickle.dat\", \"rb\"))\n",
    "#Loading Encoders\n",
    "encoder_cyl=pickle.load(open(\"C:/users/hackuser1/encoder_cyl.pickle.dat\", \"rb\"))\n",
    "encoder_fuel=pickle.load(open(\"C:/users/hackuser1/encoder_fuel.pickle.dat\", \"rb\"))\n",
    "encoder_trans=pickle.load(open(\"C:/users/hackuser1/encoder_trans.pickle.dat\", \"rb\"))\n",
    "encoder_wheels=pickle.load(open(\"C:/users/hackuser1/encoder_wheels.pickle.dat\", \"rb\"))\n",
    "encoder_size=pickle.load(open(\"C:/users/hackuser1/encoder_size.pickle.dat\", \"rb\"))\n",
    "encoder_make=pickle.load(open(\"C:/users/hackuser1/encoder_make.pickle.dat\", \"rb\"))\n",
    "encoder_style=pickle.load(open(\"C:/users/hackuser1/encoder_style.pickle.dat\", \"rb\"))\n",
    "#Loading scaler\n",
    "scaler=pickle.load(open(\"C:/users/hackuser1/scaler.pickle.dat\", \"rb\"))\n"
   ]
  },
  {
   "cell_type": "code",
   "execution_count": 3,
   "metadata": {},
   "outputs": [
    {
     "data": {
      "text/plain": [
       "XGBRegressor(base_score=0.5, booster='gbtree', colsample_bylevel=1,\n",
       "       colsample_bytree=1, gamma=0, learning_rate=0.1, max_delta_step=0,\n",
       "       max_depth=5, min_child_weight=1, missing=nan, n_estimators=350,\n",
       "       n_jobs=1, nthread=None, objective='reg:linear', random_state=0,\n",
       "       reg_alpha=0, reg_lambda=1, scale_pos_weight=1, seed=None,\n",
       "       silent=True, subsample=1)"
      ]
     },
     "execution_count": 3,
     "metadata": {},
     "output_type": "execute_result"
    }
   ],
   "source": [
    "xgb_model"
   ]
  },
  {
   "cell_type": "code",
   "execution_count": 4,
   "metadata": {
    "collapsed": true
   },
   "outputs": [],
   "source": [
    "Engine_HP=np.log(1+300)\n",
    "Age=7\n",
    "city_mpg=19\n",
    "log_city_mpg=3.044\n",
    "car_trans_type='AUTOMATIC'\n",
    "car_driven_wheels='front wheel drive'\n",
    "car_vehicle_size='Large'\n",
    "car_vehicle_style='4dr SUV'\n",
    "car_make='Chebrolet'\n",
    "numeric_columns_list=['Engine HP','Age','log_city mpg']"
   ]
  },
  {
   "cell_type": "code",
   "execution_count": 5,
   "metadata": {
    "collapsed": true
   },
   "outputs": [],
   "source": [
    "df = pd.DataFrame([[Engine_HP,Age,city_mpg]], columns=numeric_columns_list)"
   ]
  },
  {
   "cell_type": "code",
   "execution_count": 6,
   "metadata": {
    "collapsed": true
   },
   "outputs": [],
   "source": [
    "df_scaled=scaler.transform(df)"
   ]
  },
  {
   "cell_type": "code",
   "execution_count": 7,
   "metadata": {},
   "outputs": [
    {
     "name": "stdout",
     "output_type": "stream",
     "text": [
      "(1, 5)\n",
      "(1, 4)\n",
      "(1, 3)\n",
      "(1, 16)\n",
      "(1, 18)\n",
      "(1, 49)\n"
     ]
    }
   ],
   "source": [
    "car_trans_1hot = encoder_trans.transform([car_trans_type])\n",
    "print(car_trans_1hot.shape)\n",
    "df_scaled = np.concatenate((df_scaled,car_trans_1hot),axis=1)\n",
    "car_drive_1hot = encoder_wheels.transform([car_driven_wheels])\n",
    "print(car_drive_1hot.shape)\n",
    "\n",
    "df_scaled = np.concatenate((df_scaled,car_drive_1hot),axis=1)\n",
    "\n",
    "\n",
    "car_size_1hot = encoder_size.transform([car_vehicle_size])\n",
    "print(car_size_1hot.shape)\n",
    "\n",
    "df_scaled = np.concatenate((df_scaled,car_size_1hot),axis=1)\n",
    "\n",
    "\n",
    "car_style_1hot = encoder_style.transform([car_vehicle_style])\n",
    "print(car_style_1hot.shape)\n",
    "\n",
    "df_scaled = np.concatenate((df_scaled,car_style_1hot),axis=1)\n",
    "\n",
    "\n",
    "car_make_1hot = encoder_make.transform([car_make])\n",
    "print(car_make_1hot.shape)\n",
    "\n",
    "df_scaled = np.concatenate((df_scaled,car_make_1hot),axis=1)\n",
    "\n",
    "#We prepare two sets of train X features, with Make and without Make and compare the performance of both\n",
    "print(df_scaled.shape)\n",
    "\n"
   ]
  },
  {
   "cell_type": "code",
   "execution_count": 8,
   "metadata": {
    "collapsed": true
   },
   "outputs": [],
   "source": [
    "carSales_predictions = xgb_model.predict(df_scaled)"
   ]
  },
  {
   "cell_type": "code",
   "execution_count": 9,
   "metadata": {},
   "outputs": [
    {
     "data": {
      "text/plain": [
       "array([ 2458.32080078], dtype=float32)"
      ]
     },
     "execution_count": 9,
     "metadata": {},
     "output_type": "execute_result"
    }
   ],
   "source": [
    "np.exp(carSales_predictions)"
   ]
  },
  {
   "cell_type": "code",
   "execution_count": 10,
   "metadata": {},
   "outputs": [
    {
     "name": "stdout",
     "output_type": "stream",
     "text": [
      "40194.9\n"
     ]
    }
   ],
   "source": [
    "def PredictPrice(Engine_HP,Age,city_mpg,car_trans_type,car_driven_wheels,car_vehicle_size,car_vehicle_style,car_make):\n",
    "    numeric_columns_list=['Engine HP','Age','log_city mpg']\n",
    "    df = pd.DataFrame([[Engine_HP,Age,city_mpg]], columns=numeric_columns_list)\n",
    "    df_scaled=scaler.transform(df)\n",
    "    car_trans_1hot = encoder_trans.transform([car_trans_type])\n",
    "    df_scaled = np.concatenate((df_scaled,car_trans_1hot),axis=1)\n",
    "    car_drive_1hot = encoder_wheels.transform([car_driven_wheels])\n",
    "    df_scaled = np.concatenate((df_scaled,car_drive_1hot),axis=1)\n",
    "    car_size_1hot = encoder_size.transform([car_vehicle_size])\n",
    "    df_scaled = np.concatenate((df_scaled,car_size_1hot),axis=1)\n",
    "    car_style_1hot = encoder_style.transform([car_vehicle_style])\n",
    "    df_scaled = np.concatenate((df_scaled,car_style_1hot),axis=1)\n",
    "    car_make_1hot = encoder_make.transform([car_make])\n",
    "    df_scaled = np.concatenate((df_scaled,car_make_1hot),axis=1)\n",
    "    carSales_predictions = xgb_model.predict(df_scaled)\n",
    "    return np.exp(carSales_predictions[0])\n",
    "Price=PredictPrice(260,2,22,'AUTOMATIC','front wheel drive','Large','4dr SUV','Nissan')\n",
    "print(Price)"
   ]
  },
  {
   "cell_type": "code",
   "execution_count": 42,
   "metadata": {},
   "outputs": [
    {
     "data": {
      "text/plain": [
       "2"
      ]
     },
     "execution_count": 42,
     "metadata": {},
     "output_type": "execute_result"
    }
   ],
   "source": [
    "int('2')"
   ]
  },
  {
   "cell_type": "code",
   "execution_count": 43,
   "metadata": {
    "collapsed": true
   },
   "outputs": [],
   "source": [
    "from flask import Flask , request\n",
    "# Create Flask object to run \n",
    "app = Flask(__name__) \n",
    "@app.route('/')\n",
    "def home():\n",
    "    return('hello')\n",
    "@app.route('/predict') \n",
    "def predict():\n",
    "    Engine_HP=request.args['Engine_HP']\n",
    "    Age=request.args['Age']\n",
    "    city_mpg=request.args['city_mpg']\n",
    "    city_mpg=np.log(int(city_mpg))\n",
    "    car_trans_type=request.args['car_trans_type']\n",
    "    car_driven_wheels=request.args['car_driven_wheels']\n",
    "    car_vehicle_size=request.args['car_vehicle_size']\n",
    "    car_vehicle_style=request.args['car_vehicle_style']\n",
    "    car_make=request.args['car_make']\n",
    "    numeric_columns_list=['Engine HP','Age','log_city mpg']\n",
    "    df = pd.DataFrame([[Engine_HP,Age,city_mpg]], columns=numeric_columns_list)\n",
    "    df_scaled=scaler.transform(df)\n",
    "    car_trans_1hot = encoder_trans.transform([car_trans_type])\n",
    "    df_scaled = np.concatenate((df_scaled,car_trans_1hot),axis=1)\n",
    "    car_drive_1hot = encoder_wheels.transform([car_driven_wheels])\n",
    "    df_scaled = np.concatenate((df_scaled,car_drive_1hot),axis=1)\n",
    "    car_size_1hot = encoder_size.transform([car_vehicle_size])\n",
    "    df_scaled = np.concatenate((df_scaled,car_size_1hot),axis=1)\n",
    "    car_style_1hot = encoder_style.transform([car_vehicle_style])\n",
    "    df_scaled = np.concatenate((df_scaled,car_style_1hot),axis=1)\n",
    "    car_make_1hot = encoder_make.transform([car_make])\n",
    "    df_scaled = np.concatenate((df_scaled,car_make_1hot),axis=1)\n",
    "    carSales_predictions = xgb_model.predict(df_scaled)\n",
    "    output = \"Predicted Price: \" + str(np.exp(carSales_predictions[0]))\n",
    "    return output\n"
   ]
  },
  {
   "cell_type": "code",
   "execution_count": null,
   "metadata": {},
   "outputs": [
    {
     "name": "stderr",
     "output_type": "stream",
     "text": [
      " * Running on http://127.0.0.1:5000/ (Press CTRL+C to quit)\n"
     ]
    },
    {
     "name": "stdout",
     "output_type": "stream",
     "text": [
      "**Starting Server...\n"
     ]
    },
    {
     "name": "stderr",
     "output_type": "stream",
     "text": [
      "127.0.0.1 - - [25/Apr/2018 09:26:42] \"GET /predict?Engine_HP=260&Age=2&city_mpg=22&car_trans_type='AUTOMATIC'&car_driven_wheels='front%20wheel%20drive'&car_vehicle_size='Large'&car_vehicle_style='4dr%20SUV'&car_make='Nissan' HTTP/1.1\" 200 -\n",
      "127.0.0.1 - - [25/Apr/2018 10:00:50] \"GET / HTTP/1.1\" 200 -\n",
      "127.0.0.1 - - [25/Apr/2018 10:01:08] \"GET / HTTP/1.1\" 200 -\n",
      "127.0.0.1 - - [25/Apr/2018 10:01:08] \"GET /favicon.ico HTTP/1.1\" 404 -\n"
     ]
    }
   ],
   "source": [
    "if __name__ == \"__main__\": \n",
    "    print(\"**Starting Server...\") \n",
    "app.run() "
   ]
  }
 ],
 "metadata": {
  "kernelspec": {
   "display_name": "Python [conda env:Anaconda]",
   "language": "python",
   "name": "conda-env-Anaconda-py"
  },
  "language_info": {
   "codemirror_mode": {
    "name": "ipython",
    "version": 3
   },
   "file_extension": ".py",
   "mimetype": "text/x-python",
   "name": "python",
   "nbconvert_exporter": "python",
   "pygments_lexer": "ipython3",
   "version": "3.6.3"
  }
 },
 "nbformat": 4,
 "nbformat_minor": 2
}
