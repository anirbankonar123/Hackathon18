{
 "cells": [
  {
   "cell_type": "markdown",
   "metadata": {
    "collapsed": true
   },
   "source": [
    "This notebook is to prepare and pre-process data for various prediction models from the Used Car Price data \n",
    "at : https://www.kaggle.com/jpayne/852k-used-car-listings/data, after the initial Data exploration, as given in ..... \n",
    "The numerical variables are scaled with StandardScaler, imputation strategy is used to replace 0 values with mean\n",
    "StratifiedshuffleSplit is done based on Age of car (Curr Year - Year of Car), by creating Age category (Age / 5), and \n",
    "putting the values in different Age category buckets. The same distribution is maintained in Train and Test data.\n",
    "The categorical variables (Make, State) are one-hot encoded and added to the feature vector. The numerical variables considered are : Age of Car in yrs,  and Mileage. "
   ]
  },
  {
   "cell_type": "code",
   "execution_count": 6,
   "metadata": {
    "collapsed": true
   },
   "outputs": [],
   "source": [
    "#Import all necessary libraries\n",
    "import pickle\n",
    "import pandas as pd\n",
    "import matplotlib.pyplot as plt\n",
    "from sklearn.model_selection import train_test_split\n",
    "import numpy as np\n",
    "from sklearn.model_selection import StratifiedShuffleSplit\n",
    "from sklearn.preprocessing import Imputer\n",
    "from sklearn.preprocessing import LabelEncoder\n",
    "from sklearn.preprocessing import OneHotEncoder\n",
    "from sklearn.preprocessing import LabelBinarizer\n",
    "from sklearn.base import BaseEstimator, TransformerMixin\n",
    "from sklearn.preprocessing import StandardScaler\n",
    "from sklearn.preprocessing import MinMaxScaler\n",
    "from sklearn.preprocessing import PolynomialFeatures"
   ]
  },
  {
   "cell_type": "markdown",
   "metadata": {
    "collapsed": true
   },
   "source": [
    "Read the pickle files prepared by stratifying the Car Sales Data based on Make, Model, and State. This is necessary since cars belong to different price segments, and including all make and models is not a viable solution, as the range of price is different for the same features for different makes. The stratification details can be found in the \n",
    "Data exploration notebook, which precedes this and outputs the data into .pkl files, based on car segment/price category"
   ]
  },
  {
   "cell_type": "code",
   "execution_count": 7,
   "metadata": {
    "collapsed": true
   },
   "outputs": [],
   "source": [
    "df_ordinary=pd.read_pickle('C:/users/hackuser1/carSalesFordF150.pkl')"
   ]
  },
  {
   "cell_type": "code",
   "execution_count": 8,
   "metadata": {},
   "outputs": [
    {
     "data": {
      "text/html": [
       "<div>\n",
       "<style scoped>\n",
       "    .dataframe tbody tr th:only-of-type {\n",
       "        vertical-align: middle;\n",
       "    }\n",
       "\n",
       "    .dataframe tbody tr th {\n",
       "        vertical-align: top;\n",
       "    }\n",
       "\n",
       "    .dataframe thead th {\n",
       "        text-align: right;\n",
       "    }\n",
       "</style>\n",
       "<table border=\"1\" class=\"dataframe\">\n",
       "  <thead>\n",
       "    <tr style=\"text-align: right;\">\n",
       "      <th></th>\n",
       "      <th>Price</th>\n",
       "      <th>Mileage</th>\n",
       "      <th>Age</th>\n",
       "    </tr>\n",
       "  </thead>\n",
       "  <tbody>\n",
       "    <tr>\n",
       "      <th>1298</th>\n",
       "      <td>11900</td>\n",
       "      <td>9</td>\n",
       "      <td>9</td>\n",
       "    </tr>\n",
       "    <tr>\n",
       "      <th>1299</th>\n",
       "      <td>5850</td>\n",
       "      <td>15</td>\n",
       "      <td>15</td>\n",
       "    </tr>\n",
       "    <tr>\n",
       "      <th>1304</th>\n",
       "      <td>11800</td>\n",
       "      <td>13</td>\n",
       "      <td>13</td>\n",
       "    </tr>\n",
       "    <tr>\n",
       "      <th>1326</th>\n",
       "      <td>28700</td>\n",
       "      <td>3</td>\n",
       "      <td>3</td>\n",
       "    </tr>\n",
       "    <tr>\n",
       "      <th>1332</th>\n",
       "      <td>17977</td>\n",
       "      <td>11</td>\n",
       "      <td>11</td>\n",
       "    </tr>\n",
       "  </tbody>\n",
       "</table>\n",
       "</div>"
      ],
      "text/plain": [
       "      Price  Mileage  Age\n",
       "1298  11900        9    9\n",
       "1299   5850       15   15\n",
       "1304  11800       13   13\n",
       "1326  28700        3    3\n",
       "1332  17977       11   11"
      ]
     },
     "execution_count": 8,
     "metadata": {},
     "output_type": "execute_result"
    }
   ],
   "source": [
    "df_ordinary.head()"
   ]
  },
  {
   "cell_type": "code",
   "execution_count": 9,
   "metadata": {},
   "outputs": [
    {
     "name": "stdout",
     "output_type": "stream",
     "text": [
      "13263\n"
     ]
    }
   ],
   "source": [
    "print(len(df_ordinary))\n"
   ]
  },
  {
   "cell_type": "markdown",
   "metadata": {
    "collapsed": true
   },
   "source": [
    "We check the distribution of Car Sales on the basis of Age of Car, and create Age-cat and check the distribution of the Car data based on Age-cat (Age / 5). We plan to use StratifiedSampling to make sure both Test and Train data represents same distribution of cars based on Age of Car"
   ]
  },
  {
   "cell_type": "code",
   "execution_count": 10,
   "metadata": {},
   "outputs": [
    {
     "data": {
      "text/plain": [
       "1.0    0.647893\n",
       "2.0    0.253412\n",
       "3.0    0.085350\n",
       "4.0    0.011611\n",
       "5.0    0.001734\n",
       "Name: Age-cat, dtype: float64"
      ]
     },
     "execution_count": 10,
     "metadata": {},
     "output_type": "execute_result"
    }
   ],
   "source": [
    "df_ordinary[\"Age\"].value_counts()\n",
    "#create a field Age-cat to divide the data into 5 Age categories, based on the Age of the car\n",
    "df_ordinary[\"Age-cat\"] = np.ceil(df_ordinary[\"Age\"] / 5)\n",
    "df_ordinary[\"Age-cat\"].where(df_ordinary[\"Age-cat\"] < 5, 5.0, inplace=True)\n",
    "#check distribution of Age Cat in the original data\n",
    "df_ordinary[\"Age-cat\"].value_counts() / len(df_ordinary)"
   ]
  },
  {
   "cell_type": "code",
   "execution_count": null,
   "metadata": {
    "collapsed": true
   },
   "outputs": [],
   "source": [
    "#We treat Make, Model, State as Categorical variables and these are already one-hot encoded as part of analysis"
   ]
  },
  {
   "cell_type": "code",
   "execution_count": 11,
   "metadata": {
    "collapsed": true
   },
   "outputs": [],
   "source": [
    "split = StratifiedShuffleSplit(n_splits=1,test_size=0.2,random_state=42)\n",
    "\n",
    "for train_index, test_index in split.split(df_ordinary,df_ordinary[\"Age-cat\"]):\n",
    "    strat_train_set = df_ordinary.iloc[train_index]\n",
    "    strat_test_set = df_ordinary.iloc[test_index]"
   ]
  },
  {
   "cell_type": "code",
   "execution_count": 12,
   "metadata": {},
   "outputs": [
    {
     "data": {
      "text/plain": [
       "1.0    0.647879\n",
       "2.0    0.253440\n",
       "3.0    0.085391\n",
       "4.0    0.011593\n",
       "5.0    0.001697\n",
       "Name: Age-cat, dtype: float64"
      ]
     },
     "execution_count": 12,
     "metadata": {},
     "output_type": "execute_result"
    }
   ],
   "source": [
    "#check distribution of Age Cat in the train data\n",
    "strat_train_set[\"Age-cat\"].value_counts() / len(strat_train_set)"
   ]
  },
  {
   "cell_type": "code",
   "execution_count": 13,
   "metadata": {},
   "outputs": [
    {
     "data": {
      "text/plain": [
       "1.0    0.647946\n",
       "2.0    0.253298\n",
       "3.0    0.085187\n",
       "4.0    0.011685\n",
       "5.0    0.001885\n",
       "Name: Age-cat, dtype: float64"
      ]
     },
     "execution_count": 13,
     "metadata": {},
     "output_type": "execute_result"
    }
   ],
   "source": [
    "#check distribution of Age Cat in the test data\n",
    "strat_test_set[\"Age-cat\"].value_counts() / len(strat_test_set)"
   ]
  },
  {
   "cell_type": "markdown",
   "metadata": {
    "collapsed": true
   },
   "source": [
    "Create the X and Y variables from the Feature analysis done in Exploration notebook. Repeat the same operations \n",
    "for Train and Test data."
   ]
  },
  {
   "cell_type": "code",
   "execution_count": 14,
   "metadata": {
    "collapsed": true
   },
   "outputs": [],
   "source": [
    "carSales_X = strat_train_set.copy()\n",
    "carSales_X = carSales_X.drop(\"Price\", axis=1) # drop labels for training set\n",
    "carSales_Y = strat_train_set[\"Price\"].copy() # use Price as labels for training set, based on data Exploration\n",
    "carSales_X = carSales_X.drop(\"Age-cat\", axis=1)\n",
    "\n",
    "carSales_test_X = strat_test_set.copy()\n",
    "carSales_test_X = carSales_test_X.drop(\"Price\", axis=1) # drop labels for test set\n",
    "carSales_test_X = carSales_test_X.drop(\"Age-cat\", axis=1)\n",
    "carSales_test_Y = strat_test_set[\"Price\"].copy()# use Price as labels for test set, based on data Exploration"
   ]
  },
  {
   "cell_type": "code",
   "execution_count": 15,
   "metadata": {},
   "outputs": [
    {
     "name": "stdout",
     "output_type": "stream",
     "text": [
      "(10610, 1)\n",
      "(2653, 1)\n"
     ]
    }
   ],
   "source": [
    "carSales_Y = carSales_Y.values.reshape(carSales_Y.shape[0],1)\n",
    "carSales_test_Y = carSales_test_Y.values.reshape(carSales_test_Y.shape[0],1)\n",
    "#carSales_Y_log = np.log(carSales_Y)\n",
    "#carSales_test_Y_log = np.log(carSales_test_Y)\n",
    "print(carSales_Y.shape)\n",
    "print(carSales_test_Y.shape)\n"
   ]
  },
  {
   "cell_type": "code",
   "execution_count": 16,
   "metadata": {},
   "outputs": [
    {
     "data": {
      "text/html": [
       "<div>\n",
       "<style scoped>\n",
       "    .dataframe tbody tr th:only-of-type {\n",
       "        vertical-align: middle;\n",
       "    }\n",
       "\n",
       "    .dataframe tbody tr th {\n",
       "        vertical-align: top;\n",
       "    }\n",
       "\n",
       "    .dataframe thead th {\n",
       "        text-align: right;\n",
       "    }\n",
       "</style>\n",
       "<table border=\"1\" class=\"dataframe\">\n",
       "  <thead>\n",
       "    <tr style=\"text-align: right;\">\n",
       "      <th></th>\n",
       "      <th>Mileage</th>\n",
       "      <th>Age</th>\n",
       "    </tr>\n",
       "  </thead>\n",
       "  <tbody>\n",
       "    <tr>\n",
       "      <th>39714</th>\n",
       "      <td>9</td>\n",
       "      <td>9</td>\n",
       "    </tr>\n",
       "    <tr>\n",
       "      <th>695489</th>\n",
       "      <td>4</td>\n",
       "      <td>4</td>\n",
       "    </tr>\n",
       "    <tr>\n",
       "      <th>706430</th>\n",
       "      <td>3</td>\n",
       "      <td>3</td>\n",
       "    </tr>\n",
       "    <tr>\n",
       "      <th>702727</th>\n",
       "      <td>3</td>\n",
       "      <td>3</td>\n",
       "    </tr>\n",
       "    <tr>\n",
       "      <th>682169</th>\n",
       "      <td>3</td>\n",
       "      <td>3</td>\n",
       "    </tr>\n",
       "  </tbody>\n",
       "</table>\n",
       "</div>"
      ],
      "text/plain": [
       "        Mileage  Age\n",
       "39714         9    9\n",
       "695489        4    4\n",
       "706430        3    3\n",
       "702727        3    3\n",
       "682169        3    3"
      ]
     },
     "execution_count": 16,
     "metadata": {},
     "output_type": "execute_result"
    }
   ],
   "source": [
    "carSales_X.head()"
   ]
  },
  {
   "cell_type": "code",
   "execution_count": 18,
   "metadata": {},
   "outputs": [
    {
     "data": {
      "text/html": [
       "<div>\n",
       "<style scoped>\n",
       "    .dataframe tbody tr th:only-of-type {\n",
       "        vertical-align: middle;\n",
       "    }\n",
       "\n",
       "    .dataframe tbody tr th {\n",
       "        vertical-align: top;\n",
       "    }\n",
       "\n",
       "    .dataframe thead th {\n",
       "        text-align: right;\n",
       "    }\n",
       "</style>\n",
       "<table border=\"1\" class=\"dataframe\">\n",
       "  <thead>\n",
       "    <tr style=\"text-align: right;\">\n",
       "      <th></th>\n",
       "      <th>Mileage</th>\n",
       "      <th>Age</th>\n",
       "    </tr>\n",
       "  </thead>\n",
       "  <tbody>\n",
       "    <tr>\n",
       "      <th>39714</th>\n",
       "      <td>9</td>\n",
       "      <td>9</td>\n",
       "    </tr>\n",
       "    <tr>\n",
       "      <th>695489</th>\n",
       "      <td>4</td>\n",
       "      <td>4</td>\n",
       "    </tr>\n",
       "    <tr>\n",
       "      <th>706430</th>\n",
       "      <td>3</td>\n",
       "      <td>3</td>\n",
       "    </tr>\n",
       "    <tr>\n",
       "      <th>702727</th>\n",
       "      <td>3</td>\n",
       "      <td>3</td>\n",
       "    </tr>\n",
       "    <tr>\n",
       "      <th>682169</th>\n",
       "      <td>3</td>\n",
       "      <td>3</td>\n",
       "    </tr>\n",
       "  </tbody>\n",
       "</table>\n",
       "</div>"
      ],
      "text/plain": [
       "        Mileage  Age\n",
       "39714         9    9\n",
       "695489        4    4\n",
       "706430        3    3\n",
       "702727        3    3\n",
       "682169        3    3"
      ]
     },
     "execution_count": 18,
     "metadata": {},
     "output_type": "execute_result"
    }
   ],
   "source": [
    "carSales_X_num = carSales_X.filter(['Mileage','Age'],axis=1)\n",
    "carSales_test_X_num=carSales_test_X.filter(['Mileage','Age'],axis=1)\n",
    "carSales_X_num.head()\n"
   ]
  },
  {
   "cell_type": "code",
   "execution_count": 19,
   "metadata": {},
   "outputs": [
    {
     "name": "stdout",
     "output_type": "stream",
     "text": [
      "Series([], dtype: bool)\n",
      "Series([], dtype: bool)\n",
      "Series([], dtype: bool)\n",
      "Series([], dtype: bool)\n"
     ]
    }
   ],
   "source": [
    "m=carSales_X_num.isnull().any()\n",
    "print(m[m])\n",
    "m=np.isfinite(carSales_X_num.select_dtypes(include=['float64'])).any()\n",
    "print(m[m])\n",
    "m=carSales_test_X_num.isnull().any()\n",
    "print(m[m])\n",
    "m=np.isfinite(carSales_test_X_num.select_dtypes(include=['float64'])).any()\n",
    "print(m[m])"
   ]
  },
  {
   "cell_type": "markdown",
   "metadata": {
    "collapsed": true
   },
   "source": [
    "Wherever there are 0 values, we replace by the mean "
   ]
  },
  {
   "cell_type": "code",
   "execution_count": 20,
   "metadata": {},
   "outputs": [
    {
     "data": {
      "text/plain": [
       "Imputer(axis=0, copy=True, missing_values=0, strategy='mean', verbose=0)"
      ]
     },
     "execution_count": 20,
     "metadata": {},
     "output_type": "execute_result"
    }
   ],
   "source": [
    "imputer = Imputer(missing_values=0,strategy=\"mean\")\n",
    "imputer.fit(carSales_X_num)\n",
    "imputer.fit(carSales_test_X_num)"
   ]
  },
  {
   "cell_type": "code",
   "execution_count": 22,
   "metadata": {},
   "outputs": [
    {
     "name": "stdout",
     "output_type": "stream",
     "text": [
      "(10610, 2)\n",
      "(2653, 2)\n"
     ]
    }
   ],
   "source": [
    "#Standardize the data using sklearn StandardScaler\n",
    "scaler = StandardScaler()\n",
    "train_X = scaler.fit_transform(carSales_X_num)\n",
    "test_X = scaler.transform(carSales_test_X_num)\n",
    "print(train_X.shape)\n",
    "print(test_X.shape)"
   ]
  },
  {
   "cell_type": "code",
   "execution_count": 63,
   "metadata": {},
   "outputs": [
    {
     "name": "stdout",
     "output_type": "stream",
     "text": [
      "(120340, 270)\n",
      "(30086, 270)\n"
     ]
    }
   ],
   "source": [
    "#carSales_X_cat = carSales_X.drop(['Mileage','Age'],axis=1)\n",
    "#carSales_test_X_cat = carSales_test_X.drop(['Mileage','Age'],axis=1)\n",
    "#print(carSales_X_cat.shape)\n",
    "#print(carSales_test_X_cat.shape)"
   ]
  },
  {
   "cell_type": "code",
   "execution_count": 64,
   "metadata": {},
   "outputs": [
    {
     "name": "stdout",
     "output_type": "stream",
     "text": [
      "(120340, 272)\n",
      "(30086, 272)\n"
     ]
    }
   ],
   "source": [
    "#train_X =  np.concatenate((train_X,carSales_X_cat.values),axis=1)\n",
    "#test_X =  np.concatenate((test_X,carSales_test_X_cat.values),axis=1)\n",
    "print(train_X.shape)\n",
    "print(test_X.shape)"
   ]
  },
  {
   "cell_type": "code",
   "execution_count": 23,
   "metadata": {},
   "outputs": [
    {
     "name": "stdout",
     "output_type": "stream",
     "text": [
      "Series([], dtype: bool)\n",
      "Series([], dtype: bool)\n",
      "Series([], dtype: bool)\n",
      "Series([], dtype: bool)\n"
     ]
    }
   ],
   "source": [
    "train_Y = pd.DataFrame(carSales_Y)\n",
    "m=train_Y.isnull().any()\n",
    "print(m[m])\n",
    "m=np.isfinite(train_Y.select_dtypes(include=['float64'])).any()\n",
    "print(m[m])\n",
    "\n",
    "#train_Y_log = pd.DataFrame(carSales_Y_log)\n",
    "#m=train_Y_log.isnull().any()\n",
    "#print(m[m])\n",
    "#m=np.isfinite(train_Y_log.select_dtypes(include=['float64'])).any()\n",
    "#print(m[m])\n",
    "\n",
    "test_Y = pd.DataFrame(carSales_test_Y)\n",
    "m=test_Y.isnull().any()\n",
    "print(m[m])\n",
    "m=np.isfinite(test_Y.select_dtypes(include=['float64'])).any()\n",
    "print(m[m])\n",
    "\n",
    "#test_Y_log = pd.DataFrame(carSales_test_Y_log)\n",
    "#m=test_Y_log.isnull().any()\n",
    "#print(m[m])\n",
    "#m=np.isfinite(test_Y_log.select_dtypes(include=['float64'])).any()\n",
    "#print(m[m])\n",
    "\n"
   ]
  },
  {
   "cell_type": "markdown",
   "metadata": {
    "collapsed": true
   },
   "source": [
    "We now take backup of the pre-processed data, so the modeling can be done instantaneously on the pre-processed data\n",
    "at any later point of time"
   ]
  },
  {
   "cell_type": "code",
   "execution_count": 24,
   "metadata": {
    "collapsed": true
   },
   "outputs": [],
   "source": [
    "train_X_mileage='C:/users/hackuser1/train_X_mileage1.pkl'\n",
    "test_X_mileage='C:/users/hackuser1/test_X_mileage1.pkl'\n",
    "train_Y_mileage='C:/users/hackuser1/train_Y_mileage1.pkl'\n",
    "test_Y_mileage='C:/users/hackuser1/test_Y_mileage1.pkl'\n",
    "#train_Y_logf='C:/users/hackuser1/train_Y_mileage_log1.pkl'\n",
    "#test_Y_logf='C:/users/hackuser1/test_Y_mileage_log1.pkl'\n",
    "\n",
    "with open(train_X_mileage, \"wb\") as f:\n",
    "    w = pickle.dump(train_X,f)\n",
    "with open(test_X_mileage, \"wb\") as f:\n",
    "    w = pickle.dump(test_X,f)\n",
    "with open(train_Y_mileage, \"wb\") as f:\n",
    "    w = pickle.dump(train_Y,f)\n",
    "with open(test_Y_mileage, \"wb\") as f:\n",
    "    w = pickle.dump(test_Y,f)\n",
    "#with open(train_Y_logf, \"wb\") as f:\n",
    "#    w = pickle.dump(train_Y_log,f)\n",
    "#with open(test_Y_logf, \"wb\") as f:\n",
    "#    w = pickle.dump(test_Y_log,f)\n"
   ]
  },
  {
   "cell_type": "code",
   "execution_count": null,
   "metadata": {
    "collapsed": true
   },
   "outputs": [],
   "source": []
  }
 ],
 "metadata": {
  "kernelspec": {
   "display_name": "Python [conda env:Anaconda]",
   "language": "python",
   "name": "conda-env-Anaconda-py"
  },
  "language_info": {
   "codemirror_mode": {
    "name": "ipython",
    "version": 3
   },
   "file_extension": ".py",
   "mimetype": "text/x-python",
   "name": "python",
   "nbconvert_exporter": "python",
   "pygments_lexer": "ipython3",
   "version": "3.6.3"
  }
 },
 "nbformat": 4,
 "nbformat_minor": 2
}
