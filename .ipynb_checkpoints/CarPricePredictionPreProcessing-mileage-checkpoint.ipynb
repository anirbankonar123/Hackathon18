{
 "cells": [
  {
   "cell_type": "markdown",
   "metadata": {
    "collapsed": true
   },
   "source": [
    "# This notebook is to prepare and pre-process data for various prediction models from the Used Car Price data at : https://www.kaggle.com/jpayne/852k-used-car-listings/data, after the initial Data exploration, as given in CarPricePredictionAnalysis-mileage.ipynb\n",
    "The numerical variables are scaled with StandardScaler, imputation strategy is used to replace 0 values with mean\n",
    "StratifiedshuffleSplit is done based on Age of car (Curr Year - Year of Car), by creating Age category (Age / 5), and \n",
    "putting the values in different Age category buckets. The same distribution is maintained in Train and Test data.\n",
    "The categorical variables (Make, Model, State) are one-hot encoded and added to the feature vector. The numerical variables considered are : Age of Car in yrs,  and Mileage (Miles driven). "
   ]
  },
  {
   "cell_type": "code",
   "execution_count": 1,
   "metadata": {},
   "outputs": [],
   "source": [
    "#Import all necessary libraries\n",
    "import pickle\n",
    "import pandas as pd\n",
    "import matplotlib.pyplot as plt\n",
    "from sklearn.model_selection import train_test_split\n",
    "import numpy as np\n",
    "from sklearn.model_selection import StratifiedShuffleSplit\n",
    "from sklearn.preprocessing import Imputer\n",
    "from sklearn.preprocessing import LabelEncoder\n",
    "from sklearn.preprocessing import OneHotEncoder\n",
    "from sklearn.preprocessing import LabelBinarizer\n",
    "from sklearn.base import BaseEstimator, TransformerMixin\n",
    "from sklearn.preprocessing import StandardScaler\n",
    "from sklearn.preprocessing import MinMaxScaler\n",
    "from sklearn.preprocessing import PolynomialFeatures"
   ]
  },
  {
   "cell_type": "markdown",
   "metadata": {
    "collapsed": true
   },
   "source": [
    "Read the pickle files prepared by stratifying the Car Sales Data based on Make, Model, and State. This is necessary since cars belong to different price segments, and including all make and models is not a viable solution, as the range of price is different for the same features for different makes. The stratification details can be found in the \n",
    "Data exploration notebook, which precedes this and outputs the data into .pkl files, based on car segment/price category"
   ]
  },
  {
   "cell_type": "code",
   "execution_count": 2,
   "metadata": {},
   "outputs": [],
   "source": [
    "df_ordinary=pd.read_pickle('C:/users/hackuser1/carSalesUSJapModels.pkl')"
   ]
  },
  {
   "cell_type": "code",
   "execution_count": 3,
   "metadata": {},
   "outputs": [
    {
     "data": {
      "text/html": [
       "<div>\n",
       "<style scoped>\n",
       "    .dataframe tbody tr th:only-of-type {\n",
       "        vertical-align: middle;\n",
       "    }\n",
       "\n",
       "    .dataframe tbody tr th {\n",
       "        vertical-align: top;\n",
       "    }\n",
       "\n",
       "    .dataframe thead th {\n",
       "        text-align: right;\n",
       "    }\n",
       "</style>\n",
       "<table border=\"1\" class=\"dataframe\">\n",
       "  <thead>\n",
       "    <tr style=\"text-align: right;\">\n",
       "      <th></th>\n",
       "      <th>Price</th>\n",
       "      <th>Mileage</th>\n",
       "      <th>Age</th>\n",
       "      <th>log_Price</th>\n",
       "      <th>Chevrolet</th>\n",
       "      <th>Chrysler</th>\n",
       "      <th>Ford</th>\n",
       "      <th>Honda</th>\n",
       "      <th>Hyundai</th>\n",
       "      <th>Mazda</th>\n",
       "      <th>...</th>\n",
       "      <th>TX</th>\n",
       "      <th>UT</th>\n",
       "      <th>VA</th>\n",
       "      <th>VT</th>\n",
       "      <th>Va</th>\n",
       "      <th>WA</th>\n",
       "      <th>WI</th>\n",
       "      <th>WV</th>\n",
       "      <th>WY</th>\n",
       "      <th>ga</th>\n",
       "    </tr>\n",
       "  </thead>\n",
       "  <tbody>\n",
       "    <tr>\n",
       "      <th>909</th>\n",
       "      <td>17233</td>\n",
       "      <td>25076</td>\n",
       "      <td>1</td>\n",
       "      <td>9.754639</td>\n",
       "      <td>1</td>\n",
       "      <td>0</td>\n",
       "      <td>0</td>\n",
       "      <td>0</td>\n",
       "      <td>0</td>\n",
       "      <td>0</td>\n",
       "      <td>...</td>\n",
       "      <td>0</td>\n",
       "      <td>0</td>\n",
       "      <td>0</td>\n",
       "      <td>0</td>\n",
       "      <td>0</td>\n",
       "      <td>0</td>\n",
       "      <td>0</td>\n",
       "      <td>0</td>\n",
       "      <td>0</td>\n",
       "      <td>0</td>\n",
       "    </tr>\n",
       "    <tr>\n",
       "      <th>910</th>\n",
       "      <td>8575</td>\n",
       "      <td>47036</td>\n",
       "      <td>6</td>\n",
       "      <td>9.056723</td>\n",
       "      <td>1</td>\n",
       "      <td>0</td>\n",
       "      <td>0</td>\n",
       "      <td>0</td>\n",
       "      <td>0</td>\n",
       "      <td>0</td>\n",
       "      <td>...</td>\n",
       "      <td>0</td>\n",
       "      <td>0</td>\n",
       "      <td>0</td>\n",
       "      <td>0</td>\n",
       "      <td>0</td>\n",
       "      <td>0</td>\n",
       "      <td>0</td>\n",
       "      <td>0</td>\n",
       "      <td>0</td>\n",
       "      <td>0</td>\n",
       "    </tr>\n",
       "    <tr>\n",
       "      <th>911</th>\n",
       "      <td>16733</td>\n",
       "      <td>34415</td>\n",
       "      <td>1</td>\n",
       "      <td>9.725198</td>\n",
       "      <td>1</td>\n",
       "      <td>0</td>\n",
       "      <td>0</td>\n",
       "      <td>0</td>\n",
       "      <td>0</td>\n",
       "      <td>0</td>\n",
       "      <td>...</td>\n",
       "      <td>0</td>\n",
       "      <td>0</td>\n",
       "      <td>0</td>\n",
       "      <td>0</td>\n",
       "      <td>0</td>\n",
       "      <td>1</td>\n",
       "      <td>0</td>\n",
       "      <td>0</td>\n",
       "      <td>0</td>\n",
       "      <td>0</td>\n",
       "    </tr>\n",
       "    <tr>\n",
       "      <th>912</th>\n",
       "      <td>17233</td>\n",
       "      <td>29601</td>\n",
       "      <td>1</td>\n",
       "      <td>9.754639</td>\n",
       "      <td>1</td>\n",
       "      <td>0</td>\n",
       "      <td>0</td>\n",
       "      <td>0</td>\n",
       "      <td>0</td>\n",
       "      <td>0</td>\n",
       "      <td>...</td>\n",
       "      <td>0</td>\n",
       "      <td>0</td>\n",
       "      <td>0</td>\n",
       "      <td>0</td>\n",
       "      <td>0</td>\n",
       "      <td>0</td>\n",
       "      <td>0</td>\n",
       "      <td>0</td>\n",
       "      <td>0</td>\n",
       "      <td>0</td>\n",
       "    </tr>\n",
       "    <tr>\n",
       "      <th>913</th>\n",
       "      <td>17933</td>\n",
       "      <td>21580</td>\n",
       "      <td>1</td>\n",
       "      <td>9.794454</td>\n",
       "      <td>1</td>\n",
       "      <td>0</td>\n",
       "      <td>0</td>\n",
       "      <td>0</td>\n",
       "      <td>0</td>\n",
       "      <td>0</td>\n",
       "      <td>...</td>\n",
       "      <td>0</td>\n",
       "      <td>0</td>\n",
       "      <td>0</td>\n",
       "      <td>0</td>\n",
       "      <td>0</td>\n",
       "      <td>0</td>\n",
       "      <td>0</td>\n",
       "      <td>0</td>\n",
       "      <td>0</td>\n",
       "      <td>0</td>\n",
       "    </tr>\n",
       "  </tbody>\n",
       "</table>\n",
       "<p>5 rows × 120 columns</p>\n",
       "</div>"
      ],
      "text/plain": [
       "     Price  Mileage  Age  log_Price  Chevrolet  Chrysler  Ford  Honda  \\\n",
       "909  17233    25076    1   9.754639          1         0     0      0   \n",
       "910   8575    47036    6   9.056723          1         0     0      0   \n",
       "911  16733    34415    1   9.725198          1         0     0      0   \n",
       "912  17233    29601    1   9.754639          1         0     0      0   \n",
       "913  17933    21580    1   9.794454          1         0     0      0   \n",
       "\n",
       "     Hyundai  Mazda ...    TX   UT   VA   VT   Va   WA   WI   WV   WY   ga  \n",
       "909        0      0 ...     0    0    0    0    0    0    0    0    0    0  \n",
       "910        0      0 ...     0    0    0    0    0    0    0    0    0    0  \n",
       "911        0      0 ...     0    0    0    0    0    1    0    0    0    0  \n",
       "912        0      0 ...     0    0    0    0    0    0    0    0    0    0  \n",
       "913        0      0 ...     0    0    0    0    0    0    0    0    0    0  \n",
       "\n",
       "[5 rows x 120 columns]"
      ]
     },
     "execution_count": 3,
     "metadata": {},
     "output_type": "execute_result"
    }
   ],
   "source": [
    "df_ordinary.head()"
   ]
  },
  {
   "cell_type": "code",
   "execution_count": 4,
   "metadata": {},
   "outputs": [
    {
     "name": "stdout",
     "output_type": "stream",
     "text": [
      "247396\n"
     ]
    }
   ],
   "source": [
    "print(len(df_ordinary))"
   ]
  },
  {
   "cell_type": "markdown",
   "metadata": {
    "collapsed": true
   },
   "source": [
    "We check the distribution of Car Sales on the basis of Age of Car, and create Age-cat and check the distribution of the Car data based on Age-cat (Age / 5). We plan to use StratifiedSampling to make sure both Test and Train data represents same distribution of cars based on Age of Car"
   ]
  },
  {
   "cell_type": "code",
   "execution_count": 5,
   "metadata": {},
   "outputs": [
    {
     "data": {
      "text/plain": [
       "1.0    0.799132\n",
       "2.0    0.145083\n",
       "3.0    0.048141\n",
       "4.0    0.006455\n",
       "0.0    0.000962\n",
       "5.0    0.000226\n",
       "Name: Age-cat, dtype: float64"
      ]
     },
     "execution_count": 5,
     "metadata": {},
     "output_type": "execute_result"
    }
   ],
   "source": [
    "df_ordinary[\"Age\"].value_counts()\n",
    "#create a field Age-cat to divide the data into 5 Age categories, based on the Age of the car\n",
    "df_ordinary[\"Age-cat\"] = np.ceil(df_ordinary[\"Age\"] / 5)\n",
    "df_ordinary[\"Age-cat\"].where(df_ordinary[\"Age-cat\"] < 5, 5.0, inplace=True)\n",
    "#check distribution of Age Cat in the original data\n",
    "df_ordinary[\"Age-cat\"].value_counts() / len(df_ordinary)"
   ]
  },
  {
   "cell_type": "markdown",
   "metadata": {
    "collapsed": true
   },
   "source": [
    "We treat Make, Model, State as Categorical variables and these are already one-hot encoded as part of analysis"
   ]
  },
  {
   "cell_type": "code",
   "execution_count": 7,
   "metadata": {},
   "outputs": [],
   "source": [
    "split = StratifiedShuffleSplit(n_splits=1,test_size=0.2,random_state=42)\n",
    "\n",
    "for train_index, test_index in split.split(df_ordinary,df_ordinary[\"Age-cat\"]):\n",
    "    strat_train_set = df_ordinary.iloc[train_index]\n",
    "    strat_test_set = df_ordinary.iloc[test_index]"
   ]
  },
  {
   "cell_type": "code",
   "execution_count": 8,
   "metadata": {},
   "outputs": [
    {
     "data": {
      "text/plain": [
       "1.0    0.799132\n",
       "2.0    0.145082\n",
       "3.0    0.048142\n",
       "4.0    0.006457\n",
       "0.0    0.000960\n",
       "5.0    0.000227\n",
       "Name: Age-cat, dtype: float64"
      ]
     },
     "execution_count": 8,
     "metadata": {},
     "output_type": "execute_result"
    }
   ],
   "source": [
    "#check distribution of Age Cat in the train data\n",
    "strat_train_set[\"Age-cat\"].value_counts() / len(strat_train_set)"
   ]
  },
  {
   "cell_type": "code",
   "execution_count": 9,
   "metadata": {},
   "outputs": [
    {
     "data": {
      "text/plain": [
       "1.0    0.799131\n",
       "2.0    0.145089\n",
       "3.0    0.048141\n",
       "4.0    0.006447\n",
       "0.0    0.000970\n",
       "5.0    0.000222\n",
       "Name: Age-cat, dtype: float64"
      ]
     },
     "execution_count": 9,
     "metadata": {},
     "output_type": "execute_result"
    }
   ],
   "source": [
    "#check distribution of Age Cat in the test data\n",
    "strat_test_set[\"Age-cat\"].value_counts() / len(strat_test_set)"
   ]
  },
  {
   "cell_type": "markdown",
   "metadata": {
    "collapsed": true
   },
   "source": [
    "Create the X and Y variables from the Feature analysis done in Exploration notebook. Repeat the same operations \n",
    "for Train and Test data."
   ]
  },
  {
   "cell_type": "code",
   "execution_count": 10,
   "metadata": {},
   "outputs": [],
   "source": [
    "carSales_X = strat_train_set.copy()\n",
    "carSales_X = carSales_X.drop(\"Price\", axis=1) # drop labels for training set\n",
    "carSales_X = carSales_X.drop(\"log_Price\", axis=1) # drop labels for training set\n",
    "carSales_Y = strat_train_set[\"log_Price\"].copy() # use Log Price as labels for training set, based on data Exploration\n",
    "carSales_X = carSales_X.drop(\"Age-cat\", axis=1)\n",
    "\n",
    "carSales_test_X = strat_test_set.copy()\n",
    "carSales_test_X = carSales_test_X.drop(\"Price\", axis=1) # drop labels for test set\n",
    "carSales_test_X = carSales_test_X.drop(\"log_Price\", axis=1) # drop labels for test set\n",
    "carSales_test_X = carSales_test_X.drop(\"Age-cat\", axis=1)\n",
    "carSales_test_Y = strat_test_set[\"log_Price\"].copy()# use Log Price as labels for test set, based on data Exploration"
   ]
  },
  {
   "cell_type": "code",
   "execution_count": 11,
   "metadata": {},
   "outputs": [
    {
     "name": "stdout",
     "output_type": "stream",
     "text": [
      "(197916, 1)\n",
      "(49480, 1)\n"
     ]
    }
   ],
   "source": [
    "carSales_Y = carSales_Y.values.reshape(carSales_Y.shape[0],1)\n",
    "carSales_test_Y = carSales_test_Y.values.reshape(carSales_test_Y.shape[0],1)\n",
    "\n",
    "print(carSales_Y.shape)\n",
    "print(carSales_test_Y.shape)\n"
   ]
  },
  {
   "cell_type": "code",
   "execution_count": 12,
   "metadata": {},
   "outputs": [
    {
     "data": {
      "text/html": [
       "<div>\n",
       "<style scoped>\n",
       "    .dataframe tbody tr th:only-of-type {\n",
       "        vertical-align: middle;\n",
       "    }\n",
       "\n",
       "    .dataframe tbody tr th {\n",
       "        vertical-align: top;\n",
       "    }\n",
       "\n",
       "    .dataframe thead th {\n",
       "        text-align: right;\n",
       "    }\n",
       "</style>\n",
       "<table border=\"1\" class=\"dataframe\">\n",
       "  <thead>\n",
       "    <tr style=\"text-align: right;\">\n",
       "      <th></th>\n",
       "      <th>Mileage</th>\n",
       "      <th>Age</th>\n",
       "      <th>Chevrolet</th>\n",
       "      <th>Chrysler</th>\n",
       "      <th>Ford</th>\n",
       "      <th>Honda</th>\n",
       "      <th>Hyundai</th>\n",
       "      <th>Mazda</th>\n",
       "      <th>Nissan</th>\n",
       "      <th>Pontiac</th>\n",
       "      <th>...</th>\n",
       "      <th>TX</th>\n",
       "      <th>UT</th>\n",
       "      <th>VA</th>\n",
       "      <th>VT</th>\n",
       "      <th>Va</th>\n",
       "      <th>WA</th>\n",
       "      <th>WI</th>\n",
       "      <th>WV</th>\n",
       "      <th>WY</th>\n",
       "      <th>ga</th>\n",
       "    </tr>\n",
       "  </thead>\n",
       "  <tbody>\n",
       "    <tr>\n",
       "      <th>504445</th>\n",
       "      <td>99693</td>\n",
       "      <td>13</td>\n",
       "      <td>1</td>\n",
       "      <td>0</td>\n",
       "      <td>0</td>\n",
       "      <td>0</td>\n",
       "      <td>0</td>\n",
       "      <td>0</td>\n",
       "      <td>0</td>\n",
       "      <td>0</td>\n",
       "      <td>...</td>\n",
       "      <td>0</td>\n",
       "      <td>0</td>\n",
       "      <td>0</td>\n",
       "      <td>0</td>\n",
       "      <td>0</td>\n",
       "      <td>0</td>\n",
       "      <td>0</td>\n",
       "      <td>0</td>\n",
       "      <td>0</td>\n",
       "      <td>0</td>\n",
       "    </tr>\n",
       "    <tr>\n",
       "      <th>811108</th>\n",
       "      <td>149559</td>\n",
       "      <td>8</td>\n",
       "      <td>0</td>\n",
       "      <td>0</td>\n",
       "      <td>0</td>\n",
       "      <td>0</td>\n",
       "      <td>1</td>\n",
       "      <td>0</td>\n",
       "      <td>0</td>\n",
       "      <td>0</td>\n",
       "      <td>...</td>\n",
       "      <td>0</td>\n",
       "      <td>0</td>\n",
       "      <td>0</td>\n",
       "      <td>0</td>\n",
       "      <td>0</td>\n",
       "      <td>0</td>\n",
       "      <td>0</td>\n",
       "      <td>0</td>\n",
       "      <td>0</td>\n",
       "      <td>0</td>\n",
       "    </tr>\n",
       "    <tr>\n",
       "      <th>529458</th>\n",
       "      <td>24507</td>\n",
       "      <td>2</td>\n",
       "      <td>1</td>\n",
       "      <td>0</td>\n",
       "      <td>0</td>\n",
       "      <td>0</td>\n",
       "      <td>0</td>\n",
       "      <td>0</td>\n",
       "      <td>0</td>\n",
       "      <td>0</td>\n",
       "      <td>...</td>\n",
       "      <td>0</td>\n",
       "      <td>0</td>\n",
       "      <td>0</td>\n",
       "      <td>0</td>\n",
       "      <td>0</td>\n",
       "      <td>0</td>\n",
       "      <td>0</td>\n",
       "      <td>0</td>\n",
       "      <td>0</td>\n",
       "      <td>0</td>\n",
       "    </tr>\n",
       "    <tr>\n",
       "      <th>822648</th>\n",
       "      <td>40362</td>\n",
       "      <td>1</td>\n",
       "      <td>0</td>\n",
       "      <td>0</td>\n",
       "      <td>0</td>\n",
       "      <td>0</td>\n",
       "      <td>1</td>\n",
       "      <td>0</td>\n",
       "      <td>0</td>\n",
       "      <td>0</td>\n",
       "      <td>...</td>\n",
       "      <td>0</td>\n",
       "      <td>0</td>\n",
       "      <td>0</td>\n",
       "      <td>0</td>\n",
       "      <td>0</td>\n",
       "      <td>0</td>\n",
       "      <td>0</td>\n",
       "      <td>0</td>\n",
       "      <td>0</td>\n",
       "      <td>0</td>\n",
       "    </tr>\n",
       "    <tr>\n",
       "      <th>268627</th>\n",
       "      <td>13604</td>\n",
       "      <td>2</td>\n",
       "      <td>0</td>\n",
       "      <td>0</td>\n",
       "      <td>0</td>\n",
       "      <td>0</td>\n",
       "      <td>0</td>\n",
       "      <td>0</td>\n",
       "      <td>1</td>\n",
       "      <td>0</td>\n",
       "      <td>...</td>\n",
       "      <td>0</td>\n",
       "      <td>0</td>\n",
       "      <td>0</td>\n",
       "      <td>0</td>\n",
       "      <td>0</td>\n",
       "      <td>0</td>\n",
       "      <td>0</td>\n",
       "      <td>0</td>\n",
       "      <td>0</td>\n",
       "      <td>0</td>\n",
       "    </tr>\n",
       "  </tbody>\n",
       "</table>\n",
       "<p>5 rows × 118 columns</p>\n",
       "</div>"
      ],
      "text/plain": [
       "        Mileage  Age  Chevrolet  Chrysler  Ford  Honda  Hyundai  Mazda  \\\n",
       "504445    99693   13          1         0     0      0        0      0   \n",
       "811108   149559    8          0         0     0      0        1      0   \n",
       "529458    24507    2          1         0     0      0        0      0   \n",
       "822648    40362    1          0         0     0      0        1      0   \n",
       "268627    13604    2          0         0     0      0        0      0   \n",
       "\n",
       "        Nissan  Pontiac ...    TX   UT   VA   VT   Va   WA   WI   WV   WY   ga  \n",
       "504445       0        0 ...     0    0    0    0    0    0    0    0    0    0  \n",
       "811108       0        0 ...     0    0    0    0    0    0    0    0    0    0  \n",
       "529458       0        0 ...     0    0    0    0    0    0    0    0    0    0  \n",
       "822648       0        0 ...     0    0    0    0    0    0    0    0    0    0  \n",
       "268627       1        0 ...     0    0    0    0    0    0    0    0    0    0  \n",
       "\n",
       "[5 rows x 118 columns]"
      ]
     },
     "execution_count": 12,
     "metadata": {},
     "output_type": "execute_result"
    }
   ],
   "source": [
    "carSales_X.head()"
   ]
  },
  {
   "cell_type": "code",
   "execution_count": 13,
   "metadata": {},
   "outputs": [
    {
     "data": {
      "text/html": [
       "<div>\n",
       "<style scoped>\n",
       "    .dataframe tbody tr th:only-of-type {\n",
       "        vertical-align: middle;\n",
       "    }\n",
       "\n",
       "    .dataframe tbody tr th {\n",
       "        vertical-align: top;\n",
       "    }\n",
       "\n",
       "    .dataframe thead th {\n",
       "        text-align: right;\n",
       "    }\n",
       "</style>\n",
       "<table border=\"1\" class=\"dataframe\">\n",
       "  <thead>\n",
       "    <tr style=\"text-align: right;\">\n",
       "      <th></th>\n",
       "      <th>Mileage</th>\n",
       "      <th>Age</th>\n",
       "    </tr>\n",
       "  </thead>\n",
       "  <tbody>\n",
       "    <tr>\n",
       "      <th>504445</th>\n",
       "      <td>99693</td>\n",
       "      <td>13</td>\n",
       "    </tr>\n",
       "    <tr>\n",
       "      <th>811108</th>\n",
       "      <td>149559</td>\n",
       "      <td>8</td>\n",
       "    </tr>\n",
       "    <tr>\n",
       "      <th>529458</th>\n",
       "      <td>24507</td>\n",
       "      <td>2</td>\n",
       "    </tr>\n",
       "    <tr>\n",
       "      <th>822648</th>\n",
       "      <td>40362</td>\n",
       "      <td>1</td>\n",
       "    </tr>\n",
       "    <tr>\n",
       "      <th>268627</th>\n",
       "      <td>13604</td>\n",
       "      <td>2</td>\n",
       "    </tr>\n",
       "  </tbody>\n",
       "</table>\n",
       "</div>"
      ],
      "text/plain": [
       "        Mileage  Age\n",
       "504445    99693   13\n",
       "811108   149559    8\n",
       "529458    24507    2\n",
       "822648    40362    1\n",
       "268627    13604    2"
      ]
     },
     "execution_count": 13,
     "metadata": {},
     "output_type": "execute_result"
    }
   ],
   "source": [
    "#Use StandardScaler on the numeric features\n",
    "carSales_X_num = carSales_X.filter(['Mileage','Age'],axis=1)\n",
    "carSales_test_X_num=carSales_test_X.filter(['Mileage','Age'],axis=1)\n",
    "carSales_X_num.head()"
   ]
  },
  {
   "cell_type": "code",
   "execution_count": 14,
   "metadata": {},
   "outputs": [
    {
     "name": "stdout",
     "output_type": "stream",
     "text": [
      "Series([], dtype: bool)\n",
      "Series([], dtype: bool)\n",
      "Series([], dtype: bool)\n",
      "Series([], dtype: bool)\n"
     ]
    }
   ],
   "source": [
    "m=carSales_X_num.isnull().any()\n",
    "print(m[m])\n",
    "m=np.isfinite(carSales_X_num.select_dtypes(include=['float64'])).any()\n",
    "print(m[m])\n",
    "m=carSales_test_X_num.isnull().any()\n",
    "print(m[m])\n",
    "m=np.isfinite(carSales_test_X_num.select_dtypes(include=['float64'])).any()\n",
    "print(m[m])"
   ]
  },
  {
   "cell_type": "markdown",
   "metadata": {
    "collapsed": true
   },
   "source": [
    "Wherever there are 0 values, we replace by the mean "
   ]
  },
  {
   "cell_type": "code",
   "execution_count": 15,
   "metadata": {},
   "outputs": [
    {
     "data": {
      "text/plain": [
       "Imputer(axis=0, copy=True, missing_values=0, strategy='mean', verbose=0)"
      ]
     },
     "execution_count": 15,
     "metadata": {},
     "output_type": "execute_result"
    }
   ],
   "source": [
    "imputer = Imputer(missing_values=0,strategy=\"mean\")\n",
    "imputer.fit(carSales_X_num)\n",
    "imputer.fit(carSales_test_X_num)"
   ]
  },
  {
   "cell_type": "code",
   "execution_count": 16,
   "metadata": {},
   "outputs": [
    {
     "name": "stdout",
     "output_type": "stream",
     "text": [
      "(197916, 2)\n",
      "(49480, 2)\n"
     ]
    }
   ],
   "source": [
    "#Standardize the numerical data using sklearn StandardScaler\n",
    "scaler = StandardScaler()\n",
    "train_X = scaler.fit_transform(carSales_X_num)\n",
    "test_X = scaler.transform(carSales_test_X_num)\n",
    "print(train_X.shape)\n",
    "print(test_X.shape)"
   ]
  },
  {
   "cell_type": "code",
   "execution_count": 17,
   "metadata": {},
   "outputs": [
    {
     "name": "stdout",
     "output_type": "stream",
     "text": [
      "(197916, 116)\n",
      "(49480, 116)\n"
     ]
    }
   ],
   "source": [
    "carSales_X_cat = carSales_X.drop(['Mileage','Age'],axis=1)\n",
    "carSales_test_X_cat = carSales_test_X.drop(['Mileage','Age'],axis=1)\n",
    "print(carSales_X_cat.shape)\n",
    "print(carSales_test_X_cat.shape)"
   ]
  },
  {
   "cell_type": "code",
   "execution_count": 18,
   "metadata": {},
   "outputs": [
    {
     "name": "stdout",
     "output_type": "stream",
     "text": [
      "(197916, 118)\n",
      "(49480, 118)\n"
     ]
    }
   ],
   "source": [
    "#Concatenate the standardized numerical data to the categorical features\n",
    "train_X =  np.concatenate((train_X,carSales_X_cat.values),axis=1)\n",
    "test_X =  np.concatenate((test_X,carSales_test_X_cat.values),axis=1)\n",
    "print(train_X.shape)\n",
    "print(test_X.shape)"
   ]
  },
  {
   "cell_type": "code",
   "execution_count": 19,
   "metadata": {},
   "outputs": [
    {
     "name": "stdout",
     "output_type": "stream",
     "text": [
      "Series([], dtype: bool)\n",
      "0    True\n",
      "dtype: bool\n",
      "Series([], dtype: bool)\n",
      "0    True\n",
      "dtype: bool\n"
     ]
    }
   ],
   "source": [
    "train_Y = pd.DataFrame(carSales_Y)\n",
    "m=train_Y.isnull().any()\n",
    "print(m[m])\n",
    "m=np.isfinite(train_Y.select_dtypes(include=['float64'])).any()\n",
    "print(m[m])\n",
    "\n",
    "#train_Y_log = pd.DataFrame(carSales_Y_log)\n",
    "#m=train_Y_log.isnull().any()\n",
    "#print(m[m])\n",
    "#m=np.isfinite(train_Y_log.select_dtypes(include=['float64'])).any()\n",
    "#print(m[m])\n",
    "\n",
    "test_Y = pd.DataFrame(carSales_test_Y)\n",
    "m=test_Y.isnull().any()\n",
    "print(m[m])\n",
    "m=np.isfinite(test_Y.select_dtypes(include=['float64'])).any()\n",
    "print(m[m])\n",
    "\n",
    "#test_Y_log = pd.DataFrame(carSales_test_Y_log)\n",
    "#m=test_Y_log.isnull().any()\n",
    "#print(m[m])\n",
    "#m=np.isfinite(test_Y_log.select_dtypes(include=['float64'])).any()\n",
    "#print(m[m])\n",
    "\n"
   ]
  },
  {
   "cell_type": "markdown",
   "metadata": {
    "collapsed": true
   },
   "source": [
    "We now take backup of the pre-processed data, so the modeling can be done instantaneously on the pre-processed data\n",
    "at any later point of time"
   ]
  },
  {
   "cell_type": "code",
   "execution_count": null,
   "metadata": {},
   "outputs": [],
   "source": [
    "train_X_mileage='C:/users/hackuser1/train_X_mileage1.pkl'\n",
    "test_X_mileage='C:/users/hackuser1/test_X_mileage1.pkl'\n",
    "train_Y_mileage='C:/users/hackuser1/train_Y_mileage1.pkl'\n",
    "test_Y_mileage='C:/users/hackuser1/test_Y_mileage1.pkl'\n",
    "\n",
    "\n",
    "with open(train_X_mileage, \"wb\") as f:\n",
    "    w = pickle.dump(train_X,f)\n",
    "with open(test_X_mileage, \"wb\") as f:\n",
    "    w = pickle.dump(test_X,f)\n",
    "with open(train_Y_mileage, \"wb\") as f:\n",
    "    w = pickle.dump(train_Y,f)\n",
    "with open(test_Y_mileage, \"wb\") as f:\n",
    "    w = pickle.dump(test_Y,f)"
   ]
  },
  {
   "cell_type": "code",
   "execution_count": null,
   "metadata": {
    "collapsed": true
   },
   "outputs": [],
   "source": []
  }
 ],
 "metadata": {
  "kernelspec": {
   "display_name": "Python 3",
   "language": "python",
   "name": "python3"
  },
  "language_info": {
   "codemirror_mode": {
    "name": "ipython",
    "version": 3
   },
   "file_extension": ".py",
   "mimetype": "text/x-python",
   "name": "python",
   "nbconvert_exporter": "python",
   "pygments_lexer": "ipython3",
   "version": "3.6.4"
  }
 },
 "nbformat": 4,
 "nbformat_minor": 2
}
