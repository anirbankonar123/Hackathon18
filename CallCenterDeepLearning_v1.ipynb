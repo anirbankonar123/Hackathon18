{
 "cells": [
  {
   "cell_type": "code",
   "execution_count": 2,
   "metadata": {
    "collapsed": true
   },
   "outputs": [],
   "source": [
    "In this example, we take the Sanfrancisco 311 Call center data for last 10 years and\n",
    "use this to predict the Call volumeof the next 3 months, and show the Root mean square error (RMSE), \n",
    "using different approaches, ie the traditional ARMA, and Deep Learning techniques like Sequence models with LSTM \n",
    "in different ways."
   ]
  },
  {
   "cell_type": "code",
   "execution_count": 1,
   "metadata": {},
   "outputs": [
    {
     "name": "stderr",
     "output_type": "stream",
     "text": [
      "Using TensorFlow backend.\n"
     ]
    },
    {
     "data": {
      "text/html": [
       "<div>\n",
       "<style>\n",
       "    .dataframe thead tr:only-child th {\n",
       "        text-align: right;\n",
       "    }\n",
       "\n",
       "    .dataframe thead th {\n",
       "        text-align: left;\n",
       "    }\n",
       "\n",
       "    .dataframe tbody tr th {\n",
       "        vertical-align: top;\n",
       "    }\n",
       "</style>\n",
       "<table border=\"1\" class=\"dataframe\">\n",
       "  <thead>\n",
       "    <tr style=\"text-align: right;\">\n",
       "      <th></th>\n",
       "      <th>month</th>\n",
       "      <th>calls_answered</th>\n",
       "      <th>svc_level_answered_w_i_60_sec</th>\n",
       "      <th>avg_speed_answer_sec</th>\n",
       "      <th>transferred_calls</th>\n",
       "    </tr>\n",
       "  </thead>\n",
       "  <tbody>\n",
       "    <tr>\n",
       "      <th>0</th>\n",
       "      <td>2015-12-01T00:00:00</td>\n",
       "      <td>71042</td>\n",
       "      <td>0.437</td>\n",
       "      <td>138.0</td>\n",
       "      <td>0.083</td>\n",
       "    </tr>\n",
       "    <tr>\n",
       "      <th>1</th>\n",
       "      <td>2015-11-01T00:00:00</td>\n",
       "      <td>70038</td>\n",
       "      <td>0.438</td>\n",
       "      <td>149.0</td>\n",
       "      <td>0.086</td>\n",
       "    </tr>\n",
       "    <tr>\n",
       "      <th>2</th>\n",
       "      <td>2015-10-01T00:00:00</td>\n",
       "      <td>73047</td>\n",
       "      <td>0.323</td>\n",
       "      <td>191.0</td>\n",
       "      <td>0.091</td>\n",
       "    </tr>\n",
       "    <tr>\n",
       "      <th>3</th>\n",
       "      <td>2015-09-01T00:00:00</td>\n",
       "      <td>74445</td>\n",
       "      <td>0.411</td>\n",
       "      <td>124.0</td>\n",
       "      <td>0.089</td>\n",
       "    </tr>\n",
       "    <tr>\n",
       "      <th>4</th>\n",
       "      <td>2015-08-01T00:00:00</td>\n",
       "      <td>73027</td>\n",
       "      <td>0.326</td>\n",
       "      <td>217.0</td>\n",
       "      <td>0.096</td>\n",
       "    </tr>\n",
       "  </tbody>\n",
       "</table>\n",
       "</div>"
      ],
      "text/plain": [
       "                 month  calls_answered  svc_level_answered_w_i_60_sec  \\\n",
       "0  2015-12-01T00:00:00           71042                          0.437   \n",
       "1  2015-11-01T00:00:00           70038                          0.438   \n",
       "2  2015-10-01T00:00:00           73047                          0.323   \n",
       "3  2015-09-01T00:00:00           74445                          0.411   \n",
       "4  2015-08-01T00:00:00           73027                          0.326   \n",
       "\n",
       "   avg_speed_answer_sec  transferred_calls  \n",
       "0                 138.0              0.083  \n",
       "1                 149.0              0.086  \n",
       "2                 191.0              0.091  \n",
       "3                 124.0              0.089  \n",
       "4                 217.0              0.096  "
      ]
     },
     "execution_count": 1,
     "metadata": {},
     "output_type": "execute_result"
    }
   ],
   "source": [
    "import pandas\n",
    "import matplotlib.pyplot as plt\n",
    "import numpy\n",
    "import pandas as pd\n",
    "import math\n",
    "from keras.models import Sequential\n",
    "from keras.layers import Dense\n",
    "from keras.layers import LSTM\n",
    "from sklearn.preprocessing import MinMaxScaler\n",
    "from sklearn.metrics import mean_squared_error\n",
    "import numpy as np\n",
    "from pandas import DataFrame\n",
    "from pandas import concat\n",
    "from keras.models import load_model\n",
    "from keras import optimizers\n",
    "from matplotlib import pyplot\n",
    "from math import sqrt\n",
    "from keras import optimizers\n",
    "\n",
    "numpy.random.seed(7)\n",
    "\n",
    "# load the dataset\n",
    "dataframe = pandas.read_csv('/home/anirban/Downloads/311_call_metrics.csv', header=0, engine='python', skipfooter=3)\n",
    "dataframe.head()"
   ]
  },
  {
   "cell_type": "code",
   "execution_count": 3,
   "metadata": {},
   "outputs": [
    {
     "data": {
      "text/plain": [
       "calls_answered                   1.000000\n",
       "svc_level_answered_w_i_60_sec    0.455217\n",
       "avg_speed_answer_sec            -0.605058\n",
       "transferred_calls               -0.850102\n",
       "Name: calls_answered, dtype: float64"
      ]
     },
     "execution_count": 3,
     "metadata": {},
     "output_type": "execute_result"
    }
   ],
   "source": [
    "corr_matrix = dataframe.corr()\n",
    "corr_matrix[\"avg_speed_answer_sec\"].sort_values(ascending=False)\n",
    "corr_matrix[\"calls_answered\"].sort_values(ascending=False)"
   ]
  },
  {
   "cell_type": "code",
   "execution_count": null,
   "metadata": {
    "collapsed": true
   },
   "outputs": [],
   "source": [
    "The correlation matrix shows high correlation between the calls_answered and transferred_calls. \n",
    "In order to minimize transferred calls, it is important to predict the call volume accurately"
   ]
  },
  {
   "cell_type": "code",
   "execution_count": null,
   "metadata": {
    "collapsed": true
   },
   "outputs": [],
   "source": [
    "Next we sort the data based on the month and plot the data, to observe the trends. Since we are now going to \n",
    "predict the Call Volume of next 3 months based on historical data of Call Volume, we take the month and \n",
    "Call volume in our dataset"
   ]
  },
  {
   "cell_type": "code",
   "execution_count": 4,
   "metadata": {},
   "outputs": [
    {
     "data": {
      "image/png": "[encoded data removed]",
      "text/plain": [
       "<matplotlib.figure.Figure at 0x7fa6942636a0>"
      ]
     },
     "metadata": {},
     "output_type": "display_data"
    }
   ],
   "source": [
    "dataframe['month'] = pd.to_datetime(dataframe.month)\n",
    "dataframe=dataframe.sort_values(by='month',ascending=True)\n",
    "dataframe = dataframe.iloc[:,0:2]\n",
    "dataset = dataframe.values[:,1:2]\n",
    "dataset = dataset.astype('float32')\n",
    "plt.plot(dataset)\n",
    "plt.show()"
   ]
  },
  {
   "cell_type": "code",
   "execution_count": null,
   "metadata": {
    "collapsed": true
   },
   "outputs": [],
   "source": [
    "Next we Scale the dataset using MinMaxScaler in a range of 0 to 1"
   ]
  },
  {
   "cell_type": "code",
   "execution_count": 5,
   "metadata": {
    "collapsed": true
   },
   "outputs": [],
   "source": [
    "scaler = MinMaxScaler(feature_range=(0, 1))\n",
    "dataset = scaler.fit_transform(dataset)"
   ]
  },
  {
   "cell_type": "code",
   "execution_count": null,
   "metadata": {
    "collapsed": true
   },
   "outputs": [],
   "source": [
    "We split the train and test data. We have 120 values, worth of 10 years of data, on a monthly basis. We take\n",
    "20 values as test data, and remaining as train data. Since this is time series data, we take the first 106 values\n",
    "as train data and next 20 values as test data"
   ]
  },
  {
   "cell_type": "code",
   "execution_count": 6,
   "metadata": {},
   "outputs": [
    {
     "name": "stdout",
     "output_type": "stream",
     "text": [
      "106 20\n"
     ]
    }
   ],
   "source": [
    "train_size = int(len(dataset)) - 20\n",
    "test_size = 20\n",
    "train, test = dataset[0:train_size,:], dataset[train_size:len(dataset),:]\n",
    "print(len(train), len(test))"
   ]
  },
  {
   "cell_type": "code",
   "execution_count": null,
   "metadata": {
    "collapsed": true
   },
   "outputs": [],
   "source": [
    "The next part is the most important step in creating the train data for a Supervised Learning problem.\n",
    "We shift the data with a lookback of 10 time steps and use this data to predict the value of the Call volume \n",
    "at the next time step."
   ]
  },
  {
   "cell_type": "code",
   "execution_count": 7,
   "metadata": {
    "collapsed": true
   },
   "outputs": [],
   "source": [
    "\n",
    "def createSupervisedTrainingSet(dataset,lookback):\n",
    "\n",
    "    df = DataFrame()\n",
    "    x = dataset\n",
    "    \n",
    "    len_series = x.shape[0]\n",
    "\n",
    "    df['t'] = [x[i] for i in range(x.shape[0])]\n",
    "    #create x values at time t\n",
    "    x=df['t'].values\n",
    "    \n",
    "    cols=list()\n",
    "    #create dataframe series for t+1,t+2,t+3, to be used as y values, during Supervised Learning\n",
    "    #lookback = 10, means 10 values of x are used to predict the value of y at time t+1,t+2,t+3\n",
    "\n",
    "    df['t+1'] = df['t'].shift(-lookback)\n",
    "    cols.append(df['t+1'])\n",
    "    df['t+2'] = df['t'].shift(-(lookback+1))\n",
    "    cols.append(df['t+2'])\n",
    "    df['t+3'] = df['t'].shift(-(lookback+2))\n",
    "    cols.append(df['t+3'])\n",
    "    agg = concat(cols,axis=1)\n",
    "    y=agg.values\n",
    "\n",
    "    x = x.reshape(x.shape[0],1)\n",
    "\n",
    "    len_X = len_series-lookback-2\n",
    "    X=np.zeros((len_X,lookback,1))\n",
    "    Y=np.zeros((len_X,3))\n",
    " \n",
    "    for i in range(len_X):\n",
    "        X[i] = x[i:i+10]\n",
    "        Y[i] = y[i]\n",
    "\n",
    "    return X,Y\n",
    " \n",
    "\n",
    "look_back = 10\n",
    "trainX, trainY = createSupervisedTrainingSet(train, look_back)\n",
    "testX,testY = createSupervisedTrainingSet(test, look_back)"
   ]
  },
  {
   "cell_type": "code",
   "execution_count": 16,
   "metadata": {},
   "outputs": [
    {
     "name": "stdout",
     "output_type": "stream",
     "text": [
      "(94, 10, 1)\n",
      "(94, 3)\n",
      "(8, 10, 1)\n",
      "(8, 3)\n",
      "[[ 80919.]\n",
      " [ 74029.]\n",
      " [ 76264.]\n",
      " [ 88607.]\n",
      " [ 73473.]\n",
      " [ 79410.]\n",
      " [ 73427.]\n",
      " [ 76847.]\n",
      " [ 75870.]\n",
      " [ 76892.]]\n",
      "[ 75949.  68468.  72996.]\n",
      "[[ 89074.]\n",
      " [ 84685.]\n",
      " [ 80836.]\n",
      " [ 75324.]\n",
      " [ 74064.]\n",
      " [ 77644.]\n",
      " [ 73027.]\n",
      " [ 74445.]\n",
      " [ 73047.]\n",
      " [ 70038.]]\n",
      "[ 71042.  78059.  68355.]\n",
      "[[ 89074.]\n",
      " [ 84685.]\n",
      " [ 80836.]\n",
      " [ 75324.]\n",
      " [ 74064.]\n",
      " [ 77644.]\n",
      " [ 73027.]\n",
      " [ 74445.]\n",
      " [ 73047.]\n",
      " [ 70038.]\n",
      " [ 71042.]\n",
      " [ 78059.]\n",
      " [ 68355.]]\n"
     ]
    },
    {
     "name": "stderr",
     "output_type": "stream",
     "text": [
      "/home/anirban/anaconda3/lib/python3.5/site-packages/sklearn/preprocessing/data.py:374: DeprecationWarning: Passing 1d arrays as data is deprecated in 0.17 and will raise ValueError in 0.19. Reshape your data either using X.reshape(-1, 1) if your data has a single feature or X.reshape(1, -1) if it contains a single sample.\n",
      "  warnings.warn(DEPRECATION_MSG_1D, DeprecationWarning)\n",
      "/home/anirban/anaconda3/lib/python3.5/site-packages/sklearn/preprocessing/data.py:374: DeprecationWarning: Passing 1d arrays as data is deprecated in 0.17 and will raise ValueError in 0.19. Reshape your data either using X.reshape(-1, 1) if your data has a single feature or X.reshape(1, -1) if it contains a single sample.\n",
      "  warnings.warn(DEPRECATION_MSG_1D, DeprecationWarning)\n"
     ]
    }
   ],
   "source": [
    "print(trainX.shape)\n",
    "print(trainY.shape)\n",
    "print(testX.shape)\n",
    "print(testY.shape)\n",
    "#Check the sample train X and train Y, as well as test X and test Y, and match with original time series data\n",
    "print(np.around(scaler.inverse_transform(testX[7,:])))\n",
    "print(np.around(scaler.inverse_transform(testY[7,:])))\n",
    "print(np.around(scaler.inverse_transform(trainX[93,:,:])))\n",
    "print(np.around(scaler.inverse_transform(trainY[93,:])))\n",
    "print(np.around(scaler.inverse_transform(dataset[93:106])))        \n",
    "#use a lookback value of 10, so the value at t is 10 steps behind the value at t+1\n",
    "#As can be seen the 10 values of Time Series (Call Volume) from index 93 are being used as X to \n",
    "#predict the 3 values coming next (t+1,t+2,t+3)"
   ]
  },
  {
   "cell_type": "code",
   "execution_count": null,
   "metadata": {
    "collapsed": true
   },
   "outputs": [],
   "source": [
    "Use a Deep Learning technique with one hidden layer of 20 LSTM cells, outputting into 3 values, ie the predictions\n",
    "at time t+1,t+2,t+3. Input layer being 10 by 1 in size, for the 10 prior values of time series."
   ]
  },
  {
   "cell_type": "code",
   "execution_count": 17,
   "metadata": {},
   "outputs": [
    {
     "name": "stdout",
     "output_type": "stream",
     "text": [
      "Train on 94 samples, validate on 8 samples\n",
      "Epoch 1/100\n",
      " - 0s - loss: 0.1509 - val_loss: 0.0908\n",
      "Epoch 2/100\n",
      " - 0s - loss: 0.0598 - val_loss: 0.1118\n",
      "Epoch 3/100\n",
      " - 0s - loss: 0.0458 - val_loss: 0.0536\n",
      "Epoch 4/100\n",
      " - 0s - loss: 0.0328 - val_loss: 0.0338\n",
      "Epoch 5/100\n",
      " - 0s - loss: 0.0213 - val_loss: 0.0147\n",
      "Epoch 6/100\n",
      " - 0s - loss: 0.0128 - val_loss: 0.0024\n",
      "Epoch 7/100\n",
      " - 0s - loss: 0.0088 - val_loss: 0.0010\n",
      "Epoch 8/100\n",
      " - 0s - loss: 0.0084 - val_loss: 0.0026\n",
      "Epoch 9/100\n",
      " - 0s - loss: 0.0080 - val_loss: 0.0018\n",
      "Epoch 10/100\n",
      " - 0s - loss: 0.0076 - val_loss: 0.0013\n",
      "Epoch 11/100\n",
      " - 0s - loss: 0.0073 - val_loss: 7.8302e-04\n",
      "Epoch 12/100\n",
      " - 0s - loss: 0.0076 - val_loss: 2.7188e-04\n",
      "Epoch 13/100\n",
      " - 0s - loss: 0.0077 - val_loss: 2.7662e-04\n",
      "Epoch 14/100\n",
      " - 0s - loss: 0.0074 - val_loss: 0.0015\n",
      "Epoch 15/100\n",
      " - 0s - loss: 0.0073 - val_loss: 8.7634e-04\n",
      "Epoch 16/100\n",
      " - 0s - loss: 0.0065 - val_loss: 5.5331e-04\n",
      "Epoch 17/100\n",
      " - 0s - loss: 0.0080 - val_loss: 8.5202e-04\n",
      "Epoch 18/100\n",
      " - 0s - loss: 0.0071 - val_loss: 2.9322e-04\n",
      "Epoch 19/100\n",
      " - 0s - loss: 0.0069 - val_loss: 5.0097e-04\n",
      "Epoch 20/100\n",
      " - 0s - loss: 0.0069 - val_loss: 2.9661e-04\n",
      "Epoch 21/100\n",
      " - 0s - loss: 0.0066 - val_loss: 4.6149e-04\n",
      "Epoch 22/100\n",
      " - 0s - loss: 0.0065 - val_loss: 5.4085e-04\n",
      "Epoch 23/100\n",
      " - 0s - loss: 0.0070 - val_loss: 7.9445e-04\n",
      "Epoch 24/100\n",
      " - 0s - loss: 0.0065 - val_loss: 0.0015\n",
      "Epoch 25/100\n",
      " - 0s - loss: 0.0070 - val_loss: 3.2140e-04\n",
      "Epoch 26/100\n",
      " - 0s - loss: 0.0059 - val_loss: 2.4033e-04\n",
      "Epoch 27/100\n",
      " - 0s - loss: 0.0060 - val_loss: 6.6835e-04\n",
      "Epoch 28/100\n",
      " - 0s - loss: 0.0062 - val_loss: 3.9364e-04\n",
      "Epoch 29/100\n",
      " - 0s - loss: 0.0058 - val_loss: 4.4556e-04\n",
      "Epoch 30/100\n",
      " - 0s - loss: 0.0063 - val_loss: 2.5660e-04\n",
      "Epoch 31/100\n",
      " - 0s - loss: 0.0059 - val_loss: 4.4167e-04\n",
      "Epoch 32/100\n",
      " - 0s - loss: 0.0062 - val_loss: 3.0645e-04\n",
      "Epoch 33/100\n",
      " - 0s - loss: 0.0056 - val_loss: 5.1687e-04\n",
      "Epoch 34/100\n",
      " - 0s - loss: 0.0055 - val_loss: 6.0189e-04\n",
      "Epoch 35/100\n",
      " - 0s - loss: 0.0055 - val_loss: 2.9438e-04\n",
      "Epoch 36/100\n",
      " - 0s - loss: 0.0052 - val_loss: 3.0611e-04\n",
      "Epoch 37/100\n",
      " - 0s - loss: 0.0052 - val_loss: 4.6172e-04\n",
      "Epoch 38/100\n",
      " - 0s - loss: 0.0054 - val_loss: 4.7428e-04\n",
      "Epoch 39/100\n",
      " - 0s - loss: 0.0052 - val_loss: 5.3897e-04\n",
      "Epoch 40/100\n",
      " - 0s - loss: 0.0058 - val_loss: 7.0199e-04\n",
      "Epoch 41/100\n",
      " - 0s - loss: 0.0066 - val_loss: 0.0012\n",
      "Epoch 42/100\n",
      " - 0s - loss: 0.0051 - val_loss: 4.3420e-04\n",
      "Epoch 43/100\n",
      " - 0s - loss: 0.0050 - val_loss: 5.6420e-04\n",
      "Epoch 44/100\n",
      " - 0s - loss: 0.0050 - val_loss: 5.0968e-04\n",
      "Epoch 45/100\n",
      " - 0s - loss: 0.0052 - val_loss: 6.7387e-04\n",
      "Epoch 46/100\n",
      " - 0s - loss: 0.0049 - val_loss: 5.1314e-04\n",
      "Epoch 47/100\n",
      " - 0s - loss: 0.0049 - val_loss: 3.6994e-04\n",
      "Epoch 48/100\n",
      " - 0s - loss: 0.0049 - val_loss: 5.4584e-04\n",
      "Epoch 49/100\n",
      " - 0s - loss: 0.0050 - val_loss: 5.4427e-04\n",
      "Epoch 50/100\n",
      " - 0s - loss: 0.0053 - val_loss: 3.7476e-04\n",
      "Epoch 51/100\n",
      " - 0s - loss: 0.0051 - val_loss: 6.1922e-04\n",
      "Epoch 52/100\n",
      " - 0s - loss: 0.0049 - val_loss: 3.5122e-04\n",
      "Epoch 53/100\n",
      " - 0s - loss: 0.0045 - val_loss: 3.4448e-04\n",
      "Epoch 54/100\n",
      " - 0s - loss: 0.0046 - val_loss: 4.5406e-04\n",
      "Epoch 55/100\n",
      " - 0s - loss: 0.0045 - val_loss: 3.6795e-04\n",
      "Epoch 56/100\n",
      " - 0s - loss: 0.0048 - val_loss: 2.9317e-04\n",
      "Epoch 57/100\n",
      " - 0s - loss: 0.0045 - val_loss: 4.3987e-04\n",
      "Epoch 58/100\n",
      " - 0s - loss: 0.0044 - val_loss: 5.1052e-04\n",
      "Epoch 59/100\n",
      " - 0s - loss: 0.0046 - val_loss: 3.2238e-04\n",
      "Epoch 60/100\n",
      " - 0s - loss: 0.0046 - val_loss: 6.3391e-04\n",
      "Epoch 61/100\n",
      " - 0s - loss: 0.0050 - val_loss: 3.5273e-04\n",
      "Epoch 62/100\n",
      " - 0s - loss: 0.0045 - val_loss: 3.0009e-04\n",
      "Epoch 63/100\n",
      " - 0s - loss: 0.0043 - val_loss: 6.5392e-04\n",
      "Epoch 64/100\n",
      " - 0s - loss: 0.0046 - val_loss: 4.2637e-04\n",
      "Epoch 65/100\n",
      " - 0s - loss: 0.0044 - val_loss: 3.6762e-04\n",
      "Epoch 66/100\n",
      " - 0s - loss: 0.0042 - val_loss: 3.6171e-04\n",
      "Epoch 67/100\n",
      " - 0s - loss: 0.0043 - val_loss: 2.9089e-04\n",
      "Epoch 68/100\n",
      " - 0s - loss: 0.0043 - val_loss: 3.7745e-04\n",
      "Epoch 69/100\n",
      " - 0s - loss: 0.0041 - val_loss: 3.5516e-04\n",
      "Epoch 70/100\n",
      " - 0s - loss: 0.0044 - val_loss: 6.4452e-04\n",
      "Epoch 71/100\n",
      " - 0s - loss: 0.0044 - val_loss: 4.3529e-04\n",
      "Epoch 72/100\n",
      " - 0s - loss: 0.0045 - val_loss: 5.9484e-04\n",
      "Epoch 73/100\n",
      " - 0s - loss: 0.0044 - val_loss: 3.3322e-04\n",
      "Epoch 74/100\n",
      " - 0s - loss: 0.0045 - val_loss: 3.8826e-04\n",
      "Epoch 75/100\n",
      " - 0s - loss: 0.0042 - val_loss: 2.9956e-04\n",
      "Epoch 76/100\n",
      " - 0s - loss: 0.0041 - val_loss: 3.0045e-04\n",
      "Epoch 77/100\n",
      " - 0s - loss: 0.0046 - val_loss: 3.2992e-04\n",
      "Epoch 78/100\n",
      " - 0s - loss: 0.0046 - val_loss: 4.2805e-04\n",
      "Epoch 79/100\n",
      " - 0s - loss: 0.0042 - val_loss: 4.8456e-04\n",
      "Epoch 80/100\n",
      " - 0s - loss: 0.0043 - val_loss: 4.2456e-04\n",
      "Epoch 81/100\n",
      " - 0s - loss: 0.0045 - val_loss: 3.5286e-04\n",
      "Epoch 82/100\n",
      " - 0s - loss: 0.0049 - val_loss: 3.3142e-04\n",
      "Epoch 83/100\n",
      " - 0s - loss: 0.0046 - val_loss: 4.1354e-04\n",
      "Epoch 84/100\n",
      " - 0s - loss: 0.0044 - val_loss: 3.8444e-04\n",
      "Epoch 85/100\n",
      " - 0s - loss: 0.0044 - val_loss: 5.7669e-04\n",
      "Epoch 86/100\n",
      " - 0s - loss: 0.0043 - val_loss: 4.7462e-04\n",
      "Epoch 87/100\n",
      " - 0s - loss: 0.0042 - val_loss: 3.6480e-04\n",
      "Epoch 88/100\n",
      " - 0s - loss: 0.0042 - val_loss: 3.9696e-04\n",
      "Epoch 89/100\n",
      " - 0s - loss: 0.0046 - val_loss: 7.5203e-04\n",
      "Epoch 90/100\n",
      " - 0s - loss: 0.0042 - val_loss: 5.5369e-04\n",
      "Epoch 91/100\n",
      " - 0s - loss: 0.0042 - val_loss: 3.2647e-04\n",
      "Epoch 92/100\n",
      " - 0s - loss: 0.0042 - val_loss: 5.2172e-04\n",
      "Epoch 93/100\n",
      " - 0s - loss: 0.0041 - val_loss: 3.4265e-04\n",
      "Epoch 94/100\n",
      " - 0s - loss: 0.0042 - val_loss: 5.1667e-04\n",
      "Epoch 95/100\n",
      " - 0s - loss: 0.0042 - val_loss: 3.9568e-04\n",
      "Epoch 96/100\n",
      " - 0s - loss: 0.0044 - val_loss: 4.5151e-04\n",
      "Epoch 97/100\n",
      " - 0s - loss: 0.0046 - val_loss: 0.0013\n",
      "Epoch 98/100\n",
      " - 0s - loss: 0.0042 - val_loss: 5.6858e-04\n",
      "Epoch 99/100\n",
      " - 0s - loss: 0.0044 - val_loss: 4.5537e-04\n",
      "Epoch 100/100\n",
      " - 0s - loss: 0.0042 - val_loss: 3.7690e-04\n"
     ]
    }
   ],
   "source": [
    "model = Sequential()\n",
    "model.add(LSTM(20, input_shape=(look_back, 1)))\n",
    "model.add(Dense(3))\n",
    "myOptimizer = optimizers.Adam(lr=0.01, beta_1=0.9, beta_2=0.999, epsilon=0.01, decay=0.0)\n",
    "model.compile(loss='mean_squared_error', optimizer=myOptimizer)\n",
    "history = model.fit(trainX, trainY, epochs=100,  validation_data=(testX,testY), batch_size=5, verbose=2)"
   ]
  },
  {
   "cell_type": "code",
   "execution_count": 18,
   "metadata": {},
   "outputs": [
    {
     "data": {
      "image/png": "[encoded data removed]",
      "text/plain": [
       "<matplotlib.figure.Figure at 0x7fa69423b9e8>"
      ]
     },
     "metadata": {},
     "output_type": "display_data"
    }
   ],
   "source": [
    "plt.plot(history.history['loss'])\n",
    "plt.plot(history.history['val_loss'], color=  'red')\n",
    "plt.title('model loss')\n",
    "plt.ylabel('loss')\n",
    "plt.xlabel('epoch')\n",
    "plt.legend(['train', 'test'], loc='upper left')\n",
    "plt.show()"
   ]
  },
  {
   "cell_type": "code",
   "execution_count": null,
   "metadata": {
    "collapsed": true
   },
   "outputs": [],
   "source": [
    "Once the model is trained, use it to make a prediction on the test data"
   ]
  },
  {
   "cell_type": "code",
   "execution_count": 19,
   "metadata": {},
   "outputs": [
    {
     "name": "stdout",
     "output_type": "stream",
     "text": [
      "[ 79410.  73427.  76847.  75870.  76892.  75949.  68468.  72996.]\n",
      "[ 76833.  82395.  78006.  78314.  75541.  75645.  75507.  75978.]\n"
     ]
    }
   ],
   "source": [
    "testPredict = model.predict(testX)\n",
    "predictUnscaled = np.around(scaler.inverse_transform(testPredict))\n",
    "testYUnscaled = np.around(scaler.inverse_transform(testY))\n",
    "#print the actual and predicted values at t+3\n",
    "print(testYUnscaled[:,2])\n",
    "print(predictUnscaled[:,2])"
   ]
  },
  {
   "cell_type": "code",
   "execution_count": null,
   "metadata": {
    "collapsed": true
   },
   "outputs": [],
   "source": [
    "Plot the predicted and actual values at time t+1,t+2,t+3"
   ]
  },
  {
   "cell_type": "code",
   "execution_count": 20,
   "metadata": {},
   "outputs": [
    {
     "data": {
      "image/png": "[encoded data removed]",
      "text/plain": [
       "<matplotlib.figure.Figure at 0x7fa674fc0ef0>"
      ]
     },
     "metadata": {},
     "output_type": "display_data"
    },
    {
     "data": {
      "image/png": "[encoded data removed]",
      "text/plain": [
       "<matplotlib.figure.Figure at 0x7fa674fc0160>"
      ]
     },
     "metadata": {},
     "output_type": "display_data"
    },
    {
     "data": {
      "image/png": "[encoded data removed]",
      "text/plain": [
       "<matplotlib.figure.Figure at 0x7fa67d523780>"
      ]
     },
     "metadata": {},
     "output_type": "display_data"
    }
   ],
   "source": [
    "pyplot.plot(testPredict[:,0])\n",
    "pyplot.plot(testY[:,0],color='red')\n",
    "pyplot.show()\n",
    "\n",
    "pyplot.plot(testPredict[:,1])\n",
    "pyplot.plot(testY[:,1],color='red')\n",
    "pyplot.show()\n",
    "\n",
    "pyplot.plot(testPredict[:,2])\n",
    "pyplot.plot(testY[:,2],color='red')\n",
    "pyplot.show()"
   ]
  },
  {
   "cell_type": "code",
   "execution_count": null,
   "metadata": {
    "collapsed": true
   },
   "outputs": [],
   "source": [
    "Evaluate the RMSE values at t+1,t+2,t+3 to compare with other approaches, and select the best approach"
   ]
  },
  {
   "cell_type": "code",
   "execution_count": 21,
   "metadata": {},
   "outputs": [
    {
     "name": "stdout",
     "output_type": "stream",
     "text": [
      "t+1 RMSE: 5765.188028\n",
      "t+2 RMSE: 3753.886469\n",
      "t+3 RMSE: 4398.008527\n"
     ]
    }
   ],
   "source": [
    "def evaluate_forecasts(actuals, forecasts, n_seq):\n",
    "    \tfor i in range(n_seq):\n",
    "            actual = actuals[:,i]\n",
    "            predicted = forecasts[:,i]\n",
    "            rmse = sqrt(mean_squared_error(actual, predicted))\n",
    "            print('t+%d RMSE: %f' % ((i+1), rmse))\n",
    "        \n",
    "evaluate_forecasts(testYUnscaled, predictUnscaled,3)"
   ]
  },
  {
   "cell_type": "code",
   "execution_count": null,
   "metadata": {
    "collapsed": true
   },
   "outputs": [],
   "source": [
    "It can be clearly seen, the RMSE values are much better than traditional ARMA models, and hence Deep Learning \n",
    "is useful in this scenario to predict the Call Volume at time t+1,t+2 and t+3"
   ]
  }
 ],
 "metadata": {
  "anaconda-cloud": {},
  "kernelspec": {
   "display_name": "Python [anaconda3]",
   "language": "python",
   "name": "Python [anaconda3]"
  },
  "language_info": {
   "codemirror_mode": {
    "name": "ipython",
    "version": 3
   },
   "file_extension": ".py",
   "mimetype": "text/x-python",
   "name": "python",
   "nbconvert_exporter": "python",
   "pygments_lexer": "ipython3",
   "version": "3.5.4"
  }
 },
 "nbformat": 4,
 "nbformat_minor": 2
}
