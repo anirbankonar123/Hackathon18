{
 "cells": [
  {
   "cell_type": "markdown",
   "metadata": {
    "collapsed": true
   },
   "source": [
    "# This notebook is to prepare and pre-process data for various prediction models from the Used Car Price data at : https://www.kaggle.com/jpayne/852k-used-car-listings/data, after the initial Data exploration, as given in CarPricePredictionAnalysis-mileage.ipynb\n",
    "The numerical variables are scaled with StandardScaler, imputation strategy is used to replace 0 values with mean\n",
    "StratifiedshuffleSplit is done based on Age of car (Curr Year - Year of Car), by creating Age category (Age / 5), and \n",
    "putting the values in different Age category buckets. The same distribution is maintained in Train and Test data.\n",
    "The categorical variables (Make, Model, State) are one-hot encoded and added to the feature vector. The numerical variables considered are : Age of Car in yrs,  and Mileage (Miles driven). "
   ]
  },
  {
   "cell_type": "code",
   "execution_count": 1,
   "metadata": {},
   "outputs": [],
   "source": [
    "#Import all necessary libraries\n",
    "import pickle\n",
    "import pandas as pd\n",
    "import matplotlib.pyplot as plt\n",
    "from sklearn.model_selection import train_test_split\n",
    "import numpy as np\n",
    "from sklearn.model_selection import StratifiedShuffleSplit\n",
    "from sklearn.preprocessing import Imputer\n",
    "from sklearn.preprocessing import LabelEncoder\n",
    "from sklearn.preprocessing import OneHotEncoder\n",
    "from sklearn.preprocessing import LabelBinarizer\n",
    "from sklearn.base import BaseEstimator, TransformerMixin\n",
    "from sklearn.preprocessing import StandardScaler\n",
    "from sklearn.preprocessing import MinMaxScaler\n",
    "from sklearn.preprocessing import PolynomialFeatures"
   ]
  },
  {
   "cell_type": "markdown",
   "metadata": {
    "collapsed": true
   },
   "source": [
    "Read the pickle files prepared by stratifying the Car Sales Data based on Make, Model, and State. This is necessary since cars belong to different price segments, and including all make and models is not a viable solution, as the range of price is different for the same features for different makes. The stratification details can be found in the \n",
    "Data exploration notebook, which precedes this and outputs the data into .pkl files, based on car segment/price category"
   ]
  },
  {
   "cell_type": "code",
   "execution_count": 2,
   "metadata": {},
   "outputs": [],
   "source": [
    "df_ordinary=pd.read_pickle('C:/users/hackuser1/carSalesUSJapModels.pkl')"
   ]
  },
  {
   "cell_type": "code",
   "execution_count": 3,
   "metadata": {},
   "outputs": [
    {
     "data": {
      "text/html": [
       "<div>\n",
       "<style scoped>\n",
       "    .dataframe tbody tr th:only-of-type {\n",
       "        vertical-align: middle;\n",
       "    }\n",
       "\n",
       "    .dataframe tbody tr th {\n",
       "        vertical-align: top;\n",
       "    }\n",
       "\n",
       "    .dataframe thead th {\n",
       "        text-align: right;\n",
       "    }\n",
       "</style>\n",
       "<table border=\"1\" class=\"dataframe\">\n",
       "  <thead>\n",
       "    <tr style=\"text-align: right;\">\n",
       "      <th></th>\n",
       "      <th>Price</th>\n",
       "      <th>Mileage</th>\n",
       "      <th>Age</th>\n",
       "      <th>log_Price</th>\n",
       "      <th>Chevrolet</th>\n",
       "      <th>Chrysler</th>\n",
       "      <th>Ford</th>\n",
       "      <th>Subaru</th>\n",
       "      <th>200Limited</th>\n",
       "      <th>CamaroCoupe</th>\n",
       "      <th>...</th>\n",
       "      <th>TX</th>\n",
       "      <th>UT</th>\n",
       "      <th>VA</th>\n",
       "      <th>VT</th>\n",
       "      <th>Va</th>\n",
       "      <th>WA</th>\n",
       "      <th>WI</th>\n",
       "      <th>WV</th>\n",
       "      <th>WY</th>\n",
       "      <th>ga</th>\n",
       "    </tr>\n",
       "  </thead>\n",
       "  <tbody>\n",
       "    <tr>\n",
       "      <th>907</th>\n",
       "      <td>14500</td>\n",
       "      <td>12519</td>\n",
       "      <td>4</td>\n",
       "      <td>9.581973</td>\n",
       "      <td>1</td>\n",
       "      <td>0</td>\n",
       "      <td>0</td>\n",
       "      <td>0</td>\n",
       "      <td>0</td>\n",
       "      <td>0</td>\n",
       "      <td>...</td>\n",
       "      <td>0</td>\n",
       "      <td>0</td>\n",
       "      <td>0</td>\n",
       "      <td>0</td>\n",
       "      <td>0</td>\n",
       "      <td>0</td>\n",
       "      <td>0</td>\n",
       "      <td>0</td>\n",
       "      <td>0</td>\n",
       "      <td>0</td>\n",
       "    </tr>\n",
       "    <tr>\n",
       "      <th>909</th>\n",
       "      <td>17233</td>\n",
       "      <td>25076</td>\n",
       "      <td>1</td>\n",
       "      <td>9.754639</td>\n",
       "      <td>1</td>\n",
       "      <td>0</td>\n",
       "      <td>0</td>\n",
       "      <td>0</td>\n",
       "      <td>0</td>\n",
       "      <td>0</td>\n",
       "      <td>...</td>\n",
       "      <td>0</td>\n",
       "      <td>0</td>\n",
       "      <td>0</td>\n",
       "      <td>0</td>\n",
       "      <td>0</td>\n",
       "      <td>0</td>\n",
       "      <td>0</td>\n",
       "      <td>0</td>\n",
       "      <td>0</td>\n",
       "      <td>0</td>\n",
       "    </tr>\n",
       "    <tr>\n",
       "      <th>910</th>\n",
       "      <td>8575</td>\n",
       "      <td>47036</td>\n",
       "      <td>6</td>\n",
       "      <td>9.056723</td>\n",
       "      <td>1</td>\n",
       "      <td>0</td>\n",
       "      <td>0</td>\n",
       "      <td>0</td>\n",
       "      <td>0</td>\n",
       "      <td>0</td>\n",
       "      <td>...</td>\n",
       "      <td>0</td>\n",
       "      <td>0</td>\n",
       "      <td>0</td>\n",
       "      <td>0</td>\n",
       "      <td>0</td>\n",
       "      <td>0</td>\n",
       "      <td>0</td>\n",
       "      <td>0</td>\n",
       "      <td>0</td>\n",
       "      <td>0</td>\n",
       "    </tr>\n",
       "    <tr>\n",
       "      <th>911</th>\n",
       "      <td>16733</td>\n",
       "      <td>34415</td>\n",
       "      <td>1</td>\n",
       "      <td>9.725198</td>\n",
       "      <td>1</td>\n",
       "      <td>0</td>\n",
       "      <td>0</td>\n",
       "      <td>0</td>\n",
       "      <td>0</td>\n",
       "      <td>0</td>\n",
       "      <td>...</td>\n",
       "      <td>0</td>\n",
       "      <td>0</td>\n",
       "      <td>0</td>\n",
       "      <td>0</td>\n",
       "      <td>0</td>\n",
       "      <td>1</td>\n",
       "      <td>0</td>\n",
       "      <td>0</td>\n",
       "      <td>0</td>\n",
       "      <td>0</td>\n",
       "    </tr>\n",
       "    <tr>\n",
       "      <th>912</th>\n",
       "      <td>17233</td>\n",
       "      <td>29601</td>\n",
       "      <td>1</td>\n",
       "      <td>9.754639</td>\n",
       "      <td>1</td>\n",
       "      <td>0</td>\n",
       "      <td>0</td>\n",
       "      <td>0</td>\n",
       "      <td>0</td>\n",
       "      <td>0</td>\n",
       "      <td>...</td>\n",
       "      <td>0</td>\n",
       "      <td>0</td>\n",
       "      <td>0</td>\n",
       "      <td>0</td>\n",
       "      <td>0</td>\n",
       "      <td>0</td>\n",
       "      <td>0</td>\n",
       "      <td>0</td>\n",
       "      <td>0</td>\n",
       "      <td>0</td>\n",
       "    </tr>\n",
       "  </tbody>\n",
       "</table>\n",
       "<p>5 rows × 94 columns</p>\n",
       "</div>"
      ],
      "text/plain": [
       "     Price  Mileage  Age  log_Price  Chevrolet  Chrysler  Ford  Subaru  \\\n",
       "907  14500    12519    4   9.581973          1         0     0       0   \n",
       "909  17233    25076    1   9.754639          1         0     0       0   \n",
       "910   8575    47036    6   9.056723          1         0     0       0   \n",
       "911  16733    34415    1   9.725198          1         0     0       0   \n",
       "912  17233    29601    1   9.754639          1         0     0       0   \n",
       "\n",
       "     200Limited  CamaroCoupe ...    TX   UT   VA   VT   Va   WA   WI   WV  \\\n",
       "907           0            0 ...     0    0    0    0    0    0    0    0   \n",
       "909           0            0 ...     0    0    0    0    0    0    0    0   \n",
       "910           0            0 ...     0    0    0    0    0    0    0    0   \n",
       "911           0            0 ...     0    0    0    0    0    1    0    0   \n",
       "912           0            0 ...     0    0    0    0    0    0    0    0   \n",
       "\n",
       "      WY   ga  \n",
       "907    0    0  \n",
       "909    0    0  \n",
       "910    0    0  \n",
       "911    0    0  \n",
       "912    0    0  \n",
       "\n",
       "[5 rows x 94 columns]"
      ]
     },
     "execution_count": 3,
     "metadata": {},
     "output_type": "execute_result"
    }
   ],
   "source": [
    "df_ordinary.head()"
   ]
  },
  {
   "cell_type": "code",
   "execution_count": 4,
   "metadata": {},
   "outputs": [
    {
     "name": "stdout",
     "output_type": "stream",
     "text": [
      "176450\n"
     ]
    }
   ],
   "source": [
    "print(len(df_ordinary))"
   ]
  },
  {
   "cell_type": "markdown",
   "metadata": {
    "collapsed": true
   },
   "source": [
    "We check the distribution of Car Sales on the basis of Age of Car, and create Age-cat and check the distribution of the Car data based on Age-cat (Age / 5). We plan to use StratifiedSampling to make sure both Test and Train data represents same distribution of cars based on Age of Car"
   ]
  },
  {
   "cell_type": "code",
   "execution_count": 5,
   "metadata": {},
   "outputs": [
    {
     "data": {
      "text/plain": [
       "1.0    0.789277\n",
       "2.0    0.156605\n",
       "3.0    0.045429\n",
       "4.0    0.007078\n",
       "0.0    0.001275\n",
       "5.0    0.000334\n",
       "Name: Age-cat, dtype: float64"
      ]
     },
     "execution_count": 5,
     "metadata": {},
     "output_type": "execute_result"
    }
   ],
   "source": [
    "df_ordinary[\"Age\"].value_counts()\n",
    "#create a field Age-cat to divide the data into 5 Age categories, based on the Age of the car\n",
    "df_ordinary[\"Age-cat\"] = np.ceil(df_ordinary[\"Age\"] / 5)\n",
    "df_ordinary[\"Age-cat\"].where(df_ordinary[\"Age-cat\"] < 5, 5.0, inplace=True)\n",
    "#check distribution of Age Cat in the original data\n",
    "df_ordinary[\"Age-cat\"].value_counts() / len(df_ordinary)"
   ]
  },
  {
   "cell_type": "markdown",
   "metadata": {
    "collapsed": true
   },
   "source": [
    "We treat Make, Model, State as Categorical variables and these are already one-hot encoded as part of analysis"
   ]
  },
  {
   "cell_type": "code",
   "execution_count": 6,
   "metadata": {},
   "outputs": [],
   "source": [
    "split = StratifiedShuffleSplit(n_splits=1,test_size=0.2,random_state=42)\n",
    "\n",
    "for train_index, test_index in split.split(df_ordinary,df_ordinary[\"Age-cat\"]):\n",
    "    strat_train_set = df_ordinary.iloc[train_index]\n",
    "    strat_test_set = df_ordinary.iloc[test_index]"
   ]
  },
  {
   "cell_type": "code",
   "execution_count": 7,
   "metadata": {},
   "outputs": [
    {
     "data": {
      "text/plain": [
       "1.0    0.789275\n",
       "2.0    0.156610\n",
       "3.0    0.045431\n",
       "4.0    0.007077\n",
       "0.0    0.001275\n",
       "5.0    0.000333\n",
       "Name: Age-cat, dtype: float64"
      ]
     },
     "execution_count": 7,
     "metadata": {},
     "output_type": "execute_result"
    }
   ],
   "source": [
    "#check distribution of Age Cat in the train data\n",
    "strat_train_set[\"Age-cat\"].value_counts() / len(strat_train_set)"
   ]
  },
  {
   "cell_type": "code",
   "execution_count": 8,
   "metadata": {},
   "outputs": [
    {
     "data": {
      "text/plain": [
       "1.0    0.789289\n",
       "2.0    0.156588\n",
       "3.0    0.045424\n",
       "4.0    0.007084\n",
       "0.0    0.001275\n",
       "5.0    0.000340\n",
       "Name: Age-cat, dtype: float64"
      ]
     },
     "execution_count": 8,
     "metadata": {},
     "output_type": "execute_result"
    }
   ],
   "source": [
    "#check distribution of Age Cat in the test data\n",
    "strat_test_set[\"Age-cat\"].value_counts() / len(strat_test_set)"
   ]
  },
  {
   "cell_type": "markdown",
   "metadata": {
    "collapsed": true
   },
   "source": [
    "Create the X and Y variables from the Feature analysis done in Exploration notebook. Repeat the same operations \n",
    "for Train and Test data."
   ]
  },
  {
   "cell_type": "code",
   "execution_count": 9,
   "metadata": {},
   "outputs": [],
   "source": [
    "carSales_X = strat_train_set.copy()\n",
    "carSales_X = carSales_X.drop(\"Price\", axis=1) # drop labels for training set\n",
    "carSales_X = carSales_X.drop(\"log_Price\", axis=1) # drop labels for training set\n",
    "carSales_Y = strat_train_set[\"log_Price\"].copy() # use Log Price as labels for training set, based on data Exploration\n",
    "carSales_X = carSales_X.drop(\"Age-cat\", axis=1)\n",
    "\n",
    "carSales_test_X = strat_test_set.copy()\n",
    "carSales_test_X = carSales_test_X.drop(\"Price\", axis=1) # drop labels for test set\n",
    "carSales_test_X = carSales_test_X.drop(\"log_Price\", axis=1) # drop labels for test set\n",
    "carSales_test_X = carSales_test_X.drop(\"Age-cat\", axis=1)\n",
    "carSales_test_Y = strat_test_set[\"log_Price\"].copy()# use Log Price as labels for test set, based on data Exploration"
   ]
  },
  {
   "cell_type": "code",
   "execution_count": 10,
   "metadata": {},
   "outputs": [
    {
     "name": "stdout",
     "output_type": "stream",
     "text": [
      "(141160, 1)\n",
      "(35290, 1)\n"
     ]
    }
   ],
   "source": [
    "carSales_Y = carSales_Y.values.reshape(carSales_Y.shape[0],1)\n",
    "carSales_test_Y = carSales_test_Y.values.reshape(carSales_test_Y.shape[0],1)\n",
    "\n",
    "print(carSales_Y.shape)\n",
    "print(carSales_test_Y.shape)\n"
   ]
  },
  {
   "cell_type": "code",
   "execution_count": 11,
   "metadata": {},
   "outputs": [
    {
     "data": {
      "text/html": [
       "<div>\n",
       "<style scoped>\n",
       "    .dataframe tbody tr th:only-of-type {\n",
       "        vertical-align: middle;\n",
       "    }\n",
       "\n",
       "    .dataframe tbody tr th {\n",
       "        vertical-align: top;\n",
       "    }\n",
       "\n",
       "    .dataframe thead th {\n",
       "        text-align: right;\n",
       "    }\n",
       "</style>\n",
       "<table border=\"1\" class=\"dataframe\">\n",
       "  <thead>\n",
       "    <tr style=\"text-align: right;\">\n",
       "      <th></th>\n",
       "      <th>Mileage</th>\n",
       "      <th>Age</th>\n",
       "      <th>Chevrolet</th>\n",
       "      <th>Chrysler</th>\n",
       "      <th>Ford</th>\n",
       "      <th>Subaru</th>\n",
       "      <th>200Limited</th>\n",
       "      <th>CamaroCoupe</th>\n",
       "      <th>Cruze1LT</th>\n",
       "      <th>CruzeSedan</th>\n",
       "      <th>...</th>\n",
       "      <th>TX</th>\n",
       "      <th>UT</th>\n",
       "      <th>VA</th>\n",
       "      <th>VT</th>\n",
       "      <th>Va</th>\n",
       "      <th>WA</th>\n",
       "      <th>WI</th>\n",
       "      <th>WV</th>\n",
       "      <th>WY</th>\n",
       "      <th>ga</th>\n",
       "    </tr>\n",
       "  </thead>\n",
       "  <tbody>\n",
       "    <tr>\n",
       "      <th>507064</th>\n",
       "      <td>164569</td>\n",
       "      <td>9</td>\n",
       "      <td>1</td>\n",
       "      <td>0</td>\n",
       "      <td>0</td>\n",
       "      <td>0</td>\n",
       "      <td>0</td>\n",
       "      <td>0</td>\n",
       "      <td>0</td>\n",
       "      <td>0</td>\n",
       "      <td>...</td>\n",
       "      <td>0</td>\n",
       "      <td>0</td>\n",
       "      <td>0</td>\n",
       "      <td>0</td>\n",
       "      <td>0</td>\n",
       "      <td>0</td>\n",
       "      <td>0</td>\n",
       "      <td>0</td>\n",
       "      <td>0</td>\n",
       "      <td>0</td>\n",
       "    </tr>\n",
       "    <tr>\n",
       "      <th>131669</th>\n",
       "      <td>16880</td>\n",
       "      <td>3</td>\n",
       "      <td>1</td>\n",
       "      <td>0</td>\n",
       "      <td>0</td>\n",
       "      <td>0</td>\n",
       "      <td>0</td>\n",
       "      <td>0</td>\n",
       "      <td>0</td>\n",
       "      <td>0</td>\n",
       "      <td>...</td>\n",
       "      <td>0</td>\n",
       "      <td>0</td>\n",
       "      <td>0</td>\n",
       "      <td>0</td>\n",
       "      <td>0</td>\n",
       "      <td>0</td>\n",
       "      <td>0</td>\n",
       "      <td>0</td>\n",
       "      <td>0</td>\n",
       "      <td>0</td>\n",
       "    </tr>\n",
       "    <tr>\n",
       "      <th>446347</th>\n",
       "      <td>37664</td>\n",
       "      <td>2</td>\n",
       "      <td>1</td>\n",
       "      <td>0</td>\n",
       "      <td>0</td>\n",
       "      <td>0</td>\n",
       "      <td>0</td>\n",
       "      <td>0</td>\n",
       "      <td>0</td>\n",
       "      <td>0</td>\n",
       "      <td>...</td>\n",
       "      <td>0</td>\n",
       "      <td>0</td>\n",
       "      <td>0</td>\n",
       "      <td>0</td>\n",
       "      <td>0</td>\n",
       "      <td>0</td>\n",
       "      <td>0</td>\n",
       "      <td>0</td>\n",
       "      <td>0</td>\n",
       "      <td>0</td>\n",
       "    </tr>\n",
       "    <tr>\n",
       "      <th>552122</th>\n",
       "      <td>79587</td>\n",
       "      <td>6</td>\n",
       "      <td>0</td>\n",
       "      <td>1</td>\n",
       "      <td>0</td>\n",
       "      <td>0</td>\n",
       "      <td>0</td>\n",
       "      <td>0</td>\n",
       "      <td>0</td>\n",
       "      <td>0</td>\n",
       "      <td>...</td>\n",
       "      <td>0</td>\n",
       "      <td>0</td>\n",
       "      <td>0</td>\n",
       "      <td>0</td>\n",
       "      <td>0</td>\n",
       "      <td>0</td>\n",
       "      <td>0</td>\n",
       "      <td>0</td>\n",
       "      <td>0</td>\n",
       "      <td>0</td>\n",
       "    </tr>\n",
       "    <tr>\n",
       "      <th>472643</th>\n",
       "      <td>56070</td>\n",
       "      <td>3</td>\n",
       "      <td>1</td>\n",
       "      <td>0</td>\n",
       "      <td>0</td>\n",
       "      <td>0</td>\n",
       "      <td>0</td>\n",
       "      <td>0</td>\n",
       "      <td>0</td>\n",
       "      <td>0</td>\n",
       "      <td>...</td>\n",
       "      <td>0</td>\n",
       "      <td>0</td>\n",
       "      <td>0</td>\n",
       "      <td>0</td>\n",
       "      <td>0</td>\n",
       "      <td>0</td>\n",
       "      <td>0</td>\n",
       "      <td>0</td>\n",
       "      <td>0</td>\n",
       "      <td>0</td>\n",
       "    </tr>\n",
       "  </tbody>\n",
       "</table>\n",
       "<p>5 rows × 92 columns</p>\n",
       "</div>"
      ],
      "text/plain": [
       "        Mileage  Age  Chevrolet  Chrysler  Ford  Subaru  200Limited  \\\n",
       "507064   164569    9          1         0     0       0           0   \n",
       "131669    16880    3          1         0     0       0           0   \n",
       "446347    37664    2          1         0     0       0           0   \n",
       "552122    79587    6          0         1     0       0           0   \n",
       "472643    56070    3          1         0     0       0           0   \n",
       "\n",
       "        CamaroCoupe  Cruze1LT  CruzeSedan ...    TX   UT   VA   VT   Va   WA  \\\n",
       "507064            0         0           0 ...     0    0    0    0    0    0   \n",
       "131669            0         0           0 ...     0    0    0    0    0    0   \n",
       "446347            0         0           0 ...     0    0    0    0    0    0   \n",
       "552122            0         0           0 ...     0    0    0    0    0    0   \n",
       "472643            0         0           0 ...     0    0    0    0    0    0   \n",
       "\n",
       "         WI   WV   WY   ga  \n",
       "507064    0    0    0    0  \n",
       "131669    0    0    0    0  \n",
       "446347    0    0    0    0  \n",
       "552122    0    0    0    0  \n",
       "472643    0    0    0    0  \n",
       "\n",
       "[5 rows x 92 columns]"
      ]
     },
     "execution_count": 11,
     "metadata": {},
     "output_type": "execute_result"
    }
   ],
   "source": [
    "carSales_X.head()"
   ]
  },
  {
   "cell_type": "code",
   "execution_count": 12,
   "metadata": {},
   "outputs": [
    {
     "data": {
      "text/html": [
       "<div>\n",
       "<style scoped>\n",
       "    .dataframe tbody tr th:only-of-type {\n",
       "        vertical-align: middle;\n",
       "    }\n",
       "\n",
       "    .dataframe tbody tr th {\n",
       "        vertical-align: top;\n",
       "    }\n",
       "\n",
       "    .dataframe thead th {\n",
       "        text-align: right;\n",
       "    }\n",
       "</style>\n",
       "<table border=\"1\" class=\"dataframe\">\n",
       "  <thead>\n",
       "    <tr style=\"text-align: right;\">\n",
       "      <th></th>\n",
       "      <th>Mileage</th>\n",
       "      <th>Age</th>\n",
       "    </tr>\n",
       "  </thead>\n",
       "  <tbody>\n",
       "    <tr>\n",
       "      <th>507064</th>\n",
       "      <td>164569</td>\n",
       "      <td>9</td>\n",
       "    </tr>\n",
       "    <tr>\n",
       "      <th>131669</th>\n",
       "      <td>16880</td>\n",
       "      <td>3</td>\n",
       "    </tr>\n",
       "    <tr>\n",
       "      <th>446347</th>\n",
       "      <td>37664</td>\n",
       "      <td>2</td>\n",
       "    </tr>\n",
       "    <tr>\n",
       "      <th>552122</th>\n",
       "      <td>79587</td>\n",
       "      <td>6</td>\n",
       "    </tr>\n",
       "    <tr>\n",
       "      <th>472643</th>\n",
       "      <td>56070</td>\n",
       "      <td>3</td>\n",
       "    </tr>\n",
       "  </tbody>\n",
       "</table>\n",
       "</div>"
      ],
      "text/plain": [
       "        Mileage  Age\n",
       "507064   164569    9\n",
       "131669    16880    3\n",
       "446347    37664    2\n",
       "552122    79587    6\n",
       "472643    56070    3"
      ]
     },
     "execution_count": 12,
     "metadata": {},
     "output_type": "execute_result"
    }
   ],
   "source": [
    "#Use StandardScaler on the numeric features\n",
    "carSales_X_num = carSales_X.filter(['Mileage','Age'],axis=1)\n",
    "carSales_test_X_num=carSales_test_X.filter(['Mileage','Age'],axis=1)\n",
    "carSales_X_num.head()"
   ]
  },
  {
   "cell_type": "code",
   "execution_count": 13,
   "metadata": {},
   "outputs": [
    {
     "name": "stdout",
     "output_type": "stream",
     "text": [
      "Series([], dtype: bool)\n",
      "Series([], dtype: bool)\n",
      "Series([], dtype: bool)\n",
      "Series([], dtype: bool)\n"
     ]
    }
   ],
   "source": [
    "m=carSales_X_num.isnull().any()\n",
    "print(m[m])\n",
    "m=np.isfinite(carSales_X_num.select_dtypes(include=['float64'])).any()\n",
    "print(m[m])\n",
    "m=carSales_test_X_num.isnull().any()\n",
    "print(m[m])\n",
    "m=np.isfinite(carSales_test_X_num.select_dtypes(include=['float64'])).any()\n",
    "print(m[m])"
   ]
  },
  {
   "cell_type": "markdown",
   "metadata": {
    "collapsed": true
   },
   "source": [
    "Wherever there are 0 values, we replace by the mean "
   ]
  },
  {
   "cell_type": "code",
   "execution_count": 14,
   "metadata": {},
   "outputs": [
    {
     "data": {
      "text/plain": [
       "Imputer(axis=0, copy=True, missing_values=0, strategy='mean', verbose=0)"
      ]
     },
     "execution_count": 14,
     "metadata": {},
     "output_type": "execute_result"
    }
   ],
   "source": [
    "imputer = Imputer(missing_values=0,strategy=\"mean\")\n",
    "imputer.fit(carSales_X_num)\n",
    "imputer.fit(carSales_test_X_num)"
   ]
  },
  {
   "cell_type": "code",
   "execution_count": 17,
   "metadata": {},
   "outputs": [
    {
     "name": "stdout",
     "output_type": "stream",
     "text": [
      "(141160, 2)\n",
      "(35290, 2)\n"
     ]
    }
   ],
   "source": [
    "#Standardize the numerical data using sklearn StandardScaler\n",
    "scaler = StandardScaler()\n",
    "train_X = scaler.fit_transform(carSales_X_num)\n",
    "test_X = scaler.transform(carSales_test_X_num)\n",
    "print(train_X.shape)\n",
    "print(test_X.shape)"
   ]
  },
  {
   "cell_type": "code",
   "execution_count": 18,
   "metadata": {},
   "outputs": [
    {
     "name": "stdout",
     "output_type": "stream",
     "text": [
      "(141160, 90)\n",
      "(35290, 90)\n"
     ]
    }
   ],
   "source": [
    "carSales_X_cat = carSales_X.drop(['Mileage','Age'],axis=1)\n",
    "carSales_test_X_cat = carSales_test_X.drop(['Mileage','Age'],axis=1)\n",
    "print(carSales_X_cat.shape)\n",
    "print(carSales_test_X_cat.shape)"
   ]
  },
  {
   "cell_type": "code",
   "execution_count": 19,
   "metadata": {},
   "outputs": [
    {
     "name": "stdout",
     "output_type": "stream",
     "text": [
      "(141160, 92)\n",
      "(35290, 92)\n"
     ]
    }
   ],
   "source": [
    "#Concatenate the standardized numerical data to the categorical features\n",
    "train_X =  np.concatenate((train_X,carSales_X_cat.values),axis=1)\n",
    "test_X =  np.concatenate((test_X,carSales_test_X_cat.values),axis=1)\n",
    "print(train_X.shape)\n",
    "print(test_X.shape)"
   ]
  },
  {
   "cell_type": "code",
   "execution_count": 20,
   "metadata": {},
   "outputs": [
    {
     "name": "stdout",
     "output_type": "stream",
     "text": [
      "Series([], dtype: bool)\n",
      "0    True\n",
      "dtype: bool\n",
      "Series([], dtype: bool)\n",
      "0    True\n",
      "dtype: bool\n"
     ]
    }
   ],
   "source": [
    "train_Y = pd.DataFrame(carSales_Y)\n",
    "m=train_Y.isnull().any()\n",
    "print(m[m])\n",
    "m=np.isfinite(train_Y.select_dtypes(include=['float64'])).any()\n",
    "print(m[m])\n",
    "\n",
    "#train_Y_log = pd.DataFrame(carSales_Y_log)\n",
    "#m=train_Y_log.isnull().any()\n",
    "#print(m[m])\n",
    "#m=np.isfinite(train_Y_log.select_dtypes(include=['float64'])).any()\n",
    "#print(m[m])\n",
    "\n",
    "test_Y = pd.DataFrame(carSales_test_Y)\n",
    "m=test_Y.isnull().any()\n",
    "print(m[m])\n",
    "m=np.isfinite(test_Y.select_dtypes(include=['float64'])).any()\n",
    "print(m[m])\n",
    "\n",
    "#test_Y_log = pd.DataFrame(carSales_test_Y_log)\n",
    "#m=test_Y_log.isnull().any()\n",
    "#print(m[m])\n",
    "#m=np.isfinite(test_Y_log.select_dtypes(include=['float64'])).any()\n",
    "#print(m[m])\n",
    "\n"
   ]
  },
  {
   "cell_type": "markdown",
   "metadata": {
    "collapsed": true
   },
   "source": [
    "We now take backup of the pre-processed data, so the modeling can be done instantaneously on the pre-processed data\n",
    "at any later point of time"
   ]
  },
  {
   "cell_type": "code",
   "execution_count": 21,
   "metadata": {},
   "outputs": [],
   "source": [
    "train_X_mileage='C:/users/hackuser1/train_X_mileage1.pkl'\n",
    "test_X_mileage='C:/users/hackuser1/test_X_mileage1.pkl'\n",
    "train_Y_mileage='C:/users/hackuser1/train_Y_mileage1.pkl'\n",
    "test_Y_mileage='C:/users/hackuser1/test_Y_mileage1.pkl'\n",
    "\n",
    "\n",
    "with open(train_X_mileage, \"wb\") as f:\n",
    "    w = pickle.dump(train_X,f)\n",
    "with open(test_X_mileage, \"wb\") as f:\n",
    "    w = pickle.dump(test_X,f)\n",
    "with open(train_Y_mileage, \"wb\") as f:\n",
    "    w = pickle.dump(train_Y,f)\n",
    "with open(test_Y_mileage, \"wb\") as f:\n",
    "    w = pickle.dump(test_Y,f)"
   ]
  },
  {
   "cell_type": "code",
   "execution_count": null,
   "metadata": {
    "collapsed": true
   },
   "outputs": [],
   "source": []
  }
 ],
 "metadata": {
  "kernelspec": {
   "display_name": "Python 3",
   "language": "python",
   "name": "python3"
  },
  "language_info": {
   "codemirror_mode": {
    "name": "ipython",
    "version": 3
   },
   "file_extension": ".py",
   "mimetype": "text/x-python",
   "name": "python",
   "nbconvert_exporter": "python",
   "pygments_lexer": "ipython3",
   "version": "3.6.4"
  }
 },
 "nbformat": 4,
 "nbformat_minor": 2
}
