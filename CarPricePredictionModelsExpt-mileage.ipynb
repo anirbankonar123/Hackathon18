{
 "cells": [
  {
   "cell_type": "markdown",
   "metadata": {
    "collapsed": true
   },
   "source": [
    "# This  notebook is to explore various prediction models from the Used Car Price data at : https://www.kaggle.com/jpayne/852k-used-car-listings/data\n",
    "Various Regression techniques are explored, including \n",
    "Deep Learning techniques and the best approach is selected based on Accuracy"
   ]
  },
  {
   "cell_type": "code",
   "execution_count": 1,
   "metadata": {},
   "outputs": [
    {
     "name": "stderr",
     "output_type": "stream",
     "text": [
      "C:\\ProgramData\\Anaconda3\\lib\\site-packages\\h5py\\__init__.py:36: FutureWarning: Conversion of the second argument of issubdtype from `float` to `np.floating` is deprecated. In future, it will be treated as `np.float64 == np.dtype(float).type`.\n",
      "  from ._conv import register_converters as _register_converters\n",
      "Using TensorFlow backend.\n"
     ]
    }
   ],
   "source": [
    "#Import all necessary libraries\n",
    "import pickle\n",
    "import pandas as pd\n",
    "import pandas as pd\n",
    "import matplotlib.pyplot as plt\n",
    "from sklearn.model_selection import train_test_split\n",
    "import numpy as np\n",
    "from sklearn.model_selection import StratifiedShuffleSplit\n",
    "from sklearn.preprocessing import Imputer\n",
    "from sklearn.preprocessing import LabelEncoder\n",
    "from sklearn.preprocessing import OneHotEncoder\n",
    "from sklearn.preprocessing import LabelBinarizer\n",
    "from sklearn.base import BaseEstimator, TransformerMixin\n",
    "from sklearn.pipeline import Pipeline\n",
    "from sklearn.preprocessing import StandardScaler\n",
    "from sklearn.preprocessing import MinMaxScaler\n",
    "from sklearn.preprocessing import PolynomialFeatures\n",
    "from pandas.plotting import scatter_matrix\n",
    "\n",
    "from sklearn.linear_model import LinearRegression\n",
    "from sklearn.metrics import mean_squared_error\n",
    "from sklearn.linear_model import SGDRegressor\n",
    "from keras.models import Sequential\n",
    "from keras.layers import Dense   \n",
    "from keras import optimizers\n",
    "\n",
    "from sklearn.tree import DecisionTreeRegressor\n",
    "from sklearn.ensemble import RandomForestRegressor\n",
    "from sklearn.model_selection import cross_val_score\n",
    "from sklearn.ensemble import GradientBoostingRegressor\n",
    "from xgboost import XGBRegressor\n",
    "from sklearn.linear_model import Lasso\n",
    "from sklearn.linear_model import Ridge\n",
    "from sklearn.linear_model import ElasticNet\n",
    "from sklearn.model_selection import GridSearchCV\n",
    "from sklearn.model_selection import StratifiedKFold"
   ]
  },
  {
   "cell_type": "markdown",
   "metadata": {
    "collapsed": true
   },
   "source": [
    "Read the pre-processed pkl files"
   ]
  },
  {
   "cell_type": "code",
   "execution_count": 2,
   "metadata": {},
   "outputs": [
    {
     "name": "stdout",
     "output_type": "stream",
     "text": [
      "(197916, 118)\n",
      "(49480, 118)\n"
     ]
    }
   ],
   "source": [
    "train_X=pd.read_pickle('C:/users/hackuser1/train_X_mileage1.pkl')\n",
    "test_X=pd.read_pickle('C:/users/hackuser1/test_X_mileage1.pkl')\n",
    "train_Y=pd.read_pickle('C:/users/hackuser1/train_Y_mileage1.pkl') \n",
    "test_Y=pd.read_pickle('C:/users/hackuser1/test_Y_mileage1.pkl')\n",
    "\n",
    "print(train_X.shape)\n",
    "print(test_X.shape)"
   ]
  },
  {
   "cell_type": "markdown",
   "metadata": {},
   "source": [
    "We fit Sklearn LinearRegression and use this to make predictions on the test data and check the RMSE on the test data"
   ]
  },
  {
   "cell_type": "code",
   "execution_count": 3,
   "metadata": {},
   "outputs": [
    {
     "data": {
      "text/plain": [
       "LinearRegression(copy_X=True, fit_intercept=True, n_jobs=1, normalize=False)"
      ]
     },
     "execution_count": 3,
     "metadata": {},
     "output_type": "execute_result"
    }
   ],
   "source": [
    "#fit train data\n",
    "lin_reg = LinearRegression()\n",
    "lin_reg.fit(train_X, train_Y)"
   ]
  },
  {
   "cell_type": "code",
   "execution_count": 4,
   "metadata": {},
   "outputs": [
    {
     "name": "stdout",
     "output_type": "stream",
     "text": [
      "Linear Regression rmse on Test data:3923.6921594651703\n"
     ]
    }
   ],
   "source": [
    "#we use np.exp() to get Predicted Price, since we used log Price to train the model\n",
    "carSales_predictions = lin_reg.predict(test_X)\n",
    "lin_mse = mean_squared_error(np.exp(test_Y), np.exp(carSales_predictions))\n",
    "lin_rmse = np.sqrt(lin_mse)\n",
    "print(\"Linear Regression rmse on Test data:\"+str(lin_rmse))"
   ]
  },
  {
   "cell_type": "code",
   "execution_count": 5,
   "metadata": {},
   "outputs": [
    {
     "name": "stdout",
     "output_type": "stream",
     "text": [
      "predicted prices\n",
      "[[22446.]\n",
      " [13393.]\n",
      " [ 9662.]\n",
      " [13929.]\n",
      " [14493.]]\n",
      "actual prices\n",
      "         0\n",
      "0  20952.0\n",
      "1  12999.0\n",
      "2   9989.0\n",
      "3  12600.0\n",
      "4  15501.0\n"
     ]
    }
   ],
   "source": [
    "print(\"predicted prices\")\n",
    "print(np.around(np.exp(carSales_predictions[0:5])))\n",
    "print(\"actual prices\")\n",
    "print(np.exp(test_Y[0:5]))"
   ]
  },
  {
   "cell_type": "code",
   "execution_count": 6,
   "metadata": {},
   "outputs": [
    {
     "data": {
      "text/plain": [
       "DecisionTreeRegressor(criterion='mse', max_depth=None, max_features=None,\n",
       "           max_leaf_nodes=None, min_impurity_decrease=0.0,\n",
       "           min_impurity_split=None, min_samples_leaf=1,\n",
       "           min_samples_split=2, min_weight_fraction_leaf=0.0,\n",
       "           presort=False, random_state=None, splitter='best')"
      ]
     },
     "execution_count": 6,
     "metadata": {},
     "output_type": "execute_result"
    }
   ],
   "source": [
    "tree_reg = DecisionTreeRegressor()\n",
    "tree_reg.fit(train_X,train_Y)"
   ]
  },
  {
   "cell_type": "code",
   "execution_count": 7,
   "metadata": {},
   "outputs": [
    {
     "name": "stdout",
     "output_type": "stream",
     "text": [
      "Decision Tree RMSE:5175.364574255814\n"
     ]
    }
   ],
   "source": [
    "carSales_predictions = tree_reg.predict(test_X)\n",
    "tree_mse = mean_squared_error(np.exp(test_Y), np.exp(carSales_predictions))\n",
    "tree_rmse = np.sqrt(tree_mse)\n",
    "print(\"Decision Tree RMSE:\"+str(tree_rmse))"
   ]
  },
  {
   "cell_type": "code",
   "execution_count": 11,
   "metadata": {},
   "outputs": [
    {
     "data": {
      "text/plain": [
       "RandomForestRegressor(bootstrap=True, criterion='mse', max_depth=None,\n",
       "           max_features='auto', max_leaf_nodes=None,\n",
       "           min_impurity_decrease=0.0, min_impurity_split=None,\n",
       "           min_samples_leaf=1, min_samples_split=2,\n",
       "           min_weight_fraction_leaf=0.0, n_estimators=10, n_jobs=1,\n",
       "           oob_score=False, random_state=None, verbose=0, warm_start=False)"
      ]
     },
     "execution_count": 11,
     "metadata": {},
     "output_type": "execute_result"
    }
   ],
   "source": [
    "forest_reg_make = RandomForestRegressor()\n",
    "forest_reg_make.fit(train_X,train_Y.values.ravel())"
   ]
  },
  {
   "cell_type": "code",
   "execution_count": 12,
   "metadata": {},
   "outputs": [
    {
     "name": "stdout",
     "output_type": "stream",
     "text": [
      "Random Forest Regressor RMSE:4847.242190308035\n",
      "predicted prices\n",
      "[34609. 28187. 30537. 26746. 25910.]\n",
      "actual prices\n",
      "         0\n",
      "0  34000.0\n",
      "1  29797.0\n",
      "2  37000.0\n",
      "3  31330.0\n",
      "4  16296.0\n"
     ]
    }
   ],
   "source": [
    "carSales_predictions = forest_reg_make.predict(test_X)\n",
    "forest_mse = mean_squared_error(np.exp(test_Y), np.exp(carSales_predictions))\n",
    "forest_rmse = np.sqrt(forest_mse)\n",
    "print(\"Random Forest Regressor RMSE:\"+str(forest_rmse))\n",
    "print(\"predicted prices\")\n",
    "print(np.around(np.exp(carSales_predictions[0:5])))\n",
    "print(\"actual prices\")\n",
    "print(np.exp(test_Y[0:5]))"
   ]
  },
  {
   "cell_type": "code",
   "execution_count": 13,
   "metadata": {},
   "outputs": [
    {
     "name": "stdout",
     "output_type": "stream",
     "text": [
      "Gradient Boosting Regressor RMSE:4588.944936137713\n"
     ]
    }
   ],
   "source": [
    "gbrt = GradientBoostingRegressor(max_depth=8, n_estimators=3, learning_rate=1.0, random_state=42)\n",
    "gbrt.fit(train_X, train_Y.values.ravel())\n",
    "carSales_predictions = gbrt.predict(test_X)\n",
    "gbrt_mse = mean_squared_error(np.exp(test_Y), np.exp(carSales_predictions))\n",
    "gbrt_rmse = np.sqrt(gbrt_mse)\n",
    "print(\"Gradient Boosting Regressor RMSE:\"+str(gbrt_rmse))"
   ]
  },
  {
   "cell_type": "markdown",
   "metadata": {},
   "source": [
    "We now try Deep Learning technique and compare the RMSE. We use keras with tensorflow backend "
   ]
  },
  {
   "cell_type": "code",
   "execution_count": 10,
   "metadata": {},
   "outputs": [
    {
     "name": "stdout",
     "output_type": "stream",
     "text": [
      "_________________________________________________________________\n",
      "Layer (type)                 Output Shape              Param #   \n",
      "=================================================================\n",
      "dense_1 (Dense)              (None, 120)               14280     \n",
      "_________________________________________________________________\n",
      "dense_2 (Dense)              (None, 50)                6050      \n",
      "_________________________________________________________________\n",
      "dense_3 (Dense)              (None, 1)                 51        \n",
      "=================================================================\n",
      "Total params: 20,381\n",
      "Trainable params: 20,381\n",
      "Non-trainable params: 0\n",
      "_________________________________________________________________\n"
     ]
    }
   ],
   "source": [
    "model = Sequential()\n",
    "\n",
    "#We use two hidden layers with 90 and 30 units with Relu activation, and no activation in the output layer, since \n",
    "#we want to predict the car price.\n",
    "model.add(Dense(120,input_dim=(train_X.shape[1]),activation='relu'))\n",
    "model.add(Dense(50,activation='relu'))\n",
    "model.add(Dense(1))\n",
    "model.summary()"
   ]
  },
  {
   "cell_type": "code",
   "execution_count": 14,
   "metadata": {},
   "outputs": [],
   "source": [
    "myOptimizer = optimizers.Adam(lr=0.01, beta_1=0.9, beta_2=0.999, epsilon=0.01, decay=0.0)\n",
    "model.compile(loss='mean_squared_error', optimizer=myOptimizer, metrics=['mse'])\n",
    "history = model.fit(train_X, train_Y, epochs=150,  batch_size=4000, verbose=0)"
   ]
  },
  {
   "cell_type": "code",
   "execution_count": 15,
   "metadata": {},
   "outputs": [
    {
     "data": {
      "image/png": "[encoded data removed]",
      "text/plain": [
       "<matplotlib.figure.Figure at 0x1fb8661c278>"
      ]
     },
     "metadata": {},
     "output_type": "display_data"
    }
   ],
   "source": [
    "plt.plot(history.history['loss'], color = 'blue')\n",
    "#plt.plot(history.history['val_loss'], color=  'red')\n",
    "plt.ylim(0,0.7)\n",
    "plt.title('model loss')\n",
    "plt.ylabel('loss')\n",
    "plt.xlabel('epoch')\n",
    "plt.legend(['train'], loc='upper left')\n",
    "plt.show()"
   ]
  },
  {
   "cell_type": "code",
   "execution_count": 16,
   "metadata": {},
   "outputs": [
    {
     "name": "stdout",
     "output_type": "stream",
     "text": [
      "Deep Learning RMSE with two hidden layers:3723.9169202631065\n"
     ]
    }
   ],
   "source": [
    "carSales_predictions = model.predict(test_X)\n",
    "dl_mse = mean_squared_error(np.exp(test_Y), np.exp(carSales_predictions))\n",
    "dl_rmse = np.sqrt(dl_mse)\n",
    "print(\"Deep Learning RMSE with two hidden layers:\"+str(dl_rmse))"
   ]
  },
  {
   "cell_type": "markdown",
   "metadata": {},
   "source": [
    "We now try XGBRegressor, a latest technique. "
   ]
  },
  {
   "cell_type": "code",
   "execution_count": 8,
   "metadata": {},
   "outputs": [
    {
     "data": {
      "text/plain": [
       "XGBRegressor(base_score=0.5, booster='gbtree', colsample_bylevel=1,\n",
       "       colsample_bytree=1, gamma=0, learning_rate=0.1, max_delta_step=0,\n",
       "       max_depth=3, min_child_weight=1, missing=None, n_estimators=100,\n",
       "       n_jobs=1, nthread=None, objective='reg:linear', random_state=0,\n",
       "       reg_alpha=0, reg_lambda=1, scale_pos_weight=1, seed=None,\n",
       "       silent=True, subsample=1)"
      ]
     },
     "execution_count": 8,
     "metadata": {},
     "output_type": "execute_result"
    }
   ],
   "source": [
    "xgb_model = XGBRegressor() \n",
    "xgb_model.fit(train_X, train_Y)"
   ]
  },
  {
   "cell_type": "code",
   "execution_count": 9,
   "metadata": {},
   "outputs": [
    {
     "name": "stdout",
     "output_type": "stream",
     "text": [
      "XGB RMSE:4218.485329118201\n"
     ]
    }
   ],
   "source": [
    "carSales_predictions = xgb_model.predict(test_X)\n",
    "xgb_mse = mean_squared_error(np.exp(test_Y),np.exp(carSales_predictions))\n",
    "xgb_rmse = np.sqrt(xgb_mse)\n",
    "print(\"XGB RMSE:\"+str(xgb_rmse))"
   ]
  },
  {
   "cell_type": "markdown",
   "metadata": {
    "collapsed": true
   },
   "source": [
    "The conclusion is : Deep Learning gives the best accuracy with this data. However, This is not a very good RMSE, \n",
    "so we might need to model for specific Make, to make it more accurate. Since this is a MVP, we are not considering creating Predictive Model, based on specific Make.\n",
    "We use the Linear Regression model to expose the Model as Web Service to be consumed by the UI layer. (This is due to certain limiations with payload size we faced with other Models)"
   ]
  }
 ],
 "metadata": {
  "kernelspec": {
   "display_name": "Python 3",
   "language": "python",
   "name": "python3"
  },
  "language_info": {
   "codemirror_mode": {
    "name": "ipython",
    "version": 3
   },
   "file_extension": ".py",
   "mimetype": "text/x-python",
   "name": "python",
   "nbconvert_exporter": "python",
   "pygments_lexer": "ipython3",
   "version": "3.6.4"
  }
 },
 "nbformat": 4,
 "nbformat_minor": 2
}
