{
 "cells": [
  {
   "cell_type": "markdown",
   "metadata": {
    "collapsed": true
   },
   "source": [
    "This  notebook is to explore various prediction models from the Used Car Price data \n",
    "at : https://www.kaggle.com/jpayne/852k-used-car-listings/data\n",
    "Various Regression techniques are explored, including \n",
    "Deep Learning techniques and the best approach is selected based on Accuracy"
   ]
  },
  {
   "cell_type": "code",
   "execution_count": 1,
   "metadata": {},
   "outputs": [
    {
     "name": "stderr",
     "output_type": "stream",
     "text": [
      "Using TensorFlow backend.\n"
     ]
    }
   ],
   "source": [
    "#Import all necessary libraries\n",
    "import pickle\n",
    "import pandas as pd\n",
    "import pandas as pd\n",
    "import matplotlib.pyplot as plt\n",
    "from sklearn.model_selection import train_test_split\n",
    "import numpy as np\n",
    "from sklearn.model_selection import StratifiedShuffleSplit\n",
    "from sklearn.preprocessing import Imputer\n",
    "from sklearn.preprocessing import LabelEncoder\n",
    "from sklearn.preprocessing import OneHotEncoder\n",
    "from sklearn.preprocessing import LabelBinarizer\n",
    "from sklearn.base import BaseEstimator, TransformerMixin\n",
    "from sklearn.pipeline import Pipeline\n",
    "from sklearn.preprocessing import StandardScaler\n",
    "from sklearn.preprocessing import MinMaxScaler\n",
    "from sklearn.preprocessing import PolynomialFeatures\n",
    "from pandas.plotting import scatter_matrix\n",
    "\n",
    "from sklearn.linear_model import LinearRegression\n",
    "from sklearn.metrics import mean_squared_error\n",
    "from sklearn.linear_model import SGDRegressor\n",
    "from keras.models import Sequential\n",
    "from keras.layers import Dense   \n",
    "from keras import optimizers\n",
    "\n",
    "from sklearn.tree import DecisionTreeRegressor\n",
    "from sklearn.ensemble import RandomForestRegressor\n",
    "from sklearn.model_selection import cross_val_score\n",
    "from sklearn.ensemble import GradientBoostingRegressor\n",
    "from xgboost import XGBRegressor\n",
    "from sklearn.linear_model import Lasso\n",
    "from sklearn.linear_model import Ridge\n",
    "from sklearn.linear_model import ElasticNet\n",
    "from sklearn.model_selection import GridSearchCV\n",
    "from sklearn.model_selection import StratifiedKFold"
   ]
  },
  {
   "cell_type": "markdown",
   "metadata": {
    "collapsed": true
   },
   "source": [
    "Read the pre-processed pkl files"
   ]
  },
  {
   "cell_type": "code",
   "execution_count": 2,
   "metadata": {},
   "outputs": [
    {
     "name": "stdout",
     "output_type": "stream",
     "text": [
      "(141160, 92)\n",
      "(35290, 92)\n"
     ]
    }
   ],
   "source": [
    "train_X=pd.read_pickle('C:/users/hackuser1/train_X_mileage1.pkl')\n",
    "test_X=pd.read_pickle('C:/users/hackuser1/test_X_mileage1.pkl')\n",
    "train_Y=pd.read_pickle('C:/users/hackuser1/train_Y_mileage1.pkl') \n",
    "test_Y=pd.read_pickle('C:/users/hackuser1/test_Y_mileage1.pkl')\n",
    "\n",
    "print(train_X.shape)\n",
    "print(test_X.shape)"
   ]
  },
  {
   "cell_type": "markdown",
   "metadata": {},
   "source": [
    "We fit Sklearn LinearRegression and use this to make predictions on the test data and check the RMSE\n",
    "Use train X data with make and without make, and Test Y as MSRP as well as Log MSRP and compare the RMSE values on test data"
   ]
  },
  {
   "cell_type": "code",
   "execution_count": 4,
   "metadata": {},
   "outputs": [
    {
     "data": {
      "text/plain": [
       "LinearRegression(copy_X=True, fit_intercept=True, n_jobs=1, normalize=False)"
      ]
     },
     "execution_count": 4,
     "metadata": {},
     "output_type": "execute_result"
    }
   ],
   "source": [
    "#fit train data with Price, as is\n",
    "lin_reg = LinearRegression()\n",
    "lin_reg.fit(train_X, train_Y)\n"
   ]
  },
  {
   "cell_type": "code",
   "execution_count": 5,
   "metadata": {},
   "outputs": [
    {
     "name": "stdout",
     "output_type": "stream",
     "text": [
      "rmse with Price, as is:4547.17894588\n"
     ]
    }
   ],
   "source": [
    "carSales_predictions = lin_reg.predict(test_X)\n",
    "lin_mse = mean_squared_error(np.exp(test_Y), np.exp(carSales_predictions))\n",
    "lin_rmse = np.sqrt(lin_mse)\n",
    "print(\"rmse with Price, as is:\"+str(lin_rmse))\n"
   ]
  },
  {
   "cell_type": "markdown",
   "metadata": {
    "collapsed": true
   },
   "source": [
    "We observe the data with log Price gives similar results. We use Price, as is and use this data to fit subsequent algorithms."
   ]
  },
  {
   "cell_type": "code",
   "execution_count": 7,
   "metadata": {},
   "outputs": [
    {
     "name": "stdout",
     "output_type": "stream",
     "text": [
      "predicted prices\n",
      "[[ 30422.]\n",
      " [ 34469.]\n",
      " [ 32878.]\n",
      " [ 32121.]\n",
      " [ 23500.]]\n",
      "actual prices\n",
      "         0\n",
      "0  34000.0\n",
      "1  29797.0\n",
      "2  37000.0\n",
      "3  31330.0\n",
      "4  16296.0\n"
     ]
    }
   ],
   "source": [
    "print(\"predicted prices\")\n",
    "print(np.around(np.exp(carSales_predictions[0:5])))\n",
    "print(\"actual prices\")\n",
    "print(np.exp(test_Y[0:5]))"
   ]
  },
  {
   "cell_type": "code",
   "execution_count": 9,
   "metadata": {},
   "outputs": [
    {
     "data": {
      "text/plain": [
       "DecisionTreeRegressor(criterion='mse', max_depth=None, max_features=None,\n",
       "           max_leaf_nodes=None, min_impurity_decrease=0.0,\n",
       "           min_impurity_split=None, min_samples_leaf=1,\n",
       "           min_samples_split=2, min_weight_fraction_leaf=0.0,\n",
       "           presort=False, random_state=None, splitter='best')"
      ]
     },
     "execution_count": 9,
     "metadata": {},
     "output_type": "execute_result"
    }
   ],
   "source": [
    "tree_reg = DecisionTreeRegressor()\n",
    "tree_reg.fit(train_X,train_Y)"
   ]
  },
  {
   "cell_type": "code",
   "execution_count": 10,
   "metadata": {},
   "outputs": [
    {
     "name": "stdout",
     "output_type": "stream",
     "text": [
      "Decision Tree RMSE:5894.51750078\n"
     ]
    }
   ],
   "source": [
    "carSales_predictions = tree_reg.predict(test_X)\n",
    "tree_mse = mean_squared_error(np.exp(test_Y), np.exp(carSales_predictions))\n",
    "tree_rmse = np.sqrt(tree_mse)\n",
    "print(\"Decision Tree RMSE:\"+str(tree_rmse))"
   ]
  },
  {
   "cell_type": "code",
   "execution_count": 11,
   "metadata": {},
   "outputs": [
    {
     "data": {
      "text/plain": [
       "RandomForestRegressor(bootstrap=True, criterion='mse', max_depth=None,\n",
       "           max_features='auto', max_leaf_nodes=None,\n",
       "           min_impurity_decrease=0.0, min_impurity_split=None,\n",
       "           min_samples_leaf=1, min_samples_split=2,\n",
       "           min_weight_fraction_leaf=0.0, n_estimators=10, n_jobs=1,\n",
       "           oob_score=False, random_state=None, verbose=0, warm_start=False)"
      ]
     },
     "execution_count": 11,
     "metadata": {},
     "output_type": "execute_result"
    }
   ],
   "source": [
    "forest_reg_make = RandomForestRegressor()\n",
    "forest_reg_make.fit(train_X,train_Y.values.ravel())"
   ]
  },
  {
   "cell_type": "code",
   "execution_count": 13,
   "metadata": {},
   "outputs": [
    {
     "name": "stdout",
     "output_type": "stream",
     "text": [
      "Random Forest Regressor RMSE:4832.48671623\n",
      "predicted prices\n",
      "[ 34154.  26557.  30617.  29389.  24642.]\n",
      "actual prices\n",
      "         0\n",
      "0  34000.0\n",
      "1  29797.0\n",
      "2  37000.0\n",
      "3  31330.0\n",
      "4  16296.0\n"
     ]
    }
   ],
   "source": [
    "carSales_predictions = forest_reg_make.predict(test_X)\n",
    "forest_mse = mean_squared_error(np.exp(test_Y), np.exp(carSales_predictions))\n",
    "forest_rmse = np.sqrt(forest_mse)\n",
    "print(\"Random Forest Regressor RMSE:\"+str(forest_rmse))\n",
    "print(\"predicted prices\")\n",
    "print(np.around(np.exp(carSales_predictions[0:5])))\n",
    "print(\"actual prices\")\n",
    "print(np.exp(test_Y[0:5]))"
   ]
  },
  {
   "cell_type": "code",
   "execution_count": 14,
   "metadata": {},
   "outputs": [
    {
     "name": "stdout",
     "output_type": "stream",
     "text": [
      "Gradient Boosting Regressor RMSE:4588.94493614\n"
     ]
    }
   ],
   "source": [
    "gbrt = GradientBoostingRegressor(max_depth=8, n_estimators=3, learning_rate=1.0, random_state=42)\n",
    "gbrt.fit(train_X, train_Y.values.ravel())\n",
    "carSales_predictions = gbrt.predict(test_X)\n",
    "gbrt_mse = mean_squared_error(np.exp(test_Y), np.exp(carSales_predictions))\n",
    "gbrt_rmse = np.sqrt(gbrt_mse)\n",
    "print(\"Gradient Boosting Regressor RMSE:\"+str(gbrt_rmse))"
   ]
  },
  {
   "cell_type": "code",
   "execution_count": 12,
   "metadata": {},
   "outputs": [
    {
     "name": "stdout",
     "output_type": "stream",
     "text": [
      "Gradient Boosting Regressor Slow RMSE:5625.18190155\n"
     ]
    }
   ],
   "source": [
    "gbrt_slow = GradientBoostingRegressor(max_depth=30, n_estimators=200, learning_rate=0.1, random_state=42)\n",
    "gbrt_slow.fit(train_X, train_Y.values.ravel())\n",
    "carSales_predictions = gbrt_slow.predict(test_X)\n",
    "gbrt_mse = mean_squared_error(test_Y, carSales_predictions)\n",
    "gbrt_rmse = np.sqrt(gbrt_mse)\n",
    "print(\"Gradient Boosting Regressor Slow RMSE:\"+str(gbrt_rmse))"
   ]
  },
  {
   "cell_type": "markdown",
   "metadata": {},
   "source": [
    "We now try Deep Learning technique and compare the RMSE. We use keras with tensorflow backend and then repeat the same expt with cntk backend."
   ]
  },
  {
   "cell_type": "code",
   "execution_count": 3,
   "metadata": {},
   "outputs": [
    {
     "name": "stdout",
     "output_type": "stream",
     "text": [
      "_________________________________________________________________\n",
      "Layer (type)                 Output Shape              Param #   \n",
      "=================================================================\n",
      "dense_1 (Dense)              (None, 90)                8370      \n",
      "_________________________________________________________________\n",
      "dense_2 (Dense)              (None, 30)                2730      \n",
      "_________________________________________________________________\n",
      "dense_3 (Dense)              (None, 1)                 31        \n",
      "=================================================================\n",
      "Total params: 11,131\n",
      "Trainable params: 11,131\n",
      "Non-trainable params: 0\n",
      "_________________________________________________________________\n"
     ]
    }
   ],
   "source": [
    "model = Sequential()\n",
    "\n",
    "#We use two hidden layers with 50 and 30 units with Relu activation, and no activation in the output layer, since \n",
    "#we want to predict the car price.\n",
    "model.add(Dense(90,input_dim=(train_X.shape[1]),activation='relu'))\n",
    "model.add(Dense(30,activation='relu'))\n",
    "model.add(Dense(1))\n",
    "model.summary()"
   ]
  },
  {
   "cell_type": "code",
   "execution_count": 4,
   "metadata": {},
   "outputs": [
    {
     "name": "stdout",
     "output_type": "stream",
     "text": [
      "Epoch 1/150\n",
      " - 1s - loss: 3.6703 - mean_squared_error: 3.6703\n",
      "Epoch 2/150\n",
      " - 1s - loss: 0.0330 - mean_squared_error: 0.0330\n",
      "Epoch 3/150\n",
      " - 1s - loss: 0.0309 - mean_squared_error: 0.0309\n",
      "Epoch 4/150\n",
      " - 1s - loss: 0.0303 - mean_squared_error: 0.0303\n",
      "Epoch 5/150\n",
      " - 1s - loss: 0.0301 - mean_squared_error: 0.0301\n",
      "Epoch 6/150\n",
      " - 1s - loss: 0.0319 - mean_squared_error: 0.0319\n",
      "Epoch 7/150\n",
      " - 1s - loss: 0.0327 - mean_squared_error: 0.0327\n",
      "Epoch 8/150\n",
      " - 1s - loss: 0.0824 - mean_squared_error: 0.0824\n",
      "Epoch 9/150\n",
      " - 1s - loss: 0.0427 - mean_squared_error: 0.0427\n",
      "Epoch 10/150\n",
      " - 1s - loss: 0.1005 - mean_squared_error: 0.1005\n",
      "Epoch 11/150\n",
      " - 1s - loss: 0.0359 - mean_squared_error: 0.0359\n",
      "Epoch 12/150\n",
      " - 1s - loss: 0.0428 - mean_squared_error: 0.0428\n",
      "Epoch 13/150\n",
      " - 1s - loss: 0.0518 - mean_squared_error: 0.0518\n",
      "Epoch 14/150\n",
      " - 1s - loss: 0.0571 - mean_squared_error: 0.0571\n",
      "Epoch 15/150\n",
      " - 1s - loss: 0.0461 - mean_squared_error: 0.0461\n",
      "Epoch 16/150\n",
      " - 1s - loss: 0.0489 - mean_squared_error: 0.0489\n",
      "Epoch 17/150\n",
      " - 1s - loss: 0.0687 - mean_squared_error: 0.0687\n",
      "Epoch 18/150\n",
      " - 1s - loss: 0.0395 - mean_squared_error: 0.0395\n",
      "Epoch 19/150\n",
      " - 1s - loss: 0.0539 - mean_squared_error: 0.0539\n",
      "Epoch 20/150\n",
      " - 1s - loss: 0.0599 - mean_squared_error: 0.0599\n",
      "Epoch 21/150\n",
      " - 1s - loss: 0.0435 - mean_squared_error: 0.0435\n",
      "Epoch 22/150\n",
      " - 1s - loss: 0.0469 - mean_squared_error: 0.0469\n",
      "Epoch 23/150\n",
      " - 1s - loss: 0.0444 - mean_squared_error: 0.0444\n",
      "Epoch 24/150\n",
      " - 1s - loss: 0.0471 - mean_squared_error: 0.0471\n",
      "Epoch 25/150\n",
      " - 1s - loss: 0.0420 - mean_squared_error: 0.0420\n",
      "Epoch 26/150\n",
      " - 1s - loss: 0.0539 - mean_squared_error: 0.0539\n",
      "Epoch 27/150\n",
      " - 1s - loss: 0.0467 - mean_squared_error: 0.0467\n",
      "Epoch 28/150\n",
      " - 1s - loss: 0.0456 - mean_squared_error: 0.0456\n",
      "Epoch 29/150\n",
      " - 1s - loss: 0.0467 - mean_squared_error: 0.0467\n",
      "Epoch 30/150\n",
      " - 1s - loss: 0.0388 - mean_squared_error: 0.0388\n",
      "Epoch 31/150\n",
      " - 1s - loss: 0.0443 - mean_squared_error: 0.0443\n",
      "Epoch 32/150\n",
      " - 1s - loss: 0.0388 - mean_squared_error: 0.0388\n",
      "Epoch 33/150\n",
      " - 1s - loss: 0.0368 - mean_squared_error: 0.0368\n",
      "Epoch 34/150\n",
      " - 1s - loss: 0.0463 - mean_squared_error: 0.0463\n",
      "Epoch 35/150\n",
      " - 1s - loss: 0.0366 - mean_squared_error: 0.0366\n",
      "Epoch 36/150\n",
      " - 1s - loss: 0.0394 - mean_squared_error: 0.0394\n",
      "Epoch 37/150\n",
      " - 1s - loss: 0.0370 - mean_squared_error: 0.0370\n",
      "Epoch 38/150\n",
      " - 1s - loss: 0.0461 - mean_squared_error: 0.0461\n",
      "Epoch 39/150\n",
      " - 1s - loss: 0.0344 - mean_squared_error: 0.0344\n",
      "Epoch 40/150\n",
      " - 1s - loss: 0.0353 - mean_squared_error: 0.0353\n",
      "Epoch 41/150\n",
      " - 1s - loss: 0.0328 - mean_squared_error: 0.0328\n",
      "Epoch 42/150\n",
      " - 1s - loss: 0.0324 - mean_squared_error: 0.0324\n",
      "Epoch 43/150\n",
      " - 1s - loss: 0.0379 - mean_squared_error: 0.0379\n",
      "Epoch 44/150\n",
      " - 1s - loss: 0.0397 - mean_squared_error: 0.0397\n",
      "Epoch 45/150\n",
      " - 1s - loss: 0.0334 - mean_squared_error: 0.0334\n",
      "Epoch 46/150\n",
      " - 1s - loss: 0.0382 - mean_squared_error: 0.0382\n",
      "Epoch 47/150\n",
      " - 1s - loss: 0.0370 - mean_squared_error: 0.0370\n",
      "Epoch 48/150\n",
      " - 1s - loss: 0.0324 - mean_squared_error: 0.0324\n",
      "Epoch 49/150\n",
      " - 1s - loss: 0.0345 - mean_squared_error: 0.0345\n",
      "Epoch 50/150\n",
      " - 1s - loss: 0.0313 - mean_squared_error: 0.0313\n",
      "Epoch 51/150\n",
      " - 1s - loss: 0.0430 - mean_squared_error: 0.0430\n",
      "Epoch 52/150\n",
      " - 1s - loss: 0.0324 - mean_squared_error: 0.0324\n",
      "Epoch 53/150\n",
      " - 1s - loss: 0.0316 - mean_squared_error: 0.0316\n",
      "Epoch 54/150\n",
      " - 1s - loss: 0.0364 - mean_squared_error: 0.0364\n",
      "Epoch 55/150\n",
      " - 1s - loss: 0.0310 - mean_squared_error: 0.0310\n",
      "Epoch 56/150\n",
      " - 1s - loss: 0.0356 - mean_squared_error: 0.0356\n",
      "Epoch 57/150\n",
      " - 1s - loss: 0.0310 - mean_squared_error: 0.0310\n",
      "Epoch 58/150\n",
      " - 1s - loss: 0.0311 - mean_squared_error: 0.0311\n",
      "Epoch 59/150\n",
      " - 1s - loss: 0.0322 - mean_squared_error: 0.0322\n",
      "Epoch 60/150\n",
      " - 1s - loss: 0.0301 - mean_squared_error: 0.0301\n",
      "Epoch 61/150\n",
      " - 1s - loss: 0.0315 - mean_squared_error: 0.0315\n",
      "Epoch 62/150\n",
      " - 1s - loss: 0.0299 - mean_squared_error: 0.0299\n",
      "Epoch 63/150\n",
      " - 1s - loss: 0.0327 - mean_squared_error: 0.0327\n",
      "Epoch 64/150\n",
      " - 1s - loss: 0.0328 - mean_squared_error: 0.0328\n",
      "Epoch 65/150\n",
      " - 1s - loss: 0.0296 - mean_squared_error: 0.0296\n",
      "Epoch 66/150\n",
      " - 1s - loss: 0.0317 - mean_squared_error: 0.0317\n",
      "Epoch 67/150\n",
      " - 1s - loss: 0.0337 - mean_squared_error: 0.0337\n",
      "Epoch 68/150\n",
      " - 1s - loss: 0.0314 - mean_squared_error: 0.0314\n",
      "Epoch 69/150\n",
      " - 1s - loss: 0.0306 - mean_squared_error: 0.0306\n",
      "Epoch 70/150\n",
      " - 1s - loss: 0.0295 - mean_squared_error: 0.0295\n",
      "Epoch 71/150\n",
      " - 1s - loss: 0.0300 - mean_squared_error: 0.0300\n",
      "Epoch 72/150\n",
      " - 1s - loss: 0.0285 - mean_squared_error: 0.0285\n",
      "Epoch 73/150\n",
      " - 1s - loss: 0.0317 - mean_squared_error: 0.0317\n",
      "Epoch 74/150\n",
      " - 1s - loss: 0.0288 - mean_squared_error: 0.0288\n",
      "Epoch 75/150\n",
      " - 1s - loss: 0.0297 - mean_squared_error: 0.0297\n",
      "Epoch 76/150\n",
      " - 1s - loss: 0.0311 - mean_squared_error: 0.0311\n",
      "Epoch 77/150\n",
      " - 1s - loss: 0.0286 - mean_squared_error: 0.0286\n",
      "Epoch 78/150\n",
      " - 1s - loss: 0.0289 - mean_squared_error: 0.0289\n",
      "Epoch 79/150\n",
      " - 1s - loss: 0.0307 - mean_squared_error: 0.0307\n",
      "Epoch 80/150\n",
      " - 1s - loss: 0.0270 - mean_squared_error: 0.0270\n",
      "Epoch 81/150\n",
      " - 1s - loss: 0.0281 - mean_squared_error: 0.0281\n",
      "Epoch 82/150\n",
      " - 1s - loss: 0.0283 - mean_squared_error: 0.0283\n",
      "Epoch 83/150\n",
      " - 1s - loss: 0.0289 - mean_squared_error: 0.0289\n",
      "Epoch 84/150\n",
      " - 1s - loss: 0.0292 - mean_squared_error: 0.0292\n",
      "Epoch 85/150\n",
      " - 1s - loss: 0.0267 - mean_squared_error: 0.0267\n",
      "Epoch 86/150\n",
      " - 1s - loss: 0.0327 - mean_squared_error: 0.0327\n",
      "Epoch 87/150\n",
      " - 1s - loss: 0.0310 - mean_squared_error: 0.0310\n",
      "Epoch 88/150\n",
      " - 1s - loss: 0.0272 - mean_squared_error: 0.0272\n",
      "Epoch 89/150\n",
      " - 1s - loss: 0.0282 - mean_squared_error: 0.0282\n",
      "Epoch 90/150\n",
      " - 1s - loss: 0.0279 - mean_squared_error: 0.0279\n",
      "Epoch 91/150\n",
      " - 1s - loss: 0.0303 - mean_squared_error: 0.0303\n",
      "Epoch 92/150\n",
      " - 1s - loss: 0.0293 - mean_squared_error: 0.0293\n",
      "Epoch 93/150\n",
      " - 1s - loss: 0.0271 - mean_squared_error: 0.0271\n",
      "Epoch 94/150\n",
      " - 1s - loss: 0.0271 - mean_squared_error: 0.0271\n",
      "Epoch 95/150\n",
      " - 1s - loss: 0.0277 - mean_squared_error: 0.0277\n",
      "Epoch 96/150\n",
      " - 1s - loss: 0.0285 - mean_squared_error: 0.0285\n",
      "Epoch 97/150\n",
      " - 1s - loss: 0.0286 - mean_squared_error: 0.0286\n",
      "Epoch 98/150\n",
      " - 1s - loss: 0.0305 - mean_squared_error: 0.0305\n",
      "Epoch 99/150\n",
      " - 1s - loss: 0.0301 - mean_squared_error: 0.0301\n",
      "Epoch 100/150\n",
      " - 1s - loss: 0.0292 - mean_squared_error: 0.0292\n",
      "Epoch 101/150\n",
      " - 1s - loss: 0.0274 - mean_squared_error: 0.0274\n",
      "Epoch 102/150\n",
      " - 1s - loss: 0.0286 - mean_squared_error: 0.0286\n",
      "Epoch 103/150\n",
      " - 1s - loss: 0.0284 - mean_squared_error: 0.0284\n",
      "Epoch 104/150\n",
      " - 1s - loss: 0.0283 - mean_squared_error: 0.0283\n",
      "Epoch 105/150\n",
      " - 1s - loss: 0.0276 - mean_squared_error: 0.0276\n",
      "Epoch 106/150\n",
      " - 1s - loss: 0.0269 - mean_squared_error: 0.0269\n",
      "Epoch 107/150\n",
      " - 1s - loss: 0.0283 - mean_squared_error: 0.0283\n",
      "Epoch 108/150\n",
      " - 1s - loss: 0.0274 - mean_squared_error: 0.0274\n",
      "Epoch 109/150\n",
      " - 1s - loss: 0.0289 - mean_squared_error: 0.0289\n",
      "Epoch 110/150\n",
      " - 1s - loss: 0.0306 - mean_squared_error: 0.0306\n",
      "Epoch 111/150\n",
      " - 1s - loss: 0.0274 - mean_squared_error: 0.0274\n",
      "Epoch 112/150\n",
      " - 1s - loss: 0.0283 - mean_squared_error: 0.0283\n",
      "Epoch 113/150\n",
      " - 1s - loss: 0.0273 - mean_squared_error: 0.0273\n",
      "Epoch 114/150\n",
      " - 1s - loss: 0.0271 - mean_squared_error: 0.0271\n",
      "Epoch 115/150\n",
      " - 1s - loss: 0.0286 - mean_squared_error: 0.0286\n",
      "Epoch 116/150\n",
      " - 1s - loss: 0.0295 - mean_squared_error: 0.0295\n",
      "Epoch 117/150\n",
      " - 1s - loss: 0.0274 - mean_squared_error: 0.0274\n",
      "Epoch 118/150\n",
      " - 1s - loss: 0.0295 - mean_squared_error: 0.0295\n",
      "Epoch 119/150\n",
      " - 1s - loss: 0.0271 - mean_squared_error: 0.0271\n",
      "Epoch 120/150\n",
      " - 1s - loss: 0.0275 - mean_squared_error: 0.0275\n",
      "Epoch 121/150\n",
      " - 1s - loss: 0.0297 - mean_squared_error: 0.0297\n",
      "Epoch 122/150\n",
      " - 1s - loss: 0.0278 - mean_squared_error: 0.0278\n",
      "Epoch 123/150\n",
      " - 1s - loss: 0.0275 - mean_squared_error: 0.0275\n",
      "Epoch 124/150\n",
      " - 1s - loss: 0.0280 - mean_squared_error: 0.0280\n",
      "Epoch 125/150\n",
      " - 1s - loss: 0.0271 - mean_squared_error: 0.0271\n",
      "Epoch 126/150\n",
      " - 1s - loss: 0.0283 - mean_squared_error: 0.0283\n",
      "Epoch 127/150\n",
      " - 1s - loss: 0.0272 - mean_squared_error: 0.0272\n",
      "Epoch 128/150\n",
      " - 1s - loss: 0.0273 - mean_squared_error: 0.0273\n",
      "Epoch 129/150\n",
      " - 1s - loss: 0.0286 - mean_squared_error: 0.0286\n",
      "Epoch 130/150\n",
      " - 1s - loss: 0.0284 - mean_squared_error: 0.0284\n"
     ]
    },
    {
     "name": "stdout",
     "output_type": "stream",
     "text": [
      "Epoch 131/150\n",
      " - 1s - loss: 0.0278 - mean_squared_error: 0.0278\n",
      "Epoch 132/150\n",
      " - 1s - loss: 0.0266 - mean_squared_error: 0.0266\n",
      "Epoch 133/150\n",
      " - 1s - loss: 0.0263 - mean_squared_error: 0.0263\n",
      "Epoch 134/150\n",
      " - 1s - loss: 0.0272 - mean_squared_error: 0.0272\n",
      "Epoch 135/150\n",
      " - 1s - loss: 0.0281 - mean_squared_error: 0.0281\n",
      "Epoch 136/150\n",
      " - 1s - loss: 0.0272 - mean_squared_error: 0.0272\n",
      "Epoch 137/150\n",
      " - 1s - loss: 0.0275 - mean_squared_error: 0.0275\n",
      "Epoch 138/150\n",
      " - 1s - loss: 0.0272 - mean_squared_error: 0.0272\n",
      "Epoch 139/150\n",
      " - 1s - loss: 0.0279 - mean_squared_error: 0.0279\n",
      "Epoch 140/150\n",
      " - 1s - loss: 0.0284 - mean_squared_error: 0.0284\n",
      "Epoch 141/150\n",
      " - 1s - loss: 0.0273 - mean_squared_error: 0.0273\n",
      "Epoch 142/150\n",
      " - 1s - loss: 0.0279 - mean_squared_error: 0.0279\n",
      "Epoch 143/150\n",
      " - 1s - loss: 0.0266 - mean_squared_error: 0.0266\n",
      "Epoch 144/150\n",
      " - 1s - loss: 0.0282 - mean_squared_error: 0.0282\n",
      "Epoch 145/150\n",
      " - 1s - loss: 0.0264 - mean_squared_error: 0.0264\n",
      "Epoch 146/150\n",
      " - 1s - loss: 0.0279 - mean_squared_error: 0.0279\n",
      "Epoch 147/150\n",
      " - 1s - loss: 0.0278 - mean_squared_error: 0.0278\n",
      "Epoch 148/150\n",
      " - 1s - loss: 0.0270 - mean_squared_error: 0.0270\n",
      "Epoch 149/150\n",
      " - 1s - loss: 0.0269 - mean_squared_error: 0.0269\n",
      "Epoch 150/150\n",
      " - 1s - loss: 0.0269 - mean_squared_error: 0.0269\n"
     ]
    }
   ],
   "source": [
    "myOptimizer = optimizers.Adam(lr=0.1, beta_1=0.9, beta_2=0.999, epsilon=0.01, decay=0.0)\n",
    "model.compile(loss='mean_squared_error', optimizer=myOptimizer, metrics=['mse'])\n",
    "history = model.fit(train_X, train_Y, epochs=150,  batch_size=2000, verbose=2)"
   ]
  },
  {
   "cell_type": "code",
   "execution_count": 11,
   "metadata": {},
   "outputs": [
    {
     "data": {
      "image/png": "[encoded data removed]",
      "text/plain": [
       "<matplotlib.figure.Figure at 0x222edd2e710>"
      ]
     },
     "metadata": {},
     "output_type": "display_data"
    }
   ],
   "source": [
    "plt.plot(history.history['loss'], color = 'blue')\n",
    "#plt.plot(history.history['val_loss'], color=  'red')\n",
    "plt.ylim(0,0.7)\n",
    "plt.title('model loss')\n",
    "plt.ylabel('loss')\n",
    "plt.xlabel('epoch')\n",
    "plt.legend(['train'], loc='upper left')\n",
    "plt.show()"
   ]
  },
  {
   "cell_type": "code",
   "execution_count": 12,
   "metadata": {},
   "outputs": [
    {
     "name": "stdout",
     "output_type": "stream",
     "text": [
      "Deep Learing RMSE with two hidden layers:4380.6530065\n"
     ]
    }
   ],
   "source": [
    "carSales_predictions = model.predict(test_X)\n",
    "dl_mse = mean_squared_error(np.exp(test_Y), np.exp(carSales_predictions))\n",
    "dl_rmse = np.sqrt(dl_mse)\n",
    "print(\"Deep Learing RMSE with two hidden layers:\"+str(dl_rmse))"
   ]
  },
  {
   "cell_type": "markdown",
   "metadata": {},
   "source": [
    "We try different parameters of Deep Learning to fit the problem better"
   ]
  },
  {
   "cell_type": "markdown",
   "metadata": {},
   "source": [
    "We find Deep Learning does not improve the model, compared to Linear Regression in this case, appreciably"
   ]
  },
  {
   "cell_type": "markdown",
   "metadata": {},
   "source": [
    "We now try XGBRegressor, a latest technique. We start by default setting and then use best parameter for n_estimator by trying number of values"
   ]
  },
  {
   "cell_type": "code",
   "execution_count": 15,
   "metadata": {},
   "outputs": [
    {
     "data": {
      "text/plain": [
       "XGBRegressor(base_score=0.5, booster='gbtree', colsample_bylevel=1,\n",
       "       colsample_bytree=1, gamma=0, learning_rate=0.1, max_delta_step=0,\n",
       "       max_depth=3, min_child_weight=1, missing=None, n_estimators=100,\n",
       "       n_jobs=1, nthread=None, objective='reg:linear', random_state=0,\n",
       "       reg_alpha=0, reg_lambda=1, scale_pos_weight=1, seed=None,\n",
       "       silent=True, subsample=1)"
      ]
     },
     "execution_count": 15,
     "metadata": {},
     "output_type": "execute_result"
    }
   ],
   "source": [
    "xgb_model = XGBRegressor() \n",
    "xgb_model.fit(train_X, train_Y)"
   ]
  },
  {
   "cell_type": "code",
   "execution_count": 16,
   "metadata": {},
   "outputs": [
    {
     "name": "stdout",
     "output_type": "stream",
     "text": [
      "XGB RMSE:4932.10665231\n"
     ]
    }
   ],
   "source": [
    "carSales_predictions = xgb_model.predict(test_X)\n",
    "xgb_mse = mean_squared_error(np.exp(test_Y),np.exp(carSales_predictions))\n",
    "xgb_rmse = np.sqrt(xgb_mse)\n",
    "print(\"XGB RMSE:\"+str(xgb_rmse))"
   ]
  },
  {
   "cell_type": "code",
   "execution_count": null,
   "metadata": {
    "collapsed": true
   },
   "outputs": [],
   "source": [
    "The conclusion is : This is not a very good RMSE, so we might need to model for specific Make, and few states. \n",
    "However since this is a MVP, we are not considering creating Predictive Model, based on specific Make or Model."
   ]
  }
 ],
 "metadata": {
  "kernelspec": {
   "display_name": "Python [conda env:Anaconda]",
   "language": "python",
   "name": "conda-env-Anaconda-py"
  },
  "language_info": {
   "codemirror_mode": {
    "name": "ipython",
    "version": 3
   },
   "file_extension": ".py",
   "mimetype": "text/x-python",
   "name": "python",
   "nbconvert_exporter": "python",
   "pygments_lexer": "ipython3",
   "version": "3.6.3"
  }
 },
 "nbformat": 4,
 "nbformat_minor": 2
}
