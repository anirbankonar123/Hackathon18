{
 "cells": [
  {
   "cell_type": "markdown",
   "metadata": {},
   "source": [
    "# CarResale Exploratory Data Analysis\n",
    "\n",
    "In this project, we try to have a look into the data related to used cars and understand the relationships among various variables and try to figure out the features which have a maximum impact on price. The goal is to create a predictive model which can give an estimation of the price to a customer who wants to buy/sell a used car."
   ]
  },
  {
   "cell_type": "code",
   "execution_count": 4,
   "metadata": {
    "collapsed": true
   },
   "outputs": [],
   "source": [
    "import pandas as pd\n",
    "import matplotlib.pyplot as plt\n",
    "import seaborn as sns\n",
    "import numpy as np\n",
    "import math\n",
    "from pandas.tools.plotting import scatter_matrix\n",
    "from sklearn.model_selection import train_test_split\n",
    "from collections import OrderedDict"
   ]
  },
  {
   "cell_type": "markdown",
   "metadata": {},
   "source": [
    "Lets import the dataset and have a look at the first few records."
   ]
  },
  {
   "cell_type": "code",
   "execution_count": 5,
   "metadata": {},
   "outputs": [
    {
     "data": {
      "text/html": [
       "<div>\n",
       "<style scoped>\n",
       "    .dataframe tbody tr th:only-of-type {\n",
       "        vertical-align: middle;\n",
       "    }\n",
       "\n",
       "    .dataframe tbody tr th {\n",
       "        vertical-align: top;\n",
       "    }\n",
       "\n",
       "    .dataframe thead th {\n",
       "        text-align: right;\n",
       "    }\n",
       "</style>\n",
       "<table border=\"1\" class=\"dataframe\">\n",
       "  <thead>\n",
       "    <tr style=\"text-align: right;\">\n",
       "      <th></th>\n",
       "      <th>Make</th>\n",
       "      <th>Model</th>\n",
       "      <th>Year</th>\n",
       "      <th>Engine Fuel Type</th>\n",
       "      <th>Engine HP</th>\n",
       "      <th>Engine Cylinders</th>\n",
       "      <th>Transmission Type</th>\n",
       "      <th>Driven_Wheels</th>\n",
       "      <th>Number of Doors</th>\n",
       "      <th>Market Category</th>\n",
       "      <th>Vehicle Size</th>\n",
       "      <th>Vehicle Style</th>\n",
       "      <th>highway MPG</th>\n",
       "      <th>city mpg</th>\n",
       "      <th>Popularity</th>\n",
       "      <th>MSRP</th>\n",
       "    </tr>\n",
       "  </thead>\n",
       "  <tbody>\n",
       "    <tr>\n",
       "      <th>0</th>\n",
       "      <td>BMW</td>\n",
       "      <td>1 Series M</td>\n",
       "      <td>2011</td>\n",
       "      <td>premium unleaded (required)</td>\n",
       "      <td>335.0</td>\n",
       "      <td>6.0</td>\n",
       "      <td>MANUAL</td>\n",
       "      <td>rear wheel drive</td>\n",
       "      <td>2.0</td>\n",
       "      <td>Factory Tuner,Luxury,High-Performance</td>\n",
       "      <td>Compact</td>\n",
       "      <td>Coupe</td>\n",
       "      <td>26</td>\n",
       "      <td>19</td>\n",
       "      <td>3916</td>\n",
       "      <td>46135</td>\n",
       "    </tr>\n",
       "    <tr>\n",
       "      <th>1</th>\n",
       "      <td>BMW</td>\n",
       "      <td>1 Series</td>\n",
       "      <td>2011</td>\n",
       "      <td>premium unleaded (required)</td>\n",
       "      <td>300.0</td>\n",
       "      <td>6.0</td>\n",
       "      <td>MANUAL</td>\n",
       "      <td>rear wheel drive</td>\n",
       "      <td>2.0</td>\n",
       "      <td>Luxury,Performance</td>\n",
       "      <td>Compact</td>\n",
       "      <td>Convertible</td>\n",
       "      <td>28</td>\n",
       "      <td>19</td>\n",
       "      <td>3916</td>\n",
       "      <td>40650</td>\n",
       "    </tr>\n",
       "    <tr>\n",
       "      <th>2</th>\n",
       "      <td>BMW</td>\n",
       "      <td>1 Series</td>\n",
       "      <td>2011</td>\n",
       "      <td>premium unleaded (required)</td>\n",
       "      <td>300.0</td>\n",
       "      <td>6.0</td>\n",
       "      <td>MANUAL</td>\n",
       "      <td>rear wheel drive</td>\n",
       "      <td>2.0</td>\n",
       "      <td>Luxury,High-Performance</td>\n",
       "      <td>Compact</td>\n",
       "      <td>Coupe</td>\n",
       "      <td>28</td>\n",
       "      <td>20</td>\n",
       "      <td>3916</td>\n",
       "      <td>36350</td>\n",
       "    </tr>\n",
       "    <tr>\n",
       "      <th>3</th>\n",
       "      <td>BMW</td>\n",
       "      <td>1 Series</td>\n",
       "      <td>2011</td>\n",
       "      <td>premium unleaded (required)</td>\n",
       "      <td>230.0</td>\n",
       "      <td>6.0</td>\n",
       "      <td>MANUAL</td>\n",
       "      <td>rear wheel drive</td>\n",
       "      <td>2.0</td>\n",
       "      <td>Luxury,Performance</td>\n",
       "      <td>Compact</td>\n",
       "      <td>Coupe</td>\n",
       "      <td>28</td>\n",
       "      <td>18</td>\n",
       "      <td>3916</td>\n",
       "      <td>29450</td>\n",
       "    </tr>\n",
       "    <tr>\n",
       "      <th>4</th>\n",
       "      <td>BMW</td>\n",
       "      <td>1 Series</td>\n",
       "      <td>2011</td>\n",
       "      <td>premium unleaded (required)</td>\n",
       "      <td>230.0</td>\n",
       "      <td>6.0</td>\n",
       "      <td>MANUAL</td>\n",
       "      <td>rear wheel drive</td>\n",
       "      <td>2.0</td>\n",
       "      <td>Luxury</td>\n",
       "      <td>Compact</td>\n",
       "      <td>Convertible</td>\n",
       "      <td>28</td>\n",
       "      <td>18</td>\n",
       "      <td>3916</td>\n",
       "      <td>34500</td>\n",
       "    </tr>\n",
       "  </tbody>\n",
       "</table>\n",
       "</div>"
      ],
      "text/plain": [
       "  Make       Model  Year             Engine Fuel Type  Engine HP  \\\n",
       "0  BMW  1 Series M  2011  premium unleaded (required)      335.0   \n",
       "1  BMW    1 Series  2011  premium unleaded (required)      300.0   \n",
       "2  BMW    1 Series  2011  premium unleaded (required)      300.0   \n",
       "3  BMW    1 Series  2011  premium unleaded (required)      230.0   \n",
       "4  BMW    1 Series  2011  premium unleaded (required)      230.0   \n",
       "\n",
       "   Engine Cylinders Transmission Type     Driven_Wheels  Number of Doors  \\\n",
       "0               6.0            MANUAL  rear wheel drive              2.0   \n",
       "1               6.0            MANUAL  rear wheel drive              2.0   \n",
       "2               6.0            MANUAL  rear wheel drive              2.0   \n",
       "3               6.0            MANUAL  rear wheel drive              2.0   \n",
       "4               6.0            MANUAL  rear wheel drive              2.0   \n",
       "\n",
       "                         Market Category Vehicle Size Vehicle Style  \\\n",
       "0  Factory Tuner,Luxury,High-Performance      Compact         Coupe   \n",
       "1                     Luxury,Performance      Compact   Convertible   \n",
       "2                Luxury,High-Performance      Compact         Coupe   \n",
       "3                     Luxury,Performance      Compact         Coupe   \n",
       "4                                 Luxury      Compact   Convertible   \n",
       "\n",
       "   highway MPG  city mpg  Popularity   MSRP  \n",
       "0           26        19        3916  46135  \n",
       "1           28        19        3916  40650  \n",
       "2           28        20        3916  36350  \n",
       "3           28        18        3916  29450  \n",
       "4           28        18        3916  34500  "
      ]
     },
     "execution_count": 5,
     "metadata": {},
     "output_type": "execute_result"
    }
   ],
   "source": [
    "carSales = pd.read_csv('C:/users/hackuser1/Hackathon18/data.csv',sep=\",\")\n",
    "carSales.head()"
   ]
  },
  {
   "cell_type": "code",
   "execution_count": 6,
   "metadata": {},
   "outputs": [
    {
     "name": "stdout",
     "output_type": "stream",
     "text": [
      "<class 'pandas.core.frame.DataFrame'>\n",
      "RangeIndex: 11914 entries, 0 to 11913\n",
      "Data columns (total 16 columns):\n",
      "Make                 11914 non-null object\n",
      "Model                11914 non-null object\n",
      "Year                 11914 non-null int64\n",
      "Engine Fuel Type     11911 non-null object\n",
      "Engine HP            11845 non-null float64\n",
      "Engine Cylinders     11884 non-null float64\n",
      "Transmission Type    11914 non-null object\n",
      "Driven_Wheels        11914 non-null object\n",
      "Number of Doors      11908 non-null float64\n",
      "Market Category      8172 non-null object\n",
      "Vehicle Size         11914 non-null object\n",
      "Vehicle Style        11914 non-null object\n",
      "highway MPG          11914 non-null int64\n",
      "city mpg             11914 non-null int64\n",
      "Popularity           11914 non-null int64\n",
      "MSRP                 11914 non-null int64\n",
      "dtypes: float64(3), int64(5), object(8)\n",
      "memory usage: 1.5+ MB\n"
     ]
    }
   ],
   "source": [
    "carSales.info()"
   ]
  },
  {
   "cell_type": "markdown",
   "metadata": {},
   "source": [
    "As we can see above, there are a total of 16 features. The popularity of car is a number obtained from twitter assigned to a particular Make and Model. Since, the users will not be aware of the popularity of a particular make, we should choose to ignore this feature."
   ]
  },
  {
   "cell_type": "code",
   "execution_count": 7,
   "metadata": {},
   "outputs": [],
   "source": [
    "#dropping Popularity\n",
    "carSales=carSales.drop('Popularity',axis=1)"
   ]
  },
  {
   "cell_type": "markdown",
   "metadata": {},
   "source": [
    "We can also create new features such as the Age of the car, which is certainly a very important characteristic that a buyer looks into while looking for a used car."
   ]
  },
  {
   "cell_type": "code",
   "execution_count": 8,
   "metadata": {
    "collapsed": true
   },
   "outputs": [],
   "source": [
    "#This dataset is from 2017. So, using that as a reference to calculate the age of the car .\n",
    "carSales['Age']=2017-carSales['Year']"
   ]
  },
  {
   "cell_type": "code",
   "execution_count": 9,
   "metadata": {},
   "outputs": [
    {
     "data": {
      "text/html": [
       "<div>\n",
       "<style scoped>\n",
       "    .dataframe tbody tr th:only-of-type {\n",
       "        vertical-align: middle;\n",
       "    }\n",
       "\n",
       "    .dataframe tbody tr th {\n",
       "        vertical-align: top;\n",
       "    }\n",
       "\n",
       "    .dataframe thead th {\n",
       "        text-align: right;\n",
       "    }\n",
       "</style>\n",
       "<table border=\"1\" class=\"dataframe\">\n",
       "  <thead>\n",
       "    <tr style=\"text-align: right;\">\n",
       "      <th></th>\n",
       "      <th>Year</th>\n",
       "      <th>Engine HP</th>\n",
       "      <th>Engine Cylinders</th>\n",
       "      <th>Number of Doors</th>\n",
       "      <th>highway MPG</th>\n",
       "      <th>city mpg</th>\n",
       "      <th>MSRP</th>\n",
       "      <th>Age</th>\n",
       "    </tr>\n",
       "  </thead>\n",
       "  <tbody>\n",
       "    <tr>\n",
       "      <th>count</th>\n",
       "      <td>11914.000000</td>\n",
       "      <td>11845.00000</td>\n",
       "      <td>11884.000000</td>\n",
       "      <td>11908.000000</td>\n",
       "      <td>11914.000000</td>\n",
       "      <td>11914.000000</td>\n",
       "      <td>1.191400e+04</td>\n",
       "      <td>11914.000000</td>\n",
       "    </tr>\n",
       "    <tr>\n",
       "      <th>mean</th>\n",
       "      <td>2010.384338</td>\n",
       "      <td>249.38607</td>\n",
       "      <td>5.628829</td>\n",
       "      <td>3.436093</td>\n",
       "      <td>26.637485</td>\n",
       "      <td>19.733255</td>\n",
       "      <td>4.059474e+04</td>\n",
       "      <td>6.615662</td>\n",
       "    </tr>\n",
       "    <tr>\n",
       "      <th>std</th>\n",
       "      <td>7.579740</td>\n",
       "      <td>109.19187</td>\n",
       "      <td>1.780559</td>\n",
       "      <td>0.881315</td>\n",
       "      <td>8.863001</td>\n",
       "      <td>8.987798</td>\n",
       "      <td>6.010910e+04</td>\n",
       "      <td>7.579740</td>\n",
       "    </tr>\n",
       "    <tr>\n",
       "      <th>min</th>\n",
       "      <td>1990.000000</td>\n",
       "      <td>55.00000</td>\n",
       "      <td>0.000000</td>\n",
       "      <td>2.000000</td>\n",
       "      <td>12.000000</td>\n",
       "      <td>7.000000</td>\n",
       "      <td>2.000000e+03</td>\n",
       "      <td>0.000000</td>\n",
       "    </tr>\n",
       "    <tr>\n",
       "      <th>25%</th>\n",
       "      <td>2007.000000</td>\n",
       "      <td>170.00000</td>\n",
       "      <td>4.000000</td>\n",
       "      <td>2.000000</td>\n",
       "      <td>22.000000</td>\n",
       "      <td>16.000000</td>\n",
       "      <td>2.100000e+04</td>\n",
       "      <td>1.000000</td>\n",
       "    </tr>\n",
       "    <tr>\n",
       "      <th>50%</th>\n",
       "      <td>2015.000000</td>\n",
       "      <td>227.00000</td>\n",
       "      <td>6.000000</td>\n",
       "      <td>4.000000</td>\n",
       "      <td>26.000000</td>\n",
       "      <td>18.000000</td>\n",
       "      <td>2.999500e+04</td>\n",
       "      <td>2.000000</td>\n",
       "    </tr>\n",
       "    <tr>\n",
       "      <th>75%</th>\n",
       "      <td>2016.000000</td>\n",
       "      <td>300.00000</td>\n",
       "      <td>6.000000</td>\n",
       "      <td>4.000000</td>\n",
       "      <td>30.000000</td>\n",
       "      <td>22.000000</td>\n",
       "      <td>4.223125e+04</td>\n",
       "      <td>10.000000</td>\n",
       "    </tr>\n",
       "    <tr>\n",
       "      <th>max</th>\n",
       "      <td>2017.000000</td>\n",
       "      <td>1001.00000</td>\n",
       "      <td>16.000000</td>\n",
       "      <td>4.000000</td>\n",
       "      <td>354.000000</td>\n",
       "      <td>137.000000</td>\n",
       "      <td>2.065902e+06</td>\n",
       "      <td>27.000000</td>\n",
       "    </tr>\n",
       "  </tbody>\n",
       "</table>\n",
       "</div>"
      ],
      "text/plain": [
       "               Year    Engine HP  Engine Cylinders  Number of Doors  \\\n",
       "count  11914.000000  11845.00000      11884.000000     11908.000000   \n",
       "mean    2010.384338    249.38607          5.628829         3.436093   \n",
       "std        7.579740    109.19187          1.780559         0.881315   \n",
       "min     1990.000000     55.00000          0.000000         2.000000   \n",
       "25%     2007.000000    170.00000          4.000000         2.000000   \n",
       "50%     2015.000000    227.00000          6.000000         4.000000   \n",
       "75%     2016.000000    300.00000          6.000000         4.000000   \n",
       "max     2017.000000   1001.00000         16.000000         4.000000   \n",
       "\n",
       "        highway MPG      city mpg          MSRP           Age  \n",
       "count  11914.000000  11914.000000  1.191400e+04  11914.000000  \n",
       "mean      26.637485     19.733255  4.059474e+04      6.615662  \n",
       "std        8.863001      8.987798  6.010910e+04      7.579740  \n",
       "min       12.000000      7.000000  2.000000e+03      0.000000  \n",
       "25%       22.000000     16.000000  2.100000e+04      1.000000  \n",
       "50%       26.000000     18.000000  2.999500e+04      2.000000  \n",
       "75%       30.000000     22.000000  4.223125e+04     10.000000  \n",
       "max      354.000000    137.000000  2.065902e+06     27.000000  "
      ]
     },
     "execution_count": 9,
     "metadata": {},
     "output_type": "execute_result"
    }
   ],
   "source": [
    "carSales.describe()"
   ]
  },
  {
   "cell_type": "markdown",
   "metadata": {},
   "source": [
    "We can see above that there are a few columns which have a few blank values as the count is less than the total number of records 11914.\n",
    "\n",
    "First, let us check the target variable MSRP"
   ]
  },
  {
   "cell_type": "code",
   "execution_count": 10,
   "metadata": {},
   "outputs": [
    {
     "data": {
      "image/png": "[encoded data removed]",
      "text/plain": [
       "<matplotlib.figure.Figure at 0x1c559da5860>"
      ]
     },
     "metadata": {},
     "output_type": "display_data"
    }
   ],
   "source": [
    "plt.hist(carSales['MSRP'])\n",
    "plt.show()"
   ]
  },
  {
   "cell_type": "markdown",
   "metadata": {},
   "source": [
    "Clearly, this is a skewed distribution. There are cars of several makes and models in this dataset. Lets have a look at the price with respect to the Make of the car.  We are choosing the Median as the Central Tendency measure instead of the Mean since the Median is more robust in nature compared to the Mean. For some models such as Mercedes Benz, there are models such as SLR McLaren which have an approximate price range of $480000. This may drive the mean towards the right of the distribution and result in us placing the Mercedes Benz in a wrong category. Hence, median is a better choice here. "
   ]
  },
  {
   "cell_type": "code",
   "execution_count": 11,
   "metadata": {},
   "outputs": [
    {
     "name": "stdout",
     "output_type": "stream",
     "text": [
      "Populating the interactive namespace from numpy and matplotlib\n"
     ]
    },
    {
     "data": {
      "image/png": "[encoded data removed]",
      "text/plain": [
       "<matplotlib.figure.Figure at 0x1c55a2f7a58>"
      ]
     },
     "metadata": {},
     "output_type": "display_data"
    }
   ],
   "source": [
    "%pylab inline\n",
    "Make=carSales.groupby(['Make'])['MSRP'].median()\n",
    "Make.plot(kind='bar',stacked=True)\n",
    "pylab.ylabel('Median MSRP')\n",
    "pylab.title('Chart: Median MSRP by Make')\n",
    "show()"
   ]
  },
  {
   "cell_type": "markdown",
   "metadata": {},
   "source": [
    "From the above plot, we see that the Make of a car has a significant impact on price. This is obvious as different manufacturers produce cars in different price ranges. It might be difficult for a single model to fit well to all the data. So, it might be wise to divide the data w.r.t price and then we can have individual models for a single price range."
   ]
  },
  {
   "cell_type": "code",
   "execution_count": 12,
   "metadata": {
    "collapsed": true
   },
   "outputs": [],
   "source": [
    "carSales=carSales.join(carSales.groupby('Make')['MSRP'].median(), on='Make', rsuffix='_Median')"
   ]
  },
  {
   "cell_type": "code",
   "execution_count": 13,
   "metadata": {},
   "outputs": [
    {
     "data": {
      "text/html": [
       "<div>\n",
       "<style scoped>\n",
       "    .dataframe tbody tr th:only-of-type {\n",
       "        vertical-align: middle;\n",
       "    }\n",
       "\n",
       "    .dataframe tbody tr th {\n",
       "        vertical-align: top;\n",
       "    }\n",
       "\n",
       "    .dataframe thead th {\n",
       "        text-align: right;\n",
       "    }\n",
       "</style>\n",
       "<table border=\"1\" class=\"dataframe\">\n",
       "  <thead>\n",
       "    <tr style=\"text-align: right;\">\n",
       "      <th></th>\n",
       "      <th>Make</th>\n",
       "      <th>MSRP</th>\n",
       "    </tr>\n",
       "  </thead>\n",
       "  <tbody>\n",
       "    <tr>\n",
       "      <th>6</th>\n",
       "      <td>Bugatti</td>\n",
       "      <td>1705769.0000</td>\n",
       "    </tr>\n",
       "    <tr>\n",
       "      <th>28</th>\n",
       "      <td>Maybach</td>\n",
       "      <td>426975.0000</td>\n",
       "    </tr>\n",
       "    <tr>\n",
       "      <th>38</th>\n",
       "      <td>Rolls-Royce</td>\n",
       "      <td>319400.0000</td>\n",
       "    </tr>\n",
       "    <tr>\n",
       "      <th>22</th>\n",
       "      <td>Lamborghini</td>\n",
       "      <td>251600.0000</td>\n",
       "    </tr>\n",
       "    <tr>\n",
       "      <th>30</th>\n",
       "      <td>McLaren</td>\n",
       "      <td>239400.0000</td>\n",
       "    </tr>\n",
       "    <tr>\n",
       "      <th>5</th>\n",
       "      <td>Bentley</td>\n",
       "      <td>231600.0000</td>\n",
       "    </tr>\n",
       "    <tr>\n",
       "      <th>13</th>\n",
       "      <td>Ferrari</td>\n",
       "      <td>224585.0000</td>\n",
       "    </tr>\n",
       "    <tr>\n",
       "      <th>41</th>\n",
       "      <td>Spyker</td>\n",
       "      <td>209990.0000</td>\n",
       "    </tr>\n",
       "    <tr>\n",
       "      <th>2</th>\n",
       "      <td>Aston Martin</td>\n",
       "      <td>195895.0000</td>\n",
       "    </tr>\n",
       "    <tr>\n",
       "      <th>27</th>\n",
       "      <td>Maserati</td>\n",
       "      <td>107400.0000</td>\n",
       "    </tr>\n",
       "    <tr>\n",
       "      <th>37</th>\n",
       "      <td>Porsche</td>\n",
       "      <td>98300.0000</td>\n",
       "    </tr>\n",
       "    <tr>\n",
       "      <th>44</th>\n",
       "      <td>Tesla</td>\n",
       "      <td>79700.0000</td>\n",
       "    </tr>\n",
       "    <tr>\n",
       "      <th>26</th>\n",
       "      <td>Lotus</td>\n",
       "      <td>68300.0000</td>\n",
       "    </tr>\n",
       "    <tr>\n",
       "      <th>1</th>\n",
       "      <td>Alfa Romeo</td>\n",
       "      <td>63900.0000</td>\n",
       "    </tr>\n",
       "    <tr>\n",
       "      <th>23</th>\n",
       "      <td>Land Rover</td>\n",
       "      <td>55300.0000</td>\n",
       "    </tr>\n",
       "    <tr>\n",
       "      <th>31</th>\n",
       "      <td>Mercedes-Benz</td>\n",
       "      <td>54500.0000</td>\n",
       "    </tr>\n",
       "    <tr>\n",
       "      <th>4</th>\n",
       "      <td>BMW</td>\n",
       "      <td>51850.0000</td>\n",
       "    </tr>\n",
       "    <tr>\n",
       "      <th>8</th>\n",
       "      <td>Cadillac</td>\n",
       "      <td>51650.0000</td>\n",
       "    </tr>\n",
       "    <tr>\n",
       "      <th>3</th>\n",
       "      <td>Audi</td>\n",
       "      <td>46725.0000</td>\n",
       "    </tr>\n",
       "    <tr>\n",
       "      <th>16</th>\n",
       "      <td>Genesis</td>\n",
       "      <td>43900.0000</td>\n",
       "    </tr>\n",
       "    <tr>\n",
       "      <th>20</th>\n",
       "      <td>Infiniti</td>\n",
       "      <td>43200.0000</td>\n",
       "    </tr>\n",
       "    <tr>\n",
       "      <th>24</th>\n",
       "      <td>Lexus</td>\n",
       "      <td>42825.0000</td>\n",
       "    </tr>\n",
       "    <tr>\n",
       "      <th>25</th>\n",
       "      <td>Lincoln</td>\n",
       "      <td>42095.0000</td>\n",
       "    </tr>\n",
       "    <tr>\n",
       "      <th>47</th>\n",
       "      <td>Volvo</td>\n",
       "      <td>37100.0000</td>\n",
       "    </tr>\n",
       "    <tr>\n",
       "      <th>0</th>\n",
       "      <td>Acura</td>\n",
       "      <td>36262.5000</td>\n",
       "    </tr>\n",
       "    <tr>\n",
       "      <th>17</th>\n",
       "      <td>HUMMER</td>\n",
       "      <td>36015.0000</td>\n",
       "    </tr>\n",
       "    <tr>\n",
       "      <th>39</th>\n",
       "      <td>Saab</td>\n",
       "      <td>34975.0000</td>\n",
       "    </tr>\n",
       "    <tr>\n",
       "      <th>15</th>\n",
       "      <td>GMC</td>\n",
       "      <td>31945.0000</td>\n",
       "    </tr>\n",
       "    <tr>\n",
       "      <th>7</th>\n",
       "      <td>Buick</td>\n",
       "      <td>30855.0000</td>\n",
       "    </tr>\n",
       "    <tr>\n",
       "      <th>45</th>\n",
       "      <td>Toyota</td>\n",
       "      <td>30175.0000</td>\n",
       "    </tr>\n",
       "    <tr>\n",
       "      <th>10</th>\n",
       "      <td>Chrysler</td>\n",
       "      <td>29185.0000</td>\n",
       "    </tr>\n",
       "    <tr>\n",
       "      <th>33</th>\n",
       "      <td>Nissan</td>\n",
       "      <td>28995.0000</td>\n",
       "    </tr>\n",
       "    <tr>\n",
       "      <th>14</th>\n",
       "      <td>Ford</td>\n",
       "      <td>28540.0000</td>\n",
       "    </tr>\n",
       "    <tr>\n",
       "      <th>46</th>\n",
       "      <td>Volkswagen</td>\n",
       "      <td>27425.0000</td>\n",
       "    </tr>\n",
       "    <tr>\n",
       "      <th>9</th>\n",
       "      <td>Chevrolet</td>\n",
       "      <td>26430.0000</td>\n",
       "    </tr>\n",
       "    <tr>\n",
       "      <th>18</th>\n",
       "      <td>Honda</td>\n",
       "      <td>26140.0000</td>\n",
       "    </tr>\n",
       "    <tr>\n",
       "      <th>42</th>\n",
       "      <td>Subaru</td>\n",
       "      <td>25995.0000</td>\n",
       "    </tr>\n",
       "    <tr>\n",
       "      <th>21</th>\n",
       "      <td>Kia</td>\n",
       "      <td>24140.0000</td>\n",
       "    </tr>\n",
       "    <tr>\n",
       "      <th>19</th>\n",
       "      <td>Hyundai</td>\n",
       "      <td>23400.0000</td>\n",
       "    </tr>\n",
       "    <tr>\n",
       "      <th>32</th>\n",
       "      <td>Mitsubishi</td>\n",
       "      <td>23195.0000</td>\n",
       "    </tr>\n",
       "    <tr>\n",
       "      <th>11</th>\n",
       "      <td>Dodge</td>\n",
       "      <td>23115.0000</td>\n",
       "    </tr>\n",
       "    <tr>\n",
       "      <th>29</th>\n",
       "      <td>Mazda</td>\n",
       "      <td>22630.0000</td>\n",
       "    </tr>\n",
       "    <tr>\n",
       "      <th>12</th>\n",
       "      <td>FIAT</td>\n",
       "      <td>22535.0000</td>\n",
       "    </tr>\n",
       "    <tr>\n",
       "      <th>36</th>\n",
       "      <td>Pontiac</td>\n",
       "      <td>22367.5000</td>\n",
       "    </tr>\n",
       "    <tr>\n",
       "      <th>40</th>\n",
       "      <td>Scion</td>\n",
       "      <td>19205.0000</td>\n",
       "    </tr>\n",
       "    <tr>\n",
       "      <th>43</th>\n",
       "      <td>Suzuki</td>\n",
       "      <td>17595.0000</td>\n",
       "    </tr>\n",
       "    <tr>\n",
       "      <th>35</th>\n",
       "      <td>Plymouth</td>\n",
       "      <td>2000.0000</td>\n",
       "    </tr>\n",
       "    <tr>\n",
       "      <th>34</th>\n",
       "      <td>Oldsmobile</td>\n",
       "      <td>2000.0000</td>\n",
       "    </tr>\n",
       "  </tbody>\n",
       "</table>\n",
       "</div>"
      ],
      "text/plain": [
       "             Make         MSRP\n",
       "6         Bugatti 1705769.0000\n",
       "28        Maybach  426975.0000\n",
       "38    Rolls-Royce  319400.0000\n",
       "22    Lamborghini  251600.0000\n",
       "30        McLaren  239400.0000\n",
       "5         Bentley  231600.0000\n",
       "13        Ferrari  224585.0000\n",
       "41         Spyker  209990.0000\n",
       "2    Aston Martin  195895.0000\n",
       "27       Maserati  107400.0000\n",
       "37        Porsche   98300.0000\n",
       "44          Tesla   79700.0000\n",
       "26          Lotus   68300.0000\n",
       "1      Alfa Romeo   63900.0000\n",
       "23     Land Rover   55300.0000\n",
       "31  Mercedes-Benz   54500.0000\n",
       "4             BMW   51850.0000\n",
       "8        Cadillac   51650.0000\n",
       "3            Audi   46725.0000\n",
       "16        Genesis   43900.0000\n",
       "20       Infiniti   43200.0000\n",
       "24          Lexus   42825.0000\n",
       "25        Lincoln   42095.0000\n",
       "47          Volvo   37100.0000\n",
       "0           Acura   36262.5000\n",
       "17         HUMMER   36015.0000\n",
       "39           Saab   34975.0000\n",
       "15            GMC   31945.0000\n",
       "7           Buick   30855.0000\n",
       "45         Toyota   30175.0000\n",
       "10       Chrysler   29185.0000\n",
       "33         Nissan   28995.0000\n",
       "14           Ford   28540.0000\n",
       "46     Volkswagen   27425.0000\n",
       "9       Chevrolet   26430.0000\n",
       "18          Honda   26140.0000\n",
       "42         Subaru   25995.0000\n",
       "21            Kia   24140.0000\n",
       "19        Hyundai   23400.0000\n",
       "32     Mitsubishi   23195.0000\n",
       "11          Dodge   23115.0000\n",
       "29          Mazda   22630.0000\n",
       "12           FIAT   22535.0000\n",
       "36        Pontiac   22367.5000\n",
       "40          Scion   19205.0000\n",
       "43         Suzuki   17595.0000\n",
       "35       Plymouth    2000.0000\n",
       "34     Oldsmobile    2000.0000"
      ]
     },
     "execution_count": 13,
     "metadata": {},
     "output_type": "execute_result"
    }
   ],
   "source": [
    "make = carSales.groupby('Make')['MSRP'].median().reset_index()\n",
    "pd.options.display.float_format = '{:.4f}'.format\n",
    "make.sort_values('MSRP', ascending=False)"
   ]
  },
  {
   "cell_type": "code",
   "execution_count": 14,
   "metadata": {},
   "outputs": [
    {
     "data": {
      "text/html": [
       "<div>\n",
       "<style scoped>\n",
       "    .dataframe tbody tr th:only-of-type {\n",
       "        vertical-align: middle;\n",
       "    }\n",
       "\n",
       "    .dataframe tbody tr th {\n",
       "        vertical-align: top;\n",
       "    }\n",
       "\n",
       "    .dataframe thead th {\n",
       "        text-align: right;\n",
       "    }\n",
       "</style>\n",
       "<table border=\"1\" class=\"dataframe\">\n",
       "  <thead>\n",
       "    <tr style=\"text-align: right;\">\n",
       "      <th></th>\n",
       "      <th>Make</th>\n",
       "      <th>Model</th>\n",
       "      <th>Year</th>\n",
       "      <th>Engine Fuel Type</th>\n",
       "      <th>Engine HP</th>\n",
       "      <th>Engine Cylinders</th>\n",
       "      <th>Transmission Type</th>\n",
       "      <th>Driven_Wheels</th>\n",
       "      <th>Number of Doors</th>\n",
       "      <th>Market Category</th>\n",
       "      <th>Vehicle Size</th>\n",
       "      <th>Vehicle Style</th>\n",
       "      <th>highway MPG</th>\n",
       "      <th>city mpg</th>\n",
       "      <th>MSRP</th>\n",
       "      <th>Age</th>\n",
       "      <th>MSRP_Median</th>\n",
       "      <th>MSRP_group</th>\n",
       "    </tr>\n",
       "  </thead>\n",
       "  <tbody>\n",
       "    <tr>\n",
       "      <th>0</th>\n",
       "      <td>BMW</td>\n",
       "      <td>1 Series M</td>\n",
       "      <td>2011</td>\n",
       "      <td>premium unleaded (required)</td>\n",
       "      <td>335.0000</td>\n",
       "      <td>6.0000</td>\n",
       "      <td>MANUAL</td>\n",
       "      <td>rear wheel drive</td>\n",
       "      <td>2.0000</td>\n",
       "      <td>Factory Tuner,Luxury,High-Performance</td>\n",
       "      <td>Compact</td>\n",
       "      <td>Coupe</td>\n",
       "      <td>26</td>\n",
       "      <td>19</td>\n",
       "      <td>46135</td>\n",
       "      <td>6</td>\n",
       "      <td>51850.0000</td>\n",
       "      <td>deluxe</td>\n",
       "    </tr>\n",
       "    <tr>\n",
       "      <th>1</th>\n",
       "      <td>BMW</td>\n",
       "      <td>1 Series</td>\n",
       "      <td>2011</td>\n",
       "      <td>premium unleaded (required)</td>\n",
       "      <td>300.0000</td>\n",
       "      <td>6.0000</td>\n",
       "      <td>MANUAL</td>\n",
       "      <td>rear wheel drive</td>\n",
       "      <td>2.0000</td>\n",
       "      <td>Luxury,Performance</td>\n",
       "      <td>Compact</td>\n",
       "      <td>Convertible</td>\n",
       "      <td>28</td>\n",
       "      <td>19</td>\n",
       "      <td>40650</td>\n",
       "      <td>6</td>\n",
       "      <td>51850.0000</td>\n",
       "      <td>deluxe</td>\n",
       "    </tr>\n",
       "    <tr>\n",
       "      <th>2</th>\n",
       "      <td>BMW</td>\n",
       "      <td>1 Series</td>\n",
       "      <td>2011</td>\n",
       "      <td>premium unleaded (required)</td>\n",
       "      <td>300.0000</td>\n",
       "      <td>6.0000</td>\n",
       "      <td>MANUAL</td>\n",
       "      <td>rear wheel drive</td>\n",
       "      <td>2.0000</td>\n",
       "      <td>Luxury,High-Performance</td>\n",
       "      <td>Compact</td>\n",
       "      <td>Coupe</td>\n",
       "      <td>28</td>\n",
       "      <td>20</td>\n",
       "      <td>36350</td>\n",
       "      <td>6</td>\n",
       "      <td>51850.0000</td>\n",
       "      <td>deluxe</td>\n",
       "    </tr>\n",
       "    <tr>\n",
       "      <th>3</th>\n",
       "      <td>BMW</td>\n",
       "      <td>1 Series</td>\n",
       "      <td>2011</td>\n",
       "      <td>premium unleaded (required)</td>\n",
       "      <td>230.0000</td>\n",
       "      <td>6.0000</td>\n",
       "      <td>MANUAL</td>\n",
       "      <td>rear wheel drive</td>\n",
       "      <td>2.0000</td>\n",
       "      <td>Luxury,Performance</td>\n",
       "      <td>Compact</td>\n",
       "      <td>Coupe</td>\n",
       "      <td>28</td>\n",
       "      <td>18</td>\n",
       "      <td>29450</td>\n",
       "      <td>6</td>\n",
       "      <td>51850.0000</td>\n",
       "      <td>deluxe</td>\n",
       "    </tr>\n",
       "    <tr>\n",
       "      <th>4</th>\n",
       "      <td>BMW</td>\n",
       "      <td>1 Series</td>\n",
       "      <td>2011</td>\n",
       "      <td>premium unleaded (required)</td>\n",
       "      <td>230.0000</td>\n",
       "      <td>6.0000</td>\n",
       "      <td>MANUAL</td>\n",
       "      <td>rear wheel drive</td>\n",
       "      <td>2.0000</td>\n",
       "      <td>Luxury</td>\n",
       "      <td>Compact</td>\n",
       "      <td>Convertible</td>\n",
       "      <td>28</td>\n",
       "      <td>18</td>\n",
       "      <td>34500</td>\n",
       "      <td>6</td>\n",
       "      <td>51850.0000</td>\n",
       "      <td>deluxe</td>\n",
       "    </tr>\n",
       "  </tbody>\n",
       "</table>\n",
       "</div>"
      ],
      "text/plain": [
       "  Make       Model  Year             Engine Fuel Type  Engine HP  \\\n",
       "0  BMW  1 Series M  2011  premium unleaded (required)   335.0000   \n",
       "1  BMW    1 Series  2011  premium unleaded (required)   300.0000   \n",
       "2  BMW    1 Series  2011  premium unleaded (required)   300.0000   \n",
       "3  BMW    1 Series  2011  premium unleaded (required)   230.0000   \n",
       "4  BMW    1 Series  2011  premium unleaded (required)   230.0000   \n",
       "\n",
       "   Engine Cylinders Transmission Type     Driven_Wheels  Number of Doors  \\\n",
       "0            6.0000            MANUAL  rear wheel drive           2.0000   \n",
       "1            6.0000            MANUAL  rear wheel drive           2.0000   \n",
       "2            6.0000            MANUAL  rear wheel drive           2.0000   \n",
       "3            6.0000            MANUAL  rear wheel drive           2.0000   \n",
       "4            6.0000            MANUAL  rear wheel drive           2.0000   \n",
       "\n",
       "                         Market Category Vehicle Size Vehicle Style  \\\n",
       "0  Factory Tuner,Luxury,High-Performance      Compact         Coupe   \n",
       "1                     Luxury,Performance      Compact   Convertible   \n",
       "2                Luxury,High-Performance      Compact         Coupe   \n",
       "3                     Luxury,Performance      Compact         Coupe   \n",
       "4                                 Luxury      Compact   Convertible   \n",
       "\n",
       "   highway MPG  city mpg   MSRP  Age  MSRP_Median MSRP_group  \n",
       "0           26        19  46135    6   51850.0000     deluxe  \n",
       "1           28        19  40650    6   51850.0000     deluxe  \n",
       "2           28        20  36350    6   51850.0000     deluxe  \n",
       "3           28        18  29450    6   51850.0000     deluxe  \n",
       "4           28        18  34500    6   51850.0000     deluxe  "
      ]
     },
     "execution_count": 14,
     "metadata": {},
     "output_type": "execute_result"
    }
   ],
   "source": [
    "def map_MSRP_to_group(x):\n",
    "    if x<30000:\n",
    "        return 'ordinary'\n",
    "    elif x<60000 :\n",
    "        return 'deluxe'\n",
    "    elif x<90000:\n",
    "        return 'super-deluxe'\n",
    "    elif x<350000:\n",
    "        return 'luxury'\n",
    "    else:\n",
    "        return 'super-luxury'\n",
    "\n",
    "#function to convert a series    \n",
    "def convert_MSRP_series_to_MSRP_group(MSRP):\n",
    "    return MSRP.apply(map_MSRP_to_group)\n",
    "\n",
    "MSRP_group=convert_MSRP_series_to_MSRP_group(carSales['MSRP_Median'])\n",
    "carSales['MSRP_group'] = MSRP_group\n",
    "carSales.head()"
   ]
  },
  {
   "cell_type": "markdown",
   "metadata": {},
   "source": [
    "Lets have a look at the Makes present in various price groups"
   ]
  },
  {
   "cell_type": "code",
   "execution_count": 15,
   "metadata": {},
   "outputs": [
    {
     "data": {
      "text/plain": [
       "array(['FIAT', 'Chrysler', 'Nissan', 'Mazda', 'Mitsubishi', 'Pontiac',\n",
       "       'Hyundai', 'Plymouth', 'Honda', 'Oldsmobile', 'Suzuki', 'Ford',\n",
       "       'Kia', 'Chevrolet', 'Dodge', 'Subaru', 'Volkswagen', 'Scion'], dtype=object)"
      ]
     },
     "execution_count": 15,
     "metadata": {},
     "output_type": "execute_result"
    }
   ],
   "source": [
    "carSales[carSales['MSRP_group']=='ordinary']['Make'].unique()"
   ]
  },
  {
   "cell_type": "code",
   "execution_count": 16,
   "metadata": {},
   "outputs": [
    {
     "data": {
      "text/plain": [
       "array(['BMW', 'Audi', 'Mercedes-Benz', 'Volvo', 'Toyota', 'Saab', 'GMC',\n",
       "       'Cadillac', 'Lincoln', 'Buick', 'Acura', 'Lexus', 'Land Rover',\n",
       "       'Infiniti', 'Genesis', 'HUMMER'], dtype=object)"
      ]
     },
     "execution_count": 16,
     "metadata": {},
     "output_type": "execute_result"
    }
   ],
   "source": [
    "carSales[carSales['MSRP_group']=='deluxe']['Make'].unique()"
   ]
  },
  {
   "cell_type": "code",
   "execution_count": 17,
   "metadata": {},
   "outputs": [
    {
     "data": {
      "text/plain": [
       "array(['Alfa Romeo', 'Lotus', 'Tesla'], dtype=object)"
      ]
     },
     "execution_count": 17,
     "metadata": {},
     "output_type": "execute_result"
    }
   ],
   "source": [
    "carSales[carSales['MSRP_group']=='super-deluxe']['Make'].unique()"
   ]
  },
  {
   "cell_type": "code",
   "execution_count": 18,
   "metadata": {},
   "outputs": [
    {
     "data": {
      "text/plain": [
       "array(['Ferrari', 'McLaren', 'Porsche', 'Bentley', 'Lamborghini', 'Spyker',\n",
       "       'Rolls-Royce', 'Maserati', 'Aston Martin'], dtype=object)"
      ]
     },
     "execution_count": 18,
     "metadata": {},
     "output_type": "execute_result"
    }
   ],
   "source": [
    "carSales[carSales['MSRP_group']=='luxury']['Make'].unique()"
   ]
  },
  {
   "cell_type": "code",
   "execution_count": 19,
   "metadata": {},
   "outputs": [
    {
     "data": {
      "text/plain": [
       "array(['Maybach', 'Bugatti'], dtype=object)"
      ]
     },
     "execution_count": 19,
     "metadata": {},
     "output_type": "execute_result"
    }
   ],
   "source": [
    "carSales[carSales['MSRP_group']=='super-luxury']['Make'].unique()"
   ]
  },
  {
   "cell_type": "markdown",
   "metadata": {},
   "source": [
    "Lets save the data as pickle files and they can be used easily for further processing"
   ]
  },
  {
   "cell_type": "code",
   "execution_count": 20,
   "metadata": {
    "collapsed": true
   },
   "outputs": [],
   "source": [
    "#Creating Pickle files\n",
    "import pickle\n",
    "ordinary='C:/users/hackuser1/ord.pkl'\n",
    "deluxe='C:/users/hackuser1/del.pkl'\n",
    "supdel='C:/users/hackuser1/supdel.pkl'\n",
    "luxury='C:/users/hackuser1/luxury.pkl'\n",
    "suplux='C:/users/hackuser1/suplux.pkl'\n",
    "\n",
    "with open(ordinary, \"wb\") as f:\n",
    "    w = pickle.dump(carSales[carSales['MSRP_group']=='ordinary'],f)\n",
    "with open(deluxe, \"wb\") as f:\n",
    "    w = pickle.dump(carSales[carSales['MSRP_group']=='deluxe'],f)\n",
    "with open(supdel, \"wb\") as f:\n",
    "    w = pickle.dump(carSales[carSales['MSRP_group']=='super-deluxe'],f)\n",
    "with open(luxury, \"wb\") as f:\n",
    "    w = pickle.dump(carSales[carSales['MSRP_group']=='luxury'],f)\n",
    "with open(suplux, \"wb\") as f:\n",
    "    w = pickle.dump(carSales[carSales['MSRP_group']=='super-luxury'],f)"
   ]
  },
  {
   "cell_type": "markdown",
   "metadata": {},
   "source": [
    "Here, we shall provide the analysis for just one of the files. The remaining files will be processed in the same manner. Lets have a look at the deluxe category"
   ]
  },
  {
   "cell_type": "code",
   "execution_count": 21,
   "metadata": {},
   "outputs": [
    {
     "name": "stdout",
     "output_type": "stream",
     "text": [
      "<class 'pandas.core.frame.DataFrame'>\n",
      "Int64Index: 6950 entries, 32 to 11808\n",
      "Data columns (total 18 columns):\n",
      "Make                 6950 non-null object\n",
      "Model                6950 non-null object\n",
      "Year                 6950 non-null int64\n",
      "Engine Fuel Type     6947 non-null object\n",
      "Engine HP            6910 non-null float64\n",
      "Engine Cylinders     6921 non-null float64\n",
      "Transmission Type    6950 non-null object\n",
      "Driven_Wheels        6950 non-null object\n",
      "Number of Doors      6950 non-null float64\n",
      "Market Category      3967 non-null object\n",
      "Vehicle Size         6950 non-null object\n",
      "Vehicle Style        6950 non-null object\n",
      "highway MPG          6950 non-null int64\n",
      "city mpg             6950 non-null int64\n",
      "MSRP                 6950 non-null int64\n",
      "Age                  6950 non-null int64\n",
      "MSRP_Median          6950 non-null float64\n",
      "MSRP_group           6950 non-null object\n",
      "dtypes: float64(4), int64(5), object(9)\n",
      "memory usage: 1.0+ MB\n"
     ]
    }
   ],
   "source": [
    "ordinary=pd.read_pickle('C:/users/hackuser1/ord.pkl')\n",
    "ordinary.info()"
   ]
  },
  {
   "cell_type": "markdown",
   "metadata": {},
   "source": [
    "The index is still set to that of the original dataframe. Lets reset that. "
   ]
  },
  {
   "cell_type": "code",
   "execution_count": 22,
   "metadata": {
    "collapsed": true
   },
   "outputs": [],
   "source": [
    "ordinary = ordinary.reset_index(drop=True)\n",
    "ordinary=ordinary.drop(['MSRP_group','MSRP_Median'],axis=1)"
   ]
  },
  {
   "cell_type": "markdown",
   "metadata": {},
   "source": [
    "We know that there are a few assumtions for Linear Regression: \n",
    "- No or little multicollinearity\n",
    "- Linear relationship\n",
    "- Multivariate normality\n",
    "- No auto-correlation\n",
    "- Homoscedasticity\n",
    "<br>Let us check if the above assumptions hold true for our data. First we will try to check for multicollinearity i.e whether there is any correlation between the independent variables. We will try to create a heatmap for correlation among the various variables.\n"
   ]
  },
  {
   "cell_type": "code",
   "execution_count": 23,
   "metadata": {},
   "outputs": [
    {
     "data": {
      "image/png": "[encoded data removed]",
      "text/plain": [
       "<matplotlib.figure.Figure at 0x1c55a3f3668>"
      ]
     },
     "metadata": {},
     "output_type": "display_data"
    }
   ],
   "source": [
    "corr=ordinary.corr()\n",
    "# Generate a mask for the upper triangle\n",
    "mask = np.zeros_like(corr, dtype=np.bool)\n",
    "mask[np.triu_indices_from(mask)] = True\n",
    "# Set up the matplotlib figure\n",
    "f, ax = plt.subplots(figsize=(11, 9))\n",
    "# Generate a custom diverging colormap\n",
    "cmap = sns.diverging_palette(220, 10, as_cmap=True)\n",
    "# Draw the heatmap with the mask and correct aspect ratio\n",
    "sns.heatmap(corr, mask=mask, cmap=cmap, vmax=1, center=0,\n",
    "            square=True, linewidths=.5, cbar_kws={\"shrink\": .5})\n",
    "plt.show()"
   ]
  },
  {
   "cell_type": "code",
   "execution_count": 24,
   "metadata": {},
   "outputs": [
    {
     "data": {
      "text/html": [
       "<div>\n",
       "<style scoped>\n",
       "    .dataframe tbody tr th:only-of-type {\n",
       "        vertical-align: middle;\n",
       "    }\n",
       "\n",
       "    .dataframe tbody tr th {\n",
       "        vertical-align: top;\n",
       "    }\n",
       "\n",
       "    .dataframe thead th {\n",
       "        text-align: right;\n",
       "    }\n",
       "</style>\n",
       "<table border=\"1\" class=\"dataframe\">\n",
       "  <thead>\n",
       "    <tr style=\"text-align: right;\">\n",
       "      <th></th>\n",
       "      <th>Year</th>\n",
       "      <th>Engine HP</th>\n",
       "      <th>Engine Cylinders</th>\n",
       "      <th>Number of Doors</th>\n",
       "      <th>highway MPG</th>\n",
       "      <th>city mpg</th>\n",
       "      <th>MSRP</th>\n",
       "      <th>Age</th>\n",
       "    </tr>\n",
       "  </thead>\n",
       "  <tbody>\n",
       "    <tr>\n",
       "      <th>Year</th>\n",
       "      <td>1.0000</td>\n",
       "      <td>0.3531</td>\n",
       "      <td>-0.1271</td>\n",
       "      <td>0.3101</td>\n",
       "      <td>0.3132</td>\n",
       "      <td>0.2254</td>\n",
       "      <td>0.6549</td>\n",
       "      <td>-1.0000</td>\n",
       "    </tr>\n",
       "    <tr>\n",
       "      <th>Engine HP</th>\n",
       "      <td>0.3531</td>\n",
       "      <td>1.0000</td>\n",
       "      <td>0.7104</td>\n",
       "      <td>-0.0334</td>\n",
       "      <td>-0.4025</td>\n",
       "      <td>-0.4063</td>\n",
       "      <td>0.7777</td>\n",
       "      <td>-0.3531</td>\n",
       "    </tr>\n",
       "    <tr>\n",
       "      <th>Engine Cylinders</th>\n",
       "      <td>-0.1271</td>\n",
       "      <td>0.7104</td>\n",
       "      <td>1.0000</td>\n",
       "      <td>-0.0969</td>\n",
       "      <td>-0.6937</td>\n",
       "      <td>-0.6281</td>\n",
       "      <td>0.3614</td>\n",
       "      <td>0.1271</td>\n",
       "    </tr>\n",
       "    <tr>\n",
       "      <th>Number of Doors</th>\n",
       "      <td>0.3101</td>\n",
       "      <td>-0.0334</td>\n",
       "      <td>-0.0969</td>\n",
       "      <td>1.0000</td>\n",
       "      <td>0.1212</td>\n",
       "      <td>0.1023</td>\n",
       "      <td>0.1433</td>\n",
       "      <td>-0.3101</td>\n",
       "    </tr>\n",
       "    <tr>\n",
       "      <th>highway MPG</th>\n",
       "      <td>0.3132</td>\n",
       "      <td>-0.4025</td>\n",
       "      <td>-0.6937</td>\n",
       "      <td>0.1212</td>\n",
       "      <td>1.0000</td>\n",
       "      <td>0.9395</td>\n",
       "      <td>-0.0638</td>\n",
       "      <td>-0.3132</td>\n",
       "    </tr>\n",
       "    <tr>\n",
       "      <th>city mpg</th>\n",
       "      <td>0.2254</td>\n",
       "      <td>-0.4063</td>\n",
       "      <td>-0.6281</td>\n",
       "      <td>0.1023</td>\n",
       "      <td>0.9395</td>\n",
       "      <td>1.0000</td>\n",
       "      <td>-0.0644</td>\n",
       "      <td>-0.2254</td>\n",
       "    </tr>\n",
       "    <tr>\n",
       "      <th>MSRP</th>\n",
       "      <td>0.6549</td>\n",
       "      <td>0.7777</td>\n",
       "      <td>0.3614</td>\n",
       "      <td>0.1433</td>\n",
       "      <td>-0.0638</td>\n",
       "      <td>-0.0644</td>\n",
       "      <td>1.0000</td>\n",
       "      <td>-0.6549</td>\n",
       "    </tr>\n",
       "    <tr>\n",
       "      <th>Age</th>\n",
       "      <td>-1.0000</td>\n",
       "      <td>-0.3531</td>\n",
       "      <td>0.1271</td>\n",
       "      <td>-0.3101</td>\n",
       "      <td>-0.3132</td>\n",
       "      <td>-0.2254</td>\n",
       "      <td>-0.6549</td>\n",
       "      <td>1.0000</td>\n",
       "    </tr>\n",
       "  </tbody>\n",
       "</table>\n",
       "</div>"
      ],
      "text/plain": [
       "                    Year  Engine HP  Engine Cylinders  Number of Doors  \\\n",
       "Year              1.0000     0.3531           -0.1271           0.3101   \n",
       "Engine HP         0.3531     1.0000            0.7104          -0.0334   \n",
       "Engine Cylinders -0.1271     0.7104            1.0000          -0.0969   \n",
       "Number of Doors   0.3101    -0.0334           -0.0969           1.0000   \n",
       "highway MPG       0.3132    -0.4025           -0.6937           0.1212   \n",
       "city mpg          0.2254    -0.4063           -0.6281           0.1023   \n",
       "MSRP              0.6549     0.7777            0.3614           0.1433   \n",
       "Age              -1.0000    -0.3531            0.1271          -0.3101   \n",
       "\n",
       "                  highway MPG  city mpg    MSRP     Age  \n",
       "Year                   0.3132    0.2254  0.6549 -1.0000  \n",
       "Engine HP             -0.4025   -0.4063  0.7777 -0.3531  \n",
       "Engine Cylinders      -0.6937   -0.6281  0.3614  0.1271  \n",
       "Number of Doors        0.1212    0.1023  0.1433 -0.3101  \n",
       "highway MPG            1.0000    0.9395 -0.0638 -0.3132  \n",
       "city mpg               0.9395    1.0000 -0.0644 -0.2254  \n",
       "MSRP                  -0.0638   -0.0644  1.0000 -0.6549  \n",
       "Age                   -0.3132   -0.2254 -0.6549  1.0000  "
      ]
     },
     "execution_count": 24,
     "metadata": {},
     "output_type": "execute_result"
    }
   ],
   "source": [
    "#Also showcasing the table below to lookup exact values for reference.\n",
    "corr"
   ]
  },
  {
   "cell_type": "markdown",
   "metadata": {},
   "source": [
    "As we can see above, there is a very strong negative correlation between Year and Age, which makes sense as the Age of the car is a derived feature created using Year. Highway MPG and City MPG have a strong positive correlation with each other. The same is true for Engine HP and Engine Cylinders. Here selection of the features becomes a bit tricky as we need to keep in mind the popular features. We select Engine Cylinders as it more easy to remember. City MPG and Highway MPG are almost equally correlated to MRSP. Hence, we select City MPG. But further research can go into this by creating surveys,etc.\n",
    "\n",
    "Also, dropping MSRP Mean and MSRP group as they are of no use."
   ]
  },
  {
   "cell_type": "code",
   "execution_count": 25,
   "metadata": {},
   "outputs": [
    {
     "name": "stdout",
     "output_type": "stream",
     "text": [
      "<class 'pandas.core.frame.DataFrame'>\n",
      "RangeIndex: 6950 entries, 0 to 6949\n",
      "Data columns (total 13 columns):\n",
      "Make                 6950 non-null object\n",
      "Model                6950 non-null object\n",
      "Engine Fuel Type     6947 non-null object\n",
      "Engine Cylinders     6921 non-null float64\n",
      "Transmission Type    6950 non-null object\n",
      "Driven_Wheels        6950 non-null object\n",
      "Number of Doors      6950 non-null float64\n",
      "Market Category      3967 non-null object\n",
      "Vehicle Size         6950 non-null object\n",
      "Vehicle Style        6950 non-null object\n",
      "city mpg             6950 non-null int64\n",
      "MSRP                 6950 non-null int64\n",
      "Age                  6950 non-null int64\n",
      "dtypes: float64(2), int64(3), object(8)\n",
      "memory usage: 705.9+ KB\n"
     ]
    }
   ],
   "source": [
    "#dropping the features as discussed above\n",
    "ordinary=ordinary.drop(['Year','Engine HP','highway MPG'],axis=1)\n",
    "ordinary.info()"
   ]
  },
  {
   "cell_type": "markdown",
   "metadata": {},
   "source": [
    "# Data Cleansing\n",
    "Next, we try to fix the blank values. As, we can see above there are blank values for  Engine Fuel Type,Market Category and Engine Cyliders. Now lets check the Engine Fuel Type first"
   ]
  },
  {
   "cell_type": "code",
   "execution_count": 26,
   "metadata": {},
   "outputs": [
    {
     "data": {
      "text/html": [
       "<div>\n",
       "<style scoped>\n",
       "    .dataframe tbody tr th:only-of-type {\n",
       "        vertical-align: middle;\n",
       "    }\n",
       "\n",
       "    .dataframe tbody tr th {\n",
       "        vertical-align: top;\n",
       "    }\n",
       "\n",
       "    .dataframe thead th {\n",
       "        text-align: right;\n",
       "    }\n",
       "</style>\n",
       "<table border=\"1\" class=\"dataframe\">\n",
       "  <thead>\n",
       "    <tr style=\"text-align: right;\">\n",
       "      <th></th>\n",
       "      <th>Make</th>\n",
       "      <th>Model</th>\n",
       "      <th>Engine Fuel Type</th>\n",
       "      <th>Engine Cylinders</th>\n",
       "      <th>Transmission Type</th>\n",
       "      <th>Driven_Wheels</th>\n",
       "      <th>Number of Doors</th>\n",
       "      <th>Market Category</th>\n",
       "      <th>Vehicle Size</th>\n",
       "      <th>Vehicle Style</th>\n",
       "      <th>city mpg</th>\n",
       "      <th>MSRP</th>\n",
       "      <th>Age</th>\n",
       "    </tr>\n",
       "  </thead>\n",
       "  <tbody>\n",
       "    <tr>\n",
       "      <th>6662</th>\n",
       "      <td>Suzuki</td>\n",
       "      <td>Verona</td>\n",
       "      <td>NaN</td>\n",
       "      <td>6.0000</td>\n",
       "      <td>AUTOMATIC</td>\n",
       "      <td>front wheel drive</td>\n",
       "      <td>4.0000</td>\n",
       "      <td>NaN</td>\n",
       "      <td>Midsize</td>\n",
       "      <td>Sedan</td>\n",
       "      <td>17</td>\n",
       "      <td>17199</td>\n",
       "      <td>13</td>\n",
       "    </tr>\n",
       "    <tr>\n",
       "      <th>6663</th>\n",
       "      <td>Suzuki</td>\n",
       "      <td>Verona</td>\n",
       "      <td>NaN</td>\n",
       "      <td>6.0000</td>\n",
       "      <td>AUTOMATIC</td>\n",
       "      <td>front wheel drive</td>\n",
       "      <td>4.0000</td>\n",
       "      <td>NaN</td>\n",
       "      <td>Midsize</td>\n",
       "      <td>Sedan</td>\n",
       "      <td>17</td>\n",
       "      <td>20199</td>\n",
       "      <td>13</td>\n",
       "    </tr>\n",
       "    <tr>\n",
       "      <th>6664</th>\n",
       "      <td>Suzuki</td>\n",
       "      <td>Verona</td>\n",
       "      <td>NaN</td>\n",
       "      <td>6.0000</td>\n",
       "      <td>AUTOMATIC</td>\n",
       "      <td>front wheel drive</td>\n",
       "      <td>4.0000</td>\n",
       "      <td>NaN</td>\n",
       "      <td>Midsize</td>\n",
       "      <td>Sedan</td>\n",
       "      <td>17</td>\n",
       "      <td>18499</td>\n",
       "      <td>13</td>\n",
       "    </tr>\n",
       "  </tbody>\n",
       "</table>\n",
       "</div>"
      ],
      "text/plain": [
       "        Make   Model Engine Fuel Type  Engine Cylinders Transmission Type  \\\n",
       "6662  Suzuki  Verona              NaN            6.0000         AUTOMATIC   \n",
       "6663  Suzuki  Verona              NaN            6.0000         AUTOMATIC   \n",
       "6664  Suzuki  Verona              NaN            6.0000         AUTOMATIC   \n",
       "\n",
       "          Driven_Wheels  Number of Doors Market Category Vehicle Size  \\\n",
       "6662  front wheel drive           4.0000             NaN      Midsize   \n",
       "6663  front wheel drive           4.0000             NaN      Midsize   \n",
       "6664  front wheel drive           4.0000             NaN      Midsize   \n",
       "\n",
       "     Vehicle Style  city mpg   MSRP  Age  \n",
       "6662         Sedan        17  17199   13  \n",
       "6663         Sedan        17  20199   13  \n",
       "6664         Sedan        17  18499   13  "
      ]
     },
     "execution_count": 26,
     "metadata": {},
     "output_type": "execute_result"
    }
   ],
   "source": [
    "ordinary[ordinary['Engine Fuel Type'].isnull()]"
   ]
  },
  {
   "cell_type": "markdown",
   "metadata": {},
   "source": [
    "We lookup the values from the other records in the dataset or we check the internet. For eg, we check for Suzuki Verona as below."
   ]
  },
  {
   "cell_type": "code",
   "execution_count": 27,
   "metadata": {},
   "outputs": [
    {
     "data": {
      "text/html": [
       "<div>\n",
       "<style scoped>\n",
       "    .dataframe tbody tr th:only-of-type {\n",
       "        vertical-align: middle;\n",
       "    }\n",
       "\n",
       "    .dataframe tbody tr th {\n",
       "        vertical-align: top;\n",
       "    }\n",
       "\n",
       "    .dataframe thead th {\n",
       "        text-align: right;\n",
       "    }\n",
       "</style>\n",
       "<table border=\"1\" class=\"dataframe\">\n",
       "  <thead>\n",
       "    <tr style=\"text-align: right;\">\n",
       "      <th></th>\n",
       "      <th>Make</th>\n",
       "      <th>Model</th>\n",
       "      <th>Engine Fuel Type</th>\n",
       "      <th>Engine Cylinders</th>\n",
       "      <th>Transmission Type</th>\n",
       "      <th>Driven_Wheels</th>\n",
       "      <th>Number of Doors</th>\n",
       "      <th>Market Category</th>\n",
       "      <th>Vehicle Size</th>\n",
       "      <th>Vehicle Style</th>\n",
       "      <th>city mpg</th>\n",
       "      <th>MSRP</th>\n",
       "      <th>Age</th>\n",
       "    </tr>\n",
       "  </thead>\n",
       "  <tbody>\n",
       "    <tr>\n",
       "      <th>6662</th>\n",
       "      <td>Suzuki</td>\n",
       "      <td>Verona</td>\n",
       "      <td>NaN</td>\n",
       "      <td>6.0000</td>\n",
       "      <td>AUTOMATIC</td>\n",
       "      <td>front wheel drive</td>\n",
       "      <td>4.0000</td>\n",
       "      <td>NaN</td>\n",
       "      <td>Midsize</td>\n",
       "      <td>Sedan</td>\n",
       "      <td>17</td>\n",
       "      <td>17199</td>\n",
       "      <td>13</td>\n",
       "    </tr>\n",
       "    <tr>\n",
       "      <th>6663</th>\n",
       "      <td>Suzuki</td>\n",
       "      <td>Verona</td>\n",
       "      <td>NaN</td>\n",
       "      <td>6.0000</td>\n",
       "      <td>AUTOMATIC</td>\n",
       "      <td>front wheel drive</td>\n",
       "      <td>4.0000</td>\n",
       "      <td>NaN</td>\n",
       "      <td>Midsize</td>\n",
       "      <td>Sedan</td>\n",
       "      <td>17</td>\n",
       "      <td>20199</td>\n",
       "      <td>13</td>\n",
       "    </tr>\n",
       "    <tr>\n",
       "      <th>6664</th>\n",
       "      <td>Suzuki</td>\n",
       "      <td>Verona</td>\n",
       "      <td>NaN</td>\n",
       "      <td>6.0000</td>\n",
       "      <td>AUTOMATIC</td>\n",
       "      <td>front wheel drive</td>\n",
       "      <td>4.0000</td>\n",
       "      <td>NaN</td>\n",
       "      <td>Midsize</td>\n",
       "      <td>Sedan</td>\n",
       "      <td>17</td>\n",
       "      <td>18499</td>\n",
       "      <td>13</td>\n",
       "    </tr>\n",
       "    <tr>\n",
       "      <th>6665</th>\n",
       "      <td>Suzuki</td>\n",
       "      <td>Verona</td>\n",
       "      <td>regular unleaded</td>\n",
       "      <td>6.0000</td>\n",
       "      <td>AUTOMATIC</td>\n",
       "      <td>front wheel drive</td>\n",
       "      <td>4.0000</td>\n",
       "      <td>NaN</td>\n",
       "      <td>Midsize</td>\n",
       "      <td>Sedan</td>\n",
       "      <td>18</td>\n",
       "      <td>19349</td>\n",
       "      <td>12</td>\n",
       "    </tr>\n",
       "    <tr>\n",
       "      <th>6666</th>\n",
       "      <td>Suzuki</td>\n",
       "      <td>Verona</td>\n",
       "      <td>regular unleaded</td>\n",
       "      <td>6.0000</td>\n",
       "      <td>AUTOMATIC</td>\n",
       "      <td>front wheel drive</td>\n",
       "      <td>4.0000</td>\n",
       "      <td>NaN</td>\n",
       "      <td>Midsize</td>\n",
       "      <td>Sedan</td>\n",
       "      <td>18</td>\n",
       "      <td>21049</td>\n",
       "      <td>12</td>\n",
       "    </tr>\n",
       "    <tr>\n",
       "      <th>6667</th>\n",
       "      <td>Suzuki</td>\n",
       "      <td>Verona</td>\n",
       "      <td>regular unleaded</td>\n",
       "      <td>6.0000</td>\n",
       "      <td>AUTOMATIC</td>\n",
       "      <td>front wheel drive</td>\n",
       "      <td>4.0000</td>\n",
       "      <td>NaN</td>\n",
       "      <td>Midsize</td>\n",
       "      <td>Sedan</td>\n",
       "      <td>18</td>\n",
       "      <td>17549</td>\n",
       "      <td>12</td>\n",
       "    </tr>\n",
       "    <tr>\n",
       "      <th>6668</th>\n",
       "      <td>Suzuki</td>\n",
       "      <td>Verona</td>\n",
       "      <td>regular unleaded</td>\n",
       "      <td>6.0000</td>\n",
       "      <td>AUTOMATIC</td>\n",
       "      <td>front wheel drive</td>\n",
       "      <td>4.0000</td>\n",
       "      <td>NaN</td>\n",
       "      <td>Midsize</td>\n",
       "      <td>Sedan</td>\n",
       "      <td>18</td>\n",
       "      <td>20549</td>\n",
       "      <td>12</td>\n",
       "    </tr>\n",
       "    <tr>\n",
       "      <th>6669</th>\n",
       "      <td>Suzuki</td>\n",
       "      <td>Verona</td>\n",
       "      <td>regular unleaded</td>\n",
       "      <td>6.0000</td>\n",
       "      <td>AUTOMATIC</td>\n",
       "      <td>front wheel drive</td>\n",
       "      <td>4.0000</td>\n",
       "      <td>NaN</td>\n",
       "      <td>Midsize</td>\n",
       "      <td>Sedan</td>\n",
       "      <td>17</td>\n",
       "      <td>20299</td>\n",
       "      <td>11</td>\n",
       "    </tr>\n",
       "    <tr>\n",
       "      <th>6670</th>\n",
       "      <td>Suzuki</td>\n",
       "      <td>Verona</td>\n",
       "      <td>regular unleaded</td>\n",
       "      <td>6.0000</td>\n",
       "      <td>AUTOMATIC</td>\n",
       "      <td>front wheel drive</td>\n",
       "      <td>4.0000</td>\n",
       "      <td>NaN</td>\n",
       "      <td>Midsize</td>\n",
       "      <td>Sedan</td>\n",
       "      <td>17</td>\n",
       "      <td>18299</td>\n",
       "      <td>11</td>\n",
       "    </tr>\n",
       "  </tbody>\n",
       "</table>\n",
       "</div>"
      ],
      "text/plain": [
       "        Make   Model  Engine Fuel Type  Engine Cylinders Transmission Type  \\\n",
       "6662  Suzuki  Verona               NaN            6.0000         AUTOMATIC   \n",
       "6663  Suzuki  Verona               NaN            6.0000         AUTOMATIC   \n",
       "6664  Suzuki  Verona               NaN            6.0000         AUTOMATIC   \n",
       "6665  Suzuki  Verona  regular unleaded            6.0000         AUTOMATIC   \n",
       "6666  Suzuki  Verona  regular unleaded            6.0000         AUTOMATIC   \n",
       "6667  Suzuki  Verona  regular unleaded            6.0000         AUTOMATIC   \n",
       "6668  Suzuki  Verona  regular unleaded            6.0000         AUTOMATIC   \n",
       "6669  Suzuki  Verona  regular unleaded            6.0000         AUTOMATIC   \n",
       "6670  Suzuki  Verona  regular unleaded            6.0000         AUTOMATIC   \n",
       "\n",
       "          Driven_Wheels  Number of Doors Market Category Vehicle Size  \\\n",
       "6662  front wheel drive           4.0000             NaN      Midsize   \n",
       "6663  front wheel drive           4.0000             NaN      Midsize   \n",
       "6664  front wheel drive           4.0000             NaN      Midsize   \n",
       "6665  front wheel drive           4.0000             NaN      Midsize   \n",
       "6666  front wheel drive           4.0000             NaN      Midsize   \n",
       "6667  front wheel drive           4.0000             NaN      Midsize   \n",
       "6668  front wheel drive           4.0000             NaN      Midsize   \n",
       "6669  front wheel drive           4.0000             NaN      Midsize   \n",
       "6670  front wheel drive           4.0000             NaN      Midsize   \n",
       "\n",
       "     Vehicle Style  city mpg   MSRP  Age  \n",
       "6662         Sedan        17  17199   13  \n",
       "6663         Sedan        17  20199   13  \n",
       "6664         Sedan        17  18499   13  \n",
       "6665         Sedan        18  19349   12  \n",
       "6666         Sedan        18  21049   12  \n",
       "6667         Sedan        18  17549   12  \n",
       "6668         Sedan        18  20549   12  \n",
       "6669         Sedan        17  20299   11  \n",
       "6670         Sedan        17  18299   11  "
      ]
     },
     "execution_count": 27,
     "metadata": {},
     "output_type": "execute_result"
    }
   ],
   "source": [
    "ordinary[(ordinary['Model']=='Verona')&(ordinary['Make']=='Suzuki')]"
   ]
  },
  {
   "cell_type": "code",
   "execution_count": 29,
   "metadata": {},
   "outputs": [
    {
     "name": "stderr",
     "output_type": "stream",
     "text": [
      "C:\\Anaconda\\lib\\site-packages\\ipykernel\\__main__.py:2: DeprecationWarning: \n",
      ".ix is deprecated. Please use\n",
      ".loc for label based indexing or\n",
      ".iloc for positional indexing\n",
      "\n",
      "See the documentation here:\n",
      "http://pandas.pydata.org/pandas-docs/stable/indexing.html#ix-indexer-is-deprecated\n",
      "  from ipykernel import kernelapp as app\n"
     ]
    }
   ],
   "source": [
    "#For Suzuki Verona,  Fuel Type is regular unleaded\n",
    "ordinary.ix[(ordinary['Engine Fuel Type'].isnull())&(ordinary['Model']=='Verona')&(ordinary['Make']=='Suzuki'),'Engine Fuel Type']='regular unleaded'"
   ]
  },
  {
   "cell_type": "markdown",
   "metadata": {},
   "source": [
    "Now, for engine cylinders, the makes and models having NaN's genuinely have no cylinders, only rotors. We replace the NaN's with zeros."
   ]
  },
  {
   "cell_type": "code",
   "execution_count": 30,
   "metadata": {
    "collapsed": true
   },
   "outputs": [],
   "source": [
    "ordinary.ix[(ordinary['Make']=='Mazda')&(ordinary['Model']=='RX-8'),'Engine Cylinders']=0\n",
    "ordinary.ix[(ordinary['Make']=='Mazda')&(ordinary['Model']=='RX-7'),'Engine Cylinders']=0\n",
    "ordinary.ix[(ordinary['Make']=='Mitsubishi')&(ordinary['Model']=='i-MiEV'),'Engine Cylinders']=0\n",
    "ordinary.ix[(ordinary['Make']=='Chevrolet')&(ordinary['Model']=='Bolt EV'),'Engine Cylinders']=0\n",
    "ordinary.ix[(ordinary['Make']=='Volkswagen')&(ordinary['Model']=='e-Golf'),'Engine Cylinders']=0"
   ]
  },
  {
   "cell_type": "markdown",
   "metadata": {},
   "source": [
    "Market Category contains some generic categorical value for the car. The buyer/seller will not be aware of such values in our dataset. Hence, it should not be considered while creating the regression model"
   ]
  },
  {
   "cell_type": "code",
   "execution_count": 31,
   "metadata": {
    "collapsed": true
   },
   "outputs": [],
   "source": [
    "ordinary=ordinary.drop('Market Category',axis=1)"
   ]
  },
  {
   "cell_type": "markdown",
   "metadata": {},
   "source": [
    "# Normality and Outliers\n",
    "Now, lets check for normality. We can check this by creating histogram of the features. "
   ]
  },
  {
   "cell_type": "code",
   "execution_count": 32,
   "metadata": {},
   "outputs": [
    {
     "data": {
      "image/png": "[encoded data removed]",
      "text/plain": [
       "<matplotlib.figure.Figure at 0x1c55a4eaf98>"
      ]
     },
     "metadata": {},
     "output_type": "display_data"
    }
   ],
   "source": [
    "ordinary.hist()\n",
    "plt.show()"
   ]
  },
  {
   "cell_type": "markdown",
   "metadata": {},
   "source": [
    "It seems like Age,MSRP and city_mpg have a skewed distribution.Lets have a look at our target variable MSRP"
   ]
  },
  {
   "cell_type": "code",
   "execution_count": 33,
   "metadata": {},
   "outputs": [
    {
     "data": {
      "image/png": "[encoded data removed]",
      "text/plain": [
       "<matplotlib.figure.Figure at 0x1c55a4ef470>"
      ]
     },
     "metadata": {},
     "output_type": "display_data"
    }
   ],
   "source": [
    "fig, (ax1,ax2) = plt.subplots(1,2,figsize=(15,3))\n",
    "ax1.hist(ordinary['MSRP'])\n",
    "ax2.boxplot(ordinary['MSRP'])\n",
    "plt.show()"
   ]
  },
  {
   "cell_type": "markdown",
   "metadata": {},
   "source": [
    "As we can see above, the price is a positively skewed distribution. We know that one of the assumptions for using LinearRegression is that the variables be normally distributed.\n",
    "\n",
    "Also,there seem to be some outliers. Lets have a look at them"
   ]
  },
  {
   "cell_type": "code",
   "execution_count": 34,
   "metadata": {},
   "outputs": [
    {
     "data": {
      "text/html": [
       "<div>\n",
       "<style scoped>\n",
       "    .dataframe tbody tr th:only-of-type {\n",
       "        vertical-align: middle;\n",
       "    }\n",
       "\n",
       "    .dataframe tbody tr th {\n",
       "        vertical-align: top;\n",
       "    }\n",
       "\n",
       "    .dataframe thead th {\n",
       "        text-align: right;\n",
       "    }\n",
       "</style>\n",
       "<table border=\"1\" class=\"dataframe\">\n",
       "  <thead>\n",
       "    <tr style=\"text-align: right;\">\n",
       "      <th></th>\n",
       "      <th>Make</th>\n",
       "      <th>Model</th>\n",
       "      <th>Engine Fuel Type</th>\n",
       "      <th>Engine Cylinders</th>\n",
       "      <th>Transmission Type</th>\n",
       "      <th>Driven_Wheels</th>\n",
       "      <th>Number of Doors</th>\n",
       "      <th>Vehicle Size</th>\n",
       "      <th>Vehicle Style</th>\n",
       "      <th>city mpg</th>\n",
       "      <th>MSRP</th>\n",
       "      <th>Age</th>\n",
       "    </tr>\n",
       "  </thead>\n",
       "  <tbody>\n",
       "    <tr>\n",
       "      <th>3366</th>\n",
       "      <td>Nissan</td>\n",
       "      <td>GT-R</td>\n",
       "      <td>premium unleaded (recommended)</td>\n",
       "      <td>6.0000</td>\n",
       "      <td>AUTOMATED_MANUAL</td>\n",
       "      <td>all wheel drive</td>\n",
       "      <td>2.0000</td>\n",
       "      <td>Midsize</td>\n",
       "      <td>Coupe</td>\n",
       "      <td>16</td>\n",
       "      <td>149990</td>\n",
       "      <td>2</td>\n",
       "    </tr>\n",
       "    <tr>\n",
       "      <th>3368</th>\n",
       "      <td>Nissan</td>\n",
       "      <td>GT-R</td>\n",
       "      <td>premium unleaded (required)</td>\n",
       "      <td>6.0000</td>\n",
       "      <td>AUTOMATED_MANUAL</td>\n",
       "      <td>all wheel drive</td>\n",
       "      <td>2.0000</td>\n",
       "      <td>Midsize</td>\n",
       "      <td>Coupe</td>\n",
       "      <td>16</td>\n",
       "      <td>149990</td>\n",
       "      <td>1</td>\n",
       "    </tr>\n",
       "    <tr>\n",
       "      <th>3371</th>\n",
       "      <td>Ford</td>\n",
       "      <td>GT</td>\n",
       "      <td>premium unleaded (required)</td>\n",
       "      <td>8.0000</td>\n",
       "      <td>MANUAL</td>\n",
       "      <td>rear wheel drive</td>\n",
       "      <td>2.0000</td>\n",
       "      <td>Compact</td>\n",
       "      <td>Coupe</td>\n",
       "      <td>12</td>\n",
       "      <td>149995</td>\n",
       "      <td>12</td>\n",
       "    </tr>\n",
       "    <tr>\n",
       "      <th>3372</th>\n",
       "      <td>Ford</td>\n",
       "      <td>GT</td>\n",
       "      <td>premium unleaded (required)</td>\n",
       "      <td>8.0000</td>\n",
       "      <td>MANUAL</td>\n",
       "      <td>rear wheel drive</td>\n",
       "      <td>2.0000</td>\n",
       "      <td>Compact</td>\n",
       "      <td>Coupe</td>\n",
       "      <td>12</td>\n",
       "      <td>149995</td>\n",
       "      <td>11</td>\n",
       "    </tr>\n",
       "  </tbody>\n",
       "</table>\n",
       "</div>"
      ],
      "text/plain": [
       "        Make Model                Engine Fuel Type  Engine Cylinders  \\\n",
       "3366  Nissan  GT-R  premium unleaded (recommended)            6.0000   \n",
       "3368  Nissan  GT-R     premium unleaded (required)            6.0000   \n",
       "3371    Ford    GT     premium unleaded (required)            8.0000   \n",
       "3372    Ford    GT     premium unleaded (required)            8.0000   \n",
       "\n",
       "     Transmission Type     Driven_Wheels  Number of Doors Vehicle Size  \\\n",
       "3366  AUTOMATED_MANUAL   all wheel drive           2.0000      Midsize   \n",
       "3368  AUTOMATED_MANUAL   all wheel drive           2.0000      Midsize   \n",
       "3371            MANUAL  rear wheel drive           2.0000      Compact   \n",
       "3372            MANUAL  rear wheel drive           2.0000      Compact   \n",
       "\n",
       "     Vehicle Style  city mpg    MSRP  Age  \n",
       "3366         Coupe        16  149990    2  \n",
       "3368         Coupe        16  149990    1  \n",
       "3371         Coupe        12  149995   12  \n",
       "3372         Coupe        12  149995   11  "
      ]
     },
     "execution_count": 34,
     "metadata": {},
     "output_type": "execute_result"
    }
   ],
   "source": [
    "ordinary[ordinary['MSRP']>140000]"
   ]
  },
  {
   "cell_type": "markdown",
   "metadata": {},
   "source": [
    "When we assigned a grouping based on price, we did so on the basis of Median price per Make.This will work in most of the cases but there may be individual models that can be in a different category. We will remove these outliers before building our models"
   ]
  },
  {
   "cell_type": "code",
   "execution_count": 35,
   "metadata": {
    "collapsed": true
   },
   "outputs": [],
   "source": [
    "ordinary=ordinary[ordinary['MSRP']<140000]"
   ]
  },
  {
   "cell_type": "markdown",
   "metadata": {},
   "source": [
    "Lets log transform the data to handle the skewness"
   ]
  },
  {
   "cell_type": "code",
   "execution_count": 36,
   "metadata": {},
   "outputs": [
    {
     "data": {
      "image/png": "[encoded data removed]",
      "text/plain": [
       "<matplotlib.figure.Figure at 0x1c55a58f470>"
      ]
     },
     "metadata": {},
     "output_type": "display_data"
    }
   ],
   "source": [
    "ordinary['log_MSRP']=ordinary['MSRP'].apply(lambda x:np.log(1+x))\n",
    "fig, (ax1,ax2) = plt.subplots(1,2,figsize=(15,3))\n",
    "ax1.hist(ordinary['log_MSRP'])\n",
    "ax2.boxplot(ordinary['log_MSRP'])\n",
    "plt.show()"
   ]
  },
  {
   "cell_type": "markdown",
   "metadata": {},
   "source": [
    "Now, lets have a look at Age"
   ]
  },
  {
   "cell_type": "code",
   "execution_count": 37,
   "metadata": {},
   "outputs": [
    {
     "data": {
      "image/png": "[encoded data removed]",
      "text/plain": [
       "<matplotlib.figure.Figure at 0x1c559f9e198>"
      ]
     },
     "metadata": {},
     "output_type": "display_data"
    }
   ],
   "source": [
    "ordinary['log_Age']=ordinary['Age'].apply(lambda x: np.log(x+1))\n",
    "fig, (ax1,ax2,ax3,ax4) = plt.subplots(1,4,figsize=(15,6))\n",
    "ax1.set_title('Log Age Histogram')\n",
    "ax1.hist(ordinary['log_Age'])\n",
    "ax2.boxplot(ordinary['log_Age'])\n",
    "ax2.set_title('Log Age Box Plot')\n",
    "ax3.scatter(ordinary['Age'],ordinary['log_MSRP'],alpha=.3)\n",
    "ax3.set_title('Age vs Log MSRP')\n",
    "ax4.scatter(ordinary['log_Age'],ordinary['log_MSRP'],alpha=.3)\n",
    "ax4.set_title('Log Age vs Log MSRP')\n",
    "plt.show()"
   ]
  },
  {
   "cell_type": "markdown",
   "metadata": {},
   "source": [
    "It seems Age and Log MSRP have a linear relationship. Now, lets have a look at city mpg"
   ]
  },
  {
   "cell_type": "code",
   "execution_count": 38,
   "metadata": {},
   "outputs": [
    {
     "data": {
      "image/png": "[encoded data removed]",
      "text/plain": [
       "<matplotlib.figure.Figure at 0x1c55a436128>"
      ]
     },
     "metadata": {},
     "output_type": "display_data"
    }
   ],
   "source": [
    "ordinary['log_city mpg']=ordinary['city mpg'].apply(lambda x: np.log(x+1))\n",
    "fig, (ax1,ax2,ax3,ax4) = plt.subplots(1,4,figsize=(15,3))\n",
    "ax1.hist(ordinary['log_city mpg'])\n",
    "ax1.set_title('log city mpg histogram')\n",
    "ax2.boxplot(ordinary['log_city mpg'])\n",
    "ax2.set_title('log city mpg boxplot')\n",
    "ax3.scatter(ordinary['city mpg'],ordinary['log_MSRP'],alpha=.1)\n",
    "ax3.set_title('city mpg vs Log MSRP')\n",
    "ax4.scatter(ordinary['log_city mpg'],ordinary['log_MSRP'],alpha=.1)\n",
    "ax4.set_title('Log city mpg vs Log MSRP')\n",
    "plt.show()"
   ]
  },
  {
   "cell_type": "markdown",
   "metadata": {},
   "source": [
    "Lets have a look at the correlations to get a better idea"
   ]
  },
  {
   "cell_type": "code",
   "execution_count": 39,
   "metadata": {},
   "outputs": [
    {
     "data": {
      "text/plain": [
       "Age                -0.8356\n",
       "log_Age            -0.6671\n",
       "city mpg            0.0519\n",
       "log_city mpg        0.0574\n",
       "Engine Cylinders    0.1150\n",
       "Number of Doors     0.2848\n",
       "MSRP                0.8664\n",
       "log_MSRP            1.0000\n",
       "Name: log_MSRP, dtype: float64"
      ]
     },
     "execution_count": 39,
     "metadata": {},
     "output_type": "execute_result"
    }
   ],
   "source": [
    "corr=ordinary.corr()\n",
    "corr['log_MSRP'].sort_values(ascending=True)"
   ]
  },
  {
   "cell_type": "markdown",
   "metadata": {},
   "source": [
    "Age has a stronger correlation with log_MSRP compared to log_Age. For city mpg, we log transform the data as the distribution is close to normal and the correlation is slightly higher. \n",
    "So, the numeric features we are going to use are \n",
    "- Age\n",
    "- Engine Cyliners\n",
    "- log_city mpg\n",
    "- Number of Doors\n",
    "<br>\n",
    "<br>Lets drop the other numeric_features"
   ]
  },
  {
   "cell_type": "code",
   "execution_count": 40,
   "metadata": {
    "collapsed": true
   },
   "outputs": [],
   "source": [
    "ordinary=ordinary.drop(['log_Age','city mpg'],axis=1)"
   ]
  },
  {
   "cell_type": "markdown",
   "metadata": {},
   "source": [
    "Now lets have a look at the categorical features"
   ]
  },
  {
   "cell_type": "code",
   "execution_count": 41,
   "metadata": {},
   "outputs": [
    {
     "data": {
      "image/png": "[encoded data removed]",
      "text/plain": [
       "<matplotlib.figure.Figure at 0x1c55a9892e8>"
      ]
     },
     "metadata": {},
     "output_type": "display_data"
    }
   ],
   "source": [
    "fig, (ax1,ax2) = plt.subplots(2,1,figsize=(15,10))\n",
    "Make=ordinary.groupby(['Make'])['MSRP'].mean()\n",
    "Model=ordinary.groupby(['Model'])['MSRP'].mean()\n",
    "FuelType=ordinary.groupby(['Engine Fuel Type'])['MSRP'].mean()\n",
    "Transmission=ordinary.groupby(['Transmission Type'])['MSRP'].mean()\n",
    "DrivenWheels=ordinary.groupby(['Driven_Wheels'])['MSRP'].mean()\n",
    "VehicleSize=ordinary.groupby(['Vehicle Size'])['MSRP'].mean()\n",
    "VehicleStyle=ordinary.groupby(['Vehicle Style'])['MSRP'].mean()\n",
    "ax1.bar(Make.index,Make.values)\n",
    "ax1.set_title('Mean MSRP by Make')\n",
    "plt.sca(ax1)\n",
    "plt.xticks(rotation=90)\n",
    "\n",
    "ax2.bar(Model.index,Model.values)\n",
    "ax2.set_title('Mean MSRP by Model')\n",
    "plt.sca(ax2)\n",
    "plt.xticks(rotation=90)\n",
    "plt.tight_layout()\n",
    "plt.show()"
   ]
  },
  {
   "cell_type": "code",
   "execution_count": 42,
   "metadata": {},
   "outputs": [
    {
     "data": {
      "image/png": "[encoded data removed]",
      "text/plain": [
       "<matplotlib.figure.Figure at 0x1c55acc72b0>"
      ]
     },
     "metadata": {},
     "output_type": "display_data"
    }
   ],
   "source": [
    "fig, (ax1,ax2,ax3,ax4,ax5) = plt.subplots(nrows=5,ncols=1,figsize=(5,25),sharey=True)\n",
    "ax1.bar(FuelType.index,FuelType.values)\n",
    "ax1.set_title('Mean MSRP by Engine Fuel Type')\n",
    "plt.sca(ax1)\n",
    "plt.xticks(rotation=90)\n",
    "\n",
    "ax2.bar(Transmission.index,Transmission.values)\n",
    "ax2.set_title('Mean MSRP by Transmission Type')\n",
    "plt.sca(ax2)\n",
    "plt.xticks(rotation=90)\n",
    "\n",
    "ax3.bar(DrivenWheels.index,DrivenWheels.values)\n",
    "ax3.set_title('Mean MSRP by Driven_Wheels')\n",
    "plt.sca(ax3)\n",
    "plt.xticks(rotation=90)\n",
    "\n",
    "ax4.bar(VehicleSize.index,VehicleSize.values)\n",
    "ax4.set_title('Mean MSRP by Vehicle Size')\n",
    "plt.sca(ax4)\n",
    "plt.xticks(rotation=90)\n",
    "\n",
    "ax5.bar(VehicleStyle.index,VehicleStyle.values)\n",
    "ax5.set_title('Mean MSRP by Vehicle Style')\n",
    "plt.sca(ax5)\n",
    "plt.xticks(rotation=90)\n",
    "plt.tight_layout()\n",
    "plt.show()"
   ]
  },
  {
   "cell_type": "markdown",
   "metadata": {},
   "source": [
    "As we see above the MSRP varies for different values of the features. Hence, we shall keep the above features and one hot encode the same.\n",
    "For model, we can see that there are a number of models. Hence, one-hot encoding the same will result into a huge number of features. So, we can either eliminate this features or use some dimensionality reduction techniques such as PCA before fitting the data to a model. First lets try without the model."
   ]
  },
  {
   "cell_type": "code",
   "execution_count": 43,
   "metadata": {
    "collapsed": true
   },
   "outputs": [],
   "source": [
    "#Engine Fuel Type\n",
    "one_hot_fuel_type = pd.get_dummies(ordinary['Engine Fuel Type'])\n",
    "ordinary = ordinary.drop('Engine Fuel Type', axis=1)\n",
    "ordinary = ordinary.join(one_hot_fuel_type)\n",
    "#Transmission Type\n",
    "one_hot_transmission = pd.get_dummies(ordinary['Transmission Type'])\n",
    "ordinary = ordinary.drop('Transmission Type', axis=1)\n",
    "ordinary = ordinary.join(one_hot_transmission)\n",
    "#Driven_Wheels\n",
    "one_hot_driven_wheels = pd.get_dummies(ordinary['Driven_Wheels'])\n",
    "ordinary = ordinary.drop('Driven_Wheels', axis=1)\n",
    "ordinary = ordinary.join(one_hot_driven_wheels)\n",
    "#Vehicle Size\n",
    "one_hot_vehicle_size = pd.get_dummies(ordinary['Vehicle Size'])\n",
    "ordinary = ordinary.drop('Vehicle Size', axis=1)\n",
    "ordinary = ordinary.join(one_hot_vehicle_size)\n",
    "#Vehicle Style\n",
    "one_hot_vehicle_style = pd.get_dummies(ordinary['Vehicle Style'])\n",
    "ordinary = ordinary.drop('Vehicle Style', axis=1)\n",
    "ordinary = ordinary.join(one_hot_vehicle_style)\n",
    "#Make\n",
    "one_hot_make = pd.get_dummies(ordinary['Make'])\n",
    "ordinary = ordinary.drop('Make', axis=1)\n",
    "ordinary = ordinary.join(one_hot_make)"
   ]
  },
  {
   "cell_type": "code",
   "execution_count": 106,
   "metadata": {
    "collapsed": true
   },
   "outputs": [],
   "source": [
    "ordinary=ordinary.drop(['Model'],axis=1)"
   ]
  },
  {
   "cell_type": "markdown",
   "metadata": {},
   "source": [
    "Saving the transformed dataframe as a pickle file"
   ]
  },
  {
   "cell_type": "code",
   "execution_count": 44,
   "metadata": {
    "collapsed": true
   },
   "outputs": [],
   "source": [
    "import pickle\n",
    "ordinary_trans='C:/users/hackuser1/ord_transformed.pkl'\n",
    "with open(ordinary_trans, \"wb\") as f:\n",
    "    w = pickle.dump(ordinary,f)"
   ]
  },
  {
   "cell_type": "code",
   "execution_count": 45,
   "metadata": {
    "collapsed": true
   },
   "outputs": [],
   "source": [
    "train_set,test_set = train_test_split(ordinary,test_size=0.2,random_state=42)\n",
    "train_X = train_set.copy()\n",
    "train_Y = train_set[\"log_MSRP\"].copy()\n",
    "train_X = train_X.drop(\"log_MSRP\", axis=1) # drop labels for training set"
   ]
  },
  {
   "cell_type": "code",
   "execution_count": 46,
   "metadata": {
    "collapsed": true
   },
   "outputs": [],
   "source": [
    "test_X = test_set.copy()\n",
    "test_Y = test_set[\"log_MSRP\"].copy()\n",
    "test_X = test_X.drop(\"log_MSRP\", axis=1) # drop labels for test set"
   ]
  },
  {
   "cell_type": "code",
   "execution_count": 47,
   "metadata": {},
   "outputs": [
    {
     "ename": "ValueError",
     "evalue": "could not convert string to float: 'Beetle Convertible'",
     "output_type": "error",
     "traceback": [
      "\u001b[1;31m---------------------------------------------------------------------------\u001b[0m",
      "\u001b[1;31mValueError\u001b[0m                                Traceback (most recent call last)",
      "\u001b[1;32m<ipython-input-47-6823fbc08463>\u001b[0m in \u001b[0;36m<module>\u001b[1;34m()\u001b[0m\n\u001b[0;32m      1\u001b[0m \u001b[1;32mfrom\u001b[0m \u001b[0msklearn\u001b[0m\u001b[1;33m.\u001b[0m\u001b[0mlinear_model\u001b[0m \u001b[1;32mimport\u001b[0m \u001b[0mLinearRegression\u001b[0m\u001b[1;33m\u001b[0m\u001b[0m\n\u001b[0;32m      2\u001b[0m \u001b[0mlin_reg\u001b[0m \u001b[1;33m=\u001b[0m \u001b[0mLinearRegression\u001b[0m\u001b[1;33m(\u001b[0m\u001b[1;33m)\u001b[0m\u001b[1;33m\u001b[0m\u001b[0m\n\u001b[1;32m----> 3\u001b[1;33m \u001b[0mlin_reg\u001b[0m\u001b[1;33m.\u001b[0m\u001b[0mfit\u001b[0m\u001b[1;33m(\u001b[0m\u001b[0mtrain_X\u001b[0m\u001b[1;33m,\u001b[0m \u001b[0mtrain_Y\u001b[0m\u001b[1;33m)\u001b[0m\u001b[1;33m\u001b[0m\u001b[0m\n\u001b[0m",
      "\u001b[1;32mC:\\Anaconda\\lib\\site-packages\\sklearn\\linear_model\\base.py\u001b[0m in \u001b[0;36mfit\u001b[1;34m(self, X, y, sample_weight)\u001b[0m\n\u001b[0;32m    480\u001b[0m         \u001b[0mn_jobs_\u001b[0m \u001b[1;33m=\u001b[0m \u001b[0mself\u001b[0m\u001b[1;33m.\u001b[0m\u001b[0mn_jobs\u001b[0m\u001b[1;33m\u001b[0m\u001b[0m\n\u001b[0;32m    481\u001b[0m         X, y = check_X_y(X, y, accept_sparse=['csr', 'csc', 'coo'],\n\u001b[1;32m--> 482\u001b[1;33m                          y_numeric=True, multi_output=True)\n\u001b[0m\u001b[0;32m    483\u001b[0m \u001b[1;33m\u001b[0m\u001b[0m\n\u001b[0;32m    484\u001b[0m         \u001b[1;32mif\u001b[0m \u001b[0msample_weight\u001b[0m \u001b[1;32mis\u001b[0m \u001b[1;32mnot\u001b[0m \u001b[1;32mNone\u001b[0m \u001b[1;32mand\u001b[0m \u001b[0mnp\u001b[0m\u001b[1;33m.\u001b[0m\u001b[0matleast_1d\u001b[0m\u001b[1;33m(\u001b[0m\u001b[0msample_weight\u001b[0m\u001b[1;33m)\u001b[0m\u001b[1;33m.\u001b[0m\u001b[0mndim\u001b[0m \u001b[1;33m>\u001b[0m \u001b[1;36m1\u001b[0m\u001b[1;33m:\u001b[0m\u001b[1;33m\u001b[0m\u001b[0m\n",
      "\u001b[1;32mC:\\Anaconda\\lib\\site-packages\\sklearn\\utils\\validation.py\u001b[0m in \u001b[0;36mcheck_X_y\u001b[1;34m(X, y, accept_sparse, dtype, order, copy, force_all_finite, ensure_2d, allow_nd, multi_output, ensure_min_samples, ensure_min_features, y_numeric, warn_on_dtype, estimator)\u001b[0m\n\u001b[0;32m    571\u001b[0m     X = check_array(X, accept_sparse, dtype, order, copy, force_all_finite,\n\u001b[0;32m    572\u001b[0m                     \u001b[0mensure_2d\u001b[0m\u001b[1;33m,\u001b[0m \u001b[0mallow_nd\u001b[0m\u001b[1;33m,\u001b[0m \u001b[0mensure_min_samples\u001b[0m\u001b[1;33m,\u001b[0m\u001b[1;33m\u001b[0m\u001b[0m\n\u001b[1;32m--> 573\u001b[1;33m                     ensure_min_features, warn_on_dtype, estimator)\n\u001b[0m\u001b[0;32m    574\u001b[0m     \u001b[1;32mif\u001b[0m \u001b[0mmulti_output\u001b[0m\u001b[1;33m:\u001b[0m\u001b[1;33m\u001b[0m\u001b[0m\n\u001b[0;32m    575\u001b[0m         y = check_array(y, 'csr', force_all_finite=True, ensure_2d=False,\n",
      "\u001b[1;32mC:\\Anaconda\\lib\\site-packages\\sklearn\\utils\\validation.py\u001b[0m in \u001b[0;36mcheck_array\u001b[1;34m(array, accept_sparse, dtype, order, copy, force_all_finite, ensure_2d, allow_nd, ensure_min_samples, ensure_min_features, warn_on_dtype, estimator)\u001b[0m\n\u001b[0;32m    446\u001b[0m         \u001b[1;31m# make sure we actually converted to numeric:\u001b[0m\u001b[1;33m\u001b[0m\u001b[1;33m\u001b[0m\u001b[0m\n\u001b[0;32m    447\u001b[0m         \u001b[1;32mif\u001b[0m \u001b[0mdtype_numeric\u001b[0m \u001b[1;32mand\u001b[0m \u001b[0marray\u001b[0m\u001b[1;33m.\u001b[0m\u001b[0mdtype\u001b[0m\u001b[1;33m.\u001b[0m\u001b[0mkind\u001b[0m \u001b[1;33m==\u001b[0m \u001b[1;34m\"O\"\u001b[0m\u001b[1;33m:\u001b[0m\u001b[1;33m\u001b[0m\u001b[0m\n\u001b[1;32m--> 448\u001b[1;33m             \u001b[0marray\u001b[0m \u001b[1;33m=\u001b[0m \u001b[0marray\u001b[0m\u001b[1;33m.\u001b[0m\u001b[0mastype\u001b[0m\u001b[1;33m(\u001b[0m\u001b[0mnp\u001b[0m\u001b[1;33m.\u001b[0m\u001b[0mfloat64\u001b[0m\u001b[1;33m)\u001b[0m\u001b[1;33m\u001b[0m\u001b[0m\n\u001b[0m\u001b[0;32m    449\u001b[0m         \u001b[1;32mif\u001b[0m \u001b[1;32mnot\u001b[0m \u001b[0mallow_nd\u001b[0m \u001b[1;32mand\u001b[0m \u001b[0marray\u001b[0m\u001b[1;33m.\u001b[0m\u001b[0mndim\u001b[0m \u001b[1;33m>=\u001b[0m \u001b[1;36m3\u001b[0m\u001b[1;33m:\u001b[0m\u001b[1;33m\u001b[0m\u001b[0m\n\u001b[0;32m    450\u001b[0m             raise ValueError(\"Found array with dim %d. %s expected <= 2.\"\n",
      "\u001b[1;31mValueError\u001b[0m: could not convert string to float: 'Beetle Convertible'"
     ]
    }
   ],
   "source": [
    "from sklearn.linear_model import LinearRegression\n",
    "lin_reg = LinearRegression()\n",
    "lin_reg.fit(train_X, train_Y)"
   ]
  },
  {
   "cell_type": "code",
   "execution_count": 112,
   "metadata": {},
   "outputs": [
    {
     "data": {
      "text/plain": [
       "22078.264421937263"
      ]
     },
     "execution_count": 112,
     "metadata": {},
     "output_type": "execute_result"
    }
   ],
   "source": [
    "from sklearn.metrics import mean_squared_error\n",
    "carSales_predictions = lin_reg.predict(test_X)\n",
    "lin_mse = mean_squared_error(np.exp(test_Y), np.exp(carSales_predictions))\n",
    "lin_rmse = np.sqrt(lin_mse)\n",
    "lin_rmse"
   ]
  },
  {
   "cell_type": "code",
   "execution_count": 113,
   "metadata": {},
   "outputs": [
    {
     "data": {
      "text/plain": [
       "-1.5181225049904734"
      ]
     },
     "execution_count": 113,
     "metadata": {},
     "output_type": "execute_result"
    }
   ],
   "source": [
    "from sklearn.metrics import r2_score\n",
    "r2=r2_score(np.exp(test_Y), np.exp(carSales_predictions))\n",
    "r2"
   ]
  },
  {
   "cell_type": "code",
   "execution_count": 114,
   "metadata": {},
   "outputs": [
    {
     "data": {
      "text/plain": [
       "-1.6298286913020807"
      ]
     },
     "execution_count": 114,
     "metadata": {},
     "output_type": "execute_result"
    }
   ],
   "source": [
    "(n,p)=test_X.shape\n",
    "Adjusted_R=1-(((1-r2)*(n-1))/(n-p-1))\n",
    "Adjusted_R"
   ]
  },
  {
   "cell_type": "code",
   "execution_count": null,
   "metadata": {
    "collapsed": true
   },
   "outputs": [],
   "source": []
  }
 ],
 "metadata": {
  "kernelspec": {
   "display_name": "Python [default]",
   "language": "python",
   "name": "python3"
  },
  "language_info": {
   "codemirror_mode": {
    "name": "ipython",
    "version": 3
   },
   "file_extension": ".py",
   "mimetype": "text/x-python",
   "name": "python",
   "nbconvert_exporter": "python",
   "pygments_lexer": "ipython3",
   "version": "3.6.3"
  }
 },
 "nbformat": 4,
 "nbformat_minor": 2
}
