{
 "cells": [
  {
   "cell_type": "markdown",
   "metadata": {
    "collapsed": true
   },
   "source": [
    "This notebook is to prepare and pre-process data for various prediction models from the Used Car Price data \n",
    "at : https://www.kaggle.com/CooperUnion/cardataset, after the initial Data exploration, as given in ..... \n",
    "The numerical variables are scaled with StandardScaler, imputation strategy is used to replace 0 values with mean\n",
    "StratifiedshuffleSplit is done based on Age of car (Curr Year - Year of Car), by creating Age category (Age / 5), and \n",
    "putting the values in different Age category buckets. The same distribution is maintained in Train and Test data.\n",
    "The categorical variables (Transmission type, Vehicle Size and Drive wheels) are one-hot encoded and added to the feature vector. The numerical variables considered are : Age, City mpg, Engine Cylinders. Two sets of X features are \n",
    "produced, with Make and without Make and results compared.\n"
   ]
  },
  {
   "cell_type": "code",
   "execution_count": 2,
   "metadata": {},
   "outputs": [],
   "source": [
    "#Import all necessary libraries\n",
    "import pickle\n",
    "import pandas as pd\n",
    "import matplotlib.pyplot as plt\n",
    "from sklearn.model_selection import train_test_split\n",
    "import numpy as np\n",
    "from sklearn.model_selection import StratifiedShuffleSplit\n",
    "from sklearn.preprocessing import Imputer\n",
    "from sklearn.preprocessing import LabelEncoder\n",
    "from sklearn.preprocessing import OneHotEncoder\n",
    "from sklearn.preprocessing import LabelBinarizer\n",
    "from sklearn.base import BaseEstimator, TransformerMixin\n",
    "from sklearn.preprocessing import StandardScaler\n",
    "from sklearn.preprocessing import MinMaxScaler\n",
    "from sklearn.preprocessing import PolynomialFeatures"
   ]
  },
  {
   "cell_type": "markdown",
   "metadata": {
    "collapsed": true
   },
   "source": [
    "Read the pickle files prepared by stratifying the Car Sales Data based on Make and Price. This is necessary since\n",
    "cars belong to different price segments, and including all make and models is not a viable solution, as the range of price\n",
    "is different for the same features for different makes. The stratification details can be found in the \n",
    "Data exploration notebook, which precedes this and outputs the data into .pkl files, based on car segment/price category"
   ]
  },
  {
   "cell_type": "code",
   "execution_count": 3,
   "metadata": {
    "collapsed": true
   },
   "outputs": [],
   "source": [
    "df_ordinary=pd.read_pickle('C:/users/hackuser1/Hackathon18/ordinarydf.pkl')\n",
    "df_deluxe=pd.read_pickle('C:/users/hackuser1/Hackathon18/del.pkl')\n",
    "df_supdel=pd.read_pickle('C:/users/hackuser1/Hackathon18/supdel.pkl')\n",
    "df_luxury=pd.read_pickle('C:/users/hackuser1/Hackathon18/luxury.pkl')\n",
    "df_suplux=pd.read_pickle('C:/users/hackuser1/Hackathon18/suplux.pkl')"
   ]
  },
  {
   "cell_type": "code",
   "execution_count": 4,
   "metadata": {},
   "outputs": [
    {
     "data": {
      "text/html": [
       "<div>\n",
       "<style scoped>\n",
       "    .dataframe tbody tr th:only-of-type {\n",
       "        vertical-align: middle;\n",
       "    }\n",
       "\n",
       "    .dataframe tbody tr th {\n",
       "        vertical-align: top;\n",
       "    }\n",
       "\n",
       "    .dataframe thead th {\n",
       "        text-align: right;\n",
       "    }\n",
       "</style>\n",
       "<table border=\"1\" class=\"dataframe\">\n",
       "  <thead>\n",
       "    <tr style=\"text-align: right;\">\n",
       "      <th></th>\n",
       "      <th>Make</th>\n",
       "      <th>Model</th>\n",
       "      <th>Engine Fuel Type</th>\n",
       "      <th>Engine HP</th>\n",
       "      <th>Engine Cylinders</th>\n",
       "      <th>Transmission Type</th>\n",
       "      <th>Driven_Wheels</th>\n",
       "      <th>Number of Doors</th>\n",
       "      <th>Vehicle Size</th>\n",
       "      <th>Vehicle Style</th>\n",
       "      <th>MSRP</th>\n",
       "      <th>Age</th>\n",
       "      <th>log_MSRP</th>\n",
       "      <th>log_city mpg</th>\n",
       "    </tr>\n",
       "  </thead>\n",
       "  <tbody>\n",
       "    <tr>\n",
       "      <th>0</th>\n",
       "      <td>FIAT</td>\n",
       "      <td>124 Spider</td>\n",
       "      <td>premium unleaded (recommended)</td>\n",
       "      <td>160.0</td>\n",
       "      <td>4.0</td>\n",
       "      <td>MANUAL</td>\n",
       "      <td>rear wheel drive</td>\n",
       "      <td>2.0</td>\n",
       "      <td>Compact</td>\n",
       "      <td>Convertible</td>\n",
       "      <td>27495</td>\n",
       "      <td>0</td>\n",
       "      <td>10.221796</td>\n",
       "      <td>3.295837</td>\n",
       "    </tr>\n",
       "    <tr>\n",
       "      <th>1</th>\n",
       "      <td>FIAT</td>\n",
       "      <td>124 Spider</td>\n",
       "      <td>premium unleaded (recommended)</td>\n",
       "      <td>160.0</td>\n",
       "      <td>4.0</td>\n",
       "      <td>MANUAL</td>\n",
       "      <td>rear wheel drive</td>\n",
       "      <td>2.0</td>\n",
       "      <td>Compact</td>\n",
       "      <td>Convertible</td>\n",
       "      <td>24995</td>\n",
       "      <td>0</td>\n",
       "      <td>10.126471</td>\n",
       "      <td>3.295837</td>\n",
       "    </tr>\n",
       "    <tr>\n",
       "      <th>2</th>\n",
       "      <td>FIAT</td>\n",
       "      <td>124 Spider</td>\n",
       "      <td>premium unleaded (recommended)</td>\n",
       "      <td>160.0</td>\n",
       "      <td>4.0</td>\n",
       "      <td>MANUAL</td>\n",
       "      <td>rear wheel drive</td>\n",
       "      <td>2.0</td>\n",
       "      <td>Compact</td>\n",
       "      <td>Convertible</td>\n",
       "      <td>28195</td>\n",
       "      <td>0</td>\n",
       "      <td>10.246935</td>\n",
       "      <td>3.295837</td>\n",
       "    </tr>\n",
       "    <tr>\n",
       "      <th>3</th>\n",
       "      <td>Chrysler</td>\n",
       "      <td>200</td>\n",
       "      <td>flex-fuel (unleaded/E85)</td>\n",
       "      <td>184.0</td>\n",
       "      <td>4.0</td>\n",
       "      <td>AUTOMATIC</td>\n",
       "      <td>front wheel drive</td>\n",
       "      <td>4.0</td>\n",
       "      <td>Midsize</td>\n",
       "      <td>Sedan</td>\n",
       "      <td>25170</td>\n",
       "      <td>2</td>\n",
       "      <td>10.133448</td>\n",
       "      <td>3.178054</td>\n",
       "    </tr>\n",
       "    <tr>\n",
       "      <th>4</th>\n",
       "      <td>Chrysler</td>\n",
       "      <td>200</td>\n",
       "      <td>flex-fuel (unleaded/E85)</td>\n",
       "      <td>184.0</td>\n",
       "      <td>4.0</td>\n",
       "      <td>AUTOMATIC</td>\n",
       "      <td>front wheel drive</td>\n",
       "      <td>4.0</td>\n",
       "      <td>Midsize</td>\n",
       "      <td>Sedan</td>\n",
       "      <td>23950</td>\n",
       "      <td>2</td>\n",
       "      <td>10.083765</td>\n",
       "      <td>3.178054</td>\n",
       "    </tr>\n",
       "  </tbody>\n",
       "</table>\n",
       "</div>"
      ],
      "text/plain": [
       "       Make       Model                Engine Fuel Type  Engine HP  \\\n",
       "0      FIAT  124 Spider  premium unleaded (recommended)      160.0   \n",
       "1      FIAT  124 Spider  premium unleaded (recommended)      160.0   \n",
       "2      FIAT  124 Spider  premium unleaded (recommended)      160.0   \n",
       "3  Chrysler         200        flex-fuel (unleaded/E85)      184.0   \n",
       "4  Chrysler         200        flex-fuel (unleaded/E85)      184.0   \n",
       "\n",
       "   Engine Cylinders Transmission Type      Driven_Wheels  Number of Doors  \\\n",
       "0               4.0            MANUAL   rear wheel drive              2.0   \n",
       "1               4.0            MANUAL   rear wheel drive              2.0   \n",
       "2               4.0            MANUAL   rear wheel drive              2.0   \n",
       "3               4.0         AUTOMATIC  front wheel drive              4.0   \n",
       "4               4.0         AUTOMATIC  front wheel drive              4.0   \n",
       "\n",
       "  Vehicle Size Vehicle Style   MSRP  Age   log_MSRP  log_city mpg  \n",
       "0      Compact   Convertible  27495    0  10.221796      3.295837  \n",
       "1      Compact   Convertible  24995    0  10.126471      3.295837  \n",
       "2      Compact   Convertible  28195    0  10.246935      3.295837  \n",
       "3      Midsize         Sedan  25170    2  10.133448      3.178054  \n",
       "4      Midsize         Sedan  23950    2  10.083765      3.178054  "
      ]
     },
     "execution_count": 4,
     "metadata": {},
     "output_type": "execute_result"
    }
   ],
   "source": [
    "df_ordinary.head()\n"
   ]
  },
  {
   "cell_type": "code",
   "execution_count": 4,
   "metadata": {},
   "outputs": [
    {
     "data": {
      "text/plain": [
       "Chevrolet     1123\n",
       "Ford           879\n",
       "Volkswagen     809\n",
       "Dodge          626\n",
       "Nissan         556\n",
       "Honda          449\n",
       "Mazda          423\n",
       "Suzuki         351\n",
       "Hyundai        303\n",
       "Subaru         256\n",
       "Kia            231\n",
       "Mitsubishi     213\n",
       "Chrysler       187\n",
       "Pontiac        186\n",
       "Oldsmobile     150\n",
       "Plymouth        82\n",
       "FIAT            62\n",
       "Scion           60\n",
       "Name: Make, dtype: int64"
      ]
     },
     "execution_count": 4,
     "metadata": {},
     "output_type": "execute_result"
    }
   ],
   "source": [
    "df_ordinary[\"Make\"].value_counts()"
   ]
  },
  {
   "cell_type": "code",
   "execution_count": 5,
   "metadata": {},
   "outputs": [
    {
     "name": "stdout",
     "output_type": "stream",
     "text": [
      "6946\n",
      "4372\n",
      "52\n",
      "521\n",
      "19\n"
     ]
    }
   ],
   "source": [
    "print(len(df_ordinary))\n",
    "print(len(df_deluxe))\n",
    "print(len(df_supdel))\n",
    "print(len(df_luxury))\n",
    "print(len(df_suplux))"
   ]
  },
  {
   "cell_type": "markdown",
   "metadata": {
    "collapsed": true
   },
   "source": [
    "We will take the ordinary segment as it has the most data, and fit our model. Once done the same model will be applied\n",
    "to other segments.(For MVP, in actuality the modeling exercise needs to be repeated for each segment, as the relationships \n",
    "may be different)"
   ]
  },
  {
   "cell_type": "code",
   "execution_count": 5,
   "metadata": {
    "collapsed": true
   },
   "outputs": [],
   "source": [
    "df_ordinary[\"Number of Doors\"] = df_ordinary[\"Number of Doors\"].replace(\"?\",0)\n",
    "df_ordinary[\"Number of Doors\"] = df_ordinary[\"Number of Doors\"].astype('float32')\n",
    "df_ordinary[\"MSRP\"] = df_ordinary[\"MSRP\"].replace(\"?\",0)\n",
    "df_ordinary[\"MSRP\"] = df_ordinary[\"MSRP\"].astype(\"float32\")\n",
    "df_ordinary[\"Engine HP\"] = df_ordinary[\"Engine HP\"].replace(\"?\",0)\n",
    "df_ordinary[\"Engine HP\"] = df_ordinary[\"Engine HP\"].astype(\"float32\")"
   ]
  },
  {
   "cell_type": "markdown",
   "metadata": {
    "collapsed": true
   },
   "source": [
    "We check the distribution of Car Sales on the basis of Age of Car, and create Age-cat and check the distribution of the Car data based on Age-cat (Age / 5). We plan to use StratifiedSampling to make sure both Test and Train data represents same distribution of cars based on Age of Car"
   ]
  },
  {
   "cell_type": "code",
   "execution_count": 6,
   "metadata": {},
   "outputs": [
    {
     "data": {
      "text/plain": [
       "1.0    0.436798\n",
       "2.0    0.157213\n",
       "0.0    0.127987\n",
       "3.0    0.105960\n",
       "5.0    0.100489\n",
       "4.0    0.071552\n",
       "Name: Age-cat, dtype: float64"
      ]
     },
     "execution_count": 6,
     "metadata": {},
     "output_type": "execute_result"
    }
   ],
   "source": [
    "df_ordinary[\"Age\"].value_counts()\n",
    "#create a field Age-cat to divide the data into 5 Age categories, based on the Age of the car\n",
    "df_ordinary[\"Age-cat\"] = np.ceil(df_ordinary[\"Age\"] / 5)\n",
    "df_ordinary[\"Age-cat\"].where(df_ordinary[\"Age-cat\"] < 5, 5.0, inplace=True)\n",
    "#check distribution of Age Cat in the original data\n",
    "df_ordinary[\"Age-cat\"].value_counts() / len(df_ordinary)"
   ]
  },
  {
   "cell_type": "code",
   "execution_count": null,
   "metadata": {
    "collapsed": true
   },
   "outputs": [],
   "source": [
    "We treat Engine Cylinders, Engine Fuel Type, Transmission Type, Driven_wheels, Vehicle Size and Make as \n",
    "Categorical variables based on our Data exploration. We use the LabelBinarizer to fit the variables on the entire \n",
    "set. The actual encoding will be done using the encoded values on the Train and test samples"
   ]
  },
  {
   "cell_type": "code",
   "execution_count": 8,
   "metadata": {},
   "outputs": [
    {
     "name": "stdout",
     "output_type": "stream",
     "text": [
      "[  0.   3.   4.   5.   6.   8.  10.  12.]\n",
      "['diesel' 'electric' 'flex-fuel (unleaded/E85)'\n",
      " 'flex-fuel (unleaded/natural gas)' 'natural gas'\n",
      " 'premium unleaded (recommended)' 'premium unleaded (required)'\n",
      " 'regular unleaded']\n",
      "['AUTOMATED_MANUAL' 'AUTOMATIC' 'DIRECT_DRIVE' 'MANUAL' 'UNKNOWN']\n",
      "['all wheel drive' 'four wheel drive' 'front wheel drive'\n",
      " 'rear wheel drive']\n",
      "['Compact' 'Large' 'Midsize']\n",
      "['Chevrolet' 'Chrysler' 'Dodge' 'FIAT' 'Ford' 'Honda' 'Hyundai' 'Kia'\n",
      " 'Mazda' 'Mitsubishi' 'Nissan' 'Oldsmobile' 'Plymouth' 'Pontiac' 'Scion'\n",
      " 'Subaru' 'Suzuki' 'Volkswagen']\n"
     ]
    }
   ],
   "source": [
    "car_eng_cyl = df_ordinary[\"Engine Cylinders\"]\n",
    "encoder_cyl = LabelBinarizer()\n",
    "encoder_cyl.fit(car_eng_cyl)\n",
    "print(encoder_cyl.classes_)\n",
    "\n",
    "car_eng_fuel_type = df_ordinary[\"Engine Fuel Type\"]\n",
    "encoder_fuel = LabelBinarizer()\n",
    "encoder_fuel.fit(car_eng_fuel_type)\n",
    "print(encoder_fuel.classes_)\n",
    "\n",
    "car_trans_type = df_ordinary[\"Transmission Type\"]\n",
    "encoder_trans = LabelBinarizer()\n",
    "encoder_trans.fit(car_trans_type)\n",
    "print(encoder_trans.classes_)\n",
    "\n",
    "car_driven_wheels = df_ordinary[\"Driven_Wheels\"]\n",
    "encoder_wheels = LabelBinarizer()\n",
    "encoder_wheels.fit(car_driven_wheels)\n",
    "print(encoder_wheels.classes_)\n",
    "\n",
    "car_vehicle_size = df_ordinary[\"Vehicle Size\"]\n",
    "encoder_size = LabelBinarizer()\n",
    "encoder_size.fit(car_vehicle_size)\n",
    "print(encoder_size.classes_)\n",
    "\n",
    "car_make =df_ordinary[\"Make\"]\n",
    "encoder_make = LabelBinarizer()\n",
    "encoder_make.fit(car_make)\n",
    "print(encoder_make.classes_)"
   ]
  },
  {
   "cell_type": "code",
   "execution_count": 9,
   "metadata": {
    "collapsed": true
   },
   "outputs": [],
   "source": [
    "split = StratifiedShuffleSplit(n_splits=1,test_size=0.2,random_state=42)\n",
    "\n",
    "for train_index, test_index in split.split(df_ordinary,df_ordinary[\"Age-cat\"]):\n",
    "    strat_train_set = df_ordinary.iloc[train_index]\n",
    "    strat_test_set = df_ordinary.iloc[test_index]"
   ]
  },
  {
   "cell_type": "code",
   "execution_count": 10,
   "metadata": {},
   "outputs": [
    {
     "data": {
      "text/plain": [
       "1.0    0.436825\n",
       "2.0    0.157127\n",
       "0.0    0.127970\n",
       "3.0    0.106012\n",
       "5.0    0.100432\n",
       "4.0    0.071634\n",
       "Name: Age-cat, dtype: float64"
      ]
     },
     "execution_count": 10,
     "metadata": {},
     "output_type": "execute_result"
    }
   ],
   "source": [
    "#check distribution of Age Cat in the train data\n",
    "strat_train_set[\"Age-cat\"].value_counts() / len(strat_train_set)"
   ]
  },
  {
   "cell_type": "code",
   "execution_count": 11,
   "metadata": {},
   "outputs": [
    {
     "data": {
      "text/plain": [
       "1.0    0.436691\n",
       "2.0    0.157554\n",
       "0.0    0.128058\n",
       "3.0    0.105755\n",
       "5.0    0.100719\n",
       "4.0    0.071223\n",
       "Name: Age-cat, dtype: float64"
      ]
     },
     "execution_count": 11,
     "metadata": {},
     "output_type": "execute_result"
    }
   ],
   "source": [
    "#check distribution of Age Cat in the test data\n",
    "strat_test_set[\"Age-cat\"].value_counts() / len(strat_test_set)"
   ]
  },
  {
   "cell_type": "markdown",
   "metadata": {
    "collapsed": true
   },
   "source": [
    "Create the X and Y variables from the Feature analysis done in Exploration notebook. Repeat the same operations \n",
    "for Train and Test data."
   ]
  },
  {
   "cell_type": "code",
   "execution_count": 12,
   "metadata": {
    "collapsed": true
   },
   "outputs": [],
   "source": [
    "carSales_X = strat_train_set.copy()\n",
    "carSales_X = strat_train_set.drop(\"MSRP\", axis=1) # drop labels for training set\n",
    "carSales_X = strat_train_set.drop(\"log_MSRP\", axis=1) # drop labels for training set\n",
    "carSales_Y = strat_train_set[\"log_MSRP\"].copy() # use log MSRP as labels for training set, based on data Exploration\n",
    "carSales_Y_orig = strat_train_set[\"MSRP\"].copy() # use MSRP as labels also for training set, to compare fit based on Log and original Price\n",
    "\n",
    "carSales_test_X = strat_test_set.copy()\n",
    "carSales_test_X = strat_test_set.drop(\"MSRP\", axis=1) # drop labels for test set\n",
    "carSales_test_X = strat_test_set.drop(\"log_MSRP\", axis=1) # drop labels for test set\n",
    "carSales_test_Y = strat_test_set[\"log_MSRP\"].copy()# use log MSRP as labels for test set, based on data Exploration\n",
    "carSales_test_Y_orig = strat_test_set[\"MSRP\"].copy()"
   ]
  },
  {
   "cell_type": "code",
   "execution_count": 13,
   "metadata": {},
   "outputs": [
    {
     "name": "stdout",
     "output_type": "stream",
     "text": [
      "(5556, 14)\n",
      "(5556, 1)\n",
      "(5556, 1)\n",
      "(1390, 14)\n",
      "(1390, 1)\n",
      "(1390, 1)\n"
     ]
    },
    {
     "name": "stderr",
     "output_type": "stream",
     "text": [
      "C:\\Anaconda\\lib\\site-packages\\ipykernel\\__main__.py:1: FutureWarning: reshape is deprecated and will raise in a subsequent release. Please use .values.reshape(...) instead\n",
      "  if __name__ == '__main__':\n",
      "C:\\Anaconda\\lib\\site-packages\\ipykernel\\__main__.py:2: FutureWarning: reshape is deprecated and will raise in a subsequent release. Please use .values.reshape(...) instead\n",
      "  from ipykernel import kernelapp as app\n",
      "C:\\Anaconda\\lib\\site-packages\\ipykernel\\__main__.py:3: FutureWarning: reshape is deprecated and will raise in a subsequent release. Please use .values.reshape(...) instead\n",
      "  app.launch_new_instance()\n",
      "C:\\Anaconda\\lib\\site-packages\\ipykernel\\__main__.py:4: FutureWarning: reshape is deprecated and will raise in a subsequent release. Please use .values.reshape(...) instead\n"
     ]
    }
   ],
   "source": [
    "carSales_Y = carSales_Y.reshape(carSales_Y.shape[0],1)\n",
    "carSales_test_Y = carSales_test_Y.reshape(carSales_test_Y.shape[0],1)\n",
    "carSales_Y_orig = carSales_Y_orig.reshape(carSales_Y_orig.shape[0],1)\n",
    "carSales_test_Y_orig = carSales_test_Y_orig.reshape(carSales_test_Y.shape[0],1)\n",
    "print(carSales_X.shape)\n",
    "print(carSales_Y.shape)\n",
    "print(carSales_Y_orig.shape)\n",
    "print(carSales_test_X.shape)\n",
    "print(carSales_test_Y.shape)\n",
    "print(carSales_test_Y_orig.shape)"
   ]
  },
  {
   "cell_type": "markdown",
   "metadata": {
    "collapsed": true
   },
   "source": [
    "We have 5556 rows in Train data, and 1390 rows in Test data. Now we need to remove unnecessary columns based on\n",
    "Correlation analysis done in ExplorationNotebook, and do Encoding of Categorical variables. Also \n",
    "we need to do StandardNormalization before applying Regression models."
   ]
  },
  {
   "cell_type": "code",
   "execution_count": 14,
   "metadata": {},
   "outputs": [
    {
     "data": {
      "text/html": [
       "<div>\n",
       "<style scoped>\n",
       "    .dataframe tbody tr th:only-of-type {\n",
       "        vertical-align: middle;\n",
       "    }\n",
       "\n",
       "    .dataframe tbody tr th {\n",
       "        vertical-align: top;\n",
       "    }\n",
       "\n",
       "    .dataframe thead th {\n",
       "        text-align: right;\n",
       "    }\n",
       "</style>\n",
       "<table border=\"1\" class=\"dataframe\">\n",
       "  <thead>\n",
       "    <tr style=\"text-align: right;\">\n",
       "      <th></th>\n",
       "      <th>Make</th>\n",
       "      <th>Model</th>\n",
       "      <th>Engine Fuel Type</th>\n",
       "      <th>Engine HP</th>\n",
       "      <th>Engine Cylinders</th>\n",
       "      <th>Transmission Type</th>\n",
       "      <th>Driven_Wheels</th>\n",
       "      <th>Number of Doors</th>\n",
       "      <th>Vehicle Size</th>\n",
       "      <th>Vehicle Style</th>\n",
       "      <th>MSRP</th>\n",
       "      <th>Age</th>\n",
       "      <th>log_city mpg</th>\n",
       "      <th>Age-cat</th>\n",
       "    </tr>\n",
       "  </thead>\n",
       "  <tbody>\n",
       "    <tr>\n",
       "      <th>2668</th>\n",
       "      <td>Ford</td>\n",
       "      <td>F-150</td>\n",
       "      <td>regular unleaded</td>\n",
       "      <td>325.0</td>\n",
       "      <td>6.0</td>\n",
       "      <td>AUTOMATIC</td>\n",
       "      <td>rear wheel drive</td>\n",
       "      <td>4.0</td>\n",
       "      <td>Large</td>\n",
       "      <td>Crew Cab Pickup</td>\n",
       "      <td>34165.0</td>\n",
       "      <td>0</td>\n",
       "      <td>2.995732</td>\n",
       "      <td>0.0</td>\n",
       "    </tr>\n",
       "    <tr>\n",
       "      <th>1624</th>\n",
       "      <td>Chevrolet</td>\n",
       "      <td>Corvette</td>\n",
       "      <td>premium unleaded (recommended)</td>\n",
       "      <td>460.0</td>\n",
       "      <td>8.0</td>\n",
       "      <td>MANUAL</td>\n",
       "      <td>rear wheel drive</td>\n",
       "      <td>2.0</td>\n",
       "      <td>Compact</td>\n",
       "      <td>Coupe</td>\n",
       "      <td>70195.0</td>\n",
       "      <td>0</td>\n",
       "      <td>2.833213</td>\n",
       "      <td>0.0</td>\n",
       "    </tr>\n",
       "    <tr>\n",
       "      <th>4609</th>\n",
       "      <td>Nissan</td>\n",
       "      <td>Pathfinder</td>\n",
       "      <td>regular unleaded</td>\n",
       "      <td>260.0</td>\n",
       "      <td>6.0</td>\n",
       "      <td>AUTOMATIC</td>\n",
       "      <td>front wheel drive</td>\n",
       "      <td>4.0</td>\n",
       "      <td>Large</td>\n",
       "      <td>4dr SUV</td>\n",
       "      <td>36210.0</td>\n",
       "      <td>2</td>\n",
       "      <td>3.044522</td>\n",
       "      <td>1.0</td>\n",
       "    </tr>\n",
       "    <tr>\n",
       "      <th>3705</th>\n",
       "      <td>Volkswagen</td>\n",
       "      <td>Jetta SportWagen</td>\n",
       "      <td>diesel</td>\n",
       "      <td>140.0</td>\n",
       "      <td>4.0</td>\n",
       "      <td>AUTOMATED_MANUAL</td>\n",
       "      <td>front wheel drive</td>\n",
       "      <td>4.0</td>\n",
       "      <td>Compact</td>\n",
       "      <td>Wagon</td>\n",
       "      <td>29465.0</td>\n",
       "      <td>3</td>\n",
       "      <td>3.401197</td>\n",
       "      <td>1.0</td>\n",
       "    </tr>\n",
       "    <tr>\n",
       "      <th>2048</th>\n",
       "      <td>Dodge</td>\n",
       "      <td>Dynasty</td>\n",
       "      <td>regular unleaded</td>\n",
       "      <td>141.0</td>\n",
       "      <td>6.0</td>\n",
       "      <td>AUTOMATIC</td>\n",
       "      <td>front wheel drive</td>\n",
       "      <td>4.0</td>\n",
       "      <td>Midsize</td>\n",
       "      <td>Sedan</td>\n",
       "      <td>2000.0</td>\n",
       "      <td>25</td>\n",
       "      <td>2.944439</td>\n",
       "      <td>5.0</td>\n",
       "    </tr>\n",
       "  </tbody>\n",
       "</table>\n",
       "</div>"
      ],
      "text/plain": [
       "            Make             Model                Engine Fuel Type  Engine HP  \\\n",
       "2668        Ford             F-150                regular unleaded      325.0   \n",
       "1624   Chevrolet          Corvette  premium unleaded (recommended)      460.0   \n",
       "4609      Nissan        Pathfinder                regular unleaded      260.0   \n",
       "3705  Volkswagen  Jetta SportWagen                          diesel      140.0   \n",
       "2048       Dodge           Dynasty                regular unleaded      141.0   \n",
       "\n",
       "      Engine Cylinders Transmission Type      Driven_Wheels  Number of Doors  \\\n",
       "2668               6.0         AUTOMATIC   rear wheel drive              4.0   \n",
       "1624               8.0            MANUAL   rear wheel drive              2.0   \n",
       "4609               6.0         AUTOMATIC  front wheel drive              4.0   \n",
       "3705               4.0  AUTOMATED_MANUAL  front wheel drive              4.0   \n",
       "2048               6.0         AUTOMATIC  front wheel drive              4.0   \n",
       "\n",
       "     Vehicle Size    Vehicle Style     MSRP  Age  log_city mpg  Age-cat  \n",
       "2668        Large  Crew Cab Pickup  34165.0    0      2.995732      0.0  \n",
       "1624      Compact            Coupe  70195.0    0      2.833213      0.0  \n",
       "4609        Large          4dr SUV  36210.0    2      3.044522      1.0  \n",
       "3705      Compact            Wagon  29465.0    3      3.401197      1.0  \n",
       "2048      Midsize            Sedan   2000.0   25      2.944439      5.0  "
      ]
     },
     "execution_count": 14,
     "metadata": {},
     "output_type": "execute_result"
    }
   ],
   "source": [
    "carSales_X.head()"
   ]
  },
  {
   "cell_type": "markdown",
   "metadata": {
    "collapsed": true
   },
   "source": [
    "We drop all categorical columns after making a copy, and retain only the numerical features of significance"
   ]
  },
  {
   "cell_type": "code",
   "execution_count": 15,
   "metadata": {
    "collapsed": true
   },
   "outputs": [],
   "source": [
    "carSales_X_num = carSales_X\n",
    "carSales_X_num  = carSales_X_num.drop(\"Make\",axis=1) # to be treated as categorical var\n",
    "carSales_X_num  = carSales_X_num.drop(\"Model\",axis=1)\n",
    "#carSales_X_num  = carSales_X_num.drop(\"Year\",axis=1)\n",
    "carSales_X_num  = carSales_X_num.drop(\"Engine Cylinders\",axis=1) # to be treated as categorical var\n",
    "carSales_X_num  = carSales_X_num.drop(\"Engine Fuel Type\",axis=1) # to be treated as categorical var\n",
    "carSales_X_num  = carSales_X_num.drop(\"Transmission Type\",axis=1) # to be treated as categorical var \n",
    "carSales_X_num  = carSales_X_num.drop(\"Driven_Wheels\",axis=1) # to be treated as categorical var\n",
    "carSales_X_num = carSales_X_num.drop(\"Number of Doors\",axis=1) # to be treated as categorical var\n",
    "#carSales_X_num  = carSales_X_num.drop(\"Market Category\",axis=1)\n",
    "carSales_X_num  = carSales_X_num.drop(\"Vehicle Style\",axis=1)\n",
    "carSales_X_num = carSales_X_num.drop(\"Vehicle Size\",axis=1) # to be treated as categorical var\n",
    "#carSales_X_num = carSales_X_num.drop(\"highway MPG\",axis=1)\n",
    "carSales_X_num = carSales_X_num.drop(\"Age-cat\",axis=1)\n",
    "carSales_X_num = carSales_X_num.drop(\"MSRP\",axis=1)\n",
    "#carSales_X_num = carSales_X_num.drop(\"MSRP_Median\",axis=1)\n",
    "#carSales_X_num = carSales_X_num.drop(\"MSRP_group\",axis=1)\n",
    "#carSales_X_num = carSales_X_num.drop(\"Engine HP\",axis=1)"
   ]
  },
  {
   "cell_type": "code",
   "execution_count": 16,
   "metadata": {},
   "outputs": [
    {
     "data": {
      "text/html": [
       "<div>\n",
       "<style scoped>\n",
       "    .dataframe tbody tr th:only-of-type {\n",
       "        vertical-align: middle;\n",
       "    }\n",
       "\n",
       "    .dataframe tbody tr th {\n",
       "        vertical-align: top;\n",
       "    }\n",
       "\n",
       "    .dataframe thead th {\n",
       "        text-align: right;\n",
       "    }\n",
       "</style>\n",
       "<table border=\"1\" class=\"dataframe\">\n",
       "  <thead>\n",
       "    <tr style=\"text-align: right;\">\n",
       "      <th></th>\n",
       "      <th>Engine HP</th>\n",
       "      <th>Age</th>\n",
       "      <th>log_city mpg</th>\n",
       "    </tr>\n",
       "  </thead>\n",
       "  <tbody>\n",
       "    <tr>\n",
       "      <th>2668</th>\n",
       "      <td>325.0</td>\n",
       "      <td>0</td>\n",
       "      <td>2.995732</td>\n",
       "    </tr>\n",
       "    <tr>\n",
       "      <th>1624</th>\n",
       "      <td>460.0</td>\n",
       "      <td>0</td>\n",
       "      <td>2.833213</td>\n",
       "    </tr>\n",
       "    <tr>\n",
       "      <th>4609</th>\n",
       "      <td>260.0</td>\n",
       "      <td>2</td>\n",
       "      <td>3.044522</td>\n",
       "    </tr>\n",
       "    <tr>\n",
       "      <th>3705</th>\n",
       "      <td>140.0</td>\n",
       "      <td>3</td>\n",
       "      <td>3.401197</td>\n",
       "    </tr>\n",
       "    <tr>\n",
       "      <th>2048</th>\n",
       "      <td>141.0</td>\n",
       "      <td>25</td>\n",
       "      <td>2.944439</td>\n",
       "    </tr>\n",
       "  </tbody>\n",
       "</table>\n",
       "</div>"
      ],
      "text/plain": [
       "      Engine HP  Age  log_city mpg\n",
       "2668      325.0    0      2.995732\n",
       "1624      460.0    0      2.833213\n",
       "4609      260.0    2      3.044522\n",
       "3705      140.0    3      3.401197\n",
       "2048      141.0   25      2.944439"
      ]
     },
     "execution_count": 16,
     "metadata": {},
     "output_type": "execute_result"
    }
   ],
   "source": [
    "carSales_X_num.head()"
   ]
  },
  {
   "cell_type": "code",
   "execution_count": 17,
   "metadata": {
    "collapsed": true
   },
   "outputs": [],
   "source": [
    "#Apply the same transformation on Test data\n",
    "carSales_test_X_num = carSales_test_X\n",
    "carSales_test_X_num  = carSales_test_X_num.drop(\"Make\",axis=1)\n",
    "carSales_test_X_num  = carSales_test_X_num.drop(\"Model\",axis=1)\n",
    "#carSales_test_X_num  = carSales_test_X_num.drop(\"Year\",axis=1)\n",
    "carSales_test_X_num  = carSales_test_X_num.drop(\"Engine Cylinders\",axis=1)\n",
    "carSales_test_X_num  = carSales_test_X_num.drop(\"Engine Fuel Type\",axis=1)\n",
    "carSales_test_X_num  = carSales_test_X_num.drop(\"Transmission Type\",axis=1)\n",
    "carSales_test_X_num  = carSales_test_X_num.drop(\"Driven_Wheels\",axis=1)\n",
    "carSales_test_X_num = carSales_test_X_num.drop(\"Number of Doors\",axis=1)\n",
    "#carSales_test_X_num  = carSales_test_X_num.drop(\"Market Category\",axis=1)\n",
    "carSales_test_X_num  = carSales_test_X_num.drop(\"Vehicle Style\",axis=1)\n",
    "carSales_test_X_num = carSales_test_X_num.drop(\"Vehicle Size\",axis=1)\n",
    "#carSales_test_X_num = carSales_test_X_num.drop(\"highway MPG\",axis=1)\n",
    "carSales_test_X_num = carSales_test_X_num.drop(\"Age-cat\",axis=1)\n",
    "carSales_test_X_num = carSales_test_X_num.drop(\"MSRP\",axis=1)\n",
    "#carSales_test_X_num = carSales_test_X_num.drop(\"MSRP_group\",axis=1)\n",
    "#carSales_test_X_num = carSales_test_X_num.drop(\"Engine HP\",axis=1)"
   ]
  },
  {
   "cell_type": "code",
   "execution_count": 18,
   "metadata": {},
   "outputs": [
    {
     "data": {
      "text/html": [
       "<div>\n",
       "<style scoped>\n",
       "    .dataframe tbody tr th:only-of-type {\n",
       "        vertical-align: middle;\n",
       "    }\n",
       "\n",
       "    .dataframe tbody tr th {\n",
       "        vertical-align: top;\n",
       "    }\n",
       "\n",
       "    .dataframe thead th {\n",
       "        text-align: right;\n",
       "    }\n",
       "</style>\n",
       "<table border=\"1\" class=\"dataframe\">\n",
       "  <thead>\n",
       "    <tr style=\"text-align: right;\">\n",
       "      <th></th>\n",
       "      <th>Engine HP</th>\n",
       "      <th>Age</th>\n",
       "      <th>log_city mpg</th>\n",
       "    </tr>\n",
       "  </thead>\n",
       "  <tbody>\n",
       "    <tr>\n",
       "      <th>548</th>\n",
       "      <td>170.0</td>\n",
       "      <td>13</td>\n",
       "      <td>2.944439</td>\n",
       "    </tr>\n",
       "    <tr>\n",
       "      <th>436</th>\n",
       "      <td>185.0</td>\n",
       "      <td>1</td>\n",
       "      <td>3.178054</td>\n",
       "    </tr>\n",
       "    <tr>\n",
       "      <th>6112</th>\n",
       "      <td>172.0</td>\n",
       "      <td>10</td>\n",
       "      <td>2.890372</td>\n",
       "    </tr>\n",
       "    <tr>\n",
       "      <th>6749</th>\n",
       "      <td>150.0</td>\n",
       "      <td>19</td>\n",
       "      <td>2.944439</td>\n",
       "    </tr>\n",
       "    <tr>\n",
       "      <th>3190</th>\n",
       "      <td>210.0</td>\n",
       "      <td>2</td>\n",
       "      <td>3.258097</td>\n",
       "    </tr>\n",
       "  </tbody>\n",
       "</table>\n",
       "</div>"
      ],
      "text/plain": [
       "      Engine HP  Age  log_city mpg\n",
       "548       170.0   13      2.944439\n",
       "436       185.0    1      3.178054\n",
       "6112      172.0   10      2.890372\n",
       "6749      150.0   19      2.944439\n",
       "3190      210.0    2      3.258097"
      ]
     },
     "execution_count": 18,
     "metadata": {},
     "output_type": "execute_result"
    }
   ],
   "source": [
    "carSales_test_X_num.head()"
   ]
  },
  {
   "cell_type": "code",
   "execution_count": 19,
   "metadata": {
    "collapsed": true
   },
   "outputs": [],
   "source": [
    "#carSales_X_num[\"Engine HP\"] = carSales_X_num[\"Engine HP\"].astype(\"float32\")\n",
    "#carSales_X_num[\"Engine Cylinders\"] = carSales_X_num[\"Engine Cylinders\"].astype(\"float32\")\n",
    "#carSales_X_num[\"city mpg\"] = carSales_X_num[\"city mpg\"].astype(\"float32\")\n",
    "carSales_X_num[\"Age\"] = carSales_X_num[\"Age\"].astype(\"float32\")\n",
    "carSales_X_num.replace('null',np.NaN,inplace=True)\n",
    "carSales_X_num = pd.DataFrame(carSales_X_num)\n",
    "carSales_X_num = carSales_X_num.replace('?',0)\n",
    "carSales_X_num = carSales_X_num.replace('NaN',0)\n",
    "carSales_X_num = carSales_X_num.replace(np.NaN,0)\n",
    "\n",
    "#carSales_test_X_num[\"Engine HP\"] = carSales_test_X_num[\"Engine HP\"].astype(\"float32\")\n",
    "#carSales_test_X_num[\"Engine Cylinders\"] = carSales_test_X_num[\"Engine Cylinders\"].astype(\"float32\")\n",
    "#carSales_test_X_num[\"city mpg\"] = carSales_test_X_num[\"city mpg\"].astype(\"float32\")\n",
    "carSales_test_X_num[\"Age\"] = carSales_test_X_num[\"Age\"].astype(\"float32\")\n",
    "carSales_test_X_num.replace('null',np.NaN,inplace=True)\n",
    "carSales_test_X_num = pd.DataFrame(carSales_test_X_num)\n",
    "carSales_test_X_num = carSales_test_X_num.replace('?',0)\n",
    "carSales_test_X_num = carSales_test_X_num.replace('NaN',0)\n",
    "carSales_test_X_num = carSales_test_X_num.replace(np.NaN,0)"
   ]
  },
  {
   "cell_type": "code",
   "execution_count": 20,
   "metadata": {},
   "outputs": [
    {
     "name": "stdout",
     "output_type": "stream",
     "text": [
      "Series([], dtype: bool)\n",
      "Engine HP       True\n",
      "Age             True\n",
      "log_city mpg    True\n",
      "dtype: bool\n",
      "Series([], dtype: bool)\n",
      "Engine HP       True\n",
      "Age             True\n",
      "log_city mpg    True\n",
      "dtype: bool\n"
     ]
    }
   ],
   "source": [
    "m=carSales_X_num.isnull().any()\n",
    "print(m[m])\n",
    "m=np.isfinite(carSales_X_num.select_dtypes(include=['float64'])).any()\n",
    "print(m[m])\n",
    "m=carSales_test_X_num.isnull().any()\n",
    "print(m[m])\n",
    "m=np.isfinite(carSales_test_X_num.select_dtypes(include=['float64'])).any()\n",
    "print(m[m])"
   ]
  },
  {
   "cell_type": "markdown",
   "metadata": {
    "collapsed": true
   },
   "source": [
    "Wherever there are 0 values, we replace by the mean "
   ]
  },
  {
   "cell_type": "code",
   "execution_count": 21,
   "metadata": {},
   "outputs": [
    {
     "data": {
      "text/plain": [
       "Imputer(axis=0, copy=True, missing_values=0, strategy='mean', verbose=0)"
      ]
     },
     "execution_count": 21,
     "metadata": {},
     "output_type": "execute_result"
    }
   ],
   "source": [
    "imputer = Imputer(missing_values=0,strategy=\"mean\")\n",
    "imputer.fit(carSales_X_num)\n",
    "imputer.fit(carSales_test_X_num)"
   ]
  },
  {
   "cell_type": "code",
   "execution_count": 22,
   "metadata": {},
   "outputs": [
    {
     "name": "stdout",
     "output_type": "stream",
     "text": [
      "(5556, 3)\n"
     ]
    }
   ],
   "source": [
    "#Standardize the data using sklearn StandardScaler\n",
    "scaler = StandardScaler()\n",
    "train_X = scaler.fit_transform(carSales_X_num)\n",
    "test_X = scaler.transform(carSales_test_X_num)\n",
    "print(train_X.shape)"
   ]
  },
  {
   "cell_type": "markdown",
   "metadata": {
    "collapsed": true
   },
   "source": [
    "Now add the Categorical variables using one-hot represenation, using the encoder already fit on the entire sample"
   ]
  },
  {
   "cell_type": "code",
   "execution_count": 23,
   "metadata": {},
   "outputs": [
    {
     "name": "stdout",
     "output_type": "stream",
     "text": [
      "(5556, 8)\n",
      "(5556, 8)\n",
      "(5556, 5)\n",
      "(5556, 4)\n",
      "(5556, 3)\n",
      "(5556, 18)\n",
      "(5556, 31)\n",
      "(5556, 49)\n"
     ]
    }
   ],
   "source": [
    "car_eng_cyl = carSales_X[\"Engine Cylinders\"]\n",
    "car_eng_1hot = encoder_cyl.transform(car_eng_cyl)\n",
    "print(car_eng_1hot.shape)\n",
    "\n",
    "train_X = np.concatenate((train_X,car_eng_1hot),axis=1)\n",
    "\n",
    "car_eng_fuel_type = carSales_X[\"Engine Fuel Type\"]\n",
    "car_fuel_1hot = encoder_fuel.transform(car_eng_fuel_type)\n",
    "print(car_fuel_1hot.shape)\n",
    "\n",
    "train_X = np.concatenate((train_X,car_fuel_1hot),axis=1)\n",
    "\n",
    "car_trans_type = carSales_X[\"Transmission Type\"]\n",
    "car_trans_1hot = encoder_trans.transform(car_trans_type)\n",
    "print(car_trans_1hot.shape)\n",
    "\n",
    "train_X = np.concatenate((train_X,car_trans_1hot),axis=1)\n",
    "\n",
    "car_driven_wheels = carSales_X[\"Driven_Wheels\"]\n",
    "car_drive_1hot = encoder_wheels.transform(car_driven_wheels)\n",
    "print(car_drive_1hot.shape)\n",
    "\n",
    "train_X = np.concatenate((train_X,car_drive_1hot),axis=1)\n",
    "\n",
    "car_vehicle_size = carSales_X[\"Vehicle Size\"]\n",
    "car_size_1hot = encoder_size.transform(car_vehicle_size)\n",
    "print(car_size_1hot.shape)\n",
    "\n",
    "train_X = np.concatenate((train_X,car_size_1hot),axis=1)\n",
    "\n",
    "car_make = carSales_X[\"Make\"]\n",
    "car_make_1hot = encoder_make.transform(car_make)\n",
    "print(car_make_1hot.shape)\n",
    "\n",
    "train_X_make = np.concatenate((train_X,car_make_1hot),axis=1)\n",
    "print(train_X.shape)\n",
    "print(train_X_make.shape)\n"
   ]
  },
  {
   "cell_type": "code",
   "execution_count": 24,
   "metadata": {},
   "outputs": [
    {
     "name": "stdout",
     "output_type": "stream",
     "text": [
      "(1390, 8)\n",
      "(1390, 8)\n",
      "(1390, 5)\n",
      "(1390, 4)\n",
      "(1390, 3)\n",
      "(1390, 18)\n",
      "(1390, 31)\n",
      "(1390, 49)\n"
     ]
    }
   ],
   "source": [
    "car_eng_cyl = carSales_test_X[\"Engine Cylinders\"]\n",
    "car_eng_1hot = encoder_cyl.transform(car_eng_cyl)\n",
    "print(car_eng_1hot.shape)\n",
    "\n",
    "test_X = np.concatenate((test_X,car_eng_1hot),axis=1)\n",
    "\n",
    "car_eng_fuel_type = carSales_test_X[\"Engine Fuel Type\"]\n",
    "car_fuel_1hot = encoder_fuel.transform(car_eng_fuel_type)\n",
    "print(car_fuel_1hot.shape)\n",
    "\n",
    "test_X = np.concatenate((test_X,car_fuel_1hot),axis=1)\n",
    "\n",
    "car_trans_type_test = carSales_test_X[\"Transmission Type\"]\n",
    "car_trans_1hot_test = encoder_trans.transform(car_trans_type_test)\n",
    "print(car_trans_1hot_test.shape)\n",
    "\n",
    "test_X = np.concatenate((test_X,car_trans_1hot_test),axis=1)\n",
    "\n",
    "car_driven_wheels_test = carSales_test_X[\"Driven_Wheels\"]\n",
    "car_drive_1hot_test = encoder_wheels.transform(car_driven_wheels_test)\n",
    "print(car_drive_1hot_test.shape)\n",
    "\n",
    "test_X = np.concatenate((test_X,car_drive_1hot_test),axis=1)\n",
    "\n",
    "car_vehicle_size_test = carSales_test_X[\"Vehicle Size\"]\n",
    "car_size_1hot_test = encoder_size.transform(car_vehicle_size_test)\n",
    "print(car_size_1hot_test.shape)\n",
    "\n",
    "test_X = np.concatenate((test_X,car_size_1hot_test),axis=1)\n",
    "\n",
    "car_make_test = carSales_test_X[\"Make\"]\n",
    "car_make_1hot_test = encoder_make.transform(car_make_test)\n",
    "print(car_make_1hot_test.shape)\n",
    "\n",
    "test_X_make = np.concatenate((test_X,car_make_1hot_test),axis=1)\n",
    "\n",
    "print(test_X.shape)\n",
    "print(test_X_make.shape)"
   ]
  },
  {
   "cell_type": "code",
   "execution_count": 25,
   "metadata": {},
   "outputs": [
    {
     "name": "stdout",
     "output_type": "stream",
     "text": [
      "Series([], dtype: bool)\n",
      "0    True\n",
      "dtype: bool\n",
      "Series([], dtype: bool)\n",
      "Series([], dtype: bool)\n",
      "Series([], dtype: bool)\n",
      "0    True\n",
      "dtype: bool\n",
      "Series([], dtype: bool)\n",
      "Series([], dtype: bool)\n"
     ]
    }
   ],
   "source": [
    "train_Y = pd.DataFrame(carSales_Y)\n",
    "m=train_Y.isnull().any()\n",
    "print(m[m])\n",
    "m=np.isfinite(train_Y.select_dtypes(include=['float64'])).any()\n",
    "print(m[m])\n",
    "\n",
    "train_Y_orig = pd.DataFrame(carSales_Y_orig)\n",
    "m=train_Y_orig.isnull().any()\n",
    "print(m[m])\n",
    "m=np.isfinite(train_Y_orig.select_dtypes(include=['float64'])).any()\n",
    "print(m[m])\n",
    "\n",
    "test_Y = pd.DataFrame(carSales_test_Y)\n",
    "m=test_Y.isnull().any()\n",
    "print(m[m])\n",
    "m=np.isfinite(test_Y.select_dtypes(include=['float64'])).any()\n",
    "print(m[m])\n",
    "\n",
    "test_Y_orig = pd.DataFrame(carSales_test_Y_orig)\n",
    "m=test_Y_orig.isnull().any()\n",
    "print(m[m])\n",
    "m=np.isfinite(test_Y_orig.select_dtypes(include=['float64'])).any()\n",
    "print(m[m])"
   ]
  },
  {
   "cell_type": "markdown",
   "metadata": {
    "collapsed": true
   },
   "source": [
    "We now take backup of the pre-processed data, so the modeling can be done instantaneously on the pre-processed data\n",
    "at any later point of time"
   ]
  },
  {
   "cell_type": "code",
   "execution_count": 27,
   "metadata": {
    "collapsed": true
   },
   "outputs": [],
   "source": [
    "train_X_ordinary='C:/users/hackuser1/Hackathon18/train_X_ord.pkl'\n",
    "test_X_ordinary='C:/users/hackuser1/Hackathon18/test_X_ord.pkl'\n",
    "train_Y_ordinary='C:/users/hackuser1/Hackathon18/train_Y_ord.pkl'\n",
    "test_Y_ordinary='C:/users/hackuser1/Hackathon18/test_Y_ord.pkl'\n",
    "train_Y_ordinary_orig='C:/users/hackuser1/Hackathon18/train_Y_ord_orig.pkl'\n",
    "test_Y_ordinary_orig='C:/users/hackuser1/Hackathon18/test_Y_ord_orig.pkl'\n",
    "\n",
    "with open(train_X_ordinary, \"wb\") as f:\n",
    "    w = pickle.dump(train_X,f)\n",
    "with open(test_X_ordinary, \"wb\") as f:\n",
    "    w = pickle.dump(test_X,f)\n",
    "with open(train_Y_ordinary, \"wb\") as f:\n",
    "    w = pickle.dump(train_Y,f)\n",
    "with open(test_Y_ordinary, \"wb\") as f:\n",
    "    w = pickle.dump(test_Y,f)\n",
    "with open(train_Y_ordinary_orig, \"wb\") as f:\n",
    "    w = pickle.dump(train_Y_orig,f)\n",
    "with open(test_Y_ordinary_orig, \"wb\") as f:\n",
    "    w = pickle.dump(test_Y_orig,f)\n",
    "    \n",
    "train_X_ord_make='C:/users/hackuser1/Hackathon18/train_X_ord_make.pkl'\n",
    "test_X_ord_make='C:/users/hackuser1/Hackathon18/test_X_ord_make.pkl'\n",
    "\n",
    "with open(train_X_ord_make, \"wb\") as f:\n",
    "    w = pickle.dump(train_X_make,f)\n",
    "with open(test_X_ord_make, \"wb\") as f:\n",
    "    w = pickle.dump(test_X_make,f)\n"
   ]
  },
  {
   "cell_type": "code",
   "execution_count": null,
   "metadata": {
    "collapsed": true
   },
   "outputs": [],
   "source": []
  }
 ],
 "metadata": {
  "kernelspec": {
   "display_name": "Python [conda env:Anaconda]",
   "language": "python",
   "name": "conda-env-Anaconda-py"
  },
  "language_info": {
   "codemirror_mode": {
    "name": "ipython",
    "version": 3
   },
   "file_extension": ".py",
   "mimetype": "text/x-python",
   "name": "python",
   "nbconvert_exporter": "python",
   "pygments_lexer": "ipython3",
   "version": "3.6.3"
  }
 },
 "nbformat": 4,
 "nbformat_minor": 2
}
