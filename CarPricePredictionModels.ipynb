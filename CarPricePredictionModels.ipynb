{
 "cells": [
  {
   "cell_type": "markdown",
   "metadata": {
    "collapsed": true
   },
   "source": [
    "This notebook is to prepare and pre-process data for various prediction models from the Used Car Price data \n",
    "at : https://www.kaggle.com/CooperUnion/cardataset, after the initial Data exploration, as given in ..... \n",
    "The numerical variables are scaled with StandardScaler, imputation strategy is used to replace 0 values with mean\n",
    "StratifiedshuffleSplit is done based on Age of car (Curr Year - Year of Car), by creating Age category (Age / 5), and \n",
    "putting the values in different Age category buckets. The same distribution is maintained in Train and Test data.\n",
    "The categorical variables (Transmission type, Vehicle Size and Drive wheels) are one-hot encoded and added to the feature vector. The numerical variables considered are : Age, City mpg, Engine Cylinders. Two sets of X features are \n",
    "produced, with Make and without Make and results compared.\n"
   ]
  },
  {
   "cell_type": "code",
   "execution_count": 2,
   "metadata": {},
   "outputs": [
    {
     "name": "stderr",
     "output_type": "stream",
     "text": [
      "Using TensorFlow backend.\n"
     ]
    }
   ],
   "source": [
    "#Import all necessary libraries\n",
    "import pickle\n",
    "import pandas as pd\n",
    "import pandas as pd\n",
    "import matplotlib.pyplot as plt\n",
    "from sklearn.model_selection import train_test_split\n",
    "import numpy as np\n",
    "from sklearn.model_selection import StratifiedShuffleSplit\n",
    "from sklearn.preprocessing import Imputer\n",
    "from sklearn.preprocessing import LabelEncoder\n",
    "from sklearn.preprocessing import OneHotEncoder\n",
    "from sklearn.preprocessing import LabelBinarizer\n",
    "from sklearn.base import BaseEstimator, TransformerMixin\n",
    "from sklearn.pipeline import Pipeline\n",
    "from sklearn.preprocessing import StandardScaler\n",
    "from sklearn.preprocessing import MinMaxScaler\n",
    "from sklearn.preprocessing import PolynomialFeatures\n",
    "from pandas.plotting import scatter_matrix\n",
    "\n",
    "from sklearn.linear_model import LinearRegression\n",
    "from sklearn.metrics import mean_squared_error\n",
    "from sklearn.linear_model import SGDRegressor\n",
    "from keras.models import Sequential\n",
    "from keras.layers import Dense   \n",
    "from keras import optimizers\n",
    "\n",
    "from sklearn.tree import DecisionTreeRegressor\n",
    "from sklearn.ensemble import RandomForestRegressor\n",
    "from sklearn.model_selection import cross_val_score\n",
    "from sklearn.ensemble import GradientBoostingRegressor\n",
    "from xgboost import XGBRegressor\n",
    "from sklearn.linear_model import Lasso\n",
    "from sklearn.linear_model import Ridge\n",
    "from sklearn.linear_model import ElasticNet\n",
    "from sklearn.model_selection import GridSearchCV"
   ]
  },
  {
   "cell_type": "markdown",
   "metadata": {
    "collapsed": true
   },
   "source": [
    "Read the pickle files prepared by stratifying the Car Sales Data based on Make and Price. This is necessary since\n",
    "cars belong to different price segments, and including all make and models is not a viable solution, as the range of price\n",
    "is different for the same features for different makes. The stratification details can be found in the \n",
    "Data exploration notebook, which precedes this and outputs the data into .pkl files, based on car segment/price category"
   ]
  },
  {
   "cell_type": "code",
   "execution_count": 3,
   "metadata": {},
   "outputs": [],
   "source": [
    "df_ordinary=pd.read_pickle('C:/users/hackuser1/Hackathon18/ord_transformed.pkl')\n",
    "df_deluxe=pd.read_pickle('C:/users/hackuser1/Hackathon18/del.pkl')\n",
    "df_supdel=pd.read_pickle('C:/users/hackuser1/Hackathon18/supdel.pkl')\n",
    "df_luxury=pd.read_pickle('C:/users/hackuser1/Hackathon18/luxury.pkl')\n",
    "df_suplux=pd.read_pickle('C:/users/hackuser1/Hackathon18/suplux.pkl')"
   ]
  },
  {
   "cell_type": "code",
   "execution_count": 4,
   "metadata": {},
   "outputs": [
    {
     "data": {
      "text/html": [
       "<div>\n",
       "<style scoped>\n",
       "    .dataframe tbody tr th:only-of-type {\n",
       "        vertical-align: middle;\n",
       "    }\n",
       "\n",
       "    .dataframe tbody tr th {\n",
       "        vertical-align: top;\n",
       "    }\n",
       "\n",
       "    .dataframe thead th {\n",
       "        text-align: right;\n",
       "    }\n",
       "</style>\n",
       "<table border=\"1\" class=\"dataframe\">\n",
       "  <thead>\n",
       "    <tr style=\"text-align: right;\">\n",
       "      <th></th>\n",
       "      <th>Engine Cylinders</th>\n",
       "      <th>Number of Doors</th>\n",
       "      <th>MSRP</th>\n",
       "      <th>Age</th>\n",
       "      <th>log_MSRP</th>\n",
       "      <th>log_city mpg</th>\n",
       "      <th>diesel</th>\n",
       "      <th>electric</th>\n",
       "      <th>flex-fuel (unleaded/E85)</th>\n",
       "      <th>flex-fuel (unleaded/natural gas)</th>\n",
       "      <th>...</th>\n",
       "      <th>Mazda</th>\n",
       "      <th>Mitsubishi</th>\n",
       "      <th>Nissan</th>\n",
       "      <th>Oldsmobile</th>\n",
       "      <th>Plymouth</th>\n",
       "      <th>Pontiac</th>\n",
       "      <th>Scion</th>\n",
       "      <th>Subaru</th>\n",
       "      <th>Suzuki</th>\n",
       "      <th>Volkswagen</th>\n",
       "    </tr>\n",
       "  </thead>\n",
       "  <tbody>\n",
       "    <tr>\n",
       "      <th>0</th>\n",
       "      <td>4.0</td>\n",
       "      <td>2.0</td>\n",
       "      <td>27495</td>\n",
       "      <td>0</td>\n",
       "      <td>10.221796</td>\n",
       "      <td>3.295837</td>\n",
       "      <td>0</td>\n",
       "      <td>0</td>\n",
       "      <td>0</td>\n",
       "      <td>0</td>\n",
       "      <td>...</td>\n",
       "      <td>0</td>\n",
       "      <td>0</td>\n",
       "      <td>0</td>\n",
       "      <td>0</td>\n",
       "      <td>0</td>\n",
       "      <td>0</td>\n",
       "      <td>0</td>\n",
       "      <td>0</td>\n",
       "      <td>0</td>\n",
       "      <td>0</td>\n",
       "    </tr>\n",
       "    <tr>\n",
       "      <th>1</th>\n",
       "      <td>4.0</td>\n",
       "      <td>2.0</td>\n",
       "      <td>24995</td>\n",
       "      <td>0</td>\n",
       "      <td>10.126471</td>\n",
       "      <td>3.295837</td>\n",
       "      <td>0</td>\n",
       "      <td>0</td>\n",
       "      <td>0</td>\n",
       "      <td>0</td>\n",
       "      <td>...</td>\n",
       "      <td>0</td>\n",
       "      <td>0</td>\n",
       "      <td>0</td>\n",
       "      <td>0</td>\n",
       "      <td>0</td>\n",
       "      <td>0</td>\n",
       "      <td>0</td>\n",
       "      <td>0</td>\n",
       "      <td>0</td>\n",
       "      <td>0</td>\n",
       "    </tr>\n",
       "    <tr>\n",
       "      <th>2</th>\n",
       "      <td>4.0</td>\n",
       "      <td>2.0</td>\n",
       "      <td>28195</td>\n",
       "      <td>0</td>\n",
       "      <td>10.246935</td>\n",
       "      <td>3.295837</td>\n",
       "      <td>0</td>\n",
       "      <td>0</td>\n",
       "      <td>0</td>\n",
       "      <td>0</td>\n",
       "      <td>...</td>\n",
       "      <td>0</td>\n",
       "      <td>0</td>\n",
       "      <td>0</td>\n",
       "      <td>0</td>\n",
       "      <td>0</td>\n",
       "      <td>0</td>\n",
       "      <td>0</td>\n",
       "      <td>0</td>\n",
       "      <td>0</td>\n",
       "      <td>0</td>\n",
       "    </tr>\n",
       "    <tr>\n",
       "      <th>3</th>\n",
       "      <td>4.0</td>\n",
       "      <td>4.0</td>\n",
       "      <td>25170</td>\n",
       "      <td>2</td>\n",
       "      <td>10.133448</td>\n",
       "      <td>3.178054</td>\n",
       "      <td>0</td>\n",
       "      <td>0</td>\n",
       "      <td>1</td>\n",
       "      <td>0</td>\n",
       "      <td>...</td>\n",
       "      <td>0</td>\n",
       "      <td>0</td>\n",
       "      <td>0</td>\n",
       "      <td>0</td>\n",
       "      <td>0</td>\n",
       "      <td>0</td>\n",
       "      <td>0</td>\n",
       "      <td>0</td>\n",
       "      <td>0</td>\n",
       "      <td>0</td>\n",
       "    </tr>\n",
       "    <tr>\n",
       "      <th>4</th>\n",
       "      <td>4.0</td>\n",
       "      <td>4.0</td>\n",
       "      <td>23950</td>\n",
       "      <td>2</td>\n",
       "      <td>10.083765</td>\n",
       "      <td>3.178054</td>\n",
       "      <td>0</td>\n",
       "      <td>0</td>\n",
       "      <td>1</td>\n",
       "      <td>0</td>\n",
       "      <td>...</td>\n",
       "      <td>0</td>\n",
       "      <td>0</td>\n",
       "      <td>0</td>\n",
       "      <td>0</td>\n",
       "      <td>0</td>\n",
       "      <td>0</td>\n",
       "      <td>0</td>\n",
       "      <td>0</td>\n",
       "      <td>0</td>\n",
       "      <td>0</td>\n",
       "    </tr>\n",
       "  </tbody>\n",
       "</table>\n",
       "<p>5 rows × 60 columns</p>\n",
       "</div>"
      ],
      "text/plain": [
       "   Engine Cylinders  Number of Doors   MSRP  Age   log_MSRP  log_city mpg  \\\n",
       "0               4.0              2.0  27495    0  10.221796      3.295837   \n",
       "1               4.0              2.0  24995    0  10.126471      3.295837   \n",
       "2               4.0              2.0  28195    0  10.246935      3.295837   \n",
       "3               4.0              4.0  25170    2  10.133448      3.178054   \n",
       "4               4.0              4.0  23950    2  10.083765      3.178054   \n",
       "\n",
       "   diesel  electric  flex-fuel (unleaded/E85)  \\\n",
       "0       0         0                         0   \n",
       "1       0         0                         0   \n",
       "2       0         0                         0   \n",
       "3       0         0                         1   \n",
       "4       0         0                         1   \n",
       "\n",
       "   flex-fuel (unleaded/natural gas)     ...      Mazda  Mitsubishi  Nissan  \\\n",
       "0                                 0     ...          0           0       0   \n",
       "1                                 0     ...          0           0       0   \n",
       "2                                 0     ...          0           0       0   \n",
       "3                                 0     ...          0           0       0   \n",
       "4                                 0     ...          0           0       0   \n",
       "\n",
       "   Oldsmobile  Plymouth  Pontiac  Scion  Subaru  Suzuki  Volkswagen  \n",
       "0           0         0        0      0       0       0           0  \n",
       "1           0         0        0      0       0       0           0  \n",
       "2           0         0        0      0       0       0           0  \n",
       "3           0         0        0      0       0       0           0  \n",
       "4           0         0        0      0       0       0           0  \n",
       "\n",
       "[5 rows x 60 columns]"
      ]
     },
     "execution_count": 4,
     "metadata": {},
     "output_type": "execute_result"
    }
   ],
   "source": [
    "df_ordinary.head()\n"
   ]
  },
  {
   "cell_type": "code",
   "execution_count": 4,
   "metadata": {},
   "outputs": [
    {
     "data": {
      "text/plain": [
       "Chevrolet     1123\n",
       "Ford           881\n",
       "Volkswagen     809\n",
       "Dodge          626\n",
       "Nissan         558\n",
       "Honda          449\n",
       "Mazda          423\n",
       "Suzuki         351\n",
       "Hyundai        303\n",
       "Subaru         256\n",
       "Kia            231\n",
       "Mitsubishi     213\n",
       "Chrysler       187\n",
       "Pontiac        186\n",
       "Oldsmobile     150\n",
       "Plymouth        82\n",
       "FIAT            62\n",
       "Scion           60\n",
       "Name: Make, dtype: int64"
      ]
     },
     "execution_count": 4,
     "metadata": {},
     "output_type": "execute_result"
    }
   ],
   "source": [
    "df_ordinary[\"Make\"].value_counts()"
   ]
  },
  {
   "cell_type": "code",
   "execution_count": 10,
   "metadata": {},
   "outputs": [
    {
     "name": "stdout",
     "output_type": "stream",
     "text": [
      "6950\n",
      "4372\n",
      "52\n",
      "521\n",
      "19\n"
     ]
    }
   ],
   "source": [
    "print(len(df_ordinary))\n",
    "print(len(df_deluxe))\n",
    "print(len(df_supdel))\n",
    "print(len(df_luxury))\n",
    "print(len(df_suplux))"
   ]
  },
  {
   "cell_type": "markdown",
   "metadata": {
    "collapsed": true
   },
   "source": [
    "We will take the ordinary segment as it has the most data, and fit our model. Once done the same model will be applied\n",
    "to other segments.(For MVP, in actuality the modeling exercise needs to be repeated for each segment, as the relationships \n",
    "may be different)"
   ]
  },
  {
   "cell_type": "code",
   "execution_count": 5,
   "metadata": {
    "collapsed": true
   },
   "outputs": [],
   "source": [
    "df_ordinary[\"Number of Doors\"] = df_ordinary[\"Number of Doors\"].replace(\"?\",0)\n",
    "df_ordinary[\"Number of Doors\"] = df_ordinary[\"Number of Doors\"].astype('float32')\n",
    "df_ordinary[\"MSRP\"] = df_ordinary[\"MSRP\"].replace(\"?\",0)\n",
    "df_ordinary[\"MSRP\"] = df_ordinary[\"MSRP\"].astype(\"float32\")\n",
    "df_ordinary[\"Engine HP\"] = df_ordinary[\"Engine HP\"].replace(\"?\",0)\n",
    "df_ordinary[\"Engine HP\"] = df_ordinary[\"Engine HP\"].astype(\"float32\")"
   ]
  },
  {
   "cell_type": "markdown",
   "metadata": {
    "collapsed": true
   },
   "source": [
    "Use Stratified Shuffle Split on the basis of Age of Car, to represent the data accurately in both \n",
    "train and test samples"
   ]
  },
  {
   "cell_type": "code",
   "execution_count": 6,
   "metadata": {},
   "outputs": [
    {
     "data": {
      "text/plain": [
       "1.0    0.436835\n",
       "2.0    0.157122\n",
       "0.0    0.127914\n",
       "3.0    0.106187\n",
       "5.0    0.100432\n",
       "4.0    0.071511\n",
       "Name: Age-cat, dtype: float64"
      ]
     },
     "execution_count": 6,
     "metadata": {},
     "output_type": "execute_result"
    }
   ],
   "source": [
    "df_ordinary[\"Age\"].value_counts()\n",
    "#create a field Age-cat to divide the data into 5 Age categories, based on the Age of the car\n",
    "df_ordinary[\"Age-cat\"] = np.ceil(df_ordinary[\"Age\"] / 5)\n",
    "df_ordinary[\"Age-cat\"].where(df_ordinary[\"Age-cat\"] < 5, 5.0, inplace=True)\n",
    "#check distribution of Age Cat in the original data\n",
    "df_ordinary[\"Age-cat\"].value_counts() / len(df_ordinary)"
   ]
  },
  {
   "cell_type": "code",
   "execution_count": 7,
   "metadata": {
    "collapsed": true
   },
   "outputs": [],
   "source": [
    "split = StratifiedShuffleSplit(n_splits=1,test_size=0.2,random_state=42)\n",
    "\n",
    "for train_index, test_index in split.split(df_ordinary,df_ordinary[\"Age-cat\"]):\n",
    "    strat_train_set = df_ordinary.iloc[train_index]\n",
    "    strat_test_set = df_ordinary.iloc[test_index]"
   ]
  },
  {
   "cell_type": "code",
   "execution_count": 8,
   "metadata": {},
   "outputs": [
    {
     "data": {
      "text/plain": [
       "1.0    0.436871\n",
       "2.0    0.157194\n",
       "0.0    0.127878\n",
       "3.0    0.106115\n",
       "5.0    0.100360\n",
       "4.0    0.071583\n",
       "Name: Age-cat, dtype: float64"
      ]
     },
     "execution_count": 8,
     "metadata": {},
     "output_type": "execute_result"
    }
   ],
   "source": [
    "#check distribution of Age Cat in the train data\n",
    "strat_train_set[\"Age-cat\"].value_counts() / len(strat_train_set)"
   ]
  },
  {
   "cell_type": "code",
   "execution_count": 9,
   "metadata": {},
   "outputs": [
    {
     "data": {
      "text/plain": [
       "1.0    0.436691\n",
       "2.0    0.156835\n",
       "0.0    0.128058\n",
       "3.0    0.106475\n",
       "5.0    0.100719\n",
       "4.0    0.071223\n",
       "Name: Age-cat, dtype: float64"
      ]
     },
     "execution_count": 9,
     "metadata": {},
     "output_type": "execute_result"
    }
   ],
   "source": [
    "#check distribution of Age Cat in the test data\n",
    "strat_test_set[\"Age-cat\"].value_counts() / len(strat_test_set)"
   ]
  },
  {
   "cell_type": "markdown",
   "metadata": {
    "collapsed": true
   },
   "source": [
    "Create the X and Y variables from the Feature analysis done in Exploration notebook. Repeat the same operations \n",
    "for Train and Test data."
   ]
  },
  {
   "cell_type": "code",
   "execution_count": 10,
   "metadata": {
    "collapsed": true
   },
   "outputs": [],
   "source": [
    "carSales_X = strat_train_set.copy()\n",
    "carSales_X = strat_train_set.drop(\"MSRP\", axis=1) # drop labels for training set\n",
    "carSales_Y = strat_train_set[\"MSRP\"].copy()\n",
    "\n",
    "carSales_test_X = strat_test_set.copy()\n",
    "carSales_test_X = strat_test_set.drop(\"MSRP\", axis=1) # drop labels for test set\n",
    "carSales_test_Y = strat_test_set[\"MSRP\"].copy()"
   ]
  },
  {
   "cell_type": "code",
   "execution_count": 12,
   "metadata": {},
   "outputs": [
    {
     "name": "stdout",
     "output_type": "stream",
     "text": [
      "(5560, 18)\n",
      "(5560, 1)\n",
      "(1390, 18)\n",
      "(1390, 1)\n"
     ]
    }
   ],
   "source": [
    "carSales_Y = carSales_Y.reshape(carSales_Y.shape[0],1)\n",
    "carSales_test_Y = carSales_test_Y.reshape(carSales_test_Y.shape[0],1)\n",
    "print(carSales_X.shape)\n",
    "print(carSales_Y.shape)\n",
    "print(carSales_test_X.shape)\n",
    "print(carSales_test_Y.shape)"
   ]
  },
  {
   "cell_type": "markdown",
   "metadata": {
    "collapsed": true
   },
   "source": [
    "We have 5560 rows in Train data, and 1390 rows in Test data. Now we need to remove unnecessary columns based on\n",
    "Correlation analysis done in ExplorationNotebook, and do Encoding of Categorical variables. Also \n",
    "we need to do StandardNormalization before applying Regression models."
   ]
  },
  {
   "cell_type": "code",
   "execution_count": 13,
   "metadata": {},
   "outputs": [
    {
     "data": {
      "text/html": [
       "<div>\n",
       "<style scoped>\n",
       "    .dataframe tbody tr th:only-of-type {\n",
       "        vertical-align: middle;\n",
       "    }\n",
       "\n",
       "    .dataframe tbody tr th {\n",
       "        vertical-align: top;\n",
       "    }\n",
       "\n",
       "    .dataframe thead th {\n",
       "        text-align: right;\n",
       "    }\n",
       "</style>\n",
       "<table border=\"1\" class=\"dataframe\">\n",
       "  <thead>\n",
       "    <tr style=\"text-align: right;\">\n",
       "      <th></th>\n",
       "      <th>Make</th>\n",
       "      <th>Model</th>\n",
       "      <th>Year</th>\n",
       "      <th>Engine Fuel Type</th>\n",
       "      <th>Engine HP</th>\n",
       "      <th>Engine Cylinders</th>\n",
       "      <th>Transmission Type</th>\n",
       "      <th>Driven_Wheels</th>\n",
       "      <th>Number of Doors</th>\n",
       "      <th>Market Category</th>\n",
       "      <th>Vehicle Size</th>\n",
       "      <th>Vehicle Style</th>\n",
       "      <th>highway MPG</th>\n",
       "      <th>city mpg</th>\n",
       "      <th>Age</th>\n",
       "      <th>MSRP_Median</th>\n",
       "      <th>MSRP_group</th>\n",
       "      <th>Age-cat</th>\n",
       "    </tr>\n",
       "  </thead>\n",
       "  <tbody>\n",
       "    <tr>\n",
       "      <th>6188</th>\n",
       "      <td>Dodge</td>\n",
       "      <td>Journey</td>\n",
       "      <td>2015</td>\n",
       "      <td>regular unleaded</td>\n",
       "      <td>283.0</td>\n",
       "      <td>6.0</td>\n",
       "      <td>AUTOMATIC</td>\n",
       "      <td>all wheel drive</td>\n",
       "      <td>4.0</td>\n",
       "      <td>Crossover</td>\n",
       "      <td>Midsize</td>\n",
       "      <td>4dr SUV</td>\n",
       "      <td>24</td>\n",
       "      <td>16</td>\n",
       "      <td>2</td>\n",
       "      <td>23115.0</td>\n",
       "      <td>ordinary</td>\n",
       "      <td>1.0</td>\n",
       "    </tr>\n",
       "    <tr>\n",
       "      <th>9434</th>\n",
       "      <td>Chevrolet</td>\n",
       "      <td>Silverado 1500 Classic</td>\n",
       "      <td>2007</td>\n",
       "      <td>regular unleaded</td>\n",
       "      <td>285.0</td>\n",
       "      <td>8.0</td>\n",
       "      <td>AUTOMATIC</td>\n",
       "      <td>rear wheel drive</td>\n",
       "      <td>2.0</td>\n",
       "      <td>Flex Fuel</td>\n",
       "      <td>Large</td>\n",
       "      <td>Regular Cab Pickup</td>\n",
       "      <td>19</td>\n",
       "      <td>15</td>\n",
       "      <td>10</td>\n",
       "      <td>26430.0</td>\n",
       "      <td>ordinary</td>\n",
       "      <td>2.0</td>\n",
       "    </tr>\n",
       "    <tr>\n",
       "      <th>8974</th>\n",
       "      <td>Hyundai</td>\n",
       "      <td>Santa Fe Sport</td>\n",
       "      <td>2015</td>\n",
       "      <td>regular unleaded</td>\n",
       "      <td>264.0</td>\n",
       "      <td>4.0</td>\n",
       "      <td>AUTOMATIC</td>\n",
       "      <td>front wheel drive</td>\n",
       "      <td>4.0</td>\n",
       "      <td>Crossover</td>\n",
       "      <td>Midsize</td>\n",
       "      <td>4dr SUV</td>\n",
       "      <td>27</td>\n",
       "      <td>19</td>\n",
       "      <td>2</td>\n",
       "      <td>23400.0</td>\n",
       "      <td>ordinary</td>\n",
       "      <td>1.0</td>\n",
       "    </tr>\n",
       "    <tr>\n",
       "      <th>3102</th>\n",
       "      <td>Honda</td>\n",
       "      <td>Crosstour</td>\n",
       "      <td>2013</td>\n",
       "      <td>regular unleaded</td>\n",
       "      <td>278.0</td>\n",
       "      <td>6.0</td>\n",
       "      <td>AUTOMATIC</td>\n",
       "      <td>front wheel drive</td>\n",
       "      <td>4.0</td>\n",
       "      <td>Crossover,Hatchback</td>\n",
       "      <td>Midsize</td>\n",
       "      <td>4dr Hatchback</td>\n",
       "      <td>30</td>\n",
       "      <td>20</td>\n",
       "      <td>4</td>\n",
       "      <td>26140.0</td>\n",
       "      <td>ordinary</td>\n",
       "      <td>1.0</td>\n",
       "    </tr>\n",
       "    <tr>\n",
       "      <th>100</th>\n",
       "      <td>Nissan</td>\n",
       "      <td>240SX</td>\n",
       "      <td>1997</td>\n",
       "      <td>regular unleaded</td>\n",
       "      <td>155.0</td>\n",
       "      <td>4.0</td>\n",
       "      <td>MANUAL</td>\n",
       "      <td>rear wheel drive</td>\n",
       "      <td>2.0</td>\n",
       "      <td>Performance</td>\n",
       "      <td>Compact</td>\n",
       "      <td>Coupe</td>\n",
       "      <td>26</td>\n",
       "      <td>19</td>\n",
       "      <td>20</td>\n",
       "      <td>28995.0</td>\n",
       "      <td>ordinary</td>\n",
       "      <td>4.0</td>\n",
       "    </tr>\n",
       "  </tbody>\n",
       "</table>\n",
       "</div>"
      ],
      "text/plain": [
       "           Make                   Model  Year  Engine Fuel Type  Engine HP  \\\n",
       "6188      Dodge                 Journey  2015  regular unleaded      283.0   \n",
       "9434  Chevrolet  Silverado 1500 Classic  2007  regular unleaded      285.0   \n",
       "8974    Hyundai          Santa Fe Sport  2015  regular unleaded      264.0   \n",
       "3102      Honda               Crosstour  2013  regular unleaded      278.0   \n",
       "100      Nissan                   240SX  1997  regular unleaded      155.0   \n",
       "\n",
       "      Engine Cylinders Transmission Type      Driven_Wheels  Number of Doors  \\\n",
       "6188               6.0         AUTOMATIC    all wheel drive              4.0   \n",
       "9434               8.0         AUTOMATIC   rear wheel drive              2.0   \n",
       "8974               4.0         AUTOMATIC  front wheel drive              4.0   \n",
       "3102               6.0         AUTOMATIC  front wheel drive              4.0   \n",
       "100                4.0            MANUAL   rear wheel drive              2.0   \n",
       "\n",
       "          Market Category Vehicle Size       Vehicle Style  highway MPG  \\\n",
       "6188            Crossover      Midsize             4dr SUV           24   \n",
       "9434            Flex Fuel        Large  Regular Cab Pickup           19   \n",
       "8974            Crossover      Midsize             4dr SUV           27   \n",
       "3102  Crossover,Hatchback      Midsize       4dr Hatchback           30   \n",
       "100           Performance      Compact               Coupe           26   \n",
       "\n",
       "      city mpg  Age  MSRP_Median MSRP_group  Age-cat  \n",
       "6188        16    2      23115.0   ordinary      1.0  \n",
       "9434        15   10      26430.0   ordinary      2.0  \n",
       "8974        19    2      23400.0   ordinary      1.0  \n",
       "3102        20    4      26140.0   ordinary      1.0  \n",
       "100         19   20      28995.0   ordinary      4.0  "
      ]
     },
     "execution_count": 13,
     "metadata": {},
     "output_type": "execute_result"
    }
   ],
   "source": [
    "carSales_X.head()"
   ]
  },
  {
   "cell_type": "markdown",
   "metadata": {
    "collapsed": true
   },
   "source": [
    "First we drop all columns after making a copy, and retain only the numerical features of significance"
   ]
  },
  {
   "cell_type": "code",
   "execution_count": 16,
   "metadata": {
    "collapsed": true
   },
   "outputs": [],
   "source": [
    "carSales_X_num = carSales_X\n",
    "carSales_X_num  = carSales_X_num.drop(\"Make\",axis=1)\n",
    "carSales_X_num  = carSales_X_num.drop(\"Model\",axis=1)\n",
    "carSales_X_num  = carSales_X_num.drop(\"Year\",axis=1)\n",
    "carSales_X_num  = carSales_X_num.drop(\"Engine Fuel Type\",axis=1)\n",
    "carSales_X_num  = carSales_X_num.drop(\"Transmission Type\",axis=1)\n",
    "carSales_X_num  = carSales_X_num.drop(\"Driven_Wheels\",axis=1)\n",
    "carSales_X_num = carSales_X_num.drop(\"Number of Doors\",axis=1)\n",
    "carSales_X_num  = carSales_X_num.drop(\"Market Category\",axis=1)\n",
    "carSales_X_num  = carSales_X_num.drop(\"Vehicle Style\",axis=1)\n",
    "carSales_X_num = carSales_X_num.drop(\"Vehicle Size\",axis=1)\n",
    "carSales_X_num = carSales_X_num.drop(\"highway MPG\",axis=1)\n",
    "carSales_X_num = carSales_X_num.drop(\"Age-cat\",axis=1)\n",
    "carSales_X_num = carSales_X_num.drop(\"MSRP_Median\",axis=1)\n",
    "carSales_X_num = carSales_X_num.drop(\"MSRP_group\",axis=1)\n",
    "carSales_X_num = carSales_X_num.drop(\"Engine HP\",axis=1)"
   ]
  },
  {
   "cell_type": "code",
   "execution_count": 17,
   "metadata": {},
   "outputs": [
    {
     "data": {
      "text/html": [
       "<div>\n",
       "<style scoped>\n",
       "    .dataframe tbody tr th:only-of-type {\n",
       "        vertical-align: middle;\n",
       "    }\n",
       "\n",
       "    .dataframe tbody tr th {\n",
       "        vertical-align: top;\n",
       "    }\n",
       "\n",
       "    .dataframe thead th {\n",
       "        text-align: right;\n",
       "    }\n",
       "</style>\n",
       "<table border=\"1\" class=\"dataframe\">\n",
       "  <thead>\n",
       "    <tr style=\"text-align: right;\">\n",
       "      <th></th>\n",
       "      <th>Engine Cylinders</th>\n",
       "      <th>city mpg</th>\n",
       "      <th>Age</th>\n",
       "    </tr>\n",
       "  </thead>\n",
       "  <tbody>\n",
       "    <tr>\n",
       "      <th>6188</th>\n",
       "      <td>6.0</td>\n",
       "      <td>16</td>\n",
       "      <td>2</td>\n",
       "    </tr>\n",
       "    <tr>\n",
       "      <th>9434</th>\n",
       "      <td>8.0</td>\n",
       "      <td>15</td>\n",
       "      <td>10</td>\n",
       "    </tr>\n",
       "    <tr>\n",
       "      <th>8974</th>\n",
       "      <td>4.0</td>\n",
       "      <td>19</td>\n",
       "      <td>2</td>\n",
       "    </tr>\n",
       "    <tr>\n",
       "      <th>3102</th>\n",
       "      <td>6.0</td>\n",
       "      <td>20</td>\n",
       "      <td>4</td>\n",
       "    </tr>\n",
       "    <tr>\n",
       "      <th>100</th>\n",
       "      <td>4.0</td>\n",
       "      <td>19</td>\n",
       "      <td>20</td>\n",
       "    </tr>\n",
       "  </tbody>\n",
       "</table>\n",
       "</div>"
      ],
      "text/plain": [
       "      Engine Cylinders  city mpg  Age\n",
       "6188               6.0        16    2\n",
       "9434               8.0        15   10\n",
       "8974               4.0        19    2\n",
       "3102               6.0        20    4\n",
       "100                4.0        19   20"
      ]
     },
     "execution_count": 17,
     "metadata": {},
     "output_type": "execute_result"
    }
   ],
   "source": [
    "carSales_X_num.head()"
   ]
  },
  {
   "cell_type": "code",
   "execution_count": 18,
   "metadata": {
    "collapsed": true
   },
   "outputs": [],
   "source": [
    "#Apply the same transformation on Test data\n",
    "carSales_test_X_num = carSales_test_X\n",
    "carSales_test_X_num  = carSales_test_X_num.drop(\"Make\",axis=1)\n",
    "carSales_test_X_num  = carSales_test_X_num.drop(\"Year\",axis=1)\n",
    "carSales_test_X_num  = carSales_test_X_num.drop(\"Engine Fuel Type\",axis=1)\n",
    "carSales_test_X_num  = carSales_test_X_num.drop(\"Model\",axis=1)\n",
    "carSales_test_X_num  = carSales_test_X_num.drop(\"Transmission Type\",axis=1)\n",
    "carSales_test_X_num  = carSales_test_X_num.drop(\"Driven_Wheels\",axis=1)\n",
    "carSales_test_X_num = carSales_test_X_num.drop(\"Number of Doors\",axis=1)\n",
    "carSales_test_X_num  = carSales_test_X_num.drop(\"Market Category\",axis=1)\n",
    "carSales_test_X_num  = carSales_test_X_num.drop(\"Vehicle Style\",axis=1)\n",
    "carSales_test_X_num = carSales_test_X_num.drop(\"Vehicle Size\",axis=1)\n",
    "carSales_test_X_num = carSales_test_X_num.drop(\"highway MPG\",axis=1)\n",
    "carSales_test_X_num = carSales_test_X_num.drop(\"Age-cat\",axis=1)\n",
    "carSales_test_X_num = carSales_test_X_num.drop(\"MSRP_Median\",axis=1)\n",
    "carSales_test_X_num = carSales_test_X_num.drop(\"MSRP_group\",axis=1)\n",
    "carSales_test_X_num = carSales_test_X_num.drop(\"Engine HP\",axis=1)"
   ]
  },
  {
   "cell_type": "code",
   "execution_count": 19,
   "metadata": {},
   "outputs": [
    {
     "data": {
      "text/html": [
       "<div>\n",
       "<style scoped>\n",
       "    .dataframe tbody tr th:only-of-type {\n",
       "        vertical-align: middle;\n",
       "    }\n",
       "\n",
       "    .dataframe tbody tr th {\n",
       "        vertical-align: top;\n",
       "    }\n",
       "\n",
       "    .dataframe thead th {\n",
       "        text-align: right;\n",
       "    }\n",
       "</style>\n",
       "<table border=\"1\" class=\"dataframe\">\n",
       "  <thead>\n",
       "    <tr style=\"text-align: right;\">\n",
       "      <th></th>\n",
       "      <th>Engine Cylinders</th>\n",
       "      <th>city mpg</th>\n",
       "      <th>Age</th>\n",
       "    </tr>\n",
       "  </thead>\n",
       "  <tbody>\n",
       "    <tr>\n",
       "      <th>5711</th>\n",
       "      <td>4.0</td>\n",
       "      <td>22</td>\n",
       "      <td>8</td>\n",
       "    </tr>\n",
       "    <tr>\n",
       "      <th>11400</th>\n",
       "      <td>4.0</td>\n",
       "      <td>20</td>\n",
       "      <td>15</td>\n",
       "    </tr>\n",
       "    <tr>\n",
       "      <th>6075</th>\n",
       "      <td>5.0</td>\n",
       "      <td>24</td>\n",
       "      <td>4</td>\n",
       "    </tr>\n",
       "    <tr>\n",
       "      <th>9734</th>\n",
       "      <td>4.0</td>\n",
       "      <td>25</td>\n",
       "      <td>1</td>\n",
       "    </tr>\n",
       "    <tr>\n",
       "      <th>5366</th>\n",
       "      <td>4.0</td>\n",
       "      <td>25</td>\n",
       "      <td>2</td>\n",
       "    </tr>\n",
       "  </tbody>\n",
       "</table>\n",
       "</div>"
      ],
      "text/plain": [
       "       Engine Cylinders  city mpg  Age\n",
       "5711                4.0        22    8\n",
       "11400               4.0        20   15\n",
       "6075                5.0        24    4\n",
       "9734                4.0        25    1\n",
       "5366                4.0        25    2"
      ]
     },
     "execution_count": 19,
     "metadata": {},
     "output_type": "execute_result"
    }
   ],
   "source": [
    "carSales_test_X_num.head()"
   ]
  },
  {
   "cell_type": "code",
   "execution_count": 20,
   "metadata": {
    "collapsed": true
   },
   "outputs": [],
   "source": [
    "#carSales_X_num[\"Engine HP\"] = carSales_X_num[\"Engine HP\"].astype(\"float32\")\n",
    "carSales_X_num[\"Engine Cylinders\"] = carSales_X_num[\"Engine Cylinders\"].astype(\"float32\")\n",
    "carSales_X_num[\"city mpg\"] = carSales_X_num[\"city mpg\"].astype(\"float32\")\n",
    "carSales_X_num[\"Age\"] = carSales_X_num[\"Age\"].astype(\"float32\")\n",
    "carSales_X_num.replace('null',np.NaN,inplace=True)\n",
    "carSales_X_num = pd.DataFrame(carSales_X_num)\n",
    "carSales_X_num = carSales_X_num.replace('?',0)\n",
    "carSales_X_num = carSales_X_num.replace('NaN',0)\n",
    "carSales_X_num = carSales_X_num.replace(np.NaN,0)\n",
    "\n",
    "#carSales_test_X_num[\"Engine HP\"] = carSales_test_X_num[\"Engine HP\"].astype(\"float32\")\n",
    "carSales_test_X_num[\"Engine Cylinders\"] = carSales_test_X_num[\"Engine Cylinders\"].astype(\"float32\")\n",
    "carSales_test_X_num[\"city mpg\"] = carSales_test_X_num[\"city mpg\"].astype(\"float32\")\n",
    "carSales_test_X_num[\"Age\"] = carSales_test_X_num[\"Age\"].astype(\"float32\")\n",
    "carSales_test_X_num.replace('null',np.NaN,inplace=True)\n",
    "carSales_test_X_num = pd.DataFrame(carSales_test_X_num)\n",
    "carSales_test_X_num = carSales_test_X_num.replace('?',0)\n",
    "carSales_test_X_num = carSales_test_X_num.replace('NaN',0)\n",
    "carSales_test_X_num = carSales_test_X_num.replace(np.NaN,0)"
   ]
  },
  {
   "cell_type": "code",
   "execution_count": 21,
   "metadata": {},
   "outputs": [
    {
     "name": "stdout",
     "output_type": "stream",
     "text": [
      "Series([], dtype: bool)\n",
      "Engine Cylinders    True\n",
      "city mpg            True\n",
      "Age                 True\n",
      "dtype: bool\n",
      "Series([], dtype: bool)\n",
      "Engine Cylinders    True\n",
      "city mpg            True\n",
      "Age                 True\n",
      "dtype: bool\n"
     ]
    }
   ],
   "source": [
    "m=carSales_X_num.isnull().any()\n",
    "print(m[m])\n",
    "m=np.isfinite(carSales_X_num.select_dtypes(include=['float64'])).any()\n",
    "print(m[m])\n",
    "m=carSales_test_X_num.isnull().any()\n",
    "print(m[m])\n",
    "m=np.isfinite(carSales_test_X_num.select_dtypes(include=['float64'])).any()\n",
    "print(m[m])"
   ]
  },
  {
   "cell_type": "markdown",
   "metadata": {
    "collapsed": true
   },
   "source": [
    "Wherever there are 0 values, we replace by the mean "
   ]
  },
  {
   "cell_type": "code",
   "execution_count": 22,
   "metadata": {},
   "outputs": [
    {
     "data": {
      "text/plain": [
       "Imputer(axis=0, copy=True, missing_values=0, strategy='mean', verbose=0)"
      ]
     },
     "execution_count": 22,
     "metadata": {},
     "output_type": "execute_result"
    }
   ],
   "source": [
    "imputer = Imputer(missing_values=0,strategy=\"mean\")\n",
    "imputer.fit(carSales_X_num)\n",
    "imputer.fit(carSales_test_X_num)"
   ]
  },
  {
   "cell_type": "code",
   "execution_count": 27,
   "metadata": {},
   "outputs": [
    {
     "name": "stdout",
     "output_type": "stream",
     "text": [
      "(5560, 3)\n"
     ]
    }
   ],
   "source": [
    "#Standardize the data using sklearn StandardScaler\n",
    "scaler = StandardScaler()\n",
    "train_X = scaler.fit_transform(carSales_X_num)\n",
    "test_X = scaler.transform(carSales_test_X_num)\n",
    "print(train_X.shape)"
   ]
  },
  {
   "cell_type": "markdown",
   "metadata": {
    "collapsed": true
   },
   "source": [
    "Now add the Categorical variables using one-hot represenation"
   ]
  },
  {
   "cell_type": "code",
   "execution_count": 28,
   "metadata": {},
   "outputs": [
    {
     "name": "stdout",
     "output_type": "stream",
     "text": [
      "(5560, 5)\n",
      "(5560, 4)\n",
      "(5560, 3)\n",
      "(5560, 18)\n",
      "(5560, 15)\n",
      "(5560, 33)\n"
     ]
    }
   ],
   "source": [
    "car_trans_type = carSales_X[\"Transmission Type\"]\n",
    "encoder = LabelBinarizer()\n",
    "car_trans_1hot = encoder.fit_transform(car_trans_type)\n",
    "print(car_trans_1hot.shape)\n",
    "\n",
    "train_X = np.concatenate((train_X,car_trans_1hot),axis=1)\n",
    "\n",
    "car_driven_wheels = carSales_X[\"Driven_Wheels\"]\n",
    "encoder = LabelBinarizer()\n",
    "car_drive_1hot = encoder.fit_transform(car_driven_wheels)\n",
    "print(car_drive_1hot.shape)\n",
    "\n",
    "train_X = np.concatenate((train_X,car_drive_1hot),axis=1)\n",
    "\n",
    "car_vehicle_size = carSales_X[\"Vehicle Size\"]\n",
    "encoder = LabelBinarizer()\n",
    "car_size_1hot = encoder.fit_transform(car_vehicle_size)\n",
    "print(car_size_1hot.shape)\n",
    "\n",
    "train_X = np.concatenate((train_X,car_size_1hot),axis=1)\n",
    "\n",
    "car_make = carSales_X[\"Make\"]\n",
    "encoder = LabelBinarizer()\n",
    "car_make_1hot = encoder.fit_transform(car_make)\n",
    "print(car_make_1hot.shape)\n",
    "\n",
    "train_X_make = np.concatenate((train_X,car_make_1hot),axis=1)\n",
    "print(train_X.shape)\n",
    "print(train_X_make.shape)\n"
   ]
  },
  {
   "cell_type": "code",
   "execution_count": 29,
   "metadata": {},
   "outputs": [
    {
     "name": "stdout",
     "output_type": "stream",
     "text": [
      "(1390, 5)\n",
      "(1390, 4)\n",
      "(1390, 3)\n",
      "(1390, 18)\n",
      "(1390, 15)\n",
      "(1390, 33)\n"
     ]
    }
   ],
   "source": [
    "car_trans_type_test = carSales_test_X[\"Transmission Type\"]\n",
    "encoder = LabelBinarizer()\n",
    "car_trans_1hot_test = encoder.fit_transform(car_trans_type_test)\n",
    "print(car_trans_1hot_test.shape)\n",
    "\n",
    "test_X = np.concatenate((test_X,car_trans_1hot_test),axis=1)\n",
    "\n",
    "car_driven_wheels_test = carSales_test_X[\"Driven_Wheels\"]\n",
    "encoder = LabelBinarizer()\n",
    "car_drive_1hot_test = encoder.fit_transform(car_driven_wheels_test)\n",
    "print(car_drive_1hot_test.shape)\n",
    "\n",
    "test_X = np.concatenate((test_X,car_drive_1hot_test),axis=1)\n",
    "\n",
    "car_vehicle_size_test = carSales_test_X[\"Vehicle Size\"]\n",
    "encoder = LabelBinarizer()\n",
    "car_size_1hot_test = encoder.fit_transform(car_vehicle_size_test)\n",
    "print(car_size_1hot_test.shape)\n",
    "\n",
    "test_X = np.concatenate((test_X,car_size_1hot_test),axis=1)\n",
    "\n",
    "car_make_test = carSales_test_X[\"Make\"]\n",
    "encoder = LabelBinarizer()\n",
    "car_make_1hot_test = encoder.fit_transform(car_make_test)\n",
    "print(car_make_1hot_test.shape)\n",
    "\n",
    "test_X_make = np.concatenate((test_X,car_make_1hot_test),axis=1)\n",
    "\n",
    "print(test_X.shape)\n",
    "print(test_X_make.shape)"
   ]
  },
  {
   "cell_type": "code",
   "execution_count": 30,
   "metadata": {},
   "outputs": [
    {
     "name": "stdout",
     "output_type": "stream",
     "text": [
      "Series([], dtype: bool)\n",
      "Series([], dtype: bool)\n",
      "Series([], dtype: bool)\n",
      "Series([], dtype: bool)\n"
     ]
    }
   ],
   "source": [
    "train_Y = pd.DataFrame(carSales_Y)\n",
    "m=train_Y.isnull().any()\n",
    "print(m[m])\n",
    "m=np.isfinite(train_Y.select_dtypes(include=['float64'])).any()\n",
    "print(m[m])\n",
    "\n",
    "test_Y = pd.DataFrame(carSales_test_Y)\n",
    "m=test_Y.isnull().any()\n",
    "print(m[m])\n",
    "m=np.isfinite(test_Y.select_dtypes(include=['float64'])).any()\n",
    "print(m[m])"
   ]
  },
  {
   "cell_type": "markdown",
   "metadata": {
    "collapsed": true
   },
   "source": [
    "We now take backup of the pre-processed data, so the modeling can be done instantaneously on the pre-processed data\n",
    "at any later point of time"
   ]
  },
  {
   "cell_type": "code",
   "execution_count": 31,
   "metadata": {
    "collapsed": true
   },
   "outputs": [],
   "source": [
    "train_X_ordinary='C:/users/hackuser1/Hackathon18/train_X_ord.pkl'\n",
    "test_X_ordinary='C:/users/hackuser1/Hackathon18/test_X_ord.pkl'\n",
    "train_Y_ordinary='C:/users/hackuser1/Hackathon18/train_Y_ord.pkl'\n",
    "test_Y_ordinary='C:/users/hackuser1/Hackathon18/test_Y_ord.pkl'\n",
    "\n",
    "with open(train_X_ordinary, \"wb\") as f:\n",
    "    w = pickle.dump(train_X,f)\n",
    "with open(test_X_ordinary, \"wb\") as f:\n",
    "    w = pickle.dump(test_X,f)\n",
    "with open(train_Y_ordinary, \"wb\") as f:\n",
    "    w = pickle.dump(train_Y,f)\n",
    "with open(test_Y_ordinary, \"wb\") as f:\n",
    "    w = pickle.dump(test_Y,f)\n",
    "    \n",
    "train_X_ord_make='C:/users/hackuser1/Hackathon18/train_X_ord_make.pkl'\n",
    "test_X_ord_make='C:/users/hackuser1/Hackathon18/test_X_ord_make.pkl'\n",
    "\n",
    "with open(train_X_ord_make, \"wb\") as f:\n",
    "    w = pickle.dump(train_X_make,f)\n",
    "with open(test_X_ord_make, \"wb\") as f:\n",
    "    w = pickle.dump(test_X_make,f)\n"
   ]
  }
 ],
 "metadata": {
  "kernelspec": {
   "display_name": "Python [conda env:Anaconda]",
   "language": "python",
   "name": "conda-env-Anaconda-py"
  },
  "language_info": {
   "codemirror_mode": {
    "name": "ipython",
    "version": 3
   },
   "file_extension": ".py",
   "mimetype": "text/x-python",
   "name": "python",
   "nbconvert_exporter": "python",
   "pygments_lexer": "ipython3",
   "version": "3.6.3"
  }
 },
 "nbformat": 4,
 "nbformat_minor": 2
}
