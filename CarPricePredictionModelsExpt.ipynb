{
 "cells": [
  {
   "cell_type": "markdown",
   "metadata": {
    "collapsed": true
   },
   "source": [
    "# This notebook is to explore various prediction models from the Used Car Price data \n",
    "at : https://www.kaggle.com/CooperUnion/cardataset\n",
    "Various Regression techniques are explored, with K-fold cross validation, grid search of parameters, including \n",
    "Deep Learning techniques and the best approach is selected based on Accuracy"
   ]
  },
  {
   "cell_type": "code",
   "execution_count": 1,
   "metadata": {},
   "outputs": [
    {
     "name": "stderr",
     "output_type": "stream",
     "text": [
      "Using TensorFlow backend.\n"
     ]
    }
   ],
   "source": [
    "#Import all necessary libraries\n",
    "import pickle\n",
    "import pandas as pd\n",
    "import pandas as pd\n",
    "import matplotlib.pyplot as plt\n",
    "from sklearn.model_selection import train_test_split\n",
    "import numpy as np\n",
    "from sklearn.model_selection import StratifiedShuffleSplit\n",
    "from sklearn.preprocessing import Imputer\n",
    "from sklearn.preprocessing import LabelEncoder\n",
    "from sklearn.preprocessing import OneHotEncoder\n",
    "from sklearn.preprocessing import LabelBinarizer\n",
    "from sklearn.base import BaseEstimator, TransformerMixin\n",
    "from sklearn.pipeline import Pipeline\n",
    "from sklearn.preprocessing import StandardScaler\n",
    "from sklearn.preprocessing import MinMaxScaler\n",
    "from sklearn.preprocessing import PolynomialFeatures\n",
    "from pandas.plotting import scatter_matrix\n",
    "\n",
    "from sklearn.linear_model import LinearRegression\n",
    "from sklearn.metrics import mean_squared_error\n",
    "from sklearn.linear_model import SGDRegressor\n",
    "from keras.models import Sequential\n",
    "from keras.layers import Dense   \n",
    "from keras import optimizers\n",
    "\n",
    "from sklearn.tree import DecisionTreeRegressor\n",
    "from sklearn.ensemble import RandomForestRegressor\n",
    "from sklearn.model_selection import cross_val_score\n",
    "from sklearn.ensemble import GradientBoostingRegressor\n",
    "from xgboost import XGBRegressor\n",
    "from sklearn.linear_model import Lasso\n",
    "from sklearn.linear_model import Ridge\n",
    "from sklearn.linear_model import ElasticNet\n",
    "from sklearn.model_selection import GridSearchCV\n",
    "from sklearn.model_selection import StratifiedKFold"
   ]
  },
  {
   "cell_type": "markdown",
   "metadata": {
    "collapsed": true
   },
   "source": [
    "Read the pre-processed pkl files"
   ]
  },
  {
   "cell_type": "code",
   "execution_count": 3,
   "metadata": {},
   "outputs": [
    {
     "name": "stdout",
     "output_type": "stream",
     "text": [
      "(5556, 50)\n",
      "(5556, 68)\n"
     ]
    }
   ],
   "source": [
    "train_X=pd.read_pickle('C:/users/hackuser1/Hackathon18/train_X_ord.pkl')\n",
    "test_X=pd.read_pickle('C:/users/hackuser1/Hackathon18/test_X_ord.pkl')\n",
    "train_Y=pd.read_pickle('C:/users/hackuser1/Hackathon18/train_Y_ord.pkl') # train Y with log(MSRP)\n",
    "test_Y=pd.read_pickle('C:/users/hackuser1/Hackathon18/test_Y_ord.pkl')\n",
    "train_Y_orig=pd.read_pickle('C:/users/hackuser1/Hackathon18/train_Y_ord_orig.pkl') # train Y with MSRP unmodified\n",
    "test_Y_orig=pd.read_pickle('C:/users/hackuser1/Hackathon18/test_Y_ord_orig.pkl')\n",
    "\n",
    "train_X_make=pd.read_pickle('C:/users/hackuser1/Hackathon18/train_X_ord_make.pkl')\n",
    "test_X_make=pd.read_pickle('C:/users/hackuser1/Hackathon18/test_X_ord_make.pkl')\n",
    "\n",
    "print(train_X.shape)\n",
    "print(train_X_make.shape)"
   ]
  },
  {
   "cell_type": "markdown",
   "metadata": {},
   "source": [
    "We fit Sklearn LinearRegression and use this to make predictions on the test data and check the RMSE\n",
    "Use train X data with make and without make, and Test Y as MSRP as well as Log MSRP and compare the RMSE values on test data"
   ]
  },
  {
   "cell_type": "code",
   "execution_count": 4,
   "metadata": {},
   "outputs": [
    {
     "data": {
      "text/plain": [
       "LinearRegression(copy_X=True, fit_intercept=True, n_jobs=1, normalize=False)"
      ]
     },
     "execution_count": 4,
     "metadata": {},
     "output_type": "execute_result"
    }
   ],
   "source": [
    "#fit train data without make info, and log MSRP\n",
    "lin_reg = LinearRegression()\n",
    "lin_reg.fit(train_X, train_Y)\n",
    "\n",
    "#fit train data without make and MSRP, as it\n",
    "lin_reg_1 = LinearRegression()\n",
    "lin_reg_1.fit(train_X, train_Y_orig)\n",
    "\n",
    "#fit train data with make and log MSRP\n",
    "lin_reg_make = LinearRegression()\n",
    "lin_reg_make.fit(train_X_make, train_Y)\n",
    "\n",
    "#fit train data with make and MSRP, as it\n",
    "lin_reg_make1 = LinearRegression()\n",
    "lin_reg_make1.fit(train_X_make, train_Y_orig)"
   ]
  },
  {
   "cell_type": "code",
   "execution_count": 5,
   "metadata": {},
   "outputs": [
    {
     "name": "stdout",
     "output_type": "stream",
     "text": [
      "rmse without make, log MSRP:8682.51038042\n",
      "rmse without make, MSRP, as is:28154.1680349\n",
      "rmse with make, log MSRP:8264.94537965\n",
      "rmse with make, MSRP, as is:28111.9382669\n"
     ]
    }
   ],
   "source": [
    "carSales_predictions = lin_reg.predict(test_X)\n",
    "lin_mse = mean_squared_error(np.exp(test_Y), np.exp(carSales_predictions))\n",
    "lin_rmse = np.sqrt(lin_mse)\n",
    "print(\"rmse without make, log MSRP:\"+str(lin_rmse))\n",
    "\n",
    "carSales_predictions = lin_reg_1.predict(test_X)\n",
    "lin_mse = mean_squared_error(test_Y, carSales_predictions)\n",
    "lin_rmse = np.sqrt(lin_mse)\n",
    "print(\"rmse without make, MSRP, as is:\"+str(lin_rmse))\n",
    "\n",
    "carSales_predictions = lin_reg_make.predict(test_X_make)\n",
    "lin_mse = mean_squared_error(np.exp(test_Y), np.exp(carSales_predictions))\n",
    "lin_rmse = np.sqrt(lin_mse)\n",
    "print(\"rmse with make, log MSRP:\"+str(lin_rmse))\n",
    "\n",
    "carSales_predictions = lin_reg_make1.predict(test_X_make)\n",
    "lin_mse = mean_squared_error(test_Y, carSales_predictions)\n",
    "lin_rmse = np.sqrt(lin_mse)\n",
    "print(\"rmse with make, MSRP, as is:\"+str(lin_rmse))"
   ]
  },
  {
   "cell_type": "markdown",
   "metadata": {
    "collapsed": true
   },
   "source": [
    "We observe the data with make and log MSRP gives best results. We use this data to fit subsequent algorithms.\n",
    "Next we use SGDRegressor from scikit learn and compare the RMSE"
   ]
  },
  {
   "cell_type": "code",
   "execution_count": 6,
   "metadata": {},
   "outputs": [
    {
     "data": {
      "text/plain": [
       "SGDRegressor(alpha=0.0001, average=False, epsilon=0.1, eta0=0.01,\n",
       "       fit_intercept=True, l1_ratio=0.15, learning_rate='invscaling',\n",
       "       loss='squared_loss', max_iter=500, n_iter=None, penalty=None,\n",
       "       power_t=0.25, random_state=None, shuffle=True, tol=None, verbose=0,\n",
       "       warm_start=False)"
      ]
     },
     "execution_count": 6,
     "metadata": {},
     "output_type": "execute_result"
    }
   ],
   "source": [
    "sgd_reg_make = SGDRegressor(max_iter=500,penalty=None,eta0=0.01)\n",
    "sgd_reg_make.fit(train_X_make, train_Y.values.ravel())"
   ]
  },
  {
   "cell_type": "code",
   "execution_count": 7,
   "metadata": {},
   "outputs": [
    {
     "name": "stdout",
     "output_type": "stream",
     "text": [
      "SGD RMSE:8431.27891031\n",
      "predicted prices\n",
      "[ 10371.00490086  24001.28137027  12242.73134155   4099.57650418\n",
      "  26316.7917553 ]\n",
      "actual prices\n",
      "         0\n",
      "0  23086.0\n",
      "1  25581.0\n",
      "2  19396.0\n",
      "3   2001.0\n",
      "4  24786.0\n"
     ]
    }
   ],
   "source": [
    "carSales_predictions_make = sgd_reg_make.predict(test_X_make)\n",
    "sgd_mse = mean_squared_error(np.exp(test_Y), np.exp(carSales_predictions_make))\n",
    "sgd_rmse = np.sqrt(sgd_mse)\n",
    "print(\"SGD RMSE:\"+str(sgd_rmse))\n",
    "print(\"predicted prices\")\n",
    "print(np.exp(carSales_predictions_make[0:5]))\n",
    "print(\"actual prices\")\n",
    "print(np.exp(test_Y[0:5]))"
   ]
  },
  {
   "cell_type": "code",
   "execution_count": 9,
   "metadata": {},
   "outputs": [
    {
     "data": {
      "text/plain": [
       "DecisionTreeRegressor(criterion='mse', max_depth=None, max_features=None,\n",
       "           max_leaf_nodes=None, min_impurity_decrease=0.0,\n",
       "           min_impurity_split=None, min_samples_leaf=1,\n",
       "           min_samples_split=2, min_weight_fraction_leaf=0.0,\n",
       "           presort=False, random_state=None, splitter='best')"
      ]
     },
     "execution_count": 9,
     "metadata": {},
     "output_type": "execute_result"
    }
   ],
   "source": [
    "tree_reg = DecisionTreeRegressor()\n",
    "tree_reg.fit(train_X,train_Y)\n",
    "\n",
    "tree_reg_make = DecisionTreeRegressor()\n",
    "tree_reg_make.fit(train_X_make,train_Y)"
   ]
  },
  {
   "cell_type": "code",
   "execution_count": 10,
   "metadata": {},
   "outputs": [
    {
     "name": "stdout",
     "output_type": "stream",
     "text": [
      "Decision Tree RMSE, without make:3226.04648531\n",
      "predicted prices\n",
      "[ 21908.36292378  22206.          21696.           2001.          27786.        ]\n",
      "actual prices\n",
      "         0\n",
      "0  23086.0\n",
      "1  25581.0\n",
      "2  19396.0\n",
      "3   2001.0\n",
      "4  24786.0\n"
     ]
    }
   ],
   "source": [
    "carSales_predictions = tree_reg.predict(test_X)\n",
    "tree_mse = mean_squared_error(np.exp(test_Y), np.exp(carSales_predictions))\n",
    "tree_rmse = np.sqrt(tree_mse)\n",
    "print(\"Decision Tree RMSE, without make:\"+str(tree_rmse))\n",
    "print(\"predicted prices\")\n",
    "print(np.exp(carSales_predictions[0:5]))\n",
    "print(\"actual prices\")\n",
    "print(np.exp(test_Y[0:5]))"
   ]
  },
  {
   "cell_type": "code",
   "execution_count": 12,
   "metadata": {},
   "outputs": [
    {
     "name": "stdout",
     "output_type": "stream",
     "text": [
      "Decision Tree RMSE, with make:3306.46053247\n",
      "predicted prices\n",
      "[ 21986.  22206.  21696.   2001.  27786.]\n",
      "actual prices\n",
      "         0\n",
      "0  23086.0\n",
      "1  25581.0\n",
      "2  19396.0\n",
      "3   2001.0\n",
      "4  24786.0\n"
     ]
    }
   ],
   "source": [
    "carSales_predictions_make = tree_reg_make.predict(test_X_make)\n",
    "tree_mse = mean_squared_error(np.exp(test_Y), np.exp(carSales_predictions_make))\n",
    "tree_rmse = np.sqrt(tree_mse)\n",
    "print(\"Decision Tree RMSE, with make:\"+str(tree_rmse))\n",
    "print(\"predicted prices\")\n",
    "print(np.exp(carSales_predictions_make[0:5]))\n",
    "print(\"actual prices\")\n",
    "print(np.exp(test_Y[0:5]))"
   ]
  },
  {
   "cell_type": "markdown",
   "metadata": {},
   "source": [
    "We find Decision tree without make data included reduces the RMSE and is the best so far. We \n",
    "validate this using K-fold Cross validation with k set to 10"
   ]
  },
  {
   "cell_type": "code",
   "execution_count": 13,
   "metadata": {},
   "outputs": [
    {
     "name": "stdout",
     "output_type": "stream",
     "text": [
      "scores: [ 0.11083209  0.11231012  0.10701108  0.11265773  0.1051632   0.11883144\n",
      "  0.11107944  0.10983457  0.10684469  0.10395923]\n",
      "mean: 0.109852359536\n",
      "std dev: 0.00413323795067\n"
     ]
    }
   ],
   "source": [
    "scores = cross_val_score(tree_reg,train_X,train_Y,scoring=\"neg_mean_squared_error\",cv=10)\n",
    "tree_rmse_scores = np.sqrt(-scores)\n",
    "\n",
    "print(\"scores:\",tree_rmse_scores)\n",
    "print(\"mean:\",tree_rmse_scores.mean())\n",
    "print(\"std dev:\",tree_rmse_scores.std())"
   ]
  },
  {
   "cell_type": "markdown",
   "metadata": {},
   "source": [
    "This shows there is a good fit, and there is very less variation between the folds and the data is dependable.\n",
    "We now try RandomForestRegressor, with default parameters"
   ]
  },
  {
   "cell_type": "code",
   "execution_count": 14,
   "metadata": {},
   "outputs": [
    {
     "data": {
      "text/plain": [
       "RandomForestRegressor(bootstrap=True, criterion='mse', max_depth=None,\n",
       "           max_features='auto', max_leaf_nodes=None,\n",
       "           min_impurity_decrease=0.0, min_impurity_split=None,\n",
       "           min_samples_leaf=1, min_samples_split=2,\n",
       "           min_weight_fraction_leaf=0.0, n_estimators=10, n_jobs=1,\n",
       "           oob_score=False, random_state=None, verbose=0, warm_start=False)"
      ]
     },
     "execution_count": 14,
     "metadata": {},
     "output_type": "execute_result"
    }
   ],
   "source": [
    "forest_reg_make = RandomForestRegressor()\n",
    "forest_reg_make.fit(train_X_make,train_Y.values.ravel())"
   ]
  },
  {
   "cell_type": "code",
   "execution_count": 15,
   "metadata": {},
   "outputs": [
    {
     "name": "stdout",
     "output_type": "stream",
     "text": [
      "Random Forest Regressor RMSE, with make:3007.89473227\n",
      "predicted prices\n",
      "[ 21986.  22206.  21696.   2001.  27786.]\n",
      "actual prices\n",
      "         0\n",
      "0  23086.0\n",
      "1  25581.0\n",
      "2  19396.0\n",
      "3   2001.0\n",
      "4  24786.0\n"
     ]
    }
   ],
   "source": [
    "carSales_predictions = forest_reg_make.predict(test_X_make)\n",
    "forest_mse = mean_squared_error(np.exp(test_Y), np.exp(carSales_predictions))\n",
    "forest_rmse = np.sqrt(forest_mse)\n",
    "print(\"Random Forest Regressor RMSE, with make:\"+str(forest_rmse))\n",
    "print(\"predicted prices\")\n",
    "print(np.exp(carSales_predictions_make[0:5]))\n",
    "print(\"actual prices\")\n",
    "print(np.exp(test_Y[0:5]))"
   ]
  },
  {
   "cell_type": "markdown",
   "metadata": {},
   "source": [
    "This is clearly a better fit compared to DecisionTree, and we validate this with k-fold CV"
   ]
  },
  {
   "cell_type": "code",
   "execution_count": 16,
   "metadata": {},
   "outputs": [
    {
     "name": "stdout",
     "output_type": "stream",
     "text": [
      "scores: [ 0.1003288   0.10236403  0.0970677   0.10109563  0.09460684  0.10117497\n",
      "  0.1001396   0.10114034  0.10542622  0.0945154 ]\n",
      "mean: 0.099785953653\n",
      "std dev: 0.00326111465624\n"
     ]
    }
   ],
   "source": [
    "forest_scores = cross_val_score(forest_reg_make,train_X_make,train_Y.values.ravel(),scoring=\"neg_mean_squared_error\",cv=10)\n",
    "forest_rmse_scores = np.sqrt(-forest_scores)\n",
    "\n",
    "print(\"scores:\",forest_rmse_scores)\n",
    "print(\"mean:\",forest_rmse_scores.mean())\n",
    "print(\"std dev:\",forest_rmse_scores.std())"
   ]
  },
  {
   "cell_type": "markdown",
   "metadata": {},
   "source": [
    "We now use GridSearch to find the optimum parameters for RandomForestRegression"
   ]
  },
  {
   "cell_type": "code",
   "execution_count": 17,
   "metadata": {},
   "outputs": [
    {
     "name": "stdout",
     "output_type": "stream",
     "text": [
      "BEST PARAMETERS FOR RANDOM FOREST REGRESSOR IS:\n"
     ]
    },
    {
     "data": {
      "text/plain": [
       "{'max_features': 8, 'n_estimators': 30}"
      ]
     },
     "execution_count": 17,
     "metadata": {},
     "output_type": "execute_result"
    }
   ],
   "source": [
    "param_grid = [\n",
    "    # try 12 (3×4) combinations of hyperparameters\n",
    "    {'n_estimators': [3, 10, 30], 'max_features': [2, 4, 6, 8]},\n",
    "    # then try 6 (2×3) combinations with bootstrap set as False\n",
    "    {'bootstrap': [False], 'n_estimators': [3, 10], 'max_features': [2, 3, 4]},\n",
    "  ]\n",
    "\n",
    "forest_reg = RandomForestRegressor(random_state=42)\n",
    "# train across 5 folds, that's a total of (12+6)*5=90 rounds of training \n",
    "grid_search = GridSearchCV(forest_reg, param_grid, cv=5,\n",
    "                           scoring='neg_mean_squared_error', return_train_score=True)\n",
    "grid_search.fit(train_X_make, train_Y.values.ravel())\n",
    "print(\"BEST PARAMETERS FOR RANDOM FOREST REGRESSOR IS:\")\n",
    "grid_search.best_params_"
   ]
  },
  {
   "cell_type": "code",
   "execution_count": 18,
   "metadata": {},
   "outputs": [
    {
     "data": {
      "text/plain": [
       "RandomForestRegressor(bootstrap=True, criterion='mse', max_depth=None,\n",
       "           max_features=8, max_leaf_nodes=None, min_impurity_decrease=0.0,\n",
       "           min_impurity_split=None, min_samples_leaf=1,\n",
       "           min_samples_split=2, min_weight_fraction_leaf=0.0,\n",
       "           n_estimators=30, n_jobs=1, oob_score=False, random_state=None,\n",
       "           verbose=0, warm_start=False)"
      ]
     },
     "execution_count": 18,
     "metadata": {},
     "output_type": "execute_result"
    }
   ],
   "source": [
    "#Fit using best parameters and check\n",
    "forest_reg_make = RandomForestRegressor(max_features=8,n_estimators=30)\n",
    "forest_reg_make.fit(train_X_make,train_Y.values.ravel())"
   ]
  },
  {
   "cell_type": "code",
   "execution_count": 19,
   "metadata": {},
   "outputs": [
    {
     "name": "stdout",
     "output_type": "stream",
     "text": [
      "Random Forest Regressor RMSE, with make:3005.64852571\n",
      "predicted prices\n",
      "[ 21986.  22206.  21696.   2001.  27786.]\n",
      "actual prices\n",
      "         0\n",
      "0  23086.0\n",
      "1  25581.0\n",
      "2  19396.0\n",
      "3   2001.0\n",
      "4  24786.0\n"
     ]
    }
   ],
   "source": [
    "carSales_predictions = forest_reg_make.predict(test_X_make)\n",
    "forest_mse = mean_squared_error(np.exp(test_Y), np.exp(carSales_predictions))\n",
    "forest_rmse = np.sqrt(forest_mse)\n",
    "print(\"Random Forest Regressor RMSE, with make:\"+str(forest_rmse))\n",
    "print(\"predicted prices\")\n",
    "print(np.exp(carSales_predictions_make[0:5]))\n",
    "print(\"actual prices\")\n",
    "print(np.exp(test_Y[0:5]))"
   ]
  },
  {
   "cell_type": "markdown",
   "metadata": {},
   "source": [
    "The observation is : Default parameters gives better results.\n",
    "We now find the feature importances from the GridSearch."
   ]
  },
  {
   "cell_type": "code",
   "execution_count": 20,
   "metadata": {},
   "outputs": [
    {
     "name": "stdout",
     "output_type": "stream",
     "text": [
      "[(0.46593890501651097, 'Age'), (0.098148170566372483, 'Engine HP fourth'), (0.076299195994136634, 'Engine HP'), (0.066089702307533596, 'Engine HP sq'), (0.051723005625070255, 'Engine HP cu'), (0.042397648482941017, 'City MPG'), (0.023080738500653907, 'MANUAL'), (0.02195848453347125, 'regular unleaded'), (0.020503807206899895, 'AUTOMATIC'), (0.011149896053947918, 'Large'), (0.0088207727040695572, '6.'), (0.007980354616572382, 'Oldsmobile'), (0.007826412105500594, '8.'), (0.0062016341619253231, '4.'), (0.0054618636416263137, '4dr SUV'), (0.0053992348662030721, '2dr SUV'), (0.0052884967869151235, 'Dodge'), (0.0050466499734050123, 'Compact'), (0.004667643753539316, 'premium unleaded (recommended)'), (0.0046389378930114982, 'Plymouth'), (0.0046297715044291794, 'Regular Cab Pickup'), (0.0043293444091571801, 'Midsize'), (0.0035086750525238669, 'Volkswagen'), (0.0033545422880503139, 'front wheel drive'), (0.0026529154557274962, 'Cargo Van'), (0.0024780008382449328, 'Crew Cab Pickup'), (0.0024543705378943185, 'Extended Cab Pickup'), (0.0023874945383657495, 'Chevrolet'), (0.0023228972103178556, 'Sedan'), (0.0021375591717644202, 'Coupe'), (0.0020992318700661975, 'Ford'), (0.0018119403848480045, 'Nissan'), (0.0017257075130051184, 'Passenger Minivan'), (0.0017181551313754883, 'all wheel drive'), (0.0016620563548926126, '4dr Hatchback'), (0.0016596534022751701, 'four wheel drive'), (0.0016515218094791369, 'premium unleaded (required)'), (0.0015939965759999221, 'rear wheel drive'), (0.0014657423770425941, '2dr Hatchback'), (0.0013662273274579141, 'Suzuki'), (0.0012503459615613689, 'Convertible'), (0.0012485957636390774, 'flex-fuel (unleaded/E85)'), (0.0011136390685899109, 'Mazda'), (0.00095988570777368195, 'Pontiac'), (0.00089887048355191635, '10.'), (0.00086628096619850009, 'Mitsubishi'), (0.00085078436889283484, 'Passenger Van'), (0.00084358081524058188, 'Chrysler'), (0.00076963021796586204, 'Wagon'), (0.00071468897572865542, 'FIAT'), (0.00060820915917082915, 'Honda'), (0.00051525362065816789, 'AUTOMATED_MANUAL'), (0.00049190926886432892, 'UNKNOWN'), (0.00042652268490076477, 'DIRECT_DRIVE'), (0.00039146233492913491, 'Subaru'), (0.00035053860770175086, 'diesel'), (0.00034892606079634685, 'flex-fuel (unleaded/natural gas)'), (0.00033488527740295113, '0.'), (0.00026954674182451751, 'Kia'), (0.00023495662187523626, ' 3.'), (0.00022620227371333946, 'electric'), (0.0001758573074035435, 'Hyundai'), (0.00015916143379725772, 'Cargo Minivan'), (9.7964946145945485e-05, 'Scion'), (8.076551671833334e-05, '5.'), (7.0638944753739118e-05, '12.'), (5.5671679699522742e-05, 'natural gas'), (1.3866647278335222e-05, 'Convertible SUV')]\n"
     ]
    }
   ],
   "source": [
    "feature_importances = grid_search.best_estimator_.feature_importances_\n",
    "num_attribs = [\"Engine HP\",\"Age\",\"City MPG\",\"Engine HP sq\",\"Engine HP cu\",\"Engine HP fourth\"]\n",
    "categorical_attribs = [  '0.' , ' 3.',   '4.' ,  '5.' ,  '6.',   '8.' , '10.', '12.'] + ['diesel', 'electric' ,'flex-fuel (unleaded/E85)',\n",
    " 'flex-fuel (unleaded/natural gas)' ,'natural gas', 'premium unleaded (recommended)', 'premium unleaded (required)',\n",
    " 'regular unleaded'] + ['AUTOMATED_MANUAL' ,'AUTOMATIC' ,'DIRECT_DRIVE' ,'MANUAL', 'UNKNOWN'] + ['all wheel drive','four wheel drive', 'front wheel drive', 'rear wheel drive'] + ['Compact' ,'Large', 'Midsize']+['2dr Hatchback', '2dr SUV' ,'4dr Hatchback', '4dr SUV', 'Cargo Minivan',\n",
    " 'Cargo Van', 'Convertible', 'Convertible SUV' ,'Coupe', 'Crew Cab Pickup','Extended Cab Pickup' ,'Passenger Minivan' ,'Passenger Van','Regular Cab Pickup', 'Sedan' ,'Wagon']+['Chevrolet', 'Chrysler', 'Dodge', 'FIAT' ,'Ford', 'Honda', 'Hyundai', 'Kia', 'Mazda' ,'Mitsubishi' ,'Nissan', 'Oldsmobile', 'Plymouth', 'Pontiac' ,'Scion', 'Subaru','Suzuki', 'Volkswagen']\n",
    "attributes = num_attribs+categorical_attribs\n",
    "print(sorted(zip(feature_importances, attributes), reverse=True))"
   ]
  },
  {
   "cell_type": "markdown",
   "metadata": {},
   "source": [
    "This shows the best predictors are City Mile per gallon, Engine HP, Transmission, Age of car, Fuel Type, Size, MAke, Style. We do retain all parameters in the prediction."
   ]
  },
  {
   "cell_type": "code",
   "execution_count": 21,
   "metadata": {},
   "outputs": [
    {
     "name": "stdout",
     "output_type": "stream",
     "text": [
      "Random Forest Regressor Final RMSE:2984.82103773\n",
      "predicted prices\n",
      "[ 21986.  22206.  21696.   2001.  27786.]\n",
      "actual prices\n",
      "         0\n",
      "0  23086.0\n",
      "1  25581.0\n",
      "2  19396.0\n",
      "3   2001.0\n",
      "4  24786.0\n",
      "scores: [ 0.11881722  0.10272097  0.10559327  0.11410089  0.11348399  0.11406455\n",
      "  0.11516546  0.11720303  0.10634292  0.1069175 ]\n",
      "mean: 0.111440979849\n",
      "std dev: 0.00525642924658\n",
      "scores: [ 0.18577213  0.14216497  0.13720441  0.1733354   0.18457533  0.2279094\n",
      "  0.1822802   0.14768085  0.17221401  0.15775179]\n",
      "mean: 0.171088849229\n",
      "std dev: 0.0254326093686\n"
     ]
    }
   ],
   "source": [
    "final_model = grid_search.best_estimator_\n",
    "final_predictions = final_model.predict(test_X_make)\n",
    "final_mse = mean_squared_error(np.exp(test_Y), np.exp(final_predictions))\n",
    "final_rmse = np.sqrt(final_mse)\n",
    "print(\"Random Forest Regressor Final RMSE:\"+str(final_rmse))\n",
    "print(\"predicted prices\")\n",
    "print(np.exp(carSales_predictions_make[0:5]))\n",
    "print(\"actual prices\")\n",
    "print(np.exp(test_Y[0:5]))\n",
    "\n",
    "final_model_scores = cross_val_score(final_model,train_X_make,train_Y.values.ravel(),scoring=\"neg_mean_squared_error\",cv=10)\n",
    "final_model_scores = np.sqrt(-final_model_scores)\n",
    "\n",
    "print(\"scores:\",final_model_scores)\n",
    "print(\"mean:\",final_model_scores.mean())\n",
    "print(\"std dev:\",final_model_scores.std())\n",
    "\n",
    "final_model_scores = cross_val_score(final_model,test_X_make,test_Y.values.ravel(),scoring=\"neg_mean_squared_error\",cv=10)\n",
    "final_model_scores = np.sqrt(-final_model_scores)\n",
    "\n",
    "print(\"scores:\",final_model_scores)\n",
    "print(\"mean:\",final_model_scores.mean())\n",
    "print(\"std dev:\",final_model_scores.std())"
   ]
  },
  {
   "cell_type": "markdown",
   "metadata": {},
   "source": [
    "We find the model is fitting quite well, with similar RMSE values in train and test data set. We plot the learning curves for the best model and see the learning curve, by plotting the rmse vs size of training set"
   ]
  },
  {
   "cell_type": "code",
   "execution_count": 30,
   "metadata": {},
   "outputs": [
    {
     "data": {
      "image/png": "[encoded data removed]",
      "text/plain": [
       "<matplotlib.figure.Figure at 0x1f988d7a898>"
      ]
     },
     "metadata": {},
     "output_type": "display_data"
    }
   ],
   "source": [
    "def plot_learning_curves(model, X, y):\n",
    "    \n",
    "    train_errors, val_errors = [], []\n",
    "    for m in range(1, len(X)):\n",
    "        model.fit(X[:m], y[:m].values.ravel())\n",
    "        y_train_predict = model.predict(X[:m])\n",
    "        y_val_predict = model.predict(test_X_make)\n",
    "        train_errors.append(mean_squared_error(y[:m], y_train_predict))\n",
    "        val_errors.append(mean_squared_error(test_Y, y_val_predict))\n",
    "\n",
    "    plt.plot(np.sqrt(train_errors), \"r-+\", linewidth=2, label=\"train\")\n",
    "    plt.plot(np.sqrt(val_errors), \"b-\", linewidth=3, label=\"val\")\n",
    "    plt.legend(loc=\"upper right\", fontsize=14)   \n",
    "    plt.xlabel(\"Training set size\", fontsize=14) \n",
    "    plt.ylabel(\"RMSE\", fontsize=14)   \n",
    "\n",
    "plot_learning_curves(final_model, train_X_make, train_Y)\n",
    "plt.show()"
   ]
  },
  {
   "cell_type": "code",
   "execution_count": 22,
   "metadata": {},
   "outputs": [
    {
     "name": "stdout",
     "output_type": "stream",
     "text": [
      "Elastic Net RMSE:8759.33892732\n"
     ]
    }
   ],
   "source": [
    "#We try ElasticNet\n",
    "from sklearn.linear_model import ElasticNet\n",
    "elastic_net = ElasticNet(alpha=0.1, l1_ratio=0.5, random_state=42)\n",
    "elastic_net.fit(train_X_make, train_Y)\n",
    "carSales_predictions = elastic_net.predict(test_X_make)\n",
    "elastic_mse = mean_squared_error(np.exp(test_Y), np.exp(carSales_predictions))\n",
    "elastic_rmse = np.sqrt(elastic_mse)\n",
    "print(\"Elastic Net RMSE:\"+str(elastic_rmse))"
   ]
  },
  {
   "cell_type": "code",
   "execution_count": 23,
   "metadata": {},
   "outputs": [
    {
     "name": "stdout",
     "output_type": "stream",
     "text": [
      "Ridge RMSE:8219.89519774\n"
     ]
    }
   ],
   "source": [
    "#We try Ridge Regression\n",
    "from sklearn.linear_model import Ridge\n",
    "ridge_reg = Ridge(alpha=1, solver=\"cholesky\", random_state=42)\n",
    "ridge_reg.fit(train_X_make, train_Y)\n",
    "carSales_predictions = ridge_reg.predict(test_X_make)\n",
    "ridge_mse = mean_squared_error(np.exp(test_Y), np.exp(carSales_predictions))\n",
    "ridge_rmse = np.sqrt(ridge_mse)\n",
    "print(\"Ridge RMSE:\"+str(ridge_rmse))"
   ]
  },
  {
   "cell_type": "code",
   "execution_count": 24,
   "metadata": {},
   "outputs": [
    {
     "name": "stdout",
     "output_type": "stream",
     "text": [
      "Lasso RMSE:8817.30365561\n"
     ]
    }
   ],
   "source": [
    "#We try Lasso Regression\n",
    "from sklearn.linear_model import Lasso\n",
    "lasso_reg = Lasso(alpha=0.1)\n",
    "lasso_reg.fit(train_X_make, train_Y)\n",
    "carSales_predictions = lasso_reg.predict(test_X_make)\n",
    "lasso_mse = mean_squared_error(np.exp(test_Y), np.exp(carSales_predictions))\n",
    "lasso_rmse = np.sqrt(lasso_mse)\n",
    "print(\"Lasso RMSE:\"+str(lasso_rmse))"
   ]
  },
  {
   "cell_type": "markdown",
   "metadata": {},
   "source": [
    "We find these give worse results. \n",
    "We use GradientBoostingRegressor from sklearn finally"
   ]
  },
  {
   "cell_type": "code",
   "execution_count": 25,
   "metadata": {},
   "outputs": [
    {
     "name": "stdout",
     "output_type": "stream",
     "text": [
      "Gradient Boosting Regressor RMSE:3246.28768199\n"
     ]
    }
   ],
   "source": [
    "gbrt = GradientBoostingRegressor(max_depth=8, n_estimators=3, learning_rate=1.0, random_state=42)\n",
    "gbrt.fit(train_X_make, train_Y.values.ravel())\n",
    "carSales_predictions = gbrt.predict(test_X_make)\n",
    "gbrt_mse = mean_squared_error(np.exp(test_Y), np.exp(carSales_predictions))\n",
    "gbrt_rmse = np.sqrt(gbrt_mse)\n",
    "print(\"Gradient Boosting Regressor RMSE:\"+str(gbrt_rmse))"
   ]
  },
  {
   "cell_type": "code",
   "execution_count": 26,
   "metadata": {},
   "outputs": [
    {
     "name": "stdout",
     "output_type": "stream",
     "text": [
      "Gradient Boosting Regressor SLOW RMSE:3135.18562065\n"
     ]
    }
   ],
   "source": [
    "gbrt_slow = GradientBoostingRegressor(max_depth=30, n_estimators=200, learning_rate=0.1, random_state=42)\n",
    "gbrt_slow.fit(train_X_make, train_Y.values.ravel())\n",
    "carSales_predictions = gbrt_slow.predict(test_X_make)\n",
    "gbrt_slow_mse = mean_squared_error(np.exp(test_Y), np.exp(carSales_predictions))\n",
    "gbrt_slow_rmse = np.sqrt(gbrt_slow_mse)\n",
    "print(\"Gradient Boosting Regressor SLOW RMSE:\"+str(gbrt_slow_rmse))"
   ]
  },
  {
   "cell_type": "code",
   "execution_count": 29,
   "metadata": {},
   "outputs": [
    {
     "name": "stdout",
     "output_type": "stream",
     "text": [
      "BEST PARAMETERS FOR GRADIENT BOOSTING REGRESSOR IS:\n"
     ]
    },
    {
     "data": {
      "text/plain": [
       "{'max_depth': 20, 'n_estimators': 100}"
      ]
     },
     "execution_count": 29,
     "metadata": {},
     "output_type": "execute_result"
    }
   ],
   "source": [
    "param_grid = [\n",
    "    # try 2 (2×2) combinations of hyperparameters\n",
    "    {'n_estimators': [100,200], 'max_depth': [20, 30]},\n",
    "    # then try 6 (2×3) combinations with bootstrap set as False\n",
    "    #{'bootstrap': [False], 'n_estimators': [100,200], 'max_depth': [20, 30, 40]},\n",
    "  ]\n",
    "\n",
    "gbrt_reg = GradientBoostingRegressor(random_state=42, learning_rate=0.1)\n",
    "# train across 5 folds, that's a total of (4)*5=20 rounds of training \n",
    "grid_search_gbrt = GridSearchCV(gbrt_reg, param_grid, cv=5,\n",
    "                           scoring='neg_mean_squared_error', return_train_score=True)\n",
    "grid_search_gbrt.fit(train_X_make, train_Y.values.ravel())\n",
    "print(\"BEST PARAMETERS FOR GRADIENT BOOSTING REGRESSOR IS:\")\n",
    "grid_search_gbrt.best_params_"
   ]
  },
  {
   "cell_type": "code",
   "execution_count": 30,
   "metadata": {},
   "outputs": [
    {
     "name": "stdout",
     "output_type": "stream",
     "text": [
      "Gradient Boosting Regressor BEST RMSE:3100.46980326\n"
     ]
    }
   ],
   "source": [
    "gbrt_slow = GradientBoostingRegressor(max_depth=20, n_estimators=100, learning_rate=0.1, random_state=42)\n",
    "gbrt_slow.fit(train_X_make, train_Y.values.ravel())\n",
    "carSales_predictions = gbrt_slow.predict(test_X_make)\n",
    "gbrt_slow_mse = mean_squared_error(np.exp(test_Y), np.exp(carSales_predictions))\n",
    "gbrt_slow_rmse = np.sqrt(gbrt_slow_mse)\n",
    "print(\"Gradient Boosting Regressor BEST RMSE:\"+str(gbrt_slow_rmse))"
   ]
  },
  {
   "cell_type": "markdown",
   "metadata": {},
   "source": [
    "This shows the best fit is given by RandomForestRegressor."
   ]
  },
  {
   "cell_type": "markdown",
   "metadata": {},
   "source": [
    "We now try Deep Learning technique and compare the RMSE. We use keras with tensorflow backend and then repeat the same expt with cntk backend."
   ]
  },
  {
   "cell_type": "code",
   "execution_count": 31,
   "metadata": {},
   "outputs": [
    {
     "name": "stdout",
     "output_type": "stream",
     "text": [
      "_________________________________________________________________\n",
      "Layer (type)                 Output Shape              Param #   \n",
      "=================================================================\n",
      "dense_1 (Dense)              (None, 50)                3450      \n",
      "_________________________________________________________________\n",
      "dense_2 (Dense)              (None, 30)                1530      \n",
      "_________________________________________________________________\n",
      "dense_3 (Dense)              (None, 1)                 31        \n",
      "=================================================================\n",
      "Total params: 5,011\n",
      "Trainable params: 5,011\n",
      "Non-trainable params: 0\n",
      "_________________________________________________________________\n"
     ]
    }
   ],
   "source": [
    "model = Sequential()\n",
    "\n",
    "#We use two hidden layers with 50 and 30 units with Relu activation, and no activation in the output layer, since \n",
    "#we want to predict the car price.\n",
    "model.add(Dense(50,input_dim=(train_X_make.shape[1]),activation='relu'))\n",
    "model.add(Dense(30,activation='relu'))\n",
    "model.add(Dense(1))\n",
    "model.summary()"
   ]
  },
  {
   "cell_type": "code",
   "execution_count": 32,
   "metadata": {
    "collapsed": true
   },
   "outputs": [],
   "source": [
    "myOptimizer = optimizers.Adam(lr=0.01, beta_1=0.9, beta_2=0.999, epsilon=0.01, decay=0.0)\n",
    "model.compile(loss='mean_squared_error', optimizer=myOptimizer, metrics=['mse'])\n",
    "history = model.fit(train_X_make, train_Y, epochs=200,  validation_data=(test_X_make,test_Y), batch_size=5, verbose=0)"
   ]
  },
  {
   "cell_type": "code",
   "execution_count": 33,
   "metadata": {},
   "outputs": [
    {
     "data": {
      "image/png": "[encoded data removed]",
      "text/plain": [
       "<matplotlib.figure.Figure at 0x1edb3bd38d0>"
      ]
     },
     "metadata": {},
     "output_type": "display_data"
    }
   ],
   "source": [
    "plt.plot(history.history['loss'], color = 'blue')\n",
    "plt.plot(history.history['val_loss'], color=  'red')\n",
    "plt.title('model loss')\n",
    "plt.ylabel('loss')\n",
    "plt.xlabel('epoch')\n",
    "plt.legend(['train', 'test'], loc='upper left')\n",
    "plt.show()"
   ]
  },
  {
   "cell_type": "code",
   "execution_count": 34,
   "metadata": {},
   "outputs": [
    {
     "name": "stdout",
     "output_type": "stream",
     "text": [
      "Deep Learing RMSE with two hidden layers:3095.1247291\n"
     ]
    }
   ],
   "source": [
    "carSales_predictions = model.predict(test_X_make)\n",
    "dl_mse = mean_squared_error(np.exp(test_Y), np.exp(carSales_predictions))\n",
    "dl_rmse = np.sqrt(dl_mse)\n",
    "print(\"Deep Learing RMSE with two hidden layers:\"+str(dl_rmse))"
   ]
  },
  {
   "cell_type": "markdown",
   "metadata": {},
   "source": [
    "We try 3 hidden layers and attempt to fit the problem better"
   ]
  },
  {
   "cell_type": "code",
   "execution_count": 35,
   "metadata": {},
   "outputs": [
    {
     "name": "stdout",
     "output_type": "stream",
     "text": [
      "_________________________________________________________________\n",
      "Layer (type)                 Output Shape              Param #   \n",
      "=================================================================\n",
      "dense_4 (Dense)              (None, 50)                3450      \n",
      "_________________________________________________________________\n",
      "dense_5 (Dense)              (None, 20)                1020      \n",
      "_________________________________________________________________\n",
      "dense_6 (Dense)              (None, 10)                210       \n",
      "_________________________________________________________________\n",
      "dense_7 (Dense)              (None, 1)                 11        \n",
      "=================================================================\n",
      "Total params: 4,691\n",
      "Trainable params: 4,691\n",
      "Non-trainable params: 0\n",
      "_________________________________________________________________\n"
     ]
    }
   ],
   "source": [
    "model = Sequential()\n",
    "model.add(Dense(50,input_dim=(train_X_make.shape[1]),activation='relu'))\n",
    "model.add(Dense(20,activation='relu'))\n",
    "model.add(Dense(10,activation='relu'))\n",
    "model.add(Dense(1))\n",
    "model.summary()"
   ]
  },
  {
   "cell_type": "code",
   "execution_count": 36,
   "metadata": {
    "collapsed": true
   },
   "outputs": [],
   "source": [
    "myOptimizer = optimizers.Adam(lr=0.01, beta_1=0.9, beta_2=0.999, epsilon=0.01, decay=0.0)\n",
    "model.compile(loss='mean_squared_error', optimizer=myOptimizer, metrics=['mse'])\n",
    "history = model.fit(train_X_make, train_Y, epochs=300,  validation_data=(test_X_make,test_Y), batch_size=10, verbose=0)"
   ]
  },
  {
   "cell_type": "code",
   "execution_count": 37,
   "metadata": {},
   "outputs": [
    {
     "name": "stdout",
     "output_type": "stream",
     "text": [
      "Deep Learing RMSE with three hidden layers:2994.02613942\n"
     ]
    }
   ],
   "source": [
    "carSales_predictions = model.predict(test_X_make)\n",
    "dl_mse = mean_squared_error(np.exp(test_Y), np.exp(carSales_predictions))\n",
    "dl_rmse = np.sqrt(dl_mse)\n",
    "print(\"Deep Learing RMSE with three hidden layers:\"+str(dl_rmse))"
   ]
  },
  {
   "cell_type": "code",
   "execution_count": null,
   "metadata": {
    "collapsed": true
   },
   "outputs": [],
   "source": [
    "We find the performance of Deep Learning with 3 hidden layers is equivalent to that of RandomForestRegressor in this case"
   ]
  },
  {
   "cell_type": "code",
   "execution_count": 10,
   "metadata": {},
   "outputs": [
    {
     "name": "stdout",
     "output_type": "stream",
     "text": [
      "_________________________________________________________________\n",
      "Layer (type)                 Output Shape              Param #   \n",
      "=================================================================\n",
      "dense_8 (Dense)              (None, 20)                1320      \n",
      "_________________________________________________________________\n",
      "dense_9 (Dense)              (None, 1)                 21        \n",
      "=================================================================\n",
      "Total params: 1,341\n",
      "Trainable params: 1,341\n",
      "Non-trainable params: 0\n",
      "_________________________________________________________________\n"
     ]
    }
   ],
   "source": [
    "model = Sequential()\n",
    "model.add(Dense(20,input_dim=(train_X_make.shape[1]),activation='relu'))\n",
    "model.add(Dense(1))\n",
    "model.summary()"
   ]
  },
  {
   "cell_type": "code",
   "execution_count": 11,
   "metadata": {
    "collapsed": true
   },
   "outputs": [],
   "source": [
    "myOptimizer = optimizers.Adam(lr=0.01, beta_1=0.9, beta_2=0.999, epsilon=0.01, decay=0.0)\n",
    "model.compile(loss='mean_squared_error', optimizer=myOptimizer, metrics=['mse'])\n",
    "history = model.fit(train_X_make, train_Y, epochs=200,  validation_data=(test_X_make,test_Y), batch_size=10, verbose=0)"
   ]
  },
  {
   "cell_type": "code",
   "execution_count": 12,
   "metadata": {},
   "outputs": [
    {
     "name": "stdout",
     "output_type": "stream",
     "text": [
      "Deep Learing RMSE with one hidden layer:3934.8550403\n"
     ]
    }
   ],
   "source": [
    "carSales_predictions = model.predict(test_X_make)\n",
    "dl_mse = mean_squared_error(np.exp(test_Y), np.exp(carSales_predictions))\n",
    "dl_rmse = np.sqrt(dl_mse)\n",
    "print(\"Deep Learing RMSE with one hidden layer:\"+str(dl_rmse))"
   ]
  },
  {
   "cell_type": "markdown",
   "metadata": {},
   "source": [
    "We conclude three hidden layers configuration is the best so far."
   ]
  },
  {
   "cell_type": "markdown",
   "metadata": {},
   "source": [
    "We now try XGBRegressor, a latest technique. We start by default setting and then use best parameter for n_estimator by trying number of values"
   ]
  },
  {
   "cell_type": "code",
   "execution_count": 38,
   "metadata": {},
   "outputs": [
    {
     "data": {
      "text/plain": [
       "XGBRegressor(base_score=0.5, booster='gbtree', colsample_bylevel=1,\n",
       "       colsample_bytree=1, gamma=0, learning_rate=0.1, max_delta_step=0,\n",
       "       max_depth=3, min_child_weight=1, missing=None, n_estimators=100,\n",
       "       n_jobs=1, nthread=None, objective='reg:linear', random_state=0,\n",
       "       reg_alpha=0, reg_lambda=1, scale_pos_weight=1, seed=None,\n",
       "       silent=True, subsample=1)"
      ]
     },
     "execution_count": 38,
     "metadata": {},
     "output_type": "execute_result"
    }
   ],
   "source": [
    "xgb_model = XGBRegressor() \n",
    "xgb_model.fit(train_X_make, train_Y)\n"
   ]
  },
  {
   "cell_type": "code",
   "execution_count": 39,
   "metadata": {},
   "outputs": [
    {
     "name": "stdout",
     "output_type": "stream",
     "text": [
      "XGB RMSE:3439.22116197\n"
     ]
    }
   ],
   "source": [
    "carSales_predictions = xgb_model.predict(test_X_make)\n",
    "xgb_mse = mean_squared_error(np.exp(test_Y), np.exp(carSales_predictions))\n",
    "xgb_rmse = np.sqrt(xgb_mse)\n",
    "print(\"XGB RMSE:\"+str(xgb_rmse))"
   ]
  },
  {
   "cell_type": "code",
   "execution_count": 40,
   "metadata": {},
   "outputs": [
    {
     "data": {
      "text/plain": [
       "XGBRegressor(base_score=0.5, booster='gbtree', colsample_bylevel=1,\n",
       "       colsample_bytree=1, gamma=0, learning_rate=0.1, max_delta_step=0,\n",
       "       max_depth=3, min_child_weight=1, missing=None, n_estimators=350,\n",
       "       n_jobs=1, nthread=None, objective='reg:linear', random_state=0,\n",
       "       reg_alpha=0, reg_lambda=1, scale_pos_weight=1, seed=None,\n",
       "       silent=True, subsample=1)"
      ]
     },
     "execution_count": 40,
     "metadata": {},
     "output_type": "execute_result"
    }
   ],
   "source": [
    "xgb_model = XGBRegressor(n_estimators=350) \n",
    "xgb_model.fit(train_X_make, train_Y)"
   ]
  },
  {
   "cell_type": "code",
   "execution_count": 41,
   "metadata": {},
   "outputs": [
    {
     "name": "stdout",
     "output_type": "stream",
     "text": [
      "XGB RMSE, with n_estmators=350:2824.93254803\n"
     ]
    }
   ],
   "source": [
    "carSales_predictions = xgb_model.predict(test_X_make)\n",
    "xgb_mse = mean_squared_error(np.exp(test_Y), np.exp(carSales_predictions))\n",
    "xgb_rmse = np.sqrt(xgb_mse)\n",
    "print(\"XGB RMSE, with n_estmators=350:\"+str(xgb_rmse))"
   ]
  },
  {
   "cell_type": "code",
   "execution_count": 42,
   "metadata": {},
   "outputs": [
    {
     "data": {
      "text/plain": [
       "XGBRegressor(base_score=0.5, booster='gbtree', colsample_bylevel=1,\n",
       "       colsample_bytree=1, gamma=0, learning_rate=0.1, max_delta_step=0,\n",
       "       max_depth=5, min_child_weight=1, missing=None, n_estimators=350,\n",
       "       n_jobs=1, nthread=None, objective='reg:linear', random_state=0,\n",
       "       reg_alpha=0, reg_lambda=1, scale_pos_weight=1, seed=None,\n",
       "       silent=True, subsample=1)"
      ]
     },
     "execution_count": 42,
     "metadata": {},
     "output_type": "execute_result"
    }
   ],
   "source": [
    "xgb_model = XGBRegressor(n_estimators=350, max_depth=5) \n",
    "xgb_model.fit(train_X_make, train_Y)"
   ]
  },
  {
   "cell_type": "code",
   "execution_count": 43,
   "metadata": {},
   "outputs": [
    {
     "name": "stdout",
     "output_type": "stream",
     "text": [
      "XGB RMSE, with n_estmators=350,max_depth=5:2645.05876051\n"
     ]
    }
   ],
   "source": [
    "carSales_predictions = xgb_model.predict(test_X_make)\n",
    "xgb_mse = mean_squared_error(np.exp(test_Y), np.exp(carSales_predictions))\n",
    "xgb_rmse = np.sqrt(xgb_mse)\n",
    "print(\"XGB RMSE, with n_estmators=350,max_depth=5:\"+str(xgb_rmse))"
   ]
  },
  {
   "cell_type": "code",
   "execution_count": 44,
   "metadata": {},
   "outputs": [
    {
     "data": {
      "text/plain": [
       "XGBRegressor(base_score=0.5, booster='gbtree', colsample_bylevel=1,\n",
       "       colsample_bytree=1, gamma=0, learning_rate=0.1, max_delta_step=0,\n",
       "       max_depth=10, min_child_weight=1, missing=None, n_estimators=350,\n",
       "       n_jobs=1, nthread=None, objective='reg:linear', random_state=0,\n",
       "       reg_alpha=0, reg_lambda=1, scale_pos_weight=1, seed=None,\n",
       "       silent=True, subsample=1)"
      ]
     },
     "execution_count": 44,
     "metadata": {},
     "output_type": "execute_result"
    }
   ],
   "source": [
    "xgb_model = XGBRegressor(n_estimators=350, max_depth=10) \n",
    "xgb_model.fit(train_X_make, train_Y)"
   ]
  },
  {
   "cell_type": "code",
   "execution_count": 45,
   "metadata": {},
   "outputs": [
    {
     "name": "stdout",
     "output_type": "stream",
     "text": [
      "XGB RMSE, with n_estmators=350,max_depth=10:2956.00660994\n"
     ]
    }
   ],
   "source": [
    "carSales_predictions = xgb_model.predict(test_X_make)\n",
    "xgb_mse = mean_squared_error(np.exp(test_Y), np.exp(carSales_predictions))\n",
    "xgb_rmse = np.sqrt(xgb_mse)\n",
    "print(\"XGB RMSE, with n_estmators=350,max_depth=10:\"+str(xgb_rmse))"
   ]
  },
  {
   "cell_type": "markdown",
   "metadata": {},
   "source": [
    "We conclude the setting of n_estimators=350 and max_depth=5 works best in this case, and this model is the best amongst all the models compared."
   ]
  },
  {
   "cell_type": "markdown",
   "metadata": {},
   "source": [
    "We now calculate and display feature importances from the XGBoost model "
   ]
  },
  {
   "cell_type": "code",
   "execution_count": 46,
   "metadata": {},
   "outputs": [
    {
     "name": "stdout",
     "output_type": "stream",
     "text": [
      "[  2.47287929e-01   1.90432623e-01   1.20507121e-01   0.00000000e+00\n",
      "   0.00000000e+00   0.00000000e+00   5.09737292e-03   1.30701868e-04\n",
      "   2.48333556e-03   2.87544122e-03   4.18245979e-03   2.87544122e-03\n",
      "   3.92105617e-03   0.00000000e+00   3.00614303e-03   0.00000000e+00\n",
      "   1.07175531e-02   1.82982616e-03   4.70526749e-03   7.31930463e-03\n",
      "   6.92719920e-03   5.88158425e-03   3.13684484e-03   1.68605410e-02\n",
      "   0.00000000e+00   8.10351595e-03   1.82982616e-03   8.36491957e-03\n",
      "   1.55535229e-02   8.49562138e-03   6.79649739e-03   2.19579134e-02\n",
      "   1.41158020e-02   1.00640440e-02   1.20245721e-02   2.22193170e-03\n",
      "   9.14913043e-03   1.47693111e-02   5.35877654e-03   4.18245979e-03\n",
      "   1.12403603e-02   4.96667111e-03   9.67193861e-03   7.31930463e-03\n",
      "   9.41053499e-03   8.75702500e-03   3.00614303e-03   5.09737292e-03\n",
      "   1.21552739e-02   6.27368968e-03   1.62070319e-02   4.18245979e-03\n",
      "   7.97281414e-03   2.87544122e-03   1.32008884e-02   7.31930463e-03\n",
      "   6.14298787e-03   8.88772681e-03   7.58070825e-03   1.33315902e-02\n",
      "   1.33315902e-02   3.26754665e-03   6.14298787e-03   6.92719920e-03\n",
      "   2.35263375e-03   3.13684484e-03   4.05175798e-03   1.20245721e-02]\n"
     ]
    },
    {
     "data": {
      "image/png": "[encoded data removed]",
      "text/plain": [
       "<matplotlib.figure.Figure at 0x1edb9b093c8>"
      ]
     },
     "metadata": {},
     "output_type": "display_data"
    }
   ],
   "source": [
    "xgb_model = XGBRegressor(n_estimators=350, max_depth=5) \n",
    "xgb_model.fit(train_X_make, train_Y)\n",
    "print(xgb_model.feature_importances_)\n",
    "# plot\n",
    "plt.bar(range(len(xgb_model.feature_importances_)), xgb_model.feature_importances_)\n",
    "plt.show()"
   ]
  },
  {
   "cell_type": "markdown",
   "metadata": {},
   "source": [
    "We see that the numerical features, Engine HP, Age, City MPG has the highest importances, followed by categorical features. Among the categorical\n",
    "features we find the Engine Cylinder, and Engine Fuel Type has lease importance. Transmission type, and Size, and Make have high importances. We drop the Engine Cylinder from Train and Test data and fit our model again."
   ]
  },
  {
   "cell_type": "markdown",
   "metadata": {},
   "source": [
    "We recall the order of Categorical variables is : \n",
    "      [ 0.  3.  4.  5.  6.  8. 10. 12.]\n",
    "['diesel' 'electric' 'flex-fuel (unleaded/E85)'\n",
    " 'flex-fuel (unleaded/natural gas)' 'natural gas'\n",
    " 'premium unleaded (recommended)' 'premium unleaded (required)'\n",
    " 'regular unleaded']\n",
    "['AUTOMATED_MANUAL' 'AUTOMATIC' 'DIRECT_DRIVE' 'MANUAL' 'UNKNOWN']\n",
    "['all wheel drive' 'four wheel drive' 'front wheel drive'\n",
    " 'rear wheel drive']\n",
    "['Compact' 'Large' 'Midsize']\n",
    "['Chevrolet' 'Chrysler' 'Dodge' 'FIAT' 'Ford' 'Honda' 'Hyundai' 'Kia'\n",
    " 'Mazda' 'Mitsubishi' 'Nissan' 'Oldsmobile' 'Plymouth' 'Pontiac' 'Scion'\n",
    " 'Subaru' 'Suzuki' 'Volkswagen']\n",
    "['2dr Hatchback' '2dr SUV' '4dr Hatchback' '4dr SUV' 'Cargo Minivan'\n",
    " 'Cargo Van' 'Convertible' 'Convertible SUV' 'Coupe' 'Crew Cab Pickup'\n",
    " 'Extended Cab Pickup' 'Passenger Minivan' 'Passenger Van'\n",
    " 'Regular Cab Pickup' 'Sedan' 'Wagon']"
   ]
  },
  {
   "cell_type": "code",
   "execution_count": 47,
   "metadata": {},
   "outputs": [
    {
     "name": "stdout",
     "output_type": "stream",
     "text": [
      "68\n",
      "60\n"
     ]
    }
   ],
   "source": [
    "print(train_X_make.shape[1])\n",
    "train_X_make_upd = np.delete(train_X_make,[7,8,9,10,11,12,13,14],1) # we drop the 8 columns after the first 6 numeric ones\n",
    "print(train_X_make_upd.shape[1])"
   ]
  },
  {
   "cell_type": "code",
   "execution_count": 48,
   "metadata": {
    "collapsed": true
   },
   "outputs": [],
   "source": [
    "test_X_make_upd = np.delete(test_X_make,[7,8,9,10,11,12,13,14],1)"
   ]
  },
  {
   "cell_type": "code",
   "execution_count": null,
   "metadata": {},
   "outputs": [],
   "source": [
    "xgb_model = XGBRegressor(n_estimators=350, max_depth=5) \n",
    "xgb_model.fit(train_X_make_upd, train_Y)"
   ]
  },
  {
   "cell_type": "code",
   "execution_count": 31,
   "metadata": {},
   "outputs": [
    {
     "name": "stdout",
     "output_type": "stream",
     "text": [
      "XGB RMSE, with n_estmators=350,max_depth=5:2654.449678884159\n"
     ]
    }
   ],
   "source": [
    "carSales_predictions = xgb_model.predict(test_X_make_upd)\n",
    "xgb_mse = mean_squared_error(np.exp(test_Y), np.exp(carSales_predictions))\n",
    "xgb_rmse = np.sqrt(xgb_mse)\n",
    "print(\"XGB RMSE, with n_estmators=350,max_depth=5:\"+str(xgb_rmse))"
   ]
  },
  {
   "cell_type": "markdown",
   "metadata": {},
   "source": [
    "We find removing the Engine cylinder categorical variable, does not have any effect on the model. We now try removing the Engine fuel type categorical variable"
   ]
  },
  {
   "cell_type": "code",
   "execution_count": 21,
   "metadata": {},
   "outputs": [
    {
     "name": "stdout",
     "output_type": "stream",
     "text": [
      "65\n",
      "49\n"
     ]
    }
   ],
   "source": [
    "print(train_X_make.shape[1])\n",
    "train_X_make_upd1 = np.delete(train_X_make,[4,5,6,7,8,9,10,11,12,13,14,15,16,17,18,19],1) # we drop the 8 columns after the first 3 numeric ones\n",
    "print(train_X_make_upd1.shape[1])"
   ]
  },
  {
   "cell_type": "code",
   "execution_count": 23,
   "metadata": {
    "collapsed": true
   },
   "outputs": [],
   "source": [
    "test_X_make_upd1 = np.delete(test_X_make,[4,5,6,7,8,9,10,11,12,13,14,15,16,17,18,19],1)"
   ]
  },
  {
   "cell_type": "code",
   "execution_count": 22,
   "metadata": {},
   "outputs": [
    {
     "data": {
      "text/plain": [
       "XGBRegressor(base_score=0.5, booster='gbtree', colsample_bylevel=1,\n",
       "       colsample_bytree=1, gamma=0, learning_rate=0.1, max_delta_step=0,\n",
       "       max_depth=5, min_child_weight=1, missing=None, n_estimators=350,\n",
       "       n_jobs=1, nthread=None, objective='reg:linear', random_state=0,\n",
       "       reg_alpha=0, reg_lambda=1, scale_pos_weight=1, seed=None,\n",
       "       silent=True, subsample=1)"
      ]
     },
     "execution_count": 22,
     "metadata": {},
     "output_type": "execute_result"
    }
   ],
   "source": [
    "xgb_model = XGBRegressor(n_estimators=350, max_depth=5) \n",
    "xgb_model.fit(train_X_make_upd1, train_Y)"
   ]
  },
  {
   "cell_type": "code",
   "execution_count": 24,
   "metadata": {},
   "outputs": [
    {
     "name": "stdout",
     "output_type": "stream",
     "text": [
      "XGB RMSE, with n_estmators=350,max_depth=5:2698.455288123365\n",
      "predicted prices\n",
      "[21821.773  23767.822  20159.508   1966.6238 26621.643 ]\n",
      "actual prices\n",
      "         0\n",
      "0  23086.0\n",
      "1  25581.0\n",
      "2  19396.0\n",
      "3   2001.0\n",
      "4  24786.0\n"
     ]
    }
   ],
   "source": [
    "carSales_predictions = xgb_model.predict(test_X_make_upd1)\n",
    "xgb_mse = mean_squared_error(np.exp(test_Y), np.exp(carSales_predictions))\n",
    "xgb_rmse = np.sqrt(xgb_mse)\n",
    "print(\"XGB RMSE, with n_estmators=350,max_depth=5:\"+str(xgb_rmse))\n",
    "print(\"predicted prices\")\n",
    "print(np.exp(carSales_predictions[0:5]))\n",
    "print(\"actual prices\")\n",
    "print(np.exp(test_Y[0:5]))"
   ]
  },
  {
   "cell_type": "code",
   "execution_count": null,
   "metadata": {
    "collapsed": true
   },
   "outputs": [],
   "source": [
    "We find removing the Engine Fuel type categorical variable, does have a small effect on the model. \n",
    "We decide to drop the Engine Cylinder, based on this analysis from our original set of parameters.\n",
    "So our final model has the numerical parameters : Engine HP, Age of Car, log City MPG\n",
    "and the categorical parameters : Engine Fuel Type,Transmission Type, Driven Wheels, Vehicle Size, Vehicle Style and Make"
   ]
  },
  {
   "cell_type": "code",
   "execution_count": 32,
   "metadata": {
    "collapsed": true
   },
   "outputs": [],
   "source": [
    "# save model to file\n",
    "pickle.dump(xgb_model, open(\"C:/users/hackuser1/carsales_xgb.pickle.dat\", \"wb\"))\n",
    "\n",
    "\n",
    "# load model from file\n",
    "#loaded_model = pickle.load(open(\"C:/users/hackuser1/carsales_xgb.pickle.dat\", \"rb\"))\n"
   ]
  },
  {
   "cell_type": "code",
   "execution_count": null,
   "metadata": {
    "collapsed": true
   },
   "outputs": [],
   "source": []
  }
 ],
 "metadata": {
  "kernelspec": {
   "display_name": "Python [default]",
   "language": "python",
   "name": "python3"
  },
  "language_info": {
   "codemirror_mode": {
    "name": "ipython",
    "version": 3
   },
   "file_extension": ".py",
   "mimetype": "text/x-python",
   "name": "python",
   "nbconvert_exporter": "python",
   "pygments_lexer": "ipython3",
   "version": "3.6.3"
  }
 },
 "nbformat": 4,
 "nbformat_minor": 2
}
