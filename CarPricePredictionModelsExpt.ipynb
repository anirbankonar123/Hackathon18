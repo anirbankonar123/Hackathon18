{
 "cells": [
  {
   "cell_type": "markdown",
   "metadata": {
    "collapsed": true
   },
   "source": [
    "# This notebook is to explore various prediction models from the Used Car Price data at : https://www.kaggle.com/CooperUnion/cardataset\n",
    "Various Regression techniques are explored, like LinearRegression, RandomForestRegression, with K-fold cross validation, grid search of parameters, finally Deep Learning techniques, XGBoost is used and the best accuracy is shown. However the LinearRegression model is exposed as WebService, due to certain technical limitations faced in exposing the other models."
   ]
  },
  {
   "cell_type": "code",
   "execution_count": 1,
   "metadata": {},
   "outputs": [
    {
     "name": "stderr",
     "output_type": "stream",
     "text": [
      "C:\\ProgramData\\Anaconda3\\lib\\site-packages\\h5py\\__init__.py:36: FutureWarning: Conversion of the second argument of issubdtype from `float` to `np.floating` is deprecated. In future, it will be treated as `np.float64 == np.dtype(float).type`.\n",
      "  from ._conv import register_converters as _register_converters\n",
      "Using TensorFlow backend.\n"
     ]
    }
   ],
   "source": [
    "#Import all necessary libraries\n",
    "import pickle\n",
    "import pandas as pd\n",
    "import pandas as pd\n",
    "import matplotlib.pyplot as plt\n",
    "from sklearn.model_selection import train_test_split\n",
    "import numpy as np\n",
    "from sklearn.model_selection import StratifiedShuffleSplit\n",
    "from sklearn.preprocessing import Imputer\n",
    "from sklearn.preprocessing import LabelEncoder\n",
    "from sklearn.preprocessing import OneHotEncoder\n",
    "from sklearn.preprocessing import LabelBinarizer\n",
    "from sklearn.base import BaseEstimator, TransformerMixin\n",
    "from sklearn.pipeline import Pipeline\n",
    "from sklearn.preprocessing import StandardScaler\n",
    "from sklearn.preprocessing import MinMaxScaler\n",
    "from sklearn.preprocessing import PolynomialFeatures\n",
    "from pandas.plotting import scatter_matrix\n",
    "\n",
    "from sklearn.linear_model import LinearRegression\n",
    "from sklearn.metrics import mean_squared_error\n",
    "from sklearn.linear_model import SGDRegressor\n",
    "from keras.models import Sequential\n",
    "from keras.layers import Dense   \n",
    "from keras import optimizers\n",
    "\n",
    "from sklearn.tree import DecisionTreeRegressor\n",
    "from sklearn.ensemble import RandomForestRegressor\n",
    "from sklearn.model_selection import cross_val_score\n",
    "from sklearn.ensemble import GradientBoostingRegressor\n",
    "from xgboost import XGBRegressor\n",
    "from sklearn.linear_model import Lasso\n",
    "from sklearn.linear_model import Ridge\n",
    "from sklearn.linear_model import ElasticNet\n",
    "from sklearn.model_selection import GridSearchCV\n",
    "from sklearn.model_selection import StratifiedKFold"
   ]
  },
  {
   "cell_type": "markdown",
   "metadata": {
    "collapsed": true
   },
   "source": [
    "Read the pre-processed pkl files"
   ]
  },
  {
   "cell_type": "code",
   "execution_count": 2,
   "metadata": {},
   "outputs": [
    {
     "name": "stdout",
     "output_type": "stream",
     "text": [
      "(3770, 45)\n",
      "(3770, 55)\n"
     ]
    }
   ],
   "source": [
    "train_X=pd.read_pickle('C:/users/hackuser1/train_X_ordUSJap.pkl')\n",
    "test_X=pd.read_pickle('C:/users/hackuser1/test_X_ordUSJap.pkl')\n",
    "train_Y=pd.read_pickle('C:/users/hackuser1/train_Y_ordUSJap.pkl') # train Y with log(MSRP)\n",
    "test_Y=pd.read_pickle('C:/users/hackuser1/test_Y_ordUSJap.pkl')\n",
    "train_Y_orig=pd.read_pickle('C:/users/hackuser1/train_Y_ord_origUSJap.pkl') # train Y with MSRP unmodified\n",
    "test_Y_orig=pd.read_pickle('C:/users/hackuser1/test_Y_ord_origUSJap.pkl')\n",
    "\n",
    "train_X_make=pd.read_pickle('C:/users/hackuser1/train_X_ord_makeUSJap.pkl')\n",
    "test_X_make=pd.read_pickle('C:/users/hackuser1/test_X_ord_makeUSJap.pkl')\n",
    "\n",
    "print(train_X.shape)\n",
    "print(train_X_make.shape)"
   ]
  },
  {
   "cell_type": "markdown",
   "metadata": {},
   "source": [
    "# Linear Regression"
   ]
  },
  {
   "cell_type": "markdown",
   "metadata": {},
   "source": [
    "We fit Sklearn LinearRegression and use this to make predictions on the test data and check the RMSE\n",
    "Use train X data with make and without make, and Test Y as MSRP as well as Log MSRP and compare the RMSE values on test data"
   ]
  },
  {
   "cell_type": "code",
   "execution_count": 3,
   "metadata": {},
   "outputs": [
    {
     "data": {
      "text/plain": [
       "LinearRegression(copy_X=True, fit_intercept=True, n_jobs=1, normalize=False)"
      ]
     },
     "execution_count": 3,
     "metadata": {},
     "output_type": "execute_result"
    }
   ],
   "source": [
    "#fit train data without make info, and log MSRP\n",
    "lin_reg = LinearRegression()\n",
    "lin_reg.fit(train_X, train_Y)\n",
    "\n",
    "#fit train data without make and MSRP, as it\n",
    "lin_reg_1 = LinearRegression()\n",
    "lin_reg_1.fit(train_X, train_Y_orig)\n",
    "\n",
    "#fit train data with make and log MSRP\n",
    "lin_reg_make = LinearRegression()\n",
    "lin_reg_make.fit(train_X_make, train_Y)\n",
    "\n",
    "#fit train data with make and MSRP, as it\n",
    "lin_reg_make1 = LinearRegression()\n",
    "lin_reg_make1.fit(train_X_make, train_Y_orig)"
   ]
  },
  {
   "cell_type": "code",
   "execution_count": 4,
   "metadata": {},
   "outputs": [
    {
     "name": "stdout",
     "output_type": "stream",
     "text": [
      "rmse without make, log MSRP:8697.552910933056\n",
      "rmse without make, MSRP, as is:28131.960498267086\n",
      "rmse with make, log MSRP:8143.611441260607\n",
      "rmse with make, MSRP, as is:28119.069183775104\n"
     ]
    }
   ],
   "source": [
    "carSales_predictions = lin_reg.predict(test_X)\n",
    "lin_mse = mean_squared_error(np.exp(test_Y), np.exp(carSales_predictions))\n",
    "lin_rmse = np.sqrt(lin_mse)\n",
    "print(\"rmse without make, log MSRP:\"+str(lin_rmse))\n",
    "\n",
    "carSales_predictions = lin_reg_1.predict(test_X)\n",
    "lin_mse = mean_squared_error(test_Y, carSales_predictions)\n",
    "lin_rmse = np.sqrt(lin_mse)\n",
    "print(\"rmse without make, MSRP, as is:\"+str(lin_rmse))\n",
    "\n",
    "carSales_predictions = lin_reg_make.predict(test_X_make)\n",
    "lin_mse = mean_squared_error(np.exp(test_Y), np.exp(carSales_predictions))\n",
    "lin_rmse = np.sqrt(lin_mse)\n",
    "print(\"rmse with make, log MSRP:\"+str(lin_rmse))\n",
    "\n",
    "carSales_predictions = lin_reg_make1.predict(test_X_make)\n",
    "lin_mse = mean_squared_error(test_Y, carSales_predictions)\n",
    "lin_rmse = np.sqrt(lin_mse)\n",
    "print(\"rmse with make, MSRP, as is:\"+str(lin_rmse))"
   ]
  },
  {
   "cell_type": "markdown",
   "metadata": {
    "collapsed": true
   },
   "source": [
    "We observe the data with make and log MSRP gives best results, as we found in our analysis.\n",
    "Next we use SGDRegressor from scikit learn and compare the RMSE"
   ]
  },
  {
   "cell_type": "code",
   "execution_count": 5,
   "metadata": {},
   "outputs": [
    {
     "data": {
      "text/plain": [
       "SGDRegressor(alpha=0.0001, average=False, epsilon=0.1, eta0=0.01,\n",
       "       fit_intercept=True, l1_ratio=0.15, learning_rate='invscaling',\n",
       "       loss='squared_loss', max_iter=500, n_iter=None, penalty=None,\n",
       "       power_t=0.25, random_state=None, shuffle=True, tol=None, verbose=0,\n",
       "       warm_start=False)"
      ]
     },
     "execution_count": 5,
     "metadata": {},
     "output_type": "execute_result"
    }
   ],
   "source": [
    "sgd_reg_make = SGDRegressor(max_iter=500,penalty=None,eta0=0.01)\n",
    "sgd_reg_make.fit(train_X_make, train_Y.values.ravel())"
   ]
  },
  {
   "cell_type": "code",
   "execution_count": 6,
   "metadata": {},
   "outputs": [
    {
     "name": "stdout",
     "output_type": "stream",
     "text": [
      "SGD RMSE:8120.749907574203\n"
     ]
    }
   ],
   "source": [
    "carSales_predictions_make = sgd_reg_make.predict(test_X_make)\n",
    "sgd_mse = mean_squared_error(np.exp(test_Y), np.exp(carSales_predictions_make))\n",
    "sgd_rmse = np.sqrt(sgd_mse)\n",
    "print(\"SGD RMSE:\"+str(sgd_rmse))"
   ]
  },
  {
   "cell_type": "markdown",
   "metadata": {},
   "source": [
    "# Decision Tree Regressor"
   ]
  },
  {
   "cell_type": "code",
   "execution_count": 7,
   "metadata": {},
   "outputs": [
    {
     "data": {
      "text/plain": [
       "DecisionTreeRegressor(criterion='mse', max_depth=None, max_features=None,\n",
       "           max_leaf_nodes=None, min_impurity_decrease=0.0,\n",
       "           min_impurity_split=None, min_samples_leaf=1,\n",
       "           min_samples_split=2, min_weight_fraction_leaf=0.0,\n",
       "           presort=False, random_state=None, splitter='best')"
      ]
     },
     "execution_count": 7,
     "metadata": {},
     "output_type": "execute_result"
    }
   ],
   "source": [
    "tree_reg = DecisionTreeRegressor()\n",
    "tree_reg.fit(train_X,train_Y)\n",
    "\n",
    "tree_reg_make = DecisionTreeRegressor()\n",
    "tree_reg_make.fit(train_X_make,train_Y)"
   ]
  },
  {
   "cell_type": "code",
   "execution_count": 8,
   "metadata": {},
   "outputs": [
    {
     "name": "stdout",
     "output_type": "stream",
     "text": [
      "Decision Tree RMSE, without make:3238.718707495812\n"
     ]
    }
   ],
   "source": [
    "carSales_predictions = tree_reg.predict(test_X)\n",
    "tree_mse = mean_squared_error(np.exp(test_Y), np.exp(carSales_predictions))\n",
    "tree_rmse = np.sqrt(tree_mse)\n",
    "print(\"Decision Tree RMSE, without make:\"+str(tree_rmse))"
   ]
  },
  {
   "cell_type": "code",
   "execution_count": 9,
   "metadata": {},
   "outputs": [
    {
     "name": "stdout",
     "output_type": "stream",
     "text": [
      "Decision Tree RMSE, with make:3233.2408233454767\n"
     ]
    }
   ],
   "source": [
    "carSales_predictions_make = tree_reg_make.predict(test_X_make)\n",
    "tree_mse = mean_squared_error(np.exp(test_Y), np.exp(carSales_predictions_make))\n",
    "tree_rmse = np.sqrt(tree_mse)\n",
    "print(\"Decision Tree RMSE, with make:\"+str(tree_rmse))"
   ]
  },
  {
   "cell_type": "code",
   "execution_count": 11,
   "metadata": {},
   "outputs": [
    {
     "name": "stdout",
     "output_type": "stream",
     "text": [
      "predicted prices\n",
      "[54776. 16101. 16041. 31396. 22351.]\n",
      "actual prices\n",
      "         0\n",
      "0  53951.0\n",
      "1  18021.0\n",
      "2  15800.0\n",
      "3  33726.0\n",
      "4  22351.0\n"
     ]
    }
   ],
   "source": [
    "#Lets print few predicted prices and actual prices\n",
    "print(\"predicted prices\")\n",
    "print(np.around(np.exp(carSales_predictions_make[0:5])))\n",
    "print(\"actual prices\")\n",
    "print(np.exp(test_Y[0:5]))"
   ]
  },
  {
   "cell_type": "markdown",
   "metadata": {},
   "source": [
    "We find Decision tree with make data included reduces the RMSE and is the best so far. We \n",
    "validate this using K-fold Cross validation with k set to 10"
   ]
  },
  {
   "cell_type": "code",
   "execution_count": 15,
   "metadata": {},
   "outputs": [
    {
     "name": "stdout",
     "output_type": "stream",
     "text": [
      "scores: [0.11708385 0.10207571 0.10477421 0.11729753 0.12510775 0.12555303\n",
      " 0.10951398 0.10181956 0.09865087 0.11174678]\n",
      "mean: 0.11136232591809854\n",
      "std dev: 0.009187650938358372\n"
     ]
    }
   ],
   "source": [
    "scores = cross_val_score(tree_reg_make,train_X_make,train_Y,scoring=\"neg_mean_squared_error\",cv=10)\n",
    "tree_rmse_scores = np.sqrt(-scores)\n",
    "\n",
    "print(\"scores:\",tree_rmse_scores)\n",
    "print(\"mean:\",tree_rmse_scores.mean())\n",
    "print(\"std dev:\",tree_rmse_scores.std())"
   ]
  },
  {
   "cell_type": "markdown",
   "metadata": {},
   "source": [
    "This shows there is a good fit, and there is very less variation between the folds and the data is dependable.\n",
    "We now try RandomForestRegressor, with default parameters"
   ]
  },
  {
   "cell_type": "markdown",
   "metadata": {},
   "source": [
    "# RandomForestRegressor"
   ]
  },
  {
   "cell_type": "code",
   "execution_count": 13,
   "metadata": {},
   "outputs": [
    {
     "data": {
      "text/plain": [
       "RandomForestRegressor(bootstrap=True, criterion='mse', max_depth=None,\n",
       "           max_features='auto', max_leaf_nodes=None,\n",
       "           min_impurity_decrease=0.0, min_impurity_split=None,\n",
       "           min_samples_leaf=1, min_samples_split=2,\n",
       "           min_weight_fraction_leaf=0.0, n_estimators=10, n_jobs=1,\n",
       "           oob_score=False, random_state=None, verbose=0, warm_start=False)"
      ]
     },
     "execution_count": 13,
     "metadata": {},
     "output_type": "execute_result"
    }
   ],
   "source": [
    "forest_reg_make = RandomForestRegressor()\n",
    "forest_reg_make.fit(train_X_make,train_Y.values.ravel())"
   ]
  },
  {
   "cell_type": "code",
   "execution_count": 14,
   "metadata": {},
   "outputs": [
    {
     "name": "stdout",
     "output_type": "stream",
     "text": [
      "Random Forest Regressor RMSE, with make:3041.801088913506\n",
      "predicted prices\n",
      "[54116. 14352. 16328. 31969. 19529.]\n",
      "actual prices\n",
      "         0\n",
      "0  53951.0\n",
      "1  18021.0\n",
      "2  15800.0\n",
      "3  33726.0\n",
      "4  22351.0\n"
     ]
    }
   ],
   "source": [
    "carSales_predictions = forest_reg_make.predict(test_X_make)\n",
    "forest_mse = mean_squared_error(np.exp(test_Y), np.exp(carSales_predictions))\n",
    "forest_rmse = np.sqrt(forest_mse)\n",
    "print(\"Random Forest Regressor RMSE, with make:\"+str(forest_rmse))\n",
    "print(\"predicted prices\")\n",
    "print(np.around(np.exp(carSales_predictions[0:5])))\n",
    "print(\"actual prices\")\n",
    "print(np.exp(test_Y[0:5]))"
   ]
  },
  {
   "cell_type": "markdown",
   "metadata": {},
   "source": [
    "This is clearly a better fit compared to DecisionTree, and we validate this with k-fold CV"
   ]
  },
  {
   "cell_type": "code",
   "execution_count": 16,
   "metadata": {},
   "outputs": [
    {
     "name": "stdout",
     "output_type": "stream",
     "text": [
      "scores: [0.09922983 0.0952579  0.09656832 0.10506228 0.11039031 0.0976549\n",
      " 0.10930407 0.09504719 0.0937419  0.10298451]\n",
      "mean: 0.10052411952593734\n",
      "std dev: 0.005747711143924466\n"
     ]
    }
   ],
   "source": [
    "forest_scores = cross_val_score(forest_reg_make,train_X_make,train_Y.values.ravel(),scoring=\"neg_mean_squared_error\",cv=10)\n",
    "forest_rmse_scores = np.sqrt(-forest_scores)\n",
    "\n",
    "print(\"scores:\",forest_rmse_scores)\n",
    "print(\"mean:\",forest_rmse_scores.mean())\n",
    "print(\"std dev:\",forest_rmse_scores.std())"
   ]
  },
  {
   "cell_type": "markdown",
   "metadata": {},
   "source": [
    "# We now use GridSearch to find the optimum parameters for RandomForestRegression, Please note : the time taken to run this step might exceed few mins"
   ]
  },
  {
   "cell_type": "code",
   "execution_count": 3,
   "metadata": {},
   "outputs": [
    {
     "name": "stdout",
     "output_type": "stream",
     "text": [
      "BEST PARAMETERS FOR RANDOM FOREST REGRESSOR IS:\n"
     ]
    },
    {
     "data": {
      "text/plain": [
       "{'max_features': 8, 'n_estimators': 30}"
      ]
     },
     "execution_count": 3,
     "metadata": {},
     "output_type": "execute_result"
    }
   ],
   "source": [
    "param_grid = [\n",
    "    # try 12 (3×4) combinations of hyperparameters\n",
    "    {'n_estimators': [3, 10, 30], 'max_features': [2, 4, 6, 8]},\n",
    "    # then try 6 (2×3) combinations with bootstrap set as False\n",
    "    {'bootstrap': [False], 'n_estimators': [3, 10], 'max_features': [2, 3, 4]},\n",
    "  ]\n",
    "\n",
    "forest_reg = RandomForestRegressor(random_state=42)\n",
    "# train across 5 folds, that's a total of (12+6)*5=90 rounds of training \n",
    "grid_search = GridSearchCV(forest_reg, param_grid, cv=5,\n",
    "                           scoring='neg_mean_squared_error', return_train_score=True)\n",
    "grid_search.fit(train_X_make, train_Y.values.ravel())\n",
    "print(\"BEST PARAMETERS FOR RANDOM FOREST REGRESSOR IS:\")\n",
    "grid_search.best_params_"
   ]
  },
  {
   "cell_type": "code",
   "execution_count": 17,
   "metadata": {},
   "outputs": [
    {
     "data": {
      "text/plain": [
       "RandomForestRegressor(bootstrap=True, criterion='mse', max_depth=None,\n",
       "           max_features=8, max_leaf_nodes=None, min_impurity_decrease=0.0,\n",
       "           min_impurity_split=None, min_samples_leaf=1,\n",
       "           min_samples_split=2, min_weight_fraction_leaf=0.0,\n",
       "           n_estimators=30, n_jobs=1, oob_score=False, random_state=None,\n",
       "           verbose=0, warm_start=False)"
      ]
     },
     "execution_count": 17,
     "metadata": {},
     "output_type": "execute_result"
    }
   ],
   "source": [
    "#Fit using best parameters and check\n",
    "forest_reg_make = RandomForestRegressor(max_features=8,n_estimators=30)\n",
    "forest_reg_make.fit(train_X_make,train_Y.values.ravel())"
   ]
  },
  {
   "cell_type": "code",
   "execution_count": 19,
   "metadata": {},
   "outputs": [
    {
     "name": "stdout",
     "output_type": "stream",
     "text": [
      "Random Forest Regressor RMSE, with make:3021.3503852490007\n",
      "predicted prices\n",
      "[54776. 16101. 16041. 31396. 22351.]\n",
      "actual prices\n",
      "         0\n",
      "0  53951.0\n",
      "1  18021.0\n",
      "2  15800.0\n",
      "3  33726.0\n",
      "4  22351.0\n"
     ]
    }
   ],
   "source": [
    "carSales_predictions = forest_reg_make.predict(test_X_make)\n",
    "forest_mse = mean_squared_error(np.exp(test_Y), np.exp(carSales_predictions))\n",
    "forest_rmse = np.sqrt(forest_mse)\n",
    "print(\"Random Forest Regressor RMSE, with make:\"+str(forest_rmse))\n",
    "print(\"predicted prices\")\n",
    "print(np.around(np.exp(carSales_predictions_make[0:5])))\n",
    "print(\"actual prices\")\n",
    "print(np.exp(test_Y[0:5]))"
   ]
  },
  {
   "cell_type": "markdown",
   "metadata": {},
   "source": [
    "The observation is : Default parameters gives better results."
   ]
  },
  {
   "cell_type": "markdown",
   "metadata": {},
   "source": [
    "# Feature importance calculation"
   ]
  },
  {
   "cell_type": "code",
   "execution_count": 5,
   "metadata": {},
   "outputs": [
    {
     "name": "stdout",
     "output_type": "stream",
     "text": [
      "[(0.5100526306037266, 'Age'), (0.1534512752209078, 'Engine HP'), (0.07158462721913779, 'AUTOMATIC'), (0.040736069556562934, 'premium unleaded (recommended)'), (0.03665579310994976, 'City MPG'), (0.02903693880096793, 'regular unleaded'), (0.01061357237478667, '8.'), (0.010326818602971032, 'rear wheel drive'), (0.008045836119319482, 'Midsize'), (0.007680229664662209, '4.'), (0.007322081376626545, 'UNKNOWN'), (0.007007008706201023, '6.'), (0.0066638839133611304, 'front wheel drive'), (0.006576821902562058, 'flex-fuel (unleaded/natural gas)'), (0.006380370081305418, '2dr SUV'), (0.0062020171505632994, 'diesel'), (0.005311835690842967, 'natural gas'), (0.0049464067542141854, 'Compact'), (0.004801531969932649, 'Sedan'), (0.004736094437282246, 'four wheel drive'), (0.004498534209085308, 'Large'), (0.004407836575933106, 'Convertible SUV'), (0.0043968251702210005, 'all wheel drive'), (0.0036703152262496713, 'Convertible'), (0.0035477761972163195, 'Cargo Minivan'), (0.0034495483906864274, 'Passenger Minivan'), (0.003123280575031021, 'Chevrolet'), (0.0031101600171428642, '4dr SUV'), (0.003092887792632552, 'FIAT'), (0.0029493190460168545, 'MANUAL'), (0.002671370589667828, 'Ford'), (0.00259145683744913, '2dr Hatchback'), (0.002565411063501375, 'Kia'), (0.002273412484126013, 'Coupe'), (0.002098397659154636, 'Wagon'), (0.001959483686236259, 'Passenger Van'), (0.0015185399324562391, 'Regular Cab Pickup'), (0.0015121449415566692, 'Extended Cab Pickup'), (0.001174163709240406, 'Crew Cab Pickup'), (0.0011424757513706998, 'premium unleaded (required)'), (0.0010522605767246643, 'Chrysler'), (0.0010013593776728791, 'Honda'), (0.0009288119885797051, 'DIRECT_DRIVE'), (0.0007198493842474365, 'Hyundai'), (0.0007096490393423456, 'Dodge'), (0.0005377979400922512, ' 3.'), (0.00032299918661398113, '0.'), (0.00030873993593579586, '4dr Hatchback'), (0.00018568345321169475, 'AUTOMATED_MANUAL'), (0.0001720204597300122, 'Cargo Van'), (8.243413881689195e-05, 'electric'), (5.242950011532467e-05, '12.'), (3.41150155697069e-05, 'flex-fuel (unleaded/E85)'), (3.5983611244775925e-06, '10.'), (3.0685313647105054e-06, '5.')]\n"
     ]
    }
   ],
   "source": [
    "feature_importances = grid_search.best_estimator_.feature_importances_\n",
    "num_attribs = [\"Age\",\"City MPG\",\"Engine HP\"]\n",
    "categorical_attribs = [  '0.' , ' 3.',   '4.' ,  '5.' ,  '6.',   '8.' , '10.', '12.'] + ['diesel', 'electric' ,'flex-fuel (unleaded/E85)',\n",
    " 'flex-fuel (unleaded/natural gas)' ,'natural gas', 'premium unleaded (recommended)', 'premium unleaded (required)',\n",
    " 'regular unleaded'] + ['AUTOMATED_MANUAL' ,'AUTOMATIC' ,'DIRECT_DRIVE' ,'MANUAL', 'UNKNOWN'] + ['all wheel drive','four wheel drive', 'front wheel drive', 'rear wheel drive'] + ['Compact' ,'Large', 'Midsize']+['2dr Hatchback', '2dr SUV' ,'4dr Hatchback', '4dr SUV', 'Cargo Minivan',\n",
    " 'Cargo Van', 'Convertible', 'Convertible SUV' ,'Coupe', 'Crew Cab Pickup','Extended Cab Pickup' ,'Passenger Minivan' ,'Passenger Van','Regular Cab Pickup', 'Sedan' ,'Wagon']+['Chevrolet', 'Chrysler', 'Dodge', 'FIAT' ,'Ford', 'Honda', 'Hyundai', 'Kia', 'Mazda' ,'Mitsubishi' ,'Nissan', 'Oldsmobile', 'Plymouth', 'Pontiac' ,'Scion', 'Subaru','Suzuki', 'Volkswagen']\n",
    "attributes = num_attribs+categorical_attribs\n",
    "print(sorted(zip(feature_importances, attributes), reverse=True))"
   ]
  },
  {
   "cell_type": "markdown",
   "metadata": {},
   "source": [
    "This shows the best predictors are Age, Engine HP,  Transmission, Fuel Type, City MPG, Drive, Size, MAke, Style. We do retain all parameters in the prediction."
   ]
  },
  {
   "cell_type": "code",
   "execution_count": 8,
   "metadata": {},
   "outputs": [
    {
     "name": "stdout",
     "output_type": "stream",
     "text": [
      "Random Forest Regressor Final RMSE:3062.5760296099807\n",
      "predicted prices\n",
      "[53727. 13802. 16162. 31318. 21172.]\n",
      "actual prices\n",
      "         0\n",
      "0  53951.0\n",
      "1  18021.0\n",
      "2  15800.0\n",
      "3  33726.0\n",
      "4  22351.0\n",
      "scores: [0.16538965 0.1561441  0.16378537 0.15037719 0.17668523 0.12642795\n",
      " 0.14465081 0.22079662 0.1338269  0.18266771]\n",
      "mean: 0.16207515346125578\n",
      "std dev: 0.025775849255976122\n"
     ]
    }
   ],
   "source": [
    "final_model = grid_search.best_estimator_\n",
    "final_predictions = final_model.predict(test_X_make)\n",
    "final_mse = mean_squared_error(np.exp(test_Y), np.exp(final_predictions))\n",
    "final_rmse = np.sqrt(final_mse)\n",
    "print(\"Random Forest Regressor Final RMSE:\"+str(final_rmse))\n",
    "print(\"predicted prices\")\n",
    "print(np.around(np.exp(final_predictions[0:5])))\n",
    "print(\"actual prices\")\n",
    "print(np.exp(test_Y[0:5]))\n",
    "\n",
    "\n",
    "final_model_scores = cross_val_score(final_model,test_X_make,test_Y.values.ravel(),scoring=\"neg_mean_squared_error\",cv=10)\n",
    "final_model_scores = np.sqrt(-final_model_scores)\n",
    "\n",
    "print(\"scores:\",final_model_scores)\n",
    "print(\"mean:\",final_model_scores.mean())\n",
    "print(\"std dev:\",final_model_scores.std())"
   ]
  },
  {
   "cell_type": "markdown",
   "metadata": {},
   "source": [
    "We find the model is fitting quite well. We plot the learning curves for the best model and see the learning curve, by plotting the rmse vs size of training set"
   ]
  },
  {
   "cell_type": "markdown",
   "metadata": {},
   "source": [
    "# This step might take more than few mins"
   ]
  },
  {
   "cell_type": "code",
   "execution_count": 30,
   "metadata": {},
   "outputs": [
    {
     "data": {
      "image/png": "[encoded data removed]",
      "text/plain": [
       "<matplotlib.figure.Figure at 0x1f988d7a898>"
      ]
     },
     "metadata": {},
     "output_type": "display_data"
    }
   ],
   "source": [
    "def plot_learning_curves(model, X, y):\n",
    "    \n",
    "    train_errors, val_errors = [], []\n",
    "    for m in range(1, len(X)):\n",
    "        model.fit(X[:m], y[:m].values.ravel())\n",
    "        y_train_predict = model.predict(X[:m])\n",
    "        y_val_predict = model.predict(test_X_make)\n",
    "        train_errors.append(mean_squared_error(y[:m], y_train_predict))\n",
    "        val_errors.append(mean_squared_error(test_Y, y_val_predict))\n",
    "\n",
    "    plt.plot(np.sqrt(train_errors), \"r-+\", linewidth=2, label=\"train\")\n",
    "    plt.plot(np.sqrt(val_errors), \"b-\", linewidth=3, label=\"val\")\n",
    "    plt.legend(loc=\"upper right\", fontsize=14)   \n",
    "    plt.xlabel(\"Training set size\", fontsize=14) \n",
    "    plt.ylabel(\"RMSE\", fontsize=14)   \n",
    "\n",
    "plot_learning_curves(final_model, train_X_make, train_Y)\n",
    "plt.show()"
   ]
  },
  {
   "cell_type": "code",
   "execution_count": 9,
   "metadata": {},
   "outputs": [
    {
     "name": "stdout",
     "output_type": "stream",
     "text": [
      "Elastic Net RMSE:7636.56777784063\n"
     ]
    }
   ],
   "source": [
    "#We try ElasticNet\n",
    "from sklearn.linear_model import ElasticNet\n",
    "elastic_net = ElasticNet(alpha=0.1, l1_ratio=0.5, random_state=42)\n",
    "elastic_net.fit(train_X_make, train_Y)\n",
    "carSales_predictions = elastic_net.predict(test_X_make)\n",
    "elastic_mse = mean_squared_error(np.exp(test_Y), np.exp(carSales_predictions))\n",
    "elastic_rmse = np.sqrt(elastic_mse)\n",
    "print(\"Elastic Net RMSE:\"+str(elastic_rmse))"
   ]
  },
  {
   "cell_type": "code",
   "execution_count": 10,
   "metadata": {},
   "outputs": [
    {
     "name": "stdout",
     "output_type": "stream",
     "text": [
      "Ridge RMSE:8119.760346751878\n"
     ]
    }
   ],
   "source": [
    "#We try Ridge Regression\n",
    "from sklearn.linear_model import Ridge\n",
    "ridge_reg = Ridge(alpha=1, solver=\"cholesky\", random_state=42)\n",
    "ridge_reg.fit(train_X_make, train_Y)\n",
    "carSales_predictions = ridge_reg.predict(test_X_make)\n",
    "ridge_mse = mean_squared_error(np.exp(test_Y), np.exp(carSales_predictions))\n",
    "ridge_rmse = np.sqrt(ridge_mse)\n",
    "print(\"Ridge RMSE:\"+str(ridge_rmse))"
   ]
  },
  {
   "cell_type": "code",
   "execution_count": 11,
   "metadata": {},
   "outputs": [
    {
     "name": "stdout",
     "output_type": "stream",
     "text": [
      "Lasso RMSE:7789.776041245896\n"
     ]
    }
   ],
   "source": [
    "#We try Lasso Regression\n",
    "from sklearn.linear_model import Lasso\n",
    "lasso_reg = Lasso(alpha=0.1)\n",
    "lasso_reg.fit(train_X_make, train_Y)\n",
    "carSales_predictions = lasso_reg.predict(test_X_make)\n",
    "lasso_mse = mean_squared_error(np.exp(test_Y), np.exp(carSales_predictions))\n",
    "lasso_rmse = np.sqrt(lasso_mse)\n",
    "print(\"Lasso RMSE:\"+str(lasso_rmse))"
   ]
  },
  {
   "cell_type": "markdown",
   "metadata": {},
   "source": [
    "We find these give worse results. \n",
    "We use GradientBoostingRegressor from sklearn finally"
   ]
  },
  {
   "cell_type": "markdown",
   "metadata": {},
   "source": [
    "# Gradient Boosting Regressor"
   ]
  },
  {
   "cell_type": "code",
   "execution_count": 12,
   "metadata": {},
   "outputs": [
    {
     "name": "stdout",
     "output_type": "stream",
     "text": [
      "Gradient Boosting Regressor RMSE:3128.180285479744\n"
     ]
    }
   ],
   "source": [
    "gbrt = GradientBoostingRegressor(max_depth=8, n_estimators=3, learning_rate=1.0, random_state=42)\n",
    "gbrt.fit(train_X_make, train_Y.values.ravel())\n",
    "carSales_predictions = gbrt.predict(test_X_make)\n",
    "gbrt_mse = mean_squared_error(np.exp(test_Y), np.exp(carSales_predictions))\n",
    "gbrt_rmse = np.sqrt(gbrt_mse)\n",
    "print(\"Gradient Boosting Regressor RMSE:\"+str(gbrt_rmse))"
   ]
  },
  {
   "cell_type": "code",
   "execution_count": 13,
   "metadata": {},
   "outputs": [
    {
     "name": "stdout",
     "output_type": "stream",
     "text": [
      "Gradient Boosting Regressor SLOW RMSE:3226.210691278335\n"
     ]
    }
   ],
   "source": [
    "gbrt_slow = GradientBoostingRegressor(max_depth=30, n_estimators=200, learning_rate=0.1, random_state=42)\n",
    "gbrt_slow.fit(train_X_make, train_Y.values.ravel())\n",
    "carSales_predictions = gbrt_slow.predict(test_X_make)\n",
    "gbrt_slow_mse = mean_squared_error(np.exp(test_Y), np.exp(carSales_predictions))\n",
    "gbrt_slow_rmse = np.sqrt(gbrt_slow_mse)\n",
    "print(\"Gradient Boosting Regressor SLOW RMSE:\"+str(gbrt_slow_rmse))"
   ]
  },
  {
   "cell_type": "markdown",
   "metadata": {},
   "source": [
    "# Grid Search. This step might take more than a few mins"
   ]
  },
  {
   "cell_type": "code",
   "execution_count": 29,
   "metadata": {},
   "outputs": [
    {
     "name": "stdout",
     "output_type": "stream",
     "text": [
      "BEST PARAMETERS FOR GRADIENT BOOSTING REGRESSOR IS:\n"
     ]
    },
    {
     "data": {
      "text/plain": [
       "{'max_depth': 20, 'n_estimators': 100}"
      ]
     },
     "execution_count": 29,
     "metadata": {},
     "output_type": "execute_result"
    }
   ],
   "source": [
    "param_grid = [\n",
    "    # try 2 (2×2) combinations of hyperparameters\n",
    "    {'n_estimators': [100,200], 'max_depth': [20, 30]},\n",
    "    # then try 6 (2×3) combinations with bootstrap set as False\n",
    "    #{'bootstrap': [False], 'n_estimators': [100,200], 'max_depth': [20, 30, 40]},\n",
    "  ]\n",
    "\n",
    "gbrt_reg = GradientBoostingRegressor(random_state=42, learning_rate=0.1)\n",
    "# train across 5 folds, that's a total of (4)*5=20 rounds of training \n",
    "grid_search_gbrt = GridSearchCV(gbrt_reg, param_grid, cv=5,\n",
    "                           scoring='neg_mean_squared_error', return_train_score=True)\n",
    "grid_search_gbrt.fit(train_X_make, train_Y.values.ravel())\n",
    "print(\"BEST PARAMETERS FOR GRADIENT BOOSTING REGRESSOR IS:\")\n",
    "grid_search_gbrt.best_params_"
   ]
  },
  {
   "cell_type": "code",
   "execution_count": 14,
   "metadata": {},
   "outputs": [
    {
     "name": "stdout",
     "output_type": "stream",
     "text": [
      "Gradient Boosting Regressor BEST RMSE:3226.300535137285\n"
     ]
    }
   ],
   "source": [
    "gbrt_slow = GradientBoostingRegressor(max_depth=20, n_estimators=100, learning_rate=0.1, random_state=42)\n",
    "gbrt_slow.fit(train_X_make, train_Y.values.ravel())\n",
    "carSales_predictions = gbrt_slow.predict(test_X_make)\n",
    "gbrt_slow_mse = mean_squared_error(np.exp(test_Y), np.exp(carSales_predictions))\n",
    "gbrt_slow_rmse = np.sqrt(gbrt_slow_mse)\n",
    "print(\"Gradient Boosting Regressor BEST RMSE:\"+str(gbrt_slow_rmse))"
   ]
  },
  {
   "cell_type": "markdown",
   "metadata": {},
   "source": [
    "# Deep Learning technique. We use keras with tensorflow backend and then repeat the same with cntk backend. (might take  few mins to run)"
   ]
  },
  {
   "cell_type": "code",
   "execution_count": 3,
   "metadata": {},
   "outputs": [
    {
     "name": "stdout",
     "output_type": "stream",
     "text": [
      "_________________________________________________________________\n",
      "Layer (type)                 Output Shape              Param #   \n",
      "=================================================================\n",
      "dense_1 (Dense)              (None, 50)                2800      \n",
      "_________________________________________________________________\n",
      "dense_2 (Dense)              (None, 30)                1530      \n",
      "_________________________________________________________________\n",
      "dense_3 (Dense)              (None, 1)                 31        \n",
      "=================================================================\n",
      "Total params: 4,361\n",
      "Trainable params: 4,361\n",
      "Non-trainable params: 0\n",
      "_________________________________________________________________\n"
     ]
    }
   ],
   "source": [
    "model = Sequential()\n",
    "\n",
    "#We use two hidden layers with 50 and 30 units with Relu activation, and no activation in the output layer, since \n",
    "#we want to predict the car price.\n",
    "model.add(Dense(50,input_dim=(train_X_make.shape[1]),activation='relu'))\n",
    "model.add(Dense(30,activation='relu'))\n",
    "model.add(Dense(1))\n",
    "model.summary()"
   ]
  },
  {
   "cell_type": "code",
   "execution_count": 4,
   "metadata": {},
   "outputs": [],
   "source": [
    "myOptimizer = optimizers.Adam(lr=0.01, beta_1=0.9, beta_2=0.999, epsilon=0.01, decay=0.0)\n",
    "model.compile(loss='mean_squared_error', optimizer=myOptimizer, metrics=['mse'])\n",
    "history = model.fit(train_X_make, train_Y, epochs=200,  validation_data=(test_X_make,test_Y), batch_size=5, verbose=0)"
   ]
  },
  {
   "cell_type": "code",
   "execution_count": 17,
   "metadata": {},
   "outputs": [
    {
     "data": {
      "image/png": "[encoded data removed]",
      "text/plain": [
       "<matplotlib.figure.Figure at 0x25a70d7ec50>"
      ]
     },
     "metadata": {},
     "output_type": "display_data"
    }
   ],
   "source": [
    "plt.plot(history.history['loss'], color = 'blue')\n",
    "plt.plot(history.history['val_loss'], color=  'red')\n",
    "plt.title('model loss')\n",
    "plt.ylabel('loss')\n",
    "plt.xlabel('epoch')\n",
    "plt.legend(['train', 'test'], loc='upper left')\n",
    "plt.show()"
   ]
  },
  {
   "cell_type": "code",
   "execution_count": 5,
   "metadata": {},
   "outputs": [
    {
     "name": "stdout",
     "output_type": "stream",
     "text": [
      "Deep Learning RMSE with two hidden layers:2995.5664180906433\n"
     ]
    }
   ],
   "source": [
    "carSales_predictions = model.predict(test_X_make)\n",
    "dl_mse = mean_squared_error(np.exp(test_Y), np.exp(carSales_predictions))\n",
    "dl_rmse = np.sqrt(dl_mse)\n",
    "print(\"Deep Learning RMSE with two hidden layers:\"+str(dl_rmse))"
   ]
  },
  {
   "cell_type": "markdown",
   "metadata": {},
   "source": [
    "We try 3 hidden layers and attempt to fit the problem better"
   ]
  },
  {
   "cell_type": "code",
   "execution_count": 19,
   "metadata": {},
   "outputs": [
    {
     "name": "stdout",
     "output_type": "stream",
     "text": [
      "_________________________________________________________________\n",
      "Layer (type)                 Output Shape              Param #   \n",
      "=================================================================\n",
      "dense_4 (Dense)              (None, 50)                2800      \n",
      "_________________________________________________________________\n",
      "dense_5 (Dense)              (None, 20)                1020      \n",
      "_________________________________________________________________\n",
      "dense_6 (Dense)              (None, 10)                210       \n",
      "_________________________________________________________________\n",
      "dense_7 (Dense)              (None, 1)                 11        \n",
      "=================================================================\n",
      "Total params: 4,041\n",
      "Trainable params: 4,041\n",
      "Non-trainable params: 0\n",
      "_________________________________________________________________\n"
     ]
    }
   ],
   "source": [
    "model = Sequential()\n",
    "model.add(Dense(50,input_dim=(train_X_make.shape[1]),activation='relu'))\n",
    "model.add(Dense(20,activation='relu'))\n",
    "model.add(Dense(10,activation='relu'))\n",
    "model.add(Dense(1))\n",
    "model.summary()"
   ]
  },
  {
   "cell_type": "code",
   "execution_count": 20,
   "metadata": {},
   "outputs": [],
   "source": [
    "myOptimizer = optimizers.Adam(lr=0.01, beta_1=0.9, beta_2=0.999, epsilon=0.01, decay=0.0)\n",
    "model.compile(loss='mean_squared_error', optimizer=myOptimizer, metrics=['mse'])\n",
    "history = model.fit(train_X_make, train_Y, epochs=300,  validation_data=(test_X_make,test_Y), batch_size=10, verbose=0)"
   ]
  },
  {
   "cell_type": "code",
   "execution_count": 22,
   "metadata": {},
   "outputs": [
    {
     "name": "stdout",
     "output_type": "stream",
     "text": [
      "Deep Learning RMSE with three hidden layers:3766.2983595945766\n"
     ]
    }
   ],
   "source": [
    "carSales_predictions = model.predict(test_X_make)\n",
    "dl_mse = mean_squared_error(np.exp(test_Y), np.exp(carSales_predictions))\n",
    "dl_rmse = np.sqrt(dl_mse)\n",
    "print(\"Deep Learning RMSE with three hidden layers:\"+str(dl_rmse))"
   ]
  },
  {
   "cell_type": "code",
   "execution_count": 10,
   "metadata": {},
   "outputs": [
    {
     "name": "stdout",
     "output_type": "stream",
     "text": [
      "_________________________________________________________________\n",
      "Layer (type)                 Output Shape              Param #   \n",
      "=================================================================\n",
      "dense_8 (Dense)              (None, 20)                1320      \n",
      "_________________________________________________________________\n",
      "dense_9 (Dense)              (None, 1)                 21        \n",
      "=================================================================\n",
      "Total params: 1,341\n",
      "Trainable params: 1,341\n",
      "Non-trainable params: 0\n",
      "_________________________________________________________________\n"
     ]
    }
   ],
   "source": [
    "model = Sequential()\n",
    "model.add(Dense(20,input_dim=(train_X_make.shape[1]),activation='relu'))\n",
    "model.add(Dense(1))\n",
    "model.summary()"
   ]
  },
  {
   "cell_type": "code",
   "execution_count": 11,
   "metadata": {
    "collapsed": true
   },
   "outputs": [],
   "source": [
    "myOptimizer = optimizers.Adam(lr=0.01, beta_1=0.9, beta_2=0.999, epsilon=0.01, decay=0.0)\n",
    "model.compile(loss='mean_squared_error', optimizer=myOptimizer, metrics=['mse'])\n",
    "history = model.fit(train_X_make, train_Y, epochs=200,  validation_data=(test_X_make,test_Y), batch_size=10, verbose=0)"
   ]
  },
  {
   "cell_type": "code",
   "execution_count": 12,
   "metadata": {},
   "outputs": [
    {
     "name": "stdout",
     "output_type": "stream",
     "text": [
      "Deep Learing RMSE with one hidden layer:3934.8550403\n"
     ]
    }
   ],
   "source": [
    "carSales_predictions = model.predict(test_X_make)\n",
    "dl_mse = mean_squared_error(np.exp(test_Y), np.exp(carSales_predictions))\n",
    "dl_rmse = np.sqrt(dl_mse)\n",
    "print(\"Deep Learning RMSE with one hidden layer:\"+str(dl_rmse))"
   ]
  },
  {
   "cell_type": "markdown",
   "metadata": {},
   "source": [
    "We now try XGBRegressor, a latest technique. We start by default setting and then use best parameter for n_estimator by trying number of values"
   ]
  },
  {
   "cell_type": "code",
   "execution_count": 6,
   "metadata": {},
   "outputs": [
    {
     "data": {
      "text/plain": [
       "XGBRegressor(base_score=0.5, booster='gbtree', colsample_bylevel=1,\n",
       "       colsample_bytree=1, gamma=0, learning_rate=0.1, max_delta_step=0,\n",
       "       max_depth=3, min_child_weight=1, missing=None, n_estimators=100,\n",
       "       n_jobs=1, nthread=None, objective='reg:linear', random_state=0,\n",
       "       reg_alpha=0, reg_lambda=1, scale_pos_weight=1, seed=None,\n",
       "       silent=True, subsample=1)"
      ]
     },
     "execution_count": 6,
     "metadata": {},
     "output_type": "execute_result"
    }
   ],
   "source": [
    "xgb_model = XGBRegressor() \n",
    "xgb_model.fit(train_X_make, train_Y)"
   ]
  },
  {
   "cell_type": "code",
   "execution_count": 7,
   "metadata": {},
   "outputs": [
    {
     "name": "stdout",
     "output_type": "stream",
     "text": [
      "XGB RMSE:3316.48372818906\n"
     ]
    }
   ],
   "source": [
    "carSales_predictions = xgb_model.predict(test_X_make)\n",
    "xgb_mse = mean_squared_error(np.exp(test_Y), np.exp(carSales_predictions))\n",
    "xgb_rmse = np.sqrt(xgb_mse)\n",
    "print(\"XGB RMSE:\"+str(xgb_rmse))"
   ]
  },
  {
   "cell_type": "code",
   "execution_count": 8,
   "metadata": {},
   "outputs": [
    {
     "data": {
      "text/plain": [
       "XGBRegressor(base_score=0.5, booster='gbtree', colsample_bylevel=1,\n",
       "       colsample_bytree=1, gamma=0, learning_rate=0.1, max_delta_step=0,\n",
       "       max_depth=3, min_child_weight=1, missing=None, n_estimators=350,\n",
       "       n_jobs=1, nthread=None, objective='reg:linear', random_state=0,\n",
       "       reg_alpha=0, reg_lambda=1, scale_pos_weight=1, seed=None,\n",
       "       silent=True, subsample=1)"
      ]
     },
     "execution_count": 8,
     "metadata": {},
     "output_type": "execute_result"
    }
   ],
   "source": [
    "xgb_model = XGBRegressor(n_estimators=350) \n",
    "xgb_model.fit(train_X_make, train_Y)"
   ]
  },
  {
   "cell_type": "code",
   "execution_count": 9,
   "metadata": {},
   "outputs": [
    {
     "name": "stdout",
     "output_type": "stream",
     "text": [
      "XGB RMSE, with n_estmators=350:2902.7262631072244\n"
     ]
    }
   ],
   "source": [
    "carSales_predictions = xgb_model.predict(test_X_make)\n",
    "xgb_mse = mean_squared_error(np.exp(test_Y), np.exp(carSales_predictions))\n",
    "xgb_rmse = np.sqrt(xgb_mse)\n",
    "print(\"XGB RMSE, with n_estmators=350:\"+str(xgb_rmse))"
   ]
  },
  {
   "cell_type": "code",
   "execution_count": 10,
   "metadata": {},
   "outputs": [
    {
     "data": {
      "text/plain": [
       "XGBRegressor(base_score=0.5, booster='gbtree', colsample_bylevel=1,\n",
       "       colsample_bytree=1, gamma=0, learning_rate=0.1, max_delta_step=0,\n",
       "       max_depth=5, min_child_weight=1, missing=None, n_estimators=350,\n",
       "       n_jobs=1, nthread=None, objective='reg:linear', random_state=0,\n",
       "       reg_alpha=0, reg_lambda=1, scale_pos_weight=1, seed=None,\n",
       "       silent=True, subsample=1)"
      ]
     },
     "execution_count": 10,
     "metadata": {},
     "output_type": "execute_result"
    }
   ],
   "source": [
    "xgb_model = XGBRegressor(n_estimators=350, max_depth=5) \n",
    "xgb_model.fit(train_X_make, train_Y)"
   ]
  },
  {
   "cell_type": "code",
   "execution_count": 11,
   "metadata": {},
   "outputs": [
    {
     "name": "stdout",
     "output_type": "stream",
     "text": [
      "XGB RMSE, with n_estmators=350,max_depth=5:2719.4687601824203\n"
     ]
    }
   ],
   "source": [
    "carSales_predictions = xgb_model.predict(test_X_make)\n",
    "xgb_mse = mean_squared_error(np.exp(test_Y), np.exp(carSales_predictions))\n",
    "xgb_rmse = np.sqrt(xgb_mse)\n",
    "print(\"XGB RMSE, with n_estmators=350,max_depth=5:\"+str(xgb_rmse))"
   ]
  },
  {
   "cell_type": "code",
   "execution_count": 12,
   "metadata": {},
   "outputs": [
    {
     "data": {
      "text/plain": [
       "XGBRegressor(base_score=0.5, booster='gbtree', colsample_bylevel=1,\n",
       "       colsample_bytree=1, gamma=0, learning_rate=0.1, max_delta_step=0,\n",
       "       max_depth=10, min_child_weight=1, missing=None, n_estimators=350,\n",
       "       n_jobs=1, nthread=None, objective='reg:linear', random_state=0,\n",
       "       reg_alpha=0, reg_lambda=1, scale_pos_weight=1, seed=None,\n",
       "       silent=True, subsample=1)"
      ]
     },
     "execution_count": 12,
     "metadata": {},
     "output_type": "execute_result"
    }
   ],
   "source": [
    "xgb_model = XGBRegressor(n_estimators=350, max_depth=10) \n",
    "xgb_model.fit(train_X_make, train_Y)"
   ]
  },
  {
   "cell_type": "code",
   "execution_count": 13,
   "metadata": {},
   "outputs": [
    {
     "name": "stdout",
     "output_type": "stream",
     "text": [
      "XGB RMSE, with n_estmators=350,max_depth=10:3090.637282830599\n"
     ]
    }
   ],
   "source": [
    "carSales_predictions = xgb_model.predict(test_X_make)\n",
    "xgb_mse = mean_squared_error(np.exp(test_Y), np.exp(carSales_predictions))\n",
    "xgb_rmse = np.sqrt(xgb_mse)\n",
    "print(\"XGB RMSE, with n_estmators=350,max_depth=10:\"+str(xgb_rmse))"
   ]
  },
  {
   "cell_type": "markdown",
   "metadata": {},
   "source": [
    "We conclude the setting of n_estimators=350 and max_depth=5 works best in this case, and this model is the best amongst all the models compared."
   ]
  },
  {
   "cell_type": "markdown",
   "metadata": {},
   "source": [
    "We now calculate and display feature importances from the XGBoost model "
   ]
  },
  {
   "cell_type": "code",
   "execution_count": 14,
   "metadata": {},
   "outputs": [
    {
     "name": "stdout",
     "output_type": "stream",
     "text": [
      "[0.2109408  0.15272114 0.2217691  0.00731261 0.00112502 0.00337505\n",
      " 0.         0.01054704 0.00140627 0.00140627 0.         0.00857826\n",
      " 0.00646885 0.00407819 0.00295317 0.0046407  0.00900014 0.00435944\n",
      " 0.01926593 0.0015469  0.00942202 0.00492195 0.01195331 0.01378147\n",
      " 0.00675011 0.0092814  0.01743777 0.01096892 0.01307833 0.00717199\n",
      " 0.00281254 0.00857826 0.01631276 0.00562509 0.00450007 0.01364084\n",
      " 0.0046407  0.01209394 0.0098439  0.0129377  0.00590634 0.00604697\n",
      " 0.00914077 0.01462523 0.00632822 0.01884404 0.00407819 0.0092814\n",
      " 0.00675011 0.00857826 0.00956265 0.01673464 0.00857826 0.00323443\n",
      " 0.00506258]\n"
     ]
    },
    {
     "data": {
      "image/png": "[encoded data removed]",
      "text/plain": [
       "<matplotlib.figure.Figure at 0x1b36b243898>"
      ]
     },
     "metadata": {},
     "output_type": "display_data"
    }
   ],
   "source": [
    "xgb_model = XGBRegressor(n_estimators=350, max_depth=5) \n",
    "xgb_model.fit(train_X_make, train_Y)\n",
    "print(xgb_model.feature_importances_)\n",
    "# plot\n",
    "plt.bar(range(len(xgb_model.feature_importances_)), xgb_model.feature_importances_)\n",
    "plt.show()"
   ]
  },
  {
   "cell_type": "markdown",
   "metadata": {},
   "source": [
    "We see that the numerical features, Engine HP, Age, City MPG has the highest importances, followed by categorical features. Among the categorical\n",
    "features we find the Engine Cylinder, and Engine Fuel Type has lease importance. Transmission type, and Size, and Make have high importances. We drop the Engine Cylinder from Train and Test data and fit our model again."
   ]
  },
  {
   "cell_type": "markdown",
   "metadata": {},
   "source": [
    "We recall the order of Categorical variables is : \n",
    "      [ 0.  3.  4.  5.  6.  8. 10. 12.]\n",
    "['diesel' 'electric' 'flex-fuel (unleaded/E85)'\n",
    " 'flex-fuel (unleaded/natural gas)' 'natural gas'\n",
    " 'premium unleaded (recommended)' 'premium unleaded (required)'\n",
    " 'regular unleaded']\n",
    "['AUTOMATED_MANUAL' 'AUTOMATIC' 'DIRECT_DRIVE' 'MANUAL' 'UNKNOWN']\n",
    "['all wheel drive' 'four wheel drive' 'front wheel drive'\n",
    " 'rear wheel drive']\n",
    "['Compact' 'Large' 'Midsize']\n",
    "['Chevrolet' 'Chrysler' 'Dodge' 'FIAT' 'Ford' 'Honda' 'Hyundai' 'Kia'\n",
    " 'Mazda' 'Mitsubishi' 'Nissan' 'Oldsmobile' 'Plymouth' 'Pontiac' 'Scion'\n",
    " 'Subaru' 'Suzuki' 'Volkswagen']\n",
    "['2dr Hatchback' '2dr SUV' '4dr Hatchback' '4dr SUV' 'Cargo Minivan'\n",
    " 'Cargo Van' 'Convertible' 'Convertible SUV' 'Coupe' 'Crew Cab Pickup'\n",
    " 'Extended Cab Pickup' 'Passenger Minivan' 'Passenger Van'\n",
    " 'Regular Cab Pickup' 'Sedan' 'Wagon']"
   ]
  },
  {
   "cell_type": "code",
   "execution_count": 15,
   "metadata": {},
   "outputs": [
    {
     "name": "stdout",
     "output_type": "stream",
     "text": [
      "55\n",
      "47\n"
     ]
    }
   ],
   "source": [
    "print(train_X_make.shape[1])\n",
    "train_X_make_upd = np.delete(train_X_make,[4,5,6,7,8,9,10,11],1) # we drop the 8 columns after the first 6 numeric ones\n",
    "print(train_X_make_upd.shape[1])"
   ]
  },
  {
   "cell_type": "code",
   "execution_count": 16,
   "metadata": {},
   "outputs": [],
   "source": [
    "test_X_make_upd = np.delete(test_X_make,[4,5,6,7,8,9,10,11],1)"
   ]
  },
  {
   "cell_type": "code",
   "execution_count": 17,
   "metadata": {},
   "outputs": [
    {
     "data": {
      "text/plain": [
       "XGBRegressor(base_score=0.5, booster='gbtree', colsample_bylevel=1,\n",
       "       colsample_bytree=1, gamma=0, learning_rate=0.1, max_delta_step=0,\n",
       "       max_depth=5, min_child_weight=1, missing=None, n_estimators=350,\n",
       "       n_jobs=1, nthread=None, objective='reg:linear', random_state=0,\n",
       "       reg_alpha=0, reg_lambda=1, scale_pos_weight=1, seed=None,\n",
       "       silent=True, subsample=1)"
      ]
     },
     "execution_count": 17,
     "metadata": {},
     "output_type": "execute_result"
    }
   ],
   "source": [
    "xgb_model = XGBRegressor(n_estimators=350, max_depth=5) \n",
    "xgb_model.fit(train_X_make_upd, train_Y)"
   ]
  },
  {
   "cell_type": "code",
   "execution_count": 19,
   "metadata": {},
   "outputs": [
    {
     "name": "stdout",
     "output_type": "stream",
     "text": [
      "XGB RMSE, with n_estmators=350,max_depth=5:2724.7908500066565\n"
     ]
    }
   ],
   "source": [
    "carSales_predictions = xgb_model.predict(test_X_make_upd)\n",
    "xgb_mse = mean_squared_error(np.exp(test_Y), np.exp(carSales_predictions))\n",
    "xgb_rmse = np.sqrt(xgb_mse)\n",
    "print(\"XGB RMSE, with n_estmators=350,max_depth=5:\"+str(xgb_rmse))"
   ]
  },
  {
   "cell_type": "markdown",
   "metadata": {},
   "source": [
    "We find removing the Engine cylinder categorical variable, does not have any effect on the model. We now try removing the Engine fuel type categorical variable"
   ]
  },
  {
   "cell_type": "code",
   "execution_count": 20,
   "metadata": {},
   "outputs": [
    {
     "name": "stdout",
     "output_type": "stream",
     "text": [
      "55\n",
      "39\n"
     ]
    }
   ],
   "source": [
    "print(train_X_make.shape[1])\n",
    "train_X_make_upd1 = np.delete(train_X_make,[4,5,6,7,8,9,10,11,12,13,14,15,16,17,18,19],1) # we drop the 8 columns after the first 3 numeric ones\n",
    "print(train_X_make_upd1.shape[1])"
   ]
  },
  {
   "cell_type": "code",
   "execution_count": 21,
   "metadata": {},
   "outputs": [],
   "source": [
    "test_X_make_upd1 = np.delete(test_X_make,[4,5,6,7,8,9,10,11,12,13,14,15,16,17,18,19],1)"
   ]
  },
  {
   "cell_type": "code",
   "execution_count": 22,
   "metadata": {},
   "outputs": [
    {
     "data": {
      "text/plain": [
       "XGBRegressor(base_score=0.5, booster='gbtree', colsample_bylevel=1,\n",
       "       colsample_bytree=1, gamma=0, learning_rate=0.1, max_delta_step=0,\n",
       "       max_depth=5, min_child_weight=1, missing=None, n_estimators=350,\n",
       "       n_jobs=1, nthread=None, objective='reg:linear', random_state=0,\n",
       "       reg_alpha=0, reg_lambda=1, scale_pos_weight=1, seed=None,\n",
       "       silent=True, subsample=1)"
      ]
     },
     "execution_count": 22,
     "metadata": {},
     "output_type": "execute_result"
    }
   ],
   "source": [
    "xgb_model = XGBRegressor(n_estimators=350, max_depth=5) \n",
    "xgb_model.fit(train_X_make_upd1, train_Y)"
   ]
  },
  {
   "cell_type": "code",
   "execution_count": 23,
   "metadata": {},
   "outputs": [
    {
     "name": "stdout",
     "output_type": "stream",
     "text": [
      "XGB RMSE, with n_estmators=350,max_depth=5:2724.8527067685272\n"
     ]
    }
   ],
   "source": [
    "carSales_predictions = xgb_model.predict(test_X_make_upd1)\n",
    "xgb_mse = mean_squared_error(np.exp(test_Y), np.exp(carSales_predictions))\n",
    "xgb_rmse = np.sqrt(xgb_mse)\n",
    "print(\"XGB RMSE, with n_estmators=350,max_depth=5:\"+str(xgb_rmse))"
   ]
  },
  {
   "cell_type": "code",
   "execution_count": null,
   "metadata": {
    "collapsed": true
   },
   "outputs": [],
   "source": [
    "We find removing the Engine Fuel Type categorical variable, has no effect on accuracy. \n",
    "We decide to drop the Engine Cylinder, and retain Engine Fuel Type based on this analysis from our original set of parameters."
   ]
  },
  {
   "cell_type": "code",
   "execution_count": null,
   "metadata": {
    "collapsed": true
   },
   "outputs": [],
   "source": [
    "So our final model has the numerical parameters :log Engine HP, Age of Car, log City MPG\n",
    "and the categorical parameters : Engine Fuel Type,Transmission Type, Driven Wheels, Vehicle Size, Vehicle Style and Make"
   ]
  },
  {
   "cell_type": "code",
   "execution_count": 24,
   "metadata": {},
   "outputs": [],
   "source": [
    "# save model to file\n",
    "pickle.dump(xgb_model, open(\"C:/users/hackuser1/carsales_xgb.pickle.dat\", \"wb\"))\n"
   ]
  },
  {
   "cell_type": "code",
   "execution_count": 3,
   "metadata": {
    "collapsed": true
   },
   "outputs": [],
   "source": [
    "# load model from file\n",
    "loaded_model = pickle.load(open(\"C:/users/hackuser1/carsales_xgb.pickle.dat\", \"rb\"))"
   ]
  }
 ],
 "metadata": {
  "kernelspec": {
   "display_name": "Python 3",
   "language": "python",
   "name": "python3"
  },
  "language_info": {
   "codemirror_mode": {
    "name": "ipython",
    "version": 3
   },
   "file_extension": ".py",
   "mimetype": "text/x-python",
   "name": "python",
   "nbconvert_exporter": "python",
   "pygments_lexer": "ipython3",
   "version": "3.6.4"
  }
 },
 "nbformat": 4,
 "nbformat_minor": 2
}
