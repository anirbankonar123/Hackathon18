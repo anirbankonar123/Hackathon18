{
 "cells": [
  {
   "cell_type": "code",
   "execution_count": 1,
   "metadata": {},
   "outputs": [],
   "source": [
    "import numpy as np\n",
    "import pickle\n",
    "import pandas as pd\n",
    "#carSales=pd.read_pickle('carSales.pkl')\n",
    "#carSales.info()"
   ]
  },
  {
   "cell_type": "code",
   "execution_count": 2,
   "metadata": {},
   "outputs": [
    {
     "name": "stdout",
     "output_type": "stream",
     "text": [
      "(194500, 118)\n",
      "(48625, 118)\n"
     ]
    }
   ],
   "source": [
    "train_X=pd.read_pickle('train_X_mileage1.pkl')\n",
    "test_X=pd.read_pickle('test_X_mileage1.pkl')\n",
    "train_Y=pd.read_pickle('train_Y_mileage1.pkl') \n",
    "test_Y=pd.read_pickle('test_Y_mileage1.pkl')\n",
    "\n",
    "print(train_X.shape)\n",
    "print(test_X.shape)"
   ]
  },
  {
   "cell_type": "code",
   "execution_count": 3,
   "metadata": {},
   "outputs": [
    {
     "data": {
      "text/plain": [
       "array([[151714,     10,      0, ...,      0,      0,      0],\n",
       "       [ 16415,      1,      1, ...,      0,      0,      0],\n",
       "       [ 32313,      4,      0, ...,      0,      0,      0],\n",
       "       ...,\n",
       "       [  8798,      1,      0, ...,      0,      0,      0],\n",
       "       [204148,     15,      0, ...,      0,      0,      0],\n",
       "       [ 38611,      2,      0, ...,      0,      0,      0]])"
      ]
     },
     "execution_count": 3,
     "metadata": {},
     "output_type": "execute_result"
    }
   ],
   "source": [
    "train_X"
   ]
  },
  {
   "cell_type": "code",
   "execution_count": 4,
   "metadata": {},
   "outputs": [
    {
     "data": {
      "text/plain": [
       "LinearRegression(copy_X=True, fit_intercept=True, n_jobs=1, normalize=False)"
      ]
     },
     "execution_count": 4,
     "metadata": {},
     "output_type": "execute_result"
    }
   ],
   "source": [
    "from sklearn.linear_model import LinearRegression\n",
    "lin_reg = LinearRegression()\n",
    "lin_reg.fit(train_X, train_Y)"
   ]
  },
  {
   "cell_type": "code",
   "execution_count": 5,
   "metadata": {},
   "outputs": [
    {
     "data": {
      "text/plain": [
       "3924.091185038255"
      ]
     },
     "execution_count": 5,
     "metadata": {},
     "output_type": "execute_result"
    }
   ],
   "source": [
    "from sklearn.metrics import mean_squared_error\n",
    "carSales_predictions = lin_reg.predict(test_X)\n",
    "lin_mse = mean_squared_error(np.exp(test_Y), np.exp(carSales_predictions))\n",
    "lin_mse = np.sqrt(lin_mse)\n",
    "lin_mse #8399.55"
   ]
  },
  {
   "cell_type": "code",
   "execution_count": 10,
   "metadata": {},
   "outputs": [
    {
     "name": "stderr",
     "output_type": "stream",
     "text": [
      "/home/nbuser/anaconda2_501/lib/python2.7/site-packages/sklearn/base.py:315: UserWarning: Trying to unpickle estimator StandardScaler from version 0.19.1 when using version 0.18.1. This might lead to breaking code or invalid results. Use at your own risk.\n",
      "  UserWarning)\n"
     ]
    }
   ],
   "source": [
    "scaler=pd.read_pickle('scalerMileage.pkl')"
   ]
  },
  {
   "cell_type": "code",
   "execution_count": 6,
   "metadata": {},
   "outputs": [],
   "source": [
    "InputCat={'Chevrolet':0,\n",
    "'Chrysler':0,\n",
    "'Ford':0,\n",
    "'Honda':0,\n",
    "'Hyundai':0,\n",
    "'Mazda':0,\n",
    "'Nissan':0,\n",
    "'Pontiac':0,\n",
    "'Suzuki':0,\n",
    "'200Limited':0,\n",
    "'200S':0,\n",
    "'200Sedan':0,\n",
    "'300300C':0,\n",
    "'300300S':0,\n",
    "'3004dr':0,\n",
    "'Accord':0,\n",
    "'Altima2.5':0,\n",
    "'CR-VEX-L':0,\n",
    "'CR-VLX':0,\n",
    "'CX-5Grand':0,\n",
    "'CX-5Touring':0,\n",
    "'CamaroCoupe':0,\n",
    "'Civic':0,\n",
    "'CivicLX':0,\n",
    "'Cruze1LT':0,\n",
    "'CruzeSedan':0,\n",
    "'Elantra4dr':0,\n",
    "'ElantraSE':0,\n",
    "'EquinoxAWD':0,\n",
    "'EquinoxFWD':0,\n",
    "'ExplorerXLT':0,\n",
    "'F-1504WD':0,\n",
    "'F-150XLT':0,\n",
    "'FusionSE':0,\n",
    "'G62dr':0,\n",
    "'G64dr':0,\n",
    "'Grand':0,\n",
    "'MalibuLT':0,\n",
    "'Mazda3i':0,\n",
    "'Mazda6Touring':0,\n",
    "'OdysseyEX-L':0,\n",
    "'RogueS':0,\n",
    "'RogueSV':0,\n",
    "'SX44dr':0,\n",
    "'SX45dr':0,\n",
    "'Santa':0,\n",
    "'SentraSV':0,\n",
    "'Silverado':0,\n",
    "'Solstice2dr':0,\n",
    "'Sonata2.4L':0,\n",
    "'Sonata4dr':0,\n",
    "'SonataSE':0,\n",
    "'Super':0,\n",
    "'Town':0,\n",
    "'Versa':0,\n",
    "'Vibe4dr':0,\n",
    "'XL-7AWD':0,\n",
    "'AK':0,\n",
    "'AL':0,\n",
    "'AR':0,\n",
    "'AZ':0,\n",
    "'Az':0,\n",
    "'CA':0,\n",
    "'CO':0,\n",
    "'CT':0,\n",
    "'Ca':0,\n",
    "'DC':0,\n",
    "'DE':0,\n",
    "'FL':0,\n",
    "'Fl':0,\n",
    "'GA':0,\n",
    "'Ga':0,\n",
    "'HI':0,\n",
    "'IA':0,\n",
    "'ID':0,\n",
    "'IL':0,\n",
    "'IN':0,\n",
    "'KS':0,\n",
    "'KY':0,\n",
    "'LA':0,\n",
    "'MA':0,\n",
    "'MD':0,\n",
    "'ME':0,\n",
    "'MI':0,\n",
    "'MN':0,\n",
    "'MO':0,\n",
    "'MS':0,\n",
    "'MT':0,\n",
    "'Md':0,\n",
    "'NC':0,\n",
    "'ND':0,\n",
    "'NE':0,\n",
    "'NH':0,\n",
    "'NJ':0,\n",
    "'NM':0,\n",
    "'NV':0,\n",
    "'NY':0,\n",
    "'OH':0,\n",
    "'OK':0,\n",
    "'OR':0,\n",
    "'Oh':0,\n",
    "'PA':0,\n",
    "'RI':0,\n",
    "'SC':0,\n",
    "'SD':0,\n",
    "'TN':0,\n",
    "'TX':0,\n",
    "'UT':0,\n",
    "'VA':0,\n",
    "'VT':0,\n",
    "'Va':0,\n",
    "'WA':0,\n",
    "'WI':0,\n",
    "'WV':0,\n",
    "'WY':0,\n",
    "'ga':0}\n",
    "\n",
    "Columns=['Chevrolet',\n",
    "'Chrysler',\n",
    "'Ford',\n",
    "'Honda',\n",
    "'Hyundai',\n",
    "'Mazda',\n",
    "'Nissan',\n",
    "'Pontiac',\n",
    "'Suzuki',\n",
    "'200Limited',\n",
    "'200S',\n",
    "'200Sedan',\n",
    "'300300C',\n",
    "'300300S',\n",
    "'3004dr',\n",
    "'Accord',\n",
    "'Altima2.5',\n",
    "'CR-VEX-L',\n",
    "'CR-VLX',\n",
    "'CX-5Grand',\n",
    "'CX-5Touring',\n",
    "'CamaroCoupe',\n",
    "'Civic',\n",
    "'CivicLX',\n",
    "'Cruze1LT',\n",
    "'CruzeSedan',\n",
    "'Elantra4dr',\n",
    "'ElantraSE',\n",
    "'EquinoxAWD',\n",
    "'EquinoxFWD',\n",
    "'ExplorerXLT',\n",
    "'F-1504WD',\n",
    "'F-150XLT',\n",
    "'FusionSE',\n",
    "'G62dr',\n",
    "'G64dr',\n",
    "'Grand',\n",
    "'MalibuLT',\n",
    "'Mazda3i',\n",
    "'Mazda6Touring',\n",
    "'OdysseyEX-L',\n",
    "'RogueS',\n",
    "'RogueSV',\n",
    "'SX44dr',\n",
    "'SX45dr',\n",
    "'Santa',\n",
    "'SentraSV',\n",
    "'Silverado',\n",
    "'Solstice2dr',\n",
    "'Sonata2.4L',\n",
    "'Sonata4dr',\n",
    "'SonataSE',\n",
    "'Super',\n",
    "'Town',\n",
    "'Versa',\n",
    "'Vibe4dr',\n",
    "'XL-7AWD',\n",
    "'AK',\n",
    "'AL',\n",
    "'AR',\n",
    "'AZ',\n",
    "'Az',\n",
    "'CA',\n",
    "'CO',\n",
    "'CT',\n",
    "'Ca',\n",
    "'DC',\n",
    "'DE',\n",
    "'FL',\n",
    "'Fl',\n",
    "'GA',\n",
    "'Ga',\n",
    "'HI',\n",
    "'IA',\n",
    "'ID',\n",
    "'IL',\n",
    "'IN',\n",
    "'KS',\n",
    "'KY',\n",
    "'LA',\n",
    "'MA',\n",
    "'MD',\n",
    "'ME',\n",
    "'MI',\n",
    "'MN',\n",
    "'MO',\n",
    "'MS',\n",
    "'MT',\n",
    "'Md',\n",
    "'NC',\n",
    "'ND',\n",
    "'NE',\n",
    "'NH',\n",
    "'NJ',\n",
    "'NM',\n",
    "'NV',\n",
    "'NY',\n",
    "'OH',\n",
    "'OK',\n",
    "'OR',\n",
    "'Oh',\n",
    "'PA',\n",
    "'RI',\n",
    "'SC',\n",
    "'SD',\n",
    "'TN',\n",
    "'TX',\n",
    "'UT',\n",
    "'VA',\n",
    "'VT',\n",
    "'Va',\n",
    "'WA',\n",
    "'WI',\n",
    "'WV',\n",
    "'WY',\n",
    "'ga']\n"
   ]
  },
  {
   "cell_type": "code",
   "execution_count": 7,
   "metadata": {},
   "outputs": [],
   "source": [
    "def PredictPrice(Make=unicode,Model=unicode,State=unicode,Mileage=float,Year=float):\n",
    "    Age=2018-Year\n",
    "    numeric_columns_list=['Mileage','Age']\n",
    "    df = pd.DataFrame([[Mileage,Age]], columns=numeric_columns_list)\n",
    "    df=df.values\n",
    "    InputCat[Make]=1      \n",
    "    InputCat[State]=1  \n",
    "    InputCat[Model]=1 \n",
    "    df_cat=pd.DataFrame(data=InputCat,index=[0])\n",
    "    df_cat=df_cat[Columns]\n",
    "    X =  np.concatenate((df,df_cat.values),axis=1)\n",
    "    #print X.shape\n",
    "    price=lin_reg.predict(X)\n",
    "    return int(np.exp(price[0]))\n"
   ]
  },
  {
   "cell_type": "code",
   "execution_count": 8,
   "metadata": {},
   "outputs": [
    {
     "data": {
      "text/plain": [
       "16881"
      ]
     },
     "execution_count": 8,
     "metadata": {},
     "output_type": "execute_result"
    }
   ],
   "source": [
    "Price=PredictPrice('Chevrolet','MalibuLT','FL',25076,2017)\n",
    "Price"
   ]
  },
  {
   "cell_type": "code",
   "execution_count": 5,
   "metadata": {},
   "outputs": [
    {
     "name": "stderr",
     "output_type": "stream",
     "text": [
      "'C:\\Program' is not recognized as an internal or external command,\n",
      "operable program or batch file.\n"
     ]
    }
   ],
   "source": [
    "import sys\n",
    "!{sys.executable} -m pip install azureml"
   ]
  },
  {
   "cell_type": "code",
   "execution_count": 9,
   "metadata": {},
   "outputs": [],
   "source": [
    "from azureml import services\n",
    "#Use your own workspace information below!\n",
    "@services.publish('fdc3d1eadeaa40069f8f5b4f9237fb4e','rob4fhmCohecN5GJ5/SPU6/0vkiRIvj6qV+f+SQoIsSEA8UvjfeQvVZsU5j3v0OBNPbgBQp6oVOjGHvXgDs2dA==')\n",
    "@services.types(Make=unicode,Model=unicode,State=unicode,Mileage=float,Year=float)\n",
    "@services.returns(float)\n",
    "def PredictPriceFirst(Make,Model,State,Mileage,Year):    \n",
    "    Age=2018-Year\n",
    "    numeric_columns_list=['Mileage','Age']\n",
    "    df = pd.DataFrame([[Mileage,Age]], columns=numeric_columns_list)\n",
    "    df=df.values\n",
    "    InputCat[Make]=1      \n",
    "    InputCat[State]=1  \n",
    "    InputCat[Model]=1 \n",
    "    df_cat=pd.DataFrame(data=InputCat,index=[0])\n",
    "    df_cat=df_cat[Columns]\n",
    "    X =  np.concatenate((df,df_cat.values),axis=1)\n",
    "    #print X.shape\n",
    "    price=lin_reg.predict(X)\n",
    "    return int(np.exp(price[0]))"
   ]
  },
  {
   "cell_type": "code",
   "execution_count": 43,
   "metadata": {},
   "outputs": [
    {
     "data": {
      "text/plain": [
       "17007"
      ]
     },
     "execution_count": 43,
     "metadata": {},
     "output_type": "execute_result"
    }
   ],
   "source": [
    "Price=PredictPriceFirst('Chevrolet','MalibuLT','FL',25076,2017)\n",
    "Price"
   ]
  },
  {
   "cell_type": "code",
   "execution_count": 38,
   "metadata": {},
   "outputs": [
    {
     "name": "stdout",
     "output_type": "stream",
     "text": [
      "The request failed with status code: 400\n",
      "Content-Length: 781\r\n",
      "Content-Type: application/json; charset=utf-8\r\n",
      "ETag: \"593acb844f2c4d4b8f19a6254b5533b2\"\r\n",
      "Server: Microsoft-HTTPAPI/2.0\r\n",
      "x-ms-request-id: 3a0c6cd5-d110-41de-90f9-adfb7b4c20f0\r\n",
      "Date: Sun, 06 May 2018 09:03:57 GMT\r\n",
      "Connection: close\r\n",
      "\n",
      "{u'error': {u'message': u'Module execution encountered an error.', u'code': u'ModuleExecutionError', u'details': [{u'message': u'Error 0085: The following error occurred during script evaluation, please view the output log for more information:\\r\\n---------- Start of error message from Python interpreter ----------\\r\\nCaught exception while executing function: Traceback (most recent call last):\\n  File \"\\\\server\\\\InvokePy.py\", line 120, in executeScript\\n    outframe = mod.azureml_main(*inframes)\\n  File \"\\\\temp\\\\1179961298.py\", line 1097, in azureml_main\\n  File \"\\\\temp\\\\1179961298.py\", line 362, in _decode\\nTypeError: expected a dictionary, got str\\n\\r\\n\\r\\n---------- End of error message from Python  interpreter  ----------', u'code': u'85', u'target': u'Execute Python Script RRS'}]}}\n"
     ]
    }
   ],
   "source": [
    "import urllib2\n",
    "import json\n",
    "\n",
    "data = {\n",
    "        \"Inputs\": {\n",
    "                \"input1\":\n",
    "                [\n",
    "                    {\n",
    "                            'Make': \"Chevrolet\",   \n",
    "                            'Mileage': 25000,   \n",
    "                            'Model': \"MalibuLT\",   \n",
    "                            'State': \"FL\",   \n",
    "                            'Year': 2017   \n",
    "                    }\n",
    "                ],\n",
    "        },\n",
    "    \"GlobalParameters\":  {\n",
    "    }\n",
    "}\n",
    "\n",
    "body = str.encode(json.dumps(data))\n",
    "\n",
    "url = 'https://ussouthcentral.services.azureml.net/workspaces/fdc3d1eadeaa40069f8f5b4f9237fb4e/services/a79730f34cc3490d94bc2faa61a47bea/execute?api-version=2.0&format=swagger'\n",
    "api_key = 'KWSJl59FXHl9xEwGTgYUPjfSU0A2rc1mnqzO6xbBJICxOYzqpouHCePq0C5xlDZTD0Ru6l8ixE6l6AutZi81/Q==' # Replace this with the API key for the web service\n",
    "headers = {'Content-Type':'application/json', 'Authorization':('Bearer '+ api_key)}\n",
    "\n",
    "req = urllib2.Request(url, body, headers)\n",
    "\n",
    "try:\n",
    "    response = urllib2.urlopen(req)\n",
    "\n",
    "    result = response.read()\n",
    "    print(result)\n",
    "except urllib2.HTTPError, error:\n",
    "    print(\"The request failed with status code: \" + str(error.code))\n",
    "\n",
    "    # Print the headers - they include the requert ID and the timestamp, which are useful for debugging the failure\n",
    "    print(error.info())\n",
    "    print(json.loads(error.read())) \n"
   ]
  }
 ],
 "metadata": {
  "kernelspec": {
   "display_name": "Python 2",
   "language": "python",
   "name": "python2"
  },
  "language_info": {
   "codemirror_mode": {
    "name": "ipython",
    "version": 2
   },
   "file_extension": ".py",
   "mimetype": "text/x-python",
   "name": "python",
   "nbconvert_exporter": "python",
   "pygments_lexer": "ipython2",
   "version": "2.7.14"
  }
 },
 "nbformat": 4,
 "nbformat_minor": 2
}
